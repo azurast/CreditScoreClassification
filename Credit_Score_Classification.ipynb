{
  "nbformat": 4,
  "nbformat_minor": 0,
  "metadata": {
    "colab": {
      "provenance": [],
      "toc_visible": true,
      "authorship_tag": "ABX9TyObVfbFGIJREHK5U7zexhWa",
      "include_colab_link": true
    },
    "kernelspec": {
      "name": "python3",
      "display_name": "Python 3"
    },
    "language_info": {
      "name": "python"
    }
  },
  "cells": [
    {
      "cell_type": "markdown",
      "metadata": {
        "id": "view-in-github",
        "colab_type": "text"
      },
      "source": [
        "<a href=\"https://colab.research.google.com/github/azurast/CreditScoreClassification/blob/master/Credit_Score_Classification.ipynb\" target=\"_parent\"><img src=\"https://colab.research.google.com/assets/colab-badge.svg\" alt=\"Open In Colab\"/></a>"
      ]
    },
    {
      "cell_type": "markdown",
      "source": [
        "# 0. Imports"
      ],
      "metadata": {
        "id": "VBJylEVxrzVe"
      }
    },
    {
      "cell_type": "markdown",
      "source": [
        "## Libraries"
      ],
      "metadata": {
        "id": "xLobjd4buDwp"
      }
    },
    {
      "cell_type": "code",
      "execution_count": 46,
      "metadata": {
        "id": "ZgT7OuYOGFS2"
      },
      "outputs": [],
      "source": [
        "# Import libraries\n",
        "import pandas as pd\n",
        "import numpy as np\n",
        "import matplotlib.pyplot as plt\n",
        "import seaborn as sns"
      ]
    },
    {
      "cell_type": "markdown",
      "source": [
        "## Load Data"
      ],
      "metadata": {
        "id": "KUtl0x8muFYN"
      }
    },
    {
      "cell_type": "code",
      "source": [
        "# Read csv to Colab\n",
        "train_url = 'https://raw.githubusercontent.com/azurast/CreditScoreClassification/master/train.csv'\n",
        "test_url = 'https://raw.githubusercontent.com/azurast/CreditScoreClassification/master/test.csv'\n",
        "\n",
        "# Set data frame\n",
        "train_df = pd.read_csv(train_url)\n",
        "test_df = pd.read_csv(test_url)"
      ],
      "metadata": {
        "colab": {
          "base_uri": "https://localhost:8080/"
        },
        "id": "hYEVpnKfuHyd",
        "outputId": "96b6ced4-1445-4dfb-f280-a32f432a9a01"
      },
      "execution_count": 2,
      "outputs": [
        {
          "output_type": "stream",
          "name": "stderr",
          "text": [
            "/usr/local/lib/python3.8/dist-packages/IPython/core/interactiveshell.py:3326: DtypeWarning: Columns (26) have mixed types.Specify dtype option on import or set low_memory=False.\n",
            "  exec(code_obj, self.user_global_ns, self.user_ns)\n"
          ]
        }
      ]
    },
    {
      "cell_type": "markdown",
      "source": [
        "# 1. Get to Know & Understand the Data"
      ],
      "metadata": {
        "id": "lrjNz6nmsMvu"
      }
    },
    {
      "cell_type": "markdown",
      "source": [
        "## Data description, shape & size"
      ],
      "metadata": {
        "id": "A9C_36J1ywEr"
      }
    },
    {
      "cell_type": "code",
      "source": [
        "# disable column truncation because we want to see all the available columns \n",
        "pd.set_option('display.max_columns', None)"
      ],
      "metadata": {
        "id": "yzsY9i0NANOT"
      },
      "execution_count": 3,
      "outputs": []
    },
    {
      "cell_type": "code",
      "source": [
        "train_df.describe()"
      ],
      "metadata": {
        "colab": {
          "base_uri": "https://localhost:8080/",
          "height": 361
        },
        "id": "3HpZ7CPbDmnv",
        "outputId": "e8d14bdf-631f-434c-e7f4-16cf9172d2ea"
      },
      "execution_count": 4,
      "outputs": [
        {
          "output_type": "execute_result",
          "data": {
            "text/plain": [
              "       Monthly_Inhand_Salary  Num_Bank_Accounts  Num_Credit_Card  \\\n",
              "count           84998.000000      100000.000000     100000.00000   \n",
              "mean             4194.170850          17.091280         22.47443   \n",
              "std              3183.686167         117.404834        129.05741   \n",
              "min               303.645417          -1.000000          0.00000   \n",
              "25%              1625.568229           3.000000          4.00000   \n",
              "50%              3093.745000           6.000000          5.00000   \n",
              "75%              5957.448333           7.000000          7.00000   \n",
              "max             15204.633333        1798.000000       1499.00000   \n",
              "\n",
              "       Interest_Rate  Delay_from_due_date  Num_Credit_Inquiries  \\\n",
              "count  100000.000000        100000.000000          98035.000000   \n",
              "mean       72.466040            21.068780             27.754251   \n",
              "std       466.422621            14.860104            193.177339   \n",
              "min         1.000000            -5.000000              0.000000   \n",
              "25%         8.000000            10.000000              3.000000   \n",
              "50%        13.000000            18.000000              6.000000   \n",
              "75%        20.000000            28.000000              9.000000   \n",
              "max      5797.000000            67.000000           2597.000000   \n",
              "\n",
              "       Credit_Utilization_Ratio  Total_EMI_per_month  \n",
              "count             100000.000000        100000.000000  \n",
              "mean                  32.285173          1403.118217  \n",
              "std                    5.116875          8306.041270  \n",
              "min                   20.000000             0.000000  \n",
              "25%                   28.052567            30.306660  \n",
              "50%                   32.305784            69.249473  \n",
              "75%                   36.496663           161.224249  \n",
              "max                   50.000000         82331.000000  "
            ],
            "text/html": [
              "\n",
              "  <div id=\"df-d15cb529-9cc7-4f98-a322-6a86ae6d1b4c\">\n",
              "    <div class=\"colab-df-container\">\n",
              "      <div>\n",
              "<style scoped>\n",
              "    .dataframe tbody tr th:only-of-type {\n",
              "        vertical-align: middle;\n",
              "    }\n",
              "\n",
              "    .dataframe tbody tr th {\n",
              "        vertical-align: top;\n",
              "    }\n",
              "\n",
              "    .dataframe thead th {\n",
              "        text-align: right;\n",
              "    }\n",
              "</style>\n",
              "<table border=\"1\" class=\"dataframe\">\n",
              "  <thead>\n",
              "    <tr style=\"text-align: right;\">\n",
              "      <th></th>\n",
              "      <th>Monthly_Inhand_Salary</th>\n",
              "      <th>Num_Bank_Accounts</th>\n",
              "      <th>Num_Credit_Card</th>\n",
              "      <th>Interest_Rate</th>\n",
              "      <th>Delay_from_due_date</th>\n",
              "      <th>Num_Credit_Inquiries</th>\n",
              "      <th>Credit_Utilization_Ratio</th>\n",
              "      <th>Total_EMI_per_month</th>\n",
              "    </tr>\n",
              "  </thead>\n",
              "  <tbody>\n",
              "    <tr>\n",
              "      <th>count</th>\n",
              "      <td>84998.000000</td>\n",
              "      <td>100000.000000</td>\n",
              "      <td>100000.00000</td>\n",
              "      <td>100000.000000</td>\n",
              "      <td>100000.000000</td>\n",
              "      <td>98035.000000</td>\n",
              "      <td>100000.000000</td>\n",
              "      <td>100000.000000</td>\n",
              "    </tr>\n",
              "    <tr>\n",
              "      <th>mean</th>\n",
              "      <td>4194.170850</td>\n",
              "      <td>17.091280</td>\n",
              "      <td>22.47443</td>\n",
              "      <td>72.466040</td>\n",
              "      <td>21.068780</td>\n",
              "      <td>27.754251</td>\n",
              "      <td>32.285173</td>\n",
              "      <td>1403.118217</td>\n",
              "    </tr>\n",
              "    <tr>\n",
              "      <th>std</th>\n",
              "      <td>3183.686167</td>\n",
              "      <td>117.404834</td>\n",
              "      <td>129.05741</td>\n",
              "      <td>466.422621</td>\n",
              "      <td>14.860104</td>\n",
              "      <td>193.177339</td>\n",
              "      <td>5.116875</td>\n",
              "      <td>8306.041270</td>\n",
              "    </tr>\n",
              "    <tr>\n",
              "      <th>min</th>\n",
              "      <td>303.645417</td>\n",
              "      <td>-1.000000</td>\n",
              "      <td>0.00000</td>\n",
              "      <td>1.000000</td>\n",
              "      <td>-5.000000</td>\n",
              "      <td>0.000000</td>\n",
              "      <td>20.000000</td>\n",
              "      <td>0.000000</td>\n",
              "    </tr>\n",
              "    <tr>\n",
              "      <th>25%</th>\n",
              "      <td>1625.568229</td>\n",
              "      <td>3.000000</td>\n",
              "      <td>4.00000</td>\n",
              "      <td>8.000000</td>\n",
              "      <td>10.000000</td>\n",
              "      <td>3.000000</td>\n",
              "      <td>28.052567</td>\n",
              "      <td>30.306660</td>\n",
              "    </tr>\n",
              "    <tr>\n",
              "      <th>50%</th>\n",
              "      <td>3093.745000</td>\n",
              "      <td>6.000000</td>\n",
              "      <td>5.00000</td>\n",
              "      <td>13.000000</td>\n",
              "      <td>18.000000</td>\n",
              "      <td>6.000000</td>\n",
              "      <td>32.305784</td>\n",
              "      <td>69.249473</td>\n",
              "    </tr>\n",
              "    <tr>\n",
              "      <th>75%</th>\n",
              "      <td>5957.448333</td>\n",
              "      <td>7.000000</td>\n",
              "      <td>7.00000</td>\n",
              "      <td>20.000000</td>\n",
              "      <td>28.000000</td>\n",
              "      <td>9.000000</td>\n",
              "      <td>36.496663</td>\n",
              "      <td>161.224249</td>\n",
              "    </tr>\n",
              "    <tr>\n",
              "      <th>max</th>\n",
              "      <td>15204.633333</td>\n",
              "      <td>1798.000000</td>\n",
              "      <td>1499.00000</td>\n",
              "      <td>5797.000000</td>\n",
              "      <td>67.000000</td>\n",
              "      <td>2597.000000</td>\n",
              "      <td>50.000000</td>\n",
              "      <td>82331.000000</td>\n",
              "    </tr>\n",
              "  </tbody>\n",
              "</table>\n",
              "</div>\n",
              "      <button class=\"colab-df-convert\" onclick=\"convertToInteractive('df-d15cb529-9cc7-4f98-a322-6a86ae6d1b4c')\"\n",
              "              title=\"Convert this dataframe to an interactive table.\"\n",
              "              style=\"display:none;\">\n",
              "        \n",
              "  <svg xmlns=\"http://www.w3.org/2000/svg\" height=\"24px\"viewBox=\"0 0 24 24\"\n",
              "       width=\"24px\">\n",
              "    <path d=\"M0 0h24v24H0V0z\" fill=\"none\"/>\n",
              "    <path d=\"M18.56 5.44l.94 2.06.94-2.06 2.06-.94-2.06-.94-.94-2.06-.94 2.06-2.06.94zm-11 1L8.5 8.5l.94-2.06 2.06-.94-2.06-.94L8.5 2.5l-.94 2.06-2.06.94zm10 10l.94 2.06.94-2.06 2.06-.94-2.06-.94-.94-2.06-.94 2.06-2.06.94z\"/><path d=\"M17.41 7.96l-1.37-1.37c-.4-.4-.92-.59-1.43-.59-.52 0-1.04.2-1.43.59L10.3 9.45l-7.72 7.72c-.78.78-.78 2.05 0 2.83L4 21.41c.39.39.9.59 1.41.59.51 0 1.02-.2 1.41-.59l7.78-7.78 2.81-2.81c.8-.78.8-2.07 0-2.86zM5.41 20L4 18.59l7.72-7.72 1.47 1.35L5.41 20z\"/>\n",
              "  </svg>\n",
              "      </button>\n",
              "      \n",
              "  <style>\n",
              "    .colab-df-container {\n",
              "      display:flex;\n",
              "      flex-wrap:wrap;\n",
              "      gap: 12px;\n",
              "    }\n",
              "\n",
              "    .colab-df-convert {\n",
              "      background-color: #E8F0FE;\n",
              "      border: none;\n",
              "      border-radius: 50%;\n",
              "      cursor: pointer;\n",
              "      display: none;\n",
              "      fill: #1967D2;\n",
              "      height: 32px;\n",
              "      padding: 0 0 0 0;\n",
              "      width: 32px;\n",
              "    }\n",
              "\n",
              "    .colab-df-convert:hover {\n",
              "      background-color: #E2EBFA;\n",
              "      box-shadow: 0px 1px 2px rgba(60, 64, 67, 0.3), 0px 1px 3px 1px rgba(60, 64, 67, 0.15);\n",
              "      fill: #174EA6;\n",
              "    }\n",
              "\n",
              "    [theme=dark] .colab-df-convert {\n",
              "      background-color: #3B4455;\n",
              "      fill: #D2E3FC;\n",
              "    }\n",
              "\n",
              "    [theme=dark] .colab-df-convert:hover {\n",
              "      background-color: #434B5C;\n",
              "      box-shadow: 0px 1px 3px 1px rgba(0, 0, 0, 0.15);\n",
              "      filter: drop-shadow(0px 1px 2px rgba(0, 0, 0, 0.3));\n",
              "      fill: #FFFFFF;\n",
              "    }\n",
              "  </style>\n",
              "\n",
              "      <script>\n",
              "        const buttonEl =\n",
              "          document.querySelector('#df-d15cb529-9cc7-4f98-a322-6a86ae6d1b4c button.colab-df-convert');\n",
              "        buttonEl.style.display =\n",
              "          google.colab.kernel.accessAllowed ? 'block' : 'none';\n",
              "\n",
              "        async function convertToInteractive(key) {\n",
              "          const element = document.querySelector('#df-d15cb529-9cc7-4f98-a322-6a86ae6d1b4c');\n",
              "          const dataTable =\n",
              "            await google.colab.kernel.invokeFunction('convertToInteractive',\n",
              "                                                     [key], {});\n",
              "          if (!dataTable) return;\n",
              "\n",
              "          const docLinkHtml = 'Like what you see? Visit the ' +\n",
              "            '<a target=\"_blank\" href=https://colab.research.google.com/notebooks/data_table.ipynb>data table notebook</a>'\n",
              "            + ' to learn more about interactive tables.';\n",
              "          element.innerHTML = '';\n",
              "          dataTable['output_type'] = 'display_data';\n",
              "          await google.colab.output.renderOutput(dataTable, element);\n",
              "          const docLink = document.createElement('div');\n",
              "          docLink.innerHTML = docLinkHtml;\n",
              "          element.appendChild(docLink);\n",
              "        }\n",
              "      </script>\n",
              "    </div>\n",
              "  </div>\n",
              "  "
            ]
          },
          "metadata": {},
          "execution_count": 4
        }
      ]
    },
    {
      "cell_type": "code",
      "source": [
        "display(train_df.columns)"
      ],
      "metadata": {
        "colab": {
          "base_uri": "https://localhost:8080/",
          "height": 187
        },
        "id": "R3bNRNAHDuxv",
        "outputId": "d2901230-1e7d-41ba-e71f-49c04894b034"
      },
      "execution_count": 5,
      "outputs": [
        {
          "output_type": "display_data",
          "data": {
            "text/plain": [
              "Index(['ID', 'Customer_ID', 'Month', 'Name', 'Age', 'SSN', 'Occupation',\n",
              "       'Annual_Income', 'Monthly_Inhand_Salary', 'Num_Bank_Accounts',\n",
              "       'Num_Credit_Card', 'Interest_Rate', 'Num_of_Loan', 'Type_of_Loan',\n",
              "       'Delay_from_due_date', 'Num_of_Delayed_Payment', 'Changed_Credit_Limit',\n",
              "       'Num_Credit_Inquiries', 'Credit_Mix', 'Outstanding_Debt',\n",
              "       'Credit_Utilization_Ratio', 'Credit_History_Age',\n",
              "       'Payment_of_Min_Amount', 'Total_EMI_per_month',\n",
              "       'Amount_invested_monthly', 'Payment_Behaviour', 'Monthly_Balance',\n",
              "       'Credit_Score'],\n",
              "      dtype='object')"
            ]
          },
          "metadata": {}
        }
      ]
    },
    {
      "cell_type": "code",
      "source": [
        "# quick look at the train data frame\n",
        "print('\\033[91m Train Data Frame')\n",
        "display(train_df.head())\n",
        "print('Rows x Cols :', train_df.shape)"
      ],
      "metadata": {
        "colab": {
          "base_uri": "https://localhost:8080/",
          "height": 557
        },
        "id": "iDcEk8DnsPLH",
        "outputId": "6770f841-f835-47ee-bb76-99a0caa93712"
      },
      "execution_count": 6,
      "outputs": [
        {
          "output_type": "stream",
          "name": "stdout",
          "text": [
            "\u001b[91m Train Data Frame\n"
          ]
        },
        {
          "output_type": "display_data",
          "data": {
            "text/plain": [
              "       ID Customer_ID     Month           Name   Age          SSN Occupation  \\\n",
              "0  0x1602   CUS_0xd40   January  Aaron Maashoh    23  821-00-0265  Scientist   \n",
              "1  0x1603   CUS_0xd40  February  Aaron Maashoh    23  821-00-0265  Scientist   \n",
              "2  0x1604   CUS_0xd40     March  Aaron Maashoh  -500  821-00-0265  Scientist   \n",
              "3  0x1605   CUS_0xd40     April  Aaron Maashoh    23  821-00-0265  Scientist   \n",
              "4  0x1606   CUS_0xd40       May  Aaron Maashoh    23  821-00-0265  Scientist   \n",
              "\n",
              "  Annual_Income  Monthly_Inhand_Salary  Num_Bank_Accounts  Num_Credit_Card  \\\n",
              "0      19114.12            1824.843333                  3                4   \n",
              "1      19114.12                    NaN                  3                4   \n",
              "2      19114.12                    NaN                  3                4   \n",
              "3      19114.12                    NaN                  3                4   \n",
              "4      19114.12            1824.843333                  3                4   \n",
              "\n",
              "   Interest_Rate Num_of_Loan  \\\n",
              "0              3           4   \n",
              "1              3           4   \n",
              "2              3           4   \n",
              "3              3           4   \n",
              "4              3           4   \n",
              "\n",
              "                                        Type_of_Loan  Delay_from_due_date  \\\n",
              "0  Auto Loan, Credit-Builder Loan, Personal Loan,...                    3   \n",
              "1  Auto Loan, Credit-Builder Loan, Personal Loan,...                   -1   \n",
              "2  Auto Loan, Credit-Builder Loan, Personal Loan,...                    3   \n",
              "3  Auto Loan, Credit-Builder Loan, Personal Loan,...                    5   \n",
              "4  Auto Loan, Credit-Builder Loan, Personal Loan,...                    6   \n",
              "\n",
              "  Num_of_Delayed_Payment Changed_Credit_Limit  Num_Credit_Inquiries  \\\n",
              "0                      7                11.27                   4.0   \n",
              "1                    NaN                11.27                   4.0   \n",
              "2                      7                    _                   4.0   \n",
              "3                      4                 6.27                   4.0   \n",
              "4                    NaN                11.27                   4.0   \n",
              "\n",
              "  Credit_Mix Outstanding_Debt  Credit_Utilization_Ratio  \\\n",
              "0          _           809.98                 26.822620   \n",
              "1       Good           809.98                 31.944960   \n",
              "2       Good           809.98                 28.609352   \n",
              "3       Good           809.98                 31.377862   \n",
              "4       Good           809.98                 24.797347   \n",
              "\n",
              "      Credit_History_Age Payment_of_Min_Amount  Total_EMI_per_month  \\\n",
              "0  22 Years and 1 Months                    No            49.574949   \n",
              "1                    NaN                    No            49.574949   \n",
              "2  22 Years and 3 Months                    No            49.574949   \n",
              "3  22 Years and 4 Months                    No            49.574949   \n",
              "4  22 Years and 5 Months                    No            49.574949   \n",
              "\n",
              "  Amount_invested_monthly                 Payment_Behaviour  \\\n",
              "0       80.41529543900253   High_spent_Small_value_payments   \n",
              "1      118.28022162236736    Low_spent_Large_value_payments   \n",
              "2         81.699521264648   Low_spent_Medium_value_payments   \n",
              "3       199.4580743910713    Low_spent_Small_value_payments   \n",
              "4      41.420153086217326  High_spent_Medium_value_payments   \n",
              "\n",
              "      Monthly_Balance Credit_Score  \n",
              "0  312.49408867943663         Good  \n",
              "1  284.62916249607184         Good  \n",
              "2   331.2098628537912         Good  \n",
              "3  223.45130972736786         Good  \n",
              "4  341.48923103222177         Good  "
            ],
            "text/html": [
              "\n",
              "  <div id=\"df-2a2cf445-0af0-44b8-b678-cce151a70e1a\">\n",
              "    <div class=\"colab-df-container\">\n",
              "      <div>\n",
              "<style scoped>\n",
              "    .dataframe tbody tr th:only-of-type {\n",
              "        vertical-align: middle;\n",
              "    }\n",
              "\n",
              "    .dataframe tbody tr th {\n",
              "        vertical-align: top;\n",
              "    }\n",
              "\n",
              "    .dataframe thead th {\n",
              "        text-align: right;\n",
              "    }\n",
              "</style>\n",
              "<table border=\"1\" class=\"dataframe\">\n",
              "  <thead>\n",
              "    <tr style=\"text-align: right;\">\n",
              "      <th></th>\n",
              "      <th>ID</th>\n",
              "      <th>Customer_ID</th>\n",
              "      <th>Month</th>\n",
              "      <th>Name</th>\n",
              "      <th>Age</th>\n",
              "      <th>SSN</th>\n",
              "      <th>Occupation</th>\n",
              "      <th>Annual_Income</th>\n",
              "      <th>Monthly_Inhand_Salary</th>\n",
              "      <th>Num_Bank_Accounts</th>\n",
              "      <th>Num_Credit_Card</th>\n",
              "      <th>Interest_Rate</th>\n",
              "      <th>Num_of_Loan</th>\n",
              "      <th>Type_of_Loan</th>\n",
              "      <th>Delay_from_due_date</th>\n",
              "      <th>Num_of_Delayed_Payment</th>\n",
              "      <th>Changed_Credit_Limit</th>\n",
              "      <th>Num_Credit_Inquiries</th>\n",
              "      <th>Credit_Mix</th>\n",
              "      <th>Outstanding_Debt</th>\n",
              "      <th>Credit_Utilization_Ratio</th>\n",
              "      <th>Credit_History_Age</th>\n",
              "      <th>Payment_of_Min_Amount</th>\n",
              "      <th>Total_EMI_per_month</th>\n",
              "      <th>Amount_invested_monthly</th>\n",
              "      <th>Payment_Behaviour</th>\n",
              "      <th>Monthly_Balance</th>\n",
              "      <th>Credit_Score</th>\n",
              "    </tr>\n",
              "  </thead>\n",
              "  <tbody>\n",
              "    <tr>\n",
              "      <th>0</th>\n",
              "      <td>0x1602</td>\n",
              "      <td>CUS_0xd40</td>\n",
              "      <td>January</td>\n",
              "      <td>Aaron Maashoh</td>\n",
              "      <td>23</td>\n",
              "      <td>821-00-0265</td>\n",
              "      <td>Scientist</td>\n",
              "      <td>19114.12</td>\n",
              "      <td>1824.843333</td>\n",
              "      <td>3</td>\n",
              "      <td>4</td>\n",
              "      <td>3</td>\n",
              "      <td>4</td>\n",
              "      <td>Auto Loan, Credit-Builder Loan, Personal Loan,...</td>\n",
              "      <td>3</td>\n",
              "      <td>7</td>\n",
              "      <td>11.27</td>\n",
              "      <td>4.0</td>\n",
              "      <td>_</td>\n",
              "      <td>809.98</td>\n",
              "      <td>26.822620</td>\n",
              "      <td>22 Years and 1 Months</td>\n",
              "      <td>No</td>\n",
              "      <td>49.574949</td>\n",
              "      <td>80.41529543900253</td>\n",
              "      <td>High_spent_Small_value_payments</td>\n",
              "      <td>312.49408867943663</td>\n",
              "      <td>Good</td>\n",
              "    </tr>\n",
              "    <tr>\n",
              "      <th>1</th>\n",
              "      <td>0x1603</td>\n",
              "      <td>CUS_0xd40</td>\n",
              "      <td>February</td>\n",
              "      <td>Aaron Maashoh</td>\n",
              "      <td>23</td>\n",
              "      <td>821-00-0265</td>\n",
              "      <td>Scientist</td>\n",
              "      <td>19114.12</td>\n",
              "      <td>NaN</td>\n",
              "      <td>3</td>\n",
              "      <td>4</td>\n",
              "      <td>3</td>\n",
              "      <td>4</td>\n",
              "      <td>Auto Loan, Credit-Builder Loan, Personal Loan,...</td>\n",
              "      <td>-1</td>\n",
              "      <td>NaN</td>\n",
              "      <td>11.27</td>\n",
              "      <td>4.0</td>\n",
              "      <td>Good</td>\n",
              "      <td>809.98</td>\n",
              "      <td>31.944960</td>\n",
              "      <td>NaN</td>\n",
              "      <td>No</td>\n",
              "      <td>49.574949</td>\n",
              "      <td>118.28022162236736</td>\n",
              "      <td>Low_spent_Large_value_payments</td>\n",
              "      <td>284.62916249607184</td>\n",
              "      <td>Good</td>\n",
              "    </tr>\n",
              "    <tr>\n",
              "      <th>2</th>\n",
              "      <td>0x1604</td>\n",
              "      <td>CUS_0xd40</td>\n",
              "      <td>March</td>\n",
              "      <td>Aaron Maashoh</td>\n",
              "      <td>-500</td>\n",
              "      <td>821-00-0265</td>\n",
              "      <td>Scientist</td>\n",
              "      <td>19114.12</td>\n",
              "      <td>NaN</td>\n",
              "      <td>3</td>\n",
              "      <td>4</td>\n",
              "      <td>3</td>\n",
              "      <td>4</td>\n",
              "      <td>Auto Loan, Credit-Builder Loan, Personal Loan,...</td>\n",
              "      <td>3</td>\n",
              "      <td>7</td>\n",
              "      <td>_</td>\n",
              "      <td>4.0</td>\n",
              "      <td>Good</td>\n",
              "      <td>809.98</td>\n",
              "      <td>28.609352</td>\n",
              "      <td>22 Years and 3 Months</td>\n",
              "      <td>No</td>\n",
              "      <td>49.574949</td>\n",
              "      <td>81.699521264648</td>\n",
              "      <td>Low_spent_Medium_value_payments</td>\n",
              "      <td>331.2098628537912</td>\n",
              "      <td>Good</td>\n",
              "    </tr>\n",
              "    <tr>\n",
              "      <th>3</th>\n",
              "      <td>0x1605</td>\n",
              "      <td>CUS_0xd40</td>\n",
              "      <td>April</td>\n",
              "      <td>Aaron Maashoh</td>\n",
              "      <td>23</td>\n",
              "      <td>821-00-0265</td>\n",
              "      <td>Scientist</td>\n",
              "      <td>19114.12</td>\n",
              "      <td>NaN</td>\n",
              "      <td>3</td>\n",
              "      <td>4</td>\n",
              "      <td>3</td>\n",
              "      <td>4</td>\n",
              "      <td>Auto Loan, Credit-Builder Loan, Personal Loan,...</td>\n",
              "      <td>5</td>\n",
              "      <td>4</td>\n",
              "      <td>6.27</td>\n",
              "      <td>4.0</td>\n",
              "      <td>Good</td>\n",
              "      <td>809.98</td>\n",
              "      <td>31.377862</td>\n",
              "      <td>22 Years and 4 Months</td>\n",
              "      <td>No</td>\n",
              "      <td>49.574949</td>\n",
              "      <td>199.4580743910713</td>\n",
              "      <td>Low_spent_Small_value_payments</td>\n",
              "      <td>223.45130972736786</td>\n",
              "      <td>Good</td>\n",
              "    </tr>\n",
              "    <tr>\n",
              "      <th>4</th>\n",
              "      <td>0x1606</td>\n",
              "      <td>CUS_0xd40</td>\n",
              "      <td>May</td>\n",
              "      <td>Aaron Maashoh</td>\n",
              "      <td>23</td>\n",
              "      <td>821-00-0265</td>\n",
              "      <td>Scientist</td>\n",
              "      <td>19114.12</td>\n",
              "      <td>1824.843333</td>\n",
              "      <td>3</td>\n",
              "      <td>4</td>\n",
              "      <td>3</td>\n",
              "      <td>4</td>\n",
              "      <td>Auto Loan, Credit-Builder Loan, Personal Loan,...</td>\n",
              "      <td>6</td>\n",
              "      <td>NaN</td>\n",
              "      <td>11.27</td>\n",
              "      <td>4.0</td>\n",
              "      <td>Good</td>\n",
              "      <td>809.98</td>\n",
              "      <td>24.797347</td>\n",
              "      <td>22 Years and 5 Months</td>\n",
              "      <td>No</td>\n",
              "      <td>49.574949</td>\n",
              "      <td>41.420153086217326</td>\n",
              "      <td>High_spent_Medium_value_payments</td>\n",
              "      <td>341.48923103222177</td>\n",
              "      <td>Good</td>\n",
              "    </tr>\n",
              "  </tbody>\n",
              "</table>\n",
              "</div>\n",
              "      <button class=\"colab-df-convert\" onclick=\"convertToInteractive('df-2a2cf445-0af0-44b8-b678-cce151a70e1a')\"\n",
              "              title=\"Convert this dataframe to an interactive table.\"\n",
              "              style=\"display:none;\">\n",
              "        \n",
              "  <svg xmlns=\"http://www.w3.org/2000/svg\" height=\"24px\"viewBox=\"0 0 24 24\"\n",
              "       width=\"24px\">\n",
              "    <path d=\"M0 0h24v24H0V0z\" fill=\"none\"/>\n",
              "    <path d=\"M18.56 5.44l.94 2.06.94-2.06 2.06-.94-2.06-.94-.94-2.06-.94 2.06-2.06.94zm-11 1L8.5 8.5l.94-2.06 2.06-.94-2.06-.94L8.5 2.5l-.94 2.06-2.06.94zm10 10l.94 2.06.94-2.06 2.06-.94-2.06-.94-.94-2.06-.94 2.06-2.06.94z\"/><path d=\"M17.41 7.96l-1.37-1.37c-.4-.4-.92-.59-1.43-.59-.52 0-1.04.2-1.43.59L10.3 9.45l-7.72 7.72c-.78.78-.78 2.05 0 2.83L4 21.41c.39.39.9.59 1.41.59.51 0 1.02-.2 1.41-.59l7.78-7.78 2.81-2.81c.8-.78.8-2.07 0-2.86zM5.41 20L4 18.59l7.72-7.72 1.47 1.35L5.41 20z\"/>\n",
              "  </svg>\n",
              "      </button>\n",
              "      \n",
              "  <style>\n",
              "    .colab-df-container {\n",
              "      display:flex;\n",
              "      flex-wrap:wrap;\n",
              "      gap: 12px;\n",
              "    }\n",
              "\n",
              "    .colab-df-convert {\n",
              "      background-color: #E8F0FE;\n",
              "      border: none;\n",
              "      border-radius: 50%;\n",
              "      cursor: pointer;\n",
              "      display: none;\n",
              "      fill: #1967D2;\n",
              "      height: 32px;\n",
              "      padding: 0 0 0 0;\n",
              "      width: 32px;\n",
              "    }\n",
              "\n",
              "    .colab-df-convert:hover {\n",
              "      background-color: #E2EBFA;\n",
              "      box-shadow: 0px 1px 2px rgba(60, 64, 67, 0.3), 0px 1px 3px 1px rgba(60, 64, 67, 0.15);\n",
              "      fill: #174EA6;\n",
              "    }\n",
              "\n",
              "    [theme=dark] .colab-df-convert {\n",
              "      background-color: #3B4455;\n",
              "      fill: #D2E3FC;\n",
              "    }\n",
              "\n",
              "    [theme=dark] .colab-df-convert:hover {\n",
              "      background-color: #434B5C;\n",
              "      box-shadow: 0px 1px 3px 1px rgba(0, 0, 0, 0.15);\n",
              "      filter: drop-shadow(0px 1px 2px rgba(0, 0, 0, 0.3));\n",
              "      fill: #FFFFFF;\n",
              "    }\n",
              "  </style>\n",
              "\n",
              "      <script>\n",
              "        const buttonEl =\n",
              "          document.querySelector('#df-2a2cf445-0af0-44b8-b678-cce151a70e1a button.colab-df-convert');\n",
              "        buttonEl.style.display =\n",
              "          google.colab.kernel.accessAllowed ? 'block' : 'none';\n",
              "\n",
              "        async function convertToInteractive(key) {\n",
              "          const element = document.querySelector('#df-2a2cf445-0af0-44b8-b678-cce151a70e1a');\n",
              "          const dataTable =\n",
              "            await google.colab.kernel.invokeFunction('convertToInteractive',\n",
              "                                                     [key], {});\n",
              "          if (!dataTable) return;\n",
              "\n",
              "          const docLinkHtml = 'Like what you see? Visit the ' +\n",
              "            '<a target=\"_blank\" href=https://colab.research.google.com/notebooks/data_table.ipynb>data table notebook</a>'\n",
              "            + ' to learn more about interactive tables.';\n",
              "          element.innerHTML = '';\n",
              "          dataTable['output_type'] = 'display_data';\n",
              "          await google.colab.output.renderOutput(dataTable, element);\n",
              "          const docLink = document.createElement('div');\n",
              "          docLink.innerHTML = docLinkHtml;\n",
              "          element.appendChild(docLink);\n",
              "        }\n",
              "      </script>\n",
              "    </div>\n",
              "  </div>\n",
              "  "
            ]
          },
          "metadata": {}
        },
        {
          "output_type": "stream",
          "name": "stdout",
          "text": [
            "Rows x Cols : (100000, 28)\n"
          ]
        }
      ]
    },
    {
      "cell_type": "code",
      "source": [
        "# quick look at the test data frame\n",
        "print('\\033[91m Test Data Frame')\n",
        "display(test_df.head())\n",
        "print('Rows x Cols :', test_df.shape)"
      ],
      "metadata": {
        "colab": {
          "base_uri": "https://localhost:8080/",
          "height": 540
        },
        "id": "D291b242yZGr",
        "outputId": "a95b45a3-1212-4ac2-da05-24e981ad1a66"
      },
      "execution_count": 7,
      "outputs": [
        {
          "output_type": "stream",
          "name": "stdout",
          "text": [
            "\u001b[91m Test Data Frame\n"
          ]
        },
        {
          "output_type": "display_data",
          "data": {
            "text/plain": [
              "       ID Customer_ID      Month             Name  Age          SSN  \\\n",
              "0  0x160a   CUS_0xd40  September    Aaron Maashoh   23  821-00-0265   \n",
              "1  0x160b   CUS_0xd40    October    Aaron Maashoh   24  821-00-0265   \n",
              "2  0x160c   CUS_0xd40   November    Aaron Maashoh   24  821-00-0265   \n",
              "3  0x160d   CUS_0xd40   December    Aaron Maashoh  24_  821-00-0265   \n",
              "4  0x1616  CUS_0x21b1  September  Rick Rothackerj   28  004-07-5839   \n",
              "\n",
              "  Occupation Annual_Income  Monthly_Inhand_Salary  Num_Bank_Accounts  \\\n",
              "0  Scientist      19114.12            1824.843333                  3   \n",
              "1  Scientist      19114.12            1824.843333                  3   \n",
              "2  Scientist      19114.12            1824.843333                  3   \n",
              "3  Scientist      19114.12                    NaN                  3   \n",
              "4    _______      34847.84            3037.986667                  2   \n",
              "\n",
              "   Num_Credit_Card  Interest_Rate Num_of_Loan  \\\n",
              "0                4              3           4   \n",
              "1                4              3           4   \n",
              "2                4              3           4   \n",
              "3                4              3           4   \n",
              "4                4              6           1   \n",
              "\n",
              "                                        Type_of_Loan  Delay_from_due_date  \\\n",
              "0  Auto Loan, Credit-Builder Loan, Personal Loan,...                    3   \n",
              "1  Auto Loan, Credit-Builder Loan, Personal Loan,...                    3   \n",
              "2  Auto Loan, Credit-Builder Loan, Personal Loan,...                   -1   \n",
              "3  Auto Loan, Credit-Builder Loan, Personal Loan,...                    4   \n",
              "4                                Credit-Builder Loan                    3   \n",
              "\n",
              "  Num_of_Delayed_Payment Changed_Credit_Limit  Num_Credit_Inquiries  \\\n",
              "0                      7                11.27                2022.0   \n",
              "1                      9                13.27                   4.0   \n",
              "2                      4                12.27                   4.0   \n",
              "3                      5                11.27                   4.0   \n",
              "4                      1                 5.42                   5.0   \n",
              "\n",
              "  Credit_Mix Outstanding_Debt  Credit_Utilization_Ratio  \\\n",
              "0       Good           809.98                 35.030402   \n",
              "1       Good           809.98                 33.053114   \n",
              "2       Good           809.98                 33.811894   \n",
              "3       Good           809.98                 32.430559   \n",
              "4       Good           605.03                 25.926822   \n",
              "\n",
              "       Credit_History_Age Payment_of_Min_Amount  Total_EMI_per_month  \\\n",
              "0   22 Years and 9 Months                    No            49.574949   \n",
              "1  22 Years and 10 Months                    No            49.574949   \n",
              "2                     NaN                    No            49.574949   \n",
              "3   23 Years and 0 Months                    No            49.574949   \n",
              "4   27 Years and 3 Months                    No            18.816215   \n",
              "\n",
              "  Amount_invested_monthly                 Payment_Behaviour  \\\n",
              "0      236.64268203272135    Low_spent_Small_value_payments   \n",
              "1      21.465380264657146  High_spent_Medium_value_payments   \n",
              "2      148.23393788500925   Low_spent_Medium_value_payments   \n",
              "3       39.08251089460281  High_spent_Medium_value_payments   \n",
              "4      39.684018417945296   High_spent_Large_value_payments   \n",
              "\n",
              "      Monthly_Balance  \n",
              "0  186.26670208571772  \n",
              "1  361.44400385378196  \n",
              "2  264.67544623342997  \n",
              "3  343.82687322383634  \n",
              "4   485.2984336755923  "
            ],
            "text/html": [
              "\n",
              "  <div id=\"df-6f429272-1b49-46b3-8ff3-923328779054\">\n",
              "    <div class=\"colab-df-container\">\n",
              "      <div>\n",
              "<style scoped>\n",
              "    .dataframe tbody tr th:only-of-type {\n",
              "        vertical-align: middle;\n",
              "    }\n",
              "\n",
              "    .dataframe tbody tr th {\n",
              "        vertical-align: top;\n",
              "    }\n",
              "\n",
              "    .dataframe thead th {\n",
              "        text-align: right;\n",
              "    }\n",
              "</style>\n",
              "<table border=\"1\" class=\"dataframe\">\n",
              "  <thead>\n",
              "    <tr style=\"text-align: right;\">\n",
              "      <th></th>\n",
              "      <th>ID</th>\n",
              "      <th>Customer_ID</th>\n",
              "      <th>Month</th>\n",
              "      <th>Name</th>\n",
              "      <th>Age</th>\n",
              "      <th>SSN</th>\n",
              "      <th>Occupation</th>\n",
              "      <th>Annual_Income</th>\n",
              "      <th>Monthly_Inhand_Salary</th>\n",
              "      <th>Num_Bank_Accounts</th>\n",
              "      <th>Num_Credit_Card</th>\n",
              "      <th>Interest_Rate</th>\n",
              "      <th>Num_of_Loan</th>\n",
              "      <th>Type_of_Loan</th>\n",
              "      <th>Delay_from_due_date</th>\n",
              "      <th>Num_of_Delayed_Payment</th>\n",
              "      <th>Changed_Credit_Limit</th>\n",
              "      <th>Num_Credit_Inquiries</th>\n",
              "      <th>Credit_Mix</th>\n",
              "      <th>Outstanding_Debt</th>\n",
              "      <th>Credit_Utilization_Ratio</th>\n",
              "      <th>Credit_History_Age</th>\n",
              "      <th>Payment_of_Min_Amount</th>\n",
              "      <th>Total_EMI_per_month</th>\n",
              "      <th>Amount_invested_monthly</th>\n",
              "      <th>Payment_Behaviour</th>\n",
              "      <th>Monthly_Balance</th>\n",
              "    </tr>\n",
              "  </thead>\n",
              "  <tbody>\n",
              "    <tr>\n",
              "      <th>0</th>\n",
              "      <td>0x160a</td>\n",
              "      <td>CUS_0xd40</td>\n",
              "      <td>September</td>\n",
              "      <td>Aaron Maashoh</td>\n",
              "      <td>23</td>\n",
              "      <td>821-00-0265</td>\n",
              "      <td>Scientist</td>\n",
              "      <td>19114.12</td>\n",
              "      <td>1824.843333</td>\n",
              "      <td>3</td>\n",
              "      <td>4</td>\n",
              "      <td>3</td>\n",
              "      <td>4</td>\n",
              "      <td>Auto Loan, Credit-Builder Loan, Personal Loan,...</td>\n",
              "      <td>3</td>\n",
              "      <td>7</td>\n",
              "      <td>11.27</td>\n",
              "      <td>2022.0</td>\n",
              "      <td>Good</td>\n",
              "      <td>809.98</td>\n",
              "      <td>35.030402</td>\n",
              "      <td>22 Years and 9 Months</td>\n",
              "      <td>No</td>\n",
              "      <td>49.574949</td>\n",
              "      <td>236.64268203272135</td>\n",
              "      <td>Low_spent_Small_value_payments</td>\n",
              "      <td>186.26670208571772</td>\n",
              "    </tr>\n",
              "    <tr>\n",
              "      <th>1</th>\n",
              "      <td>0x160b</td>\n",
              "      <td>CUS_0xd40</td>\n",
              "      <td>October</td>\n",
              "      <td>Aaron Maashoh</td>\n",
              "      <td>24</td>\n",
              "      <td>821-00-0265</td>\n",
              "      <td>Scientist</td>\n",
              "      <td>19114.12</td>\n",
              "      <td>1824.843333</td>\n",
              "      <td>3</td>\n",
              "      <td>4</td>\n",
              "      <td>3</td>\n",
              "      <td>4</td>\n",
              "      <td>Auto Loan, Credit-Builder Loan, Personal Loan,...</td>\n",
              "      <td>3</td>\n",
              "      <td>9</td>\n",
              "      <td>13.27</td>\n",
              "      <td>4.0</td>\n",
              "      <td>Good</td>\n",
              "      <td>809.98</td>\n",
              "      <td>33.053114</td>\n",
              "      <td>22 Years and 10 Months</td>\n",
              "      <td>No</td>\n",
              "      <td>49.574949</td>\n",
              "      <td>21.465380264657146</td>\n",
              "      <td>High_spent_Medium_value_payments</td>\n",
              "      <td>361.44400385378196</td>\n",
              "    </tr>\n",
              "    <tr>\n",
              "      <th>2</th>\n",
              "      <td>0x160c</td>\n",
              "      <td>CUS_0xd40</td>\n",
              "      <td>November</td>\n",
              "      <td>Aaron Maashoh</td>\n",
              "      <td>24</td>\n",
              "      <td>821-00-0265</td>\n",
              "      <td>Scientist</td>\n",
              "      <td>19114.12</td>\n",
              "      <td>1824.843333</td>\n",
              "      <td>3</td>\n",
              "      <td>4</td>\n",
              "      <td>3</td>\n",
              "      <td>4</td>\n",
              "      <td>Auto Loan, Credit-Builder Loan, Personal Loan,...</td>\n",
              "      <td>-1</td>\n",
              "      <td>4</td>\n",
              "      <td>12.27</td>\n",
              "      <td>4.0</td>\n",
              "      <td>Good</td>\n",
              "      <td>809.98</td>\n",
              "      <td>33.811894</td>\n",
              "      <td>NaN</td>\n",
              "      <td>No</td>\n",
              "      <td>49.574949</td>\n",
              "      <td>148.23393788500925</td>\n",
              "      <td>Low_spent_Medium_value_payments</td>\n",
              "      <td>264.67544623342997</td>\n",
              "    </tr>\n",
              "    <tr>\n",
              "      <th>3</th>\n",
              "      <td>0x160d</td>\n",
              "      <td>CUS_0xd40</td>\n",
              "      <td>December</td>\n",
              "      <td>Aaron Maashoh</td>\n",
              "      <td>24_</td>\n",
              "      <td>821-00-0265</td>\n",
              "      <td>Scientist</td>\n",
              "      <td>19114.12</td>\n",
              "      <td>NaN</td>\n",
              "      <td>3</td>\n",
              "      <td>4</td>\n",
              "      <td>3</td>\n",
              "      <td>4</td>\n",
              "      <td>Auto Loan, Credit-Builder Loan, Personal Loan,...</td>\n",
              "      <td>4</td>\n",
              "      <td>5</td>\n",
              "      <td>11.27</td>\n",
              "      <td>4.0</td>\n",
              "      <td>Good</td>\n",
              "      <td>809.98</td>\n",
              "      <td>32.430559</td>\n",
              "      <td>23 Years and 0 Months</td>\n",
              "      <td>No</td>\n",
              "      <td>49.574949</td>\n",
              "      <td>39.08251089460281</td>\n",
              "      <td>High_spent_Medium_value_payments</td>\n",
              "      <td>343.82687322383634</td>\n",
              "    </tr>\n",
              "    <tr>\n",
              "      <th>4</th>\n",
              "      <td>0x1616</td>\n",
              "      <td>CUS_0x21b1</td>\n",
              "      <td>September</td>\n",
              "      <td>Rick Rothackerj</td>\n",
              "      <td>28</td>\n",
              "      <td>004-07-5839</td>\n",
              "      <td>_______</td>\n",
              "      <td>34847.84</td>\n",
              "      <td>3037.986667</td>\n",
              "      <td>2</td>\n",
              "      <td>4</td>\n",
              "      <td>6</td>\n",
              "      <td>1</td>\n",
              "      <td>Credit-Builder Loan</td>\n",
              "      <td>3</td>\n",
              "      <td>1</td>\n",
              "      <td>5.42</td>\n",
              "      <td>5.0</td>\n",
              "      <td>Good</td>\n",
              "      <td>605.03</td>\n",
              "      <td>25.926822</td>\n",
              "      <td>27 Years and 3 Months</td>\n",
              "      <td>No</td>\n",
              "      <td>18.816215</td>\n",
              "      <td>39.684018417945296</td>\n",
              "      <td>High_spent_Large_value_payments</td>\n",
              "      <td>485.2984336755923</td>\n",
              "    </tr>\n",
              "  </tbody>\n",
              "</table>\n",
              "</div>\n",
              "      <button class=\"colab-df-convert\" onclick=\"convertToInteractive('df-6f429272-1b49-46b3-8ff3-923328779054')\"\n",
              "              title=\"Convert this dataframe to an interactive table.\"\n",
              "              style=\"display:none;\">\n",
              "        \n",
              "  <svg xmlns=\"http://www.w3.org/2000/svg\" height=\"24px\"viewBox=\"0 0 24 24\"\n",
              "       width=\"24px\">\n",
              "    <path d=\"M0 0h24v24H0V0z\" fill=\"none\"/>\n",
              "    <path d=\"M18.56 5.44l.94 2.06.94-2.06 2.06-.94-2.06-.94-.94-2.06-.94 2.06-2.06.94zm-11 1L8.5 8.5l.94-2.06 2.06-.94-2.06-.94L8.5 2.5l-.94 2.06-2.06.94zm10 10l.94 2.06.94-2.06 2.06-.94-2.06-.94-.94-2.06-.94 2.06-2.06.94z\"/><path d=\"M17.41 7.96l-1.37-1.37c-.4-.4-.92-.59-1.43-.59-.52 0-1.04.2-1.43.59L10.3 9.45l-7.72 7.72c-.78.78-.78 2.05 0 2.83L4 21.41c.39.39.9.59 1.41.59.51 0 1.02-.2 1.41-.59l7.78-7.78 2.81-2.81c.8-.78.8-2.07 0-2.86zM5.41 20L4 18.59l7.72-7.72 1.47 1.35L5.41 20z\"/>\n",
              "  </svg>\n",
              "      </button>\n",
              "      \n",
              "  <style>\n",
              "    .colab-df-container {\n",
              "      display:flex;\n",
              "      flex-wrap:wrap;\n",
              "      gap: 12px;\n",
              "    }\n",
              "\n",
              "    .colab-df-convert {\n",
              "      background-color: #E8F0FE;\n",
              "      border: none;\n",
              "      border-radius: 50%;\n",
              "      cursor: pointer;\n",
              "      display: none;\n",
              "      fill: #1967D2;\n",
              "      height: 32px;\n",
              "      padding: 0 0 0 0;\n",
              "      width: 32px;\n",
              "    }\n",
              "\n",
              "    .colab-df-convert:hover {\n",
              "      background-color: #E2EBFA;\n",
              "      box-shadow: 0px 1px 2px rgba(60, 64, 67, 0.3), 0px 1px 3px 1px rgba(60, 64, 67, 0.15);\n",
              "      fill: #174EA6;\n",
              "    }\n",
              "\n",
              "    [theme=dark] .colab-df-convert {\n",
              "      background-color: #3B4455;\n",
              "      fill: #D2E3FC;\n",
              "    }\n",
              "\n",
              "    [theme=dark] .colab-df-convert:hover {\n",
              "      background-color: #434B5C;\n",
              "      box-shadow: 0px 1px 3px 1px rgba(0, 0, 0, 0.15);\n",
              "      filter: drop-shadow(0px 1px 2px rgba(0, 0, 0, 0.3));\n",
              "      fill: #FFFFFF;\n",
              "    }\n",
              "  </style>\n",
              "\n",
              "      <script>\n",
              "        const buttonEl =\n",
              "          document.querySelector('#df-6f429272-1b49-46b3-8ff3-923328779054 button.colab-df-convert');\n",
              "        buttonEl.style.display =\n",
              "          google.colab.kernel.accessAllowed ? 'block' : 'none';\n",
              "\n",
              "        async function convertToInteractive(key) {\n",
              "          const element = document.querySelector('#df-6f429272-1b49-46b3-8ff3-923328779054');\n",
              "          const dataTable =\n",
              "            await google.colab.kernel.invokeFunction('convertToInteractive',\n",
              "                                                     [key], {});\n",
              "          if (!dataTable) return;\n",
              "\n",
              "          const docLinkHtml = 'Like what you see? Visit the ' +\n",
              "            '<a target=\"_blank\" href=https://colab.research.google.com/notebooks/data_table.ipynb>data table notebook</a>'\n",
              "            + ' to learn more about interactive tables.';\n",
              "          element.innerHTML = '';\n",
              "          dataTable['output_type'] = 'display_data';\n",
              "          await google.colab.output.renderOutput(dataTable, element);\n",
              "          const docLink = document.createElement('div');\n",
              "          docLink.innerHTML = docLinkHtml;\n",
              "          element.appendChild(docLink);\n",
              "        }\n",
              "      </script>\n",
              "    </div>\n",
              "  </div>\n",
              "  "
            ]
          },
          "metadata": {}
        },
        {
          "output_type": "stream",
          "name": "stdout",
          "text": [
            "Rows x Cols : (50000, 27)\n"
          ]
        }
      ]
    },
    {
      "cell_type": "markdown",
      "source": [
        "## Data information and types"
      ],
      "metadata": {
        "id": "lE40FCBQyyMb"
      }
    },
    {
      "cell_type": "code",
      "source": [
        "train_df.info()"
      ],
      "metadata": {
        "colab": {
          "base_uri": "https://localhost:8080/"
        },
        "id": "6wJXAyOHy0p2",
        "outputId": "298ac2be-8e03-4447-a6f9-3deec7194834"
      },
      "execution_count": 8,
      "outputs": [
        {
          "output_type": "stream",
          "name": "stdout",
          "text": [
            "<class 'pandas.core.frame.DataFrame'>\n",
            "RangeIndex: 100000 entries, 0 to 99999\n",
            "Data columns (total 28 columns):\n",
            " #   Column                    Non-Null Count   Dtype  \n",
            "---  ------                    --------------   -----  \n",
            " 0   ID                        100000 non-null  object \n",
            " 1   Customer_ID               100000 non-null  object \n",
            " 2   Month                     100000 non-null  object \n",
            " 3   Name                      90015 non-null   object \n",
            " 4   Age                       100000 non-null  object \n",
            " 5   SSN                       100000 non-null  object \n",
            " 6   Occupation                100000 non-null  object \n",
            " 7   Annual_Income             100000 non-null  object \n",
            " 8   Monthly_Inhand_Salary     84998 non-null   float64\n",
            " 9   Num_Bank_Accounts         100000 non-null  int64  \n",
            " 10  Num_Credit_Card           100000 non-null  int64  \n",
            " 11  Interest_Rate             100000 non-null  int64  \n",
            " 12  Num_of_Loan               100000 non-null  object \n",
            " 13  Type_of_Loan              88592 non-null   object \n",
            " 14  Delay_from_due_date       100000 non-null  int64  \n",
            " 15  Num_of_Delayed_Payment    92998 non-null   object \n",
            " 16  Changed_Credit_Limit      100000 non-null  object \n",
            " 17  Num_Credit_Inquiries      98035 non-null   float64\n",
            " 18  Credit_Mix                100000 non-null  object \n",
            " 19  Outstanding_Debt          100000 non-null  object \n",
            " 20  Credit_Utilization_Ratio  100000 non-null  float64\n",
            " 21  Credit_History_Age        90970 non-null   object \n",
            " 22  Payment_of_Min_Amount     100000 non-null  object \n",
            " 23  Total_EMI_per_month       100000 non-null  float64\n",
            " 24  Amount_invested_monthly   95521 non-null   object \n",
            " 25  Payment_Behaviour         100000 non-null  object \n",
            " 26  Monthly_Balance           98800 non-null   object \n",
            " 27  Credit_Score              100000 non-null  object \n",
            "dtypes: float64(4), int64(4), object(20)\n",
            "memory usage: 21.4+ MB\n"
          ]
        }
      ]
    },
    {
      "cell_type": "code",
      "source": [
        "test_df.info()"
      ],
      "metadata": {
        "colab": {
          "base_uri": "https://localhost:8080/"
        },
        "id": "kM7GC92a-pBL",
        "outputId": "56143b2d-bb36-4547-d003-75516b2b52f3"
      },
      "execution_count": 9,
      "outputs": [
        {
          "output_type": "stream",
          "name": "stdout",
          "text": [
            "<class 'pandas.core.frame.DataFrame'>\n",
            "RangeIndex: 50000 entries, 0 to 49999\n",
            "Data columns (total 27 columns):\n",
            " #   Column                    Non-Null Count  Dtype  \n",
            "---  ------                    --------------  -----  \n",
            " 0   ID                        50000 non-null  object \n",
            " 1   Customer_ID               50000 non-null  object \n",
            " 2   Month                     50000 non-null  object \n",
            " 3   Name                      44985 non-null  object \n",
            " 4   Age                       50000 non-null  object \n",
            " 5   SSN                       50000 non-null  object \n",
            " 6   Occupation                50000 non-null  object \n",
            " 7   Annual_Income             50000 non-null  object \n",
            " 8   Monthly_Inhand_Salary     42502 non-null  float64\n",
            " 9   Num_Bank_Accounts         50000 non-null  int64  \n",
            " 10  Num_Credit_Card           50000 non-null  int64  \n",
            " 11  Interest_Rate             50000 non-null  int64  \n",
            " 12  Num_of_Loan               50000 non-null  object \n",
            " 13  Type_of_Loan              44296 non-null  object \n",
            " 14  Delay_from_due_date       50000 non-null  int64  \n",
            " 15  Num_of_Delayed_Payment    46502 non-null  object \n",
            " 16  Changed_Credit_Limit      50000 non-null  object \n",
            " 17  Num_Credit_Inquiries      48965 non-null  float64\n",
            " 18  Credit_Mix                50000 non-null  object \n",
            " 19  Outstanding_Debt          50000 non-null  object \n",
            " 20  Credit_Utilization_Ratio  50000 non-null  float64\n",
            " 21  Credit_History_Age        45530 non-null  object \n",
            " 22  Payment_of_Min_Amount     50000 non-null  object \n",
            " 23  Total_EMI_per_month       50000 non-null  float64\n",
            " 24  Amount_invested_monthly   47729 non-null  object \n",
            " 25  Payment_Behaviour         50000 non-null  object \n",
            " 26  Monthly_Balance           49438 non-null  object \n",
            "dtypes: float64(4), int64(4), object(19)\n",
            "memory usage: 10.3+ MB\n"
          ]
        }
      ]
    },
    {
      "cell_type": "markdown",
      "source": [
        "# 👀 Checkpoint 1 - Findings\n",
        "\n",
        "After analysing we can categorize the data into numerical and categorical data.\n",
        "\n",
        "The data that belong to **numerical types** are:\n",
        "1. Num_Bank_Accounts\n",
        "2. Num_Credit_Card\n",
        "3. Interest_Rate\n",
        "4. Delay_from_due_date\n",
        "5. Num_Credit_Inquiries\n",
        "6. Credit_Utilization_Ratio\n",
        "7. Total_EMI_per_month\n",
        "8. Age\n",
        "9. Annual_Income\n",
        "10. Num_of_Loan\n",
        "11. Num_of_Delayed_Payment\n",
        "12. Changed_Credit_Limit\n",
        "13. Outstanding_Debt\n",
        "14. Amount_invested_monthly\n",
        "15. Monthly_Balance\n",
        "16. Monthly_Inhand_Salary\n",
        "\n",
        "And the data that belong to **categorical types** are:\n",
        "1. Occupation\n",
        "2. TypeofLoan\n",
        "3. CreditMix\n",
        "4. CreditHistoryAge\n",
        "5. PaymentofMinAmount\n",
        "6. PaymentBehaviour\n",
        "7. CreditScore\n",
        "\n",
        "The rest are irrelevant to our problem and are just simple identifiers for each"
      ],
      "metadata": {
        "id": "W6t2XqmyKTph"
      }
    },
    {
      "cell_type": "markdown",
      "source": [
        "# 2. Cleanup the Data"
      ],
      "metadata": {
        "id": "z78SkvwUX6AF"
      }
    },
    {
      "cell_type": "markdown",
      "source": [
        "## Define & divide categories of data"
      ],
      "metadata": {
        "id": "5Yy9Rz4xKkCE"
      }
    },
    {
      "cell_type": "markdown",
      "source": [
        "Define numerical and categorical data"
      ],
      "metadata": {
        "id": "W3whIEw3KDai"
      }
    },
    {
      "cell_type": "code",
      "source": [
        "numerical_data = ['Age', 'Annual_Income', 'Monthly_Inhand_Salary', 'Num_Bank_Accounts',\n",
        "       'Num_Credit_Card', 'Interest_Rate', 'Num_of_Loan',\n",
        "       'Delay_from_due_date', 'Num_of_Delayed_Payment', 'Changed_Credit_Limit',\n",
        "       'Num_Credit_Inquiries', 'Outstanding_Debt', 'Credit_Utilization_Ratio',\n",
        "       'Total_EMI_per_month', 'Amount_invested_monthly',\n",
        "       'Monthly_Balance', 'Credit_History_Age']\n",
        "\n",
        "categorical_data = ['Occupation', 'Credit_Mix', 'Payment_of_Min_Amount',\n",
        "       'Payment_Behaviour', 'Credit_Score']"
      ],
      "metadata": {
        "id": "WIKZnAdCF9De"
      },
      "execution_count": 10,
      "outputs": []
    },
    {
      "cell_type": "markdown",
      "source": [
        "Drop irrelevant data"
      ],
      "metadata": {
        "id": "8iThuBowJwWu"
      }
    },
    {
      "cell_type": "code",
      "source": [
        "irrelavent_data = ['ID', 'Customer_ID', 'Month', 'Name', 'SSN']\n",
        "train_df.drop(columns=irrelavent_data, inplace=True, axis=1)\n",
        "test_df.drop(columns=irrelavent_data, inplace=True, axis=1)"
      ],
      "metadata": {
        "id": "E6WQAFTfGAkb"
      },
      "execution_count": 11,
      "outputs": []
    },
    {
      "cell_type": "markdown",
      "source": [
        "## Check for missing values"
      ],
      "metadata": {
        "id": "2te0ShWHzwex"
      }
    },
    {
      "cell_type": "code",
      "source": [
        "train_missing_values = train_df.isnull().sum().sort_values(ascending=False)\n",
        "print('\\033[91m Train Data Missing Values')\n",
        "train_missing_values"
      ],
      "metadata": {
        "colab": {
          "base_uri": "https://localhost:8080/"
        },
        "id": "w6sVn8ouzqcw",
        "outputId": "d091c429-4fbc-43b4-e125-09f7c7ba833b"
      },
      "execution_count": 12,
      "outputs": [
        {
          "output_type": "stream",
          "name": "stdout",
          "text": [
            "\u001b[91m Train Data Missing Values\n"
          ]
        },
        {
          "output_type": "execute_result",
          "data": {
            "text/plain": [
              "Monthly_Inhand_Salary       15002\n",
              "Type_of_Loan                11408\n",
              "Credit_History_Age           9030\n",
              "Num_of_Delayed_Payment       7002\n",
              "Amount_invested_monthly      4479\n",
              "Num_Credit_Inquiries         1965\n",
              "Monthly_Balance              1200\n",
              "Age                             0\n",
              "Outstanding_Debt                0\n",
              "Payment_Behaviour               0\n",
              "Total_EMI_per_month             0\n",
              "Payment_of_Min_Amount           0\n",
              "Credit_Utilization_Ratio        0\n",
              "Changed_Credit_Limit            0\n",
              "Credit_Mix                      0\n",
              "Occupation                      0\n",
              "Delay_from_due_date             0\n",
              "Num_of_Loan                     0\n",
              "Interest_Rate                   0\n",
              "Num_Credit_Card                 0\n",
              "Num_Bank_Accounts               0\n",
              "Annual_Income                   0\n",
              "Credit_Score                    0\n",
              "dtype: int64"
            ]
          },
          "metadata": {},
          "execution_count": 12
        }
      ]
    },
    {
      "cell_type": "code",
      "source": [
        "test_missing_values = test_df.isnull().sum().sort_values(ascending=False)\n",
        "print('\\033[91m Test Data Missing Values')\n",
        "test_missing_values"
      ],
      "metadata": {
        "colab": {
          "base_uri": "https://localhost:8080/"
        },
        "id": "nZMVzt-0-Ufh",
        "outputId": "7cc0a364-5d6d-484b-95a7-b91de00aef71"
      },
      "execution_count": 13,
      "outputs": [
        {
          "output_type": "stream",
          "name": "stdout",
          "text": [
            "\u001b[91m Test Data Missing Values\n"
          ]
        },
        {
          "output_type": "execute_result",
          "data": {
            "text/plain": [
              "Monthly_Inhand_Salary       7498\n",
              "Type_of_Loan                5704\n",
              "Credit_History_Age          4470\n",
              "Num_of_Delayed_Payment      3498\n",
              "Amount_invested_monthly     2271\n",
              "Num_Credit_Inquiries        1035\n",
              "Monthly_Balance              562\n",
              "Credit_Mix                     0\n",
              "Payment_Behaviour              0\n",
              "Total_EMI_per_month            0\n",
              "Payment_of_Min_Amount          0\n",
              "Credit_Utilization_Ratio       0\n",
              "Outstanding_Debt               0\n",
              "Age                            0\n",
              "Occupation                     0\n",
              "Delay_from_due_date            0\n",
              "Num_of_Loan                    0\n",
              "Interest_Rate                  0\n",
              "Num_Credit_Card                0\n",
              "Num_Bank_Accounts              0\n",
              "Annual_Income                  0\n",
              "Changed_Credit_Limit           0\n",
              "dtype: int64"
            ]
          },
          "metadata": {},
          "execution_count": 13
        }
      ]
    },
    {
      "cell_type": "markdown",
      "source": [
        "From this we know that there are 7 columns that has missing values that we need to resolve."
      ],
      "metadata": {
        "id": "c1S9vilUUX8e"
      }
    },
    {
      "cell_type": "markdown",
      "source": [
        "## Check for duplicates in data"
      ],
      "metadata": {
        "id": "A7n5Zgkb_U7G"
      }
    },
    {
      "cell_type": "code",
      "source": [
        "print('\\033[91m Train Data Duplicates')\n",
        "train_duplicates = train_df.duplicated().sum()\n",
        "print('\\033[0m', train_duplicates)"
      ],
      "metadata": {
        "colab": {
          "base_uri": "https://localhost:8080/"
        },
        "id": "0qOIY8j4_X0B",
        "outputId": "fedcc378-01e1-4516-da18-4e3199ac28e3"
      },
      "execution_count": 14,
      "outputs": [
        {
          "output_type": "stream",
          "name": "stdout",
          "text": [
            "\u001b[91m Train Data Duplicates\n",
            "\u001b[0m 0\n"
          ]
        }
      ]
    },
    {
      "cell_type": "code",
      "source": [
        "print('\\033[91m Test Data Duplicates')\n",
        "test_duplicates = test_df.duplicated().sum()\n",
        "print('\\033[0m', test_duplicates)"
      ],
      "metadata": {
        "colab": {
          "base_uri": "https://localhost:8080/"
        },
        "id": "A6n-3vLV_4CS",
        "outputId": "7981c3c8-04c7-46ca-d56f-1c40b2802940"
      },
      "execution_count": 15,
      "outputs": [
        {
          "output_type": "stream",
          "name": "stdout",
          "text": [
            "\u001b[91m Test Data Duplicates\n",
            "\u001b[0m 0\n"
          ]
        }
      ]
    },
    {
      "cell_type": "markdown",
      "source": [
        "## Convert incorrectly identified categorical data to numerical data\n",
        "\n",
        "We notice that some data that are supposed to be numerical are identified as categorical. We need to do some cleanup to convert them into numerical."
      ],
      "metadata": {
        "id": "Lza7S0ofBlMX"
      }
    },
    {
      "cell_type": "markdown",
      "source": [
        "First, let's check their values"
      ],
      "metadata": {
        "id": "GimRasV1LFw3"
      }
    },
    {
      "cell_type": "code",
      "source": [
        "incorrect_categorical_data_labels = ['Age',\n",
        "                     'Annual_Income',\n",
        "                     'Num_of_Loan',\n",
        "                     'Num_of_Delayed_Payment',\n",
        "                     'Changed_Credit_Limit',\n",
        "                     'Outstanding_Debt',\n",
        "                     'Amount_invested_monthly',\n",
        "                     'Monthly_Balance'] \n",
        "for label in incorrect_categorical_data_labels:\n",
        "  unique_values = train_df[label].unique()\n",
        "  print(label + ' unique values :', unique_values)\n",
        "  print('----\\n')"
      ],
      "metadata": {
        "colab": {
          "base_uri": "https://localhost:8080/"
        },
        "id": "cnEDPD7WBw9q",
        "outputId": "a2e1b965-d163-4cb7-9e38-31be63804826"
      },
      "execution_count": 34,
      "outputs": [
        {
          "output_type": "stream",
          "name": "stdout",
          "text": [
            "Age unique values : [  23.  500.   28. ... 4808. 2263. 1342.]\n",
            "----\n",
            "\n",
            "Annual_Income unique values : [ 19114.12  34847.84 143162.64 ...  37188.1   20002.88  39628.99]\n",
            "----\n",
            "\n",
            "Num_of_Loan unique values : [4.000e+00 1.000e+00 3.000e+00 9.670e+02 1.000e+02 0.000e+00 2.000e+00\n",
            " 7.000e+00 5.000e+00 6.000e+00 8.000e+00 9.000e+00 1.464e+03 6.220e+02\n",
            " 3.520e+02 4.720e+02 1.017e+03 9.450e+02 1.460e+02 5.630e+02 3.410e+02\n",
            " 4.440e+02 7.200e+02 1.485e+03 4.900e+01 7.370e+02 1.106e+03 4.660e+02\n",
            " 7.280e+02 3.130e+02 8.430e+02 5.970e+02 6.170e+02 1.190e+02 6.630e+02\n",
            " 6.400e+02 9.200e+01 1.019e+03 5.010e+02 1.302e+03 3.900e+01 7.160e+02\n",
            " 8.480e+02 9.310e+02 1.214e+03 1.860e+02 4.240e+02 1.001e+03 1.110e+03\n",
            " 1.152e+03 4.570e+02 1.433e+03 1.187e+03 5.200e+01 1.480e+03 1.047e+03\n",
            " 1.035e+03 1.347e+03 3.300e+01 1.930e+02 6.990e+02 3.290e+02 1.451e+03\n",
            " 4.840e+02 1.320e+02 6.490e+02 9.950e+02 5.450e+02 6.840e+02 1.135e+03\n",
            " 1.094e+03 1.204e+03 6.540e+02 5.800e+01 3.480e+02 6.140e+02 1.363e+03\n",
            " 3.230e+02 1.406e+03 1.348e+03 4.300e+02 1.530e+02 1.461e+03 9.050e+02\n",
            " 1.312e+03 1.424e+03 1.154e+03 9.500e+01 1.353e+03 1.228e+03 8.190e+02\n",
            " 1.006e+03 7.950e+02 3.590e+02 1.209e+03 5.900e+02 6.960e+02 1.185e+03\n",
            " 1.465e+03 9.110e+02 1.181e+03 7.000e+01 8.160e+02 1.369e+03 1.430e+02\n",
            " 1.416e+03 4.550e+02 5.500e+01 1.096e+03 1.474e+03 4.200e+02 1.131e+03\n",
            " 9.040e+02 8.900e+01 1.259e+03 5.270e+02 1.241e+03 4.490e+02 9.830e+02\n",
            " 4.180e+02 3.190e+02 2.300e+01 2.380e+02 6.380e+02 1.380e+02 2.350e+02\n",
            " 2.800e+02 1.070e+03 1.484e+03 2.740e+02 4.940e+02 1.459e+03 4.040e+02\n",
            " 1.354e+03 1.495e+03 1.391e+03 6.010e+02 1.313e+03 1.319e+03 8.980e+02\n",
            " 2.310e+02 7.520e+02 1.740e+02 9.610e+02 1.046e+03 8.340e+02 2.840e+02\n",
            " 4.380e+02 2.880e+02 1.463e+03 1.151e+03 7.190e+02 1.980e+02 1.015e+03\n",
            " 8.550e+02 8.410e+02 3.920e+02 1.444e+03 1.030e+02 1.320e+03 7.450e+02\n",
            " 1.720e+02 2.520e+02 6.300e+02 2.410e+02 3.100e+01 4.050e+02 1.217e+03\n",
            " 1.030e+03 1.257e+03 1.370e+02 1.570e+02 1.640e+02 1.088e+03 1.236e+03\n",
            " 7.770e+02 1.048e+03 6.130e+02 3.300e+02 1.439e+03 3.210e+02 6.610e+02\n",
            " 9.520e+02 9.390e+02 5.620e+02 1.202e+03 3.020e+02 9.430e+02 3.940e+02\n",
            " 9.550e+02 1.318e+03 9.360e+02 7.810e+02 1.329e+03 1.365e+03 8.600e+02\n",
            " 2.170e+02 1.910e+02 3.200e+01 2.820e+02 3.510e+02 1.387e+03 7.570e+02\n",
            " 4.160e+02 8.330e+02 2.920e+02 1.225e+03 1.227e+03 6.390e+02 8.590e+02\n",
            " 2.430e+02 2.670e+02 5.100e+02 3.320e+02 9.960e+02 3.110e+02 4.920e+02\n",
            " 8.200e+02 3.360e+02 1.230e+02 5.400e+02 1.310e+02 1.311e+03 1.441e+03\n",
            " 8.950e+02 8.910e+02 5.000e+01 9.400e+02 9.350e+02 5.960e+02 2.900e+01\n",
            " 1.182e+03 1.129e+03 1.014e+03 2.510e+02 3.650e+02 2.910e+02 1.447e+03\n",
            " 7.420e+02 1.085e+03 1.480e+02 4.620e+02 8.320e+02 8.810e+02 1.412e+03\n",
            " 7.850e+02 1.127e+03 9.100e+02 5.380e+02 9.990e+02 7.330e+02 1.010e+02\n",
            " 2.370e+02 8.700e+01 6.590e+02 6.330e+02 3.870e+02 4.470e+02 6.290e+02\n",
            " 8.310e+02 1.384e+03 7.730e+02 6.210e+02 1.419e+03 2.890e+02 2.850e+02\n",
            " 1.393e+03 2.700e+01 1.359e+03 1.482e+03 1.189e+03 1.294e+03 2.010e+02\n",
            " 5.790e+02 8.140e+02 1.410e+02 5.810e+02 1.171e+03 2.950e+02 2.900e+02\n",
            " 4.330e+02 6.790e+02 1.040e+03 1.054e+03 1.430e+03 1.023e+03 1.077e+03\n",
            " 1.457e+03 1.150e+03 7.010e+02 1.382e+03 8.890e+02 4.370e+02 3.720e+02\n",
            " 1.222e+03 1.260e+02 1.159e+03 8.680e+02 1.900e+01 1.297e+03 2.270e+02\n",
            " 1.900e+02 8.090e+02 1.216e+03 1.074e+03 5.710e+02 5.200e+02 1.274e+03\n",
            " 1.340e+03 9.910e+02 3.160e+02 6.970e+02 9.260e+02 8.730e+02 1.002e+03\n",
            " 3.780e+02 6.500e+01 8.750e+02 8.670e+02 5.480e+02 6.520e+02 1.372e+03\n",
            " 6.060e+02 1.036e+03 1.300e+03 1.700e+01 1.178e+03 8.020e+02 1.219e+03\n",
            " 1.271e+03 1.137e+03 1.496e+03 4.390e+02 1.960e+02 6.360e+02 1.920e+02\n",
            " 2.280e+02 1.053e+03 2.290e+02 7.530e+02 1.296e+03 1.371e+03 2.540e+02\n",
            " 8.630e+02 4.640e+02 5.150e+02 8.380e+02 1.160e+03 1.289e+03 1.298e+03\n",
            " 7.990e+02 1.820e+02 5.740e+02 2.420e+02 4.150e+02 8.690e+02 9.580e+02\n",
            " 5.400e+01 1.265e+03 6.560e+02 2.750e+02 7.780e+02 2.080e+02 1.470e+02\n",
            " 3.500e+02 5.070e+02 4.630e+02 4.970e+02 9.270e+02 6.530e+02 6.620e+02\n",
            " 5.290e+02 6.350e+02 1.027e+03 8.970e+02 1.039e+03 1.345e+03 9.240e+02\n",
            " 1.279e+03 5.460e+02 1.112e+03 1.210e+03 5.260e+02 3.000e+02 1.103e+03\n",
            " 5.040e+02 1.360e+02 1.400e+03 7.800e+01 6.860e+02 1.091e+03 3.440e+02\n",
            " 2.150e+02 8.400e+01 6.280e+02 1.470e+03 9.680e+02 1.478e+03 8.300e+01\n",
            " 1.196e+03 1.307e+03 1.132e+03 1.008e+03 9.170e+02 6.570e+02 5.600e+01\n",
            " 1.800e+01 4.100e+01 8.010e+02 9.780e+02 2.160e+02 3.490e+02 9.660e+02]\n",
            "----\n",
            "\n",
            "Num_of_Delayed_Payment unique values : [3.089e+22]\n",
            "----\n",
            "\n",
            "Changed_Credit_Limit unique values : [10.466]\n",
            "----\n",
            "\n",
            "Outstanding_Debt unique values : [ 809.98  605.03 1303.01 ...  620.64 3571.7   502.38]\n",
            "----\n",
            "\n",
            "Amount_invested_monthly unique values : [10.466]\n",
            "----\n",
            "\n",
            "Monthly_Balance unique values : [27.754]\n",
            "----\n",
            "\n"
          ]
        }
      ]
    },
    {
      "cell_type": "markdown",
      "source": [
        "* Replace special characters in numerical data\n",
        "* Replace empty values with nan\n",
        "* Configure the type to be float"
      ],
      "metadata": {
        "id": "rNWqA2DJDGtA"
      }
    },
    {
      "cell_type": "code",
      "source": [
        "for label in incorrect_categorical_data_labels:\n",
        "  train_df[label] = train_df[label].str.strip('-_')\n",
        "  test_df[label] = test_df[label].str.strip('-_')\n",
        "  train_df[label] = train_df[label].replace({'':np.nan})\n",
        "  test_df[label] = test_df[label].replace({'':np.nan})\n",
        "  train_df[label] = train_df[label].astype('float64')\n",
        "  test_df[label] = test_df[label].astype('float64')"
      ],
      "metadata": {
        "id": "WiOl0SlpDL2S"
      },
      "execution_count": 17,
      "outputs": []
    },
    {
      "cell_type": "markdown",
      "source": [
        "## Transform `Credit_History_Age` to years only\n",
        "\n",
        "The column `Credit_History_Age` data is formatted like \"23 years and 5 month\" and we will only use the years value for it to be numerical.\n"
      ],
      "metadata": {
        "id": "1v5g16UiZSp8"
      }
    },
    {
      "cell_type": "code",
      "source": [
        "def get_years(x):\n",
        "  if x is not None:\n",
        "    return str(x).strip()[0:2]\n",
        "\n",
        "train_df.Credit_History_Age = train_df.Credit_History_Age.apply(get_years)"
      ],
      "metadata": {
        "id": "sNKatqTdZ25S"
      },
      "execution_count": 43,
      "outputs": []
    },
    {
      "cell_type": "markdown",
      "source": [
        "Ensure now the data are all numerical"
      ],
      "metadata": {
        "id": "xDb3TxRIEW4w"
      }
    },
    {
      "cell_type": "code",
      "source": [
        "for label in incorrect_categorical_data_labels:\n",
        "  print('Train Data ' + label + ' type is ', train_df[label].dtype)\n",
        "  print('Test Data ' + label + ' type is ', test_df[label].dtype)\n",
        "  print('\\n')"
      ],
      "metadata": {
        "colab": {
          "base_uri": "https://localhost:8080/"
        },
        "id": "nMtDT-T8EZEA",
        "outputId": "dc065846-1e3f-44a1-8ddb-3d0adef85181"
      },
      "execution_count": 18,
      "outputs": [
        {
          "output_type": "stream",
          "name": "stdout",
          "text": [
            "Train Data Age type is  float64\n",
            "Test Data Age type is  float64\n",
            "\n",
            "\n",
            "Train Data Annual_Income type is  float64\n",
            "Test Data Annual_Income type is  float64\n",
            "\n",
            "\n",
            "Train Data Num_of_Loan type is  float64\n",
            "Test Data Num_of_Loan type is  float64\n",
            "\n",
            "\n",
            "Train Data Num_of_Delayed_Payment type is  float64\n",
            "Test Data Num_of_Delayed_Payment type is  float64\n",
            "\n",
            "\n",
            "Train Data Changed_Credit_Limit type is  float64\n",
            "Test Data Changed_Credit_Limit type is  float64\n",
            "\n",
            "\n",
            "Train Data Outstanding_Debt type is  float64\n",
            "Test Data Outstanding_Debt type is  float64\n",
            "\n",
            "\n",
            "Train Data Amount_invested_monthly type is  float64\n",
            "Test Data Amount_invested_monthly type is  float64\n",
            "\n",
            "\n",
            "Train Data Monthly_Balance type is  float64\n",
            "Test Data Monthly_Balance type is  float64\n",
            "\n",
            "\n"
          ]
        }
      ]
    },
    {
      "cell_type": "markdown",
      "source": [
        "## Replace missing values with mean"
      ],
      "metadata": {
        "id": "cAnmsflhGPZM"
      }
    },
    {
      "cell_type": "code",
      "source": [
        "labels_with_missing_values = ['Monthly_Inhand_Salary',\n",
        "                              'Type_of_Loan',\n",
        "                              'Credit_History_Age',\n",
        "                              'Num_of_Delayed_Payment',\n",
        "                              'Amount_invested_monthly',\n",
        "                              'Monthly_Balance',\n",
        "                              'Changed_Credit_Limit',\n",
        "                              'Num_Credit_Inquiries']\n",
        "\n",
        "train_means = train_df[labels_with_missing_values].mean()      \n",
        "test_means = test_df[labels_with_missing_values].mean()\n",
        "\n",
        "print('\\033[91mTrain means\\n \\033[0m', train_means)\n",
        "print('\\033[91mTest means\\n \\033[0m', test_means)\n",
        "\n",
        "for idx in range(len(labels_with_missing_values)):\n",
        "  train_df[labels_with_missing_values[idx]] = train_means.values[idx]\n",
        "\n",
        "for idx in range(len(labels_with_missing_values)):\n",
        "  test_df[labels_with_missing_values[idx]] = test_means.values[idx]"
      ],
      "metadata": {
        "colab": {
          "base_uri": "https://localhost:8080/"
        },
        "id": "M0pWP1VWO0RA",
        "outputId": "cee7d4b4-074c-4cdb-a1db-7243c0aec62b"
      },
      "execution_count": 39,
      "outputs": [
        {
          "output_type": "stream",
          "name": "stdout",
          "text": [
            "\u001b[91mTrain means\n",
            " \u001b[0m Monthly_Inhand_Salary      4.194171e+03\n",
            "Type_of_Loan               3.094627e+01\n",
            "Credit_History_Age         6.374130e+02\n",
            "Num_of_Delayed_Payment     3.088580e+22\n",
            "Amount_invested_monthly    1.046568e+01\n",
            "Monthly_Balance            2.775425e+01\n",
            "Changed_Credit_Limit       1.046568e+01\n",
            "Num_Credit_Inquiries       2.775425e+01\n",
            "dtype: float64\n",
            "\u001b[91mTest means\n",
            " \u001b[0m Monthly_Inhand_Salary      4.182004e+03\n",
            "Type_of_Loan               3.091037e+01\n",
            "Credit_History_Age         6.416548e+02\n",
            "Num_of_Delayed_Payment     4.045471e+22\n",
            "Amount_invested_monthly    1.045805e+01\n",
            "Monthly_Balance            3.008020e+01\n",
            "Changed_Credit_Limit       1.045805e+01\n",
            "Num_Credit_Inquiries       3.008020e+01\n",
            "dtype: float64\n"
          ]
        }
      ]
    },
    {
      "cell_type": "markdown",
      "source": [
        "Check if missing values have been solved"
      ],
      "metadata": {
        "id": "wfjK27mOTFSf"
      }
    },
    {
      "cell_type": "code",
      "source": [
        "train_missing_values = train_df.isnull().sum().sort_values(ascending=False)\n",
        "print('\\033[91m Recheck Train Data Missing Values')\n",
        "train_missing_values"
      ],
      "metadata": {
        "colab": {
          "base_uri": "https://localhost:8080/"
        },
        "id": "QmYi0W-XNG0A",
        "outputId": "bbbb97e9-e30b-44fb-f143-b8a1f67e2ab1"
      },
      "execution_count": 22,
      "outputs": [
        {
          "output_type": "stream",
          "name": "stdout",
          "text": [
            "\u001b[91m Recheck Train Data Missing Values\n"
          ]
        },
        {
          "output_type": "execute_result",
          "data": {
            "text/plain": [
              "Age                         0\n",
              "Num_Credit_Inquiries        0\n",
              "Monthly_Balance             0\n",
              "Payment_Behaviour           0\n",
              "Amount_invested_monthly     0\n",
              "Total_EMI_per_month         0\n",
              "Payment_of_Min_Amount       0\n",
              "Credit_History_Age          0\n",
              "Credit_Utilization_Ratio    0\n",
              "Outstanding_Debt            0\n",
              "Credit_Mix                  0\n",
              "Changed_Credit_Limit        0\n",
              "Occupation                  0\n",
              "Num_of_Delayed_Payment      0\n",
              "Delay_from_due_date         0\n",
              "Type_of_Loan                0\n",
              "Num_of_Loan                 0\n",
              "Interest_Rate               0\n",
              "Num_Credit_Card             0\n",
              "Num_Bank_Accounts           0\n",
              "Monthly_Inhand_Salary       0\n",
              "Annual_Income               0\n",
              "Credit_Score                0\n",
              "dtype: int64"
            ]
          },
          "metadata": {},
          "execution_count": 22
        }
      ]
    },
    {
      "cell_type": "code",
      "source": [
        "test_missing_values = test_df.isnull().sum().sort_values(ascending=False)\n",
        "print('\\033[91m Recheck Test Data Missing Values')\n",
        "test_missing_values"
      ],
      "metadata": {
        "colab": {
          "base_uri": "https://localhost:8080/"
        },
        "id": "-HCysmPzTMUy",
        "outputId": "886b3f56-bea4-424d-beab-848eda3b168f"
      },
      "execution_count": 23,
      "outputs": [
        {
          "output_type": "stream",
          "name": "stdout",
          "text": [
            "\u001b[91m Recheck Test Data Missing Values\n"
          ]
        },
        {
          "output_type": "execute_result",
          "data": {
            "text/plain": [
              "Age                         0\n",
              "Occupation                  0\n",
              "Payment_Behaviour           0\n",
              "Amount_invested_monthly     0\n",
              "Total_EMI_per_month         0\n",
              "Payment_of_Min_Amount       0\n",
              "Credit_History_Age          0\n",
              "Credit_Utilization_Ratio    0\n",
              "Outstanding_Debt            0\n",
              "Credit_Mix                  0\n",
              "Num_Credit_Inquiries        0\n",
              "Changed_Credit_Limit        0\n",
              "Num_of_Delayed_Payment      0\n",
              "Delay_from_due_date         0\n",
              "Type_of_Loan                0\n",
              "Num_of_Loan                 0\n",
              "Interest_Rate               0\n",
              "Num_Credit_Card             0\n",
              "Num_Bank_Accounts           0\n",
              "Monthly_Inhand_Salary       0\n",
              "Annual_Income               0\n",
              "Monthly_Balance             0\n",
              "dtype: int64"
            ]
          },
          "metadata": {},
          "execution_count": 23
        }
      ]
    },
    {
      "cell_type": "markdown",
      "source": [
        "## ⚠️ TODO Handle outliers"
      ],
      "metadata": {
        "id": "xu-EVPWncyLy"
      }
    },
    {
      "cell_type": "markdown",
      "source": [
        "## ⚠️ TODO Encode categorical data"
      ],
      "metadata": {
        "id": "K1Yz1qvqclts"
      }
    },
    {
      "cell_type": "markdown",
      "source": [
        "# ⚠️ Finding Relationship"
      ],
      "metadata": {
        "id": "MkoY_4Y1dMg4"
      }
    },
    {
      "cell_type": "markdown",
      "source": [
        "## ⚠️ TODO Correlation\n",
        "Ini harusnya nanti kelihatan kalau sudah di encode categorical datanya"
      ],
      "metadata": {
        "id": "fZjUK-ssdWu9"
      }
    },
    {
      "cell_type": "code",
      "source": [
        "plt.figure(figsize = (14, 10))\n",
        "sns.heatmap(train_df.corr(), annot = True, cmap = \"YlGnBu\")"
      ],
      "metadata": {
        "colab": {
          "base_uri": "https://localhost:8080/",
          "height": 736
        },
        "id": "WJVx66mldrX-",
        "outputId": "8e931ead-1d85-4a7a-881c-df4d1dfff490"
      },
      "execution_count": 53,
      "outputs": [
        {
          "output_type": "execute_result",
          "data": {
            "text/plain": [
              "<matplotlib.axes._subplots.AxesSubplot at 0x7f847ceb86a0>"
            ]
          },
          "metadata": {},
          "execution_count": 53
        },
        {
          "output_type": "display_data",
          "data": {
            "text/plain": [
              "<Figure size 1008x720 with 2 Axes>"
            ],
            "image/png": "[encoded data removed]"
          },
          "metadata": {
            "needs_background": "light"
          }
        }
      ]
    },
    {
      "cell_type": "markdown",
      "source": [
        "## ⚠️ TODO Feature Selection"
      ],
      "metadata": {
        "id": "y_5rZg6YdaWx"
      }
    },
    {
      "cell_type": "markdown",
      "source": [
        "# ⚠️ TODO Data Modelling"
      ],
      "metadata": {
        "id": "piim4G_WdfFy"
      }
    },
    {
      "cell_type": "markdown",
      "source": [
        "## ⚠️ TODO Regression"
      ],
      "metadata": {
        "id": "nrdC3NLTdh5k"
      }
    }
  ]
}