{
  "metadata": {
    "kernelspec": {
      "language": "python",
      "display_name": "Python 3",
      "name": "python3"
    },
    "language_info": {
      "name": "python",
      "version": "3.7.12",
      "mimetype": "text/x-python",
      "codemirror_mode": {
        "name": "ipython",
        "version": 3
      },
      "pygments_lexer": "ipython3",
      "nbconvert_exporter": "python",
      "file_extension": ".py"
    },
    "colab": {
      "provenance": [],
      "collapsed_sections": [
        "5TfoSPWIQocQ",
        "BuznD7NUQocS",
        "Wzy60ADlQocT",
        "K5ajA2cx2EQf",
        "fLhzqT-N2eOp",
        "3qguSH8d2lKJ",
        "xG6bDkt_CRj0",
        "69DNjpkMQocY",
        "QNBDs9D5QocY",
        "-egF_5M3QocY",
        "tpoqidWOQocZ",
        "MybrwfqNQocZ",
        "ydBOvEbqQocZ",
        "Hrebf4_7Qoca",
        "iW03cQ9BQoca",
        "jqNxJ0iYQocb",
        "pudoRtJ9Qocc",
        "-XnoaWAvQocd",
        "Epx0ZNavQoce",
        "FC6mjxeMQocg",
        "tr6a35uwQocg",
        "VZfdGfR-Qocg",
        "Zc1WBFSQQoch",
        "_PI2oidKQoci",
        "fZjmjiG0Qoci",
        "R-bNZ47LQocj",
        "uRaCsfeYQocj",
        "wSH9eWh0Qock",
        "xGZ6HRR7Qoc1",
        "H4oT6EPwQoc1",
        "gBwVqcyhQoc2",
        "k4hPxBz4Qoc2",
        "hoQCvO1AQoc2",
        "9VgT9abfQoc2",
        "jubaiIJkQoc3",
        "eJcnjUF5Qoc3",
        "9_dNA1bhQoc4",
        "ugQGVKZPQoc5",
        "znCVpabnQoc5",
        "lm2CGoW_Qoc6",
        "oTIZxLx8Qoc6",
        "APhb5pUTQoc7",
        "uiD3-WllQoc7",
        "Ij5vo27QQoc7",
        "T5Qn3WOkQoc8",
        "wMph1WMXQoc8",
        "Yg2RYWHSQoc9",
        "uXAHhVrvQoc9",
        "V5CuLu9EQoc-",
        "WuEXoUx3Qoc-",
        "74bLkrRXQoc-",
        "YZRFKA8VQoc_",
        "chVpEhbTQoc_",
        "sXrbPs8bQodA",
        "n3zmeK7WQodB",
        "9KSKaU53QodC",
        "ac6fuEmXQodC",
        "GuwMj5WeQodC",
        "UbL5111DQodC",
        "LWZrSNQ4QodD",
        "CkNXC_ijQodE",
        "ANgsPvMyQodE",
        "RE0xqwYcQodE"
      ]
    }
  },
  "nbformat_minor": 0,
  "nbformat": 4,
  "cells": [
    {
      "cell_type": "markdown",
      "source": [
        "### **Ia. Libraries**<a class = \"anchor\" id = \"Ia\"></a>"
      ],
      "metadata": {
        "id": "mk9rKNbHzoxh",
        "editable": false
      }
    },
    {
      "cell_type": "markdown",
      "source": [
        "#### **a. Data Engineering and Visualization Libraries**"
      ],
      "metadata": {
        "editable": false,
        "id": "CM4-rIaEQocO"
      }
    },
    {
      "cell_type": "code",
      "source": [
        "# libraries for dataframe manipulation\n",
        "import pandas as pd\n",
        "import numpy as np\n",
        "from sklearn.preprocessing import MultiLabelBinarizer\n",
        "mlb = MultiLabelBinarizer()\n",
        "from sklearn.preprocessing import LabelEncoder\n",
        "enc = LabelEncoder()\n",
        "\n",
        "# libraries for data visualization\n",
        "import seaborn as sns\n",
        "import matplotlib.pyplot as plt\n",
        "\n",
        "# library to make bold characters in the output cells\n",
        "import sys\n",
        "!{sys.executable} -m pip install termcolor\n",
        "from termcolor import colored"
      ],
      "metadata": {
        "id": "4uj3zWL_97j8",
        "execution": {
          "iopub.status.busy": "2022-11-25T14:13:32.7223Z",
          "iopub.execute_input": "2022-11-25T14:13:32.722703Z",
          "iopub.status.idle": "2022-11-25T14:13:44.135295Z",
          "shell.execute_reply.started": "2022-11-25T14:13:32.722627Z",
          "shell.execute_reply": "2022-11-25T14:13:44.133971Z"
        },
        "editable": false,
        "trusted": true,
        "colab": {
          "base_uri": "https://localhost:8080/"
        },
        "outputId": "a2070d1d-c871-4811-bf3b-f146c7881e43"
      },
      "execution_count": null,
      "outputs": [
        {
          "output_type": "stream",
          "name": "stdout",
          "text": [
            "Looking in indexes: https://pypi.org/simple, https://us-python.pkg.dev/colab-wheels/public/simple/\n",
            "Requirement already satisfied: termcolor in /usr/local/lib/python3.8/dist-packages (2.1.1)\n"
          ]
        }
      ]
    },
    {
      "cell_type": "markdown",
      "source": [
        "#### **b. Machine Learning Libraries**"
      ],
      "metadata": {
        "editable": false,
        "id": "f2gJofl-QocP"
      }
    },
    {
      "cell_type": "code",
      "source": [
        "# library to split a dataframe into Train and Test dataframes\n",
        "from sklearn.model_selection import train_test_split\n",
        "\n",
        "# libraries for feature selection\n",
        "from sklearn.feature_selection import SelectKBest\n",
        "    # 1. ANOVA\n",
        "from sklearn.feature_selection import f_classif\n",
        "    # 2. Kendall's Tau\n",
        "from scipy.stats import kendalltau\n",
        "    # 3. Chi-Squared\n",
        "from sklearn.feature_selection import chi2\n",
        "    # 4. Mutual Information\n",
        "from sklearn.feature_selection import mutual_info_classif\n",
        "\n",
        "# library to help selecting the best parameter configuration for the model\n",
        "from sklearn.model_selection import GridSearchCV\n",
        "\n",
        "# libraries to build the machine learning models\n",
        "from sklearn.ensemble import RandomForestClassifier\n",
        "\n",
        "from sklearn.metrics import accuracy_score"
      ],
      "metadata": {
        "execution": {
          "iopub.status.busy": "2022-11-25T14:13:44.137816Z",
          "iopub.execute_input": "2022-11-25T14:13:44.139119Z",
          "iopub.status.idle": "2022-11-25T14:13:44.430083Z",
          "shell.execute_reply.started": "2022-11-25T14:13:44.139088Z",
          "shell.execute_reply": "2022-11-25T14:13:44.428801Z"
        },
        "editable": false,
        "trusted": true,
        "id": "H7PuKMZsQocQ"
      },
      "execution_count": null,
      "outputs": []
    },
    {
      "cell_type": "code",
      "source": [
        "from google.colab import files\n",
        "uploaded = files.upload()\n",
        "from google.colab import files\n",
        "uploaded = files.upload()"
      ],
      "metadata": {
        "colab": {
          "base_uri": "https://localhost:8080/",
          "height": 73
        },
        "id": "BTz1uVq-VGkq",
        "outputId": "1fae6117-f096-49d8-b233-21e541fdc1ae"
      },
      "execution_count": null,
      "outputs": [
        {
          "output_type": "display_data",
          "data": {
            "text/plain": [
              "<IPython.core.display.HTML object>"
            ],
            "text/html": [
              "\n",
              "     <input type=\"file\" id=\"files-a88f911f-74f5-4537-8098-51d35cc909c0\" name=\"files[]\" multiple disabled\n",
              "        style=\"border:none\" />\n",
              "     <output id=\"result-a88f911f-74f5-4537-8098-51d35cc909c0\">\n",
              "      Upload widget is only available when the cell has been executed in the\n",
              "      current browser session. Please rerun this cell to enable.\n",
              "      </output>\n",
              "      <script>// Copyright 2017 Google LLC\n",
              "//\n",
              "// Licensed under the Apache License, Version 2.0 (the \"License\");\n",
              "// you may not use this file except in compliance with the License.\n",
              "// You may obtain a copy of the License at\n",
              "//\n",
              "//      http://www.apache.org/licenses/LICENSE-2.0\n",
              "//\n",
              "// Unless required by applicable law or agreed to in writing, software\n",
              "// distributed under the License is distributed on an \"AS IS\" BASIS,\n",
              "// WITHOUT WARRANTIES OR CONDITIONS OF ANY KIND, either express or implied.\n",
              "// See the License for the specific language governing permissions and\n",
              "// limitations under the License.\n",
              "\n",
              "/**\n",
              " * @fileoverview Helpers for google.colab Python module.\n",
              " */\n",
              "(function(scope) {\n",
              "function span(text, styleAttributes = {}) {\n",
              "  const element = document.createElement('span');\n",
              "  element.textContent = text;\n",
              "  for (const key of Object.keys(styleAttributes)) {\n",
              "    element.style[key] = styleAttributes[key];\n",
              "  }\n",
              "  return element;\n",
              "}\n",
              "\n",
              "// Max number of bytes which will be uploaded at a time.\n",
              "const MAX_PAYLOAD_SIZE = 100 * 1024;\n",
              "\n",
              "function _uploadFiles(inputId, outputId) {\n",
              "  const steps = uploadFilesStep(inputId, outputId);\n",
              "  const outputElement = document.getElementById(outputId);\n",
              "  // Cache steps on the outputElement to make it available for the next call\n",
              "  // to uploadFilesContinue from Python.\n",
              "  outputElement.steps = steps;\n",
              "\n",
              "  return _uploadFilesContinue(outputId);\n",
              "}\n",
              "\n",
              "// This is roughly an async generator (not supported in the browser yet),\n",
              "// where there are multiple asynchronous steps and the Python side is going\n",
              "// to poll for completion of each step.\n",
              "// This uses a Promise to block the python side on completion of each step,\n",
              "// then passes the result of the previous step as the input to the next step.\n",
              "function _uploadFilesContinue(outputId) {\n",
              "  const outputElement = document.getElementById(outputId);\n",
              "  const steps = outputElement.steps;\n",
              "\n",
              "  const next = steps.next(outputElement.lastPromiseValue);\n",
              "  return Promise.resolve(next.value.promise).then((value) => {\n",
              "    // Cache the last promise value to make it available to the next\n",
              "    // step of the generator.\n",
              "    outputElement.lastPromiseValue = value;\n",
              "    return next.value.response;\n",
              "  });\n",
              "}\n",
              "\n",
              "/**\n",
              " * Generator function which is called between each async step of the upload\n",
              " * process.\n",
              " * @param {string} inputId Element ID of the input file picker element.\n",
              " * @param {string} outputId Element ID of the output display.\n",
              " * @return {!Iterable<!Object>} Iterable of next steps.\n",
              " */\n",
              "function* uploadFilesStep(inputId, outputId) {\n",
              "  const inputElement = document.getElementById(inputId);\n",
              "  inputElement.disabled = false;\n",
              "\n",
              "  const outputElement = document.getElementById(outputId);\n",
              "  outputElement.innerHTML = '';\n",
              "\n",
              "  const pickedPromise = new Promise((resolve) => {\n",
              "    inputElement.addEventListener('change', (e) => {\n",
              "      resolve(e.target.files);\n",
              "    });\n",
              "  });\n",
              "\n",
              "  const cancel = document.createElement('button');\n",
              "  inputElement.parentElement.appendChild(cancel);\n",
              "  cancel.textContent = 'Cancel upload';\n",
              "  const cancelPromise = new Promise((resolve) => {\n",
              "    cancel.onclick = () => {\n",
              "      resolve(null);\n",
              "    };\n",
              "  });\n",
              "\n",
              "  // Wait for the user to pick the files.\n",
              "  const files = yield {\n",
              "    promise: Promise.race([pickedPromise, cancelPromise]),\n",
              "    response: {\n",
              "      action: 'starting',\n",
              "    }\n",
              "  };\n",
              "\n",
              "  cancel.remove();\n",
              "\n",
              "  // Disable the input element since further picks are not allowed.\n",
              "  inputElement.disabled = true;\n",
              "\n",
              "  if (!files) {\n",
              "    return {\n",
              "      response: {\n",
              "        action: 'complete',\n",
              "      }\n",
              "    };\n",
              "  }\n",
              "\n",
              "  for (const file of files) {\n",
              "    const li = document.createElement('li');\n",
              "    li.append(span(file.name, {fontWeight: 'bold'}));\n",
              "    li.append(span(\n",
              "        `(${file.type || 'n/a'}) - ${file.size} bytes, ` +\n",
              "        `last modified: ${\n",
              "            file.lastModifiedDate ? file.lastModifiedDate.toLocaleDateString() :\n",
              "                                    'n/a'} - `));\n",
              "    const percent = span('0% done');\n",
              "    li.appendChild(percent);\n",
              "\n",
              "    outputElement.appendChild(li);\n",
              "\n",
              "    const fileDataPromise = new Promise((resolve) => {\n",
              "      const reader = new FileReader();\n",
              "      reader.onload = (e) => {\n",
              "        resolve(e.target.result);\n",
              "      };\n",
              "      reader.readAsArrayBuffer(file);\n",
              "    });\n",
              "    // Wait for the data to be ready.\n",
              "    let fileData = yield {\n",
              "      promise: fileDataPromise,\n",
              "      response: {\n",
              "        action: 'continue',\n",
              "      }\n",
              "    };\n",
              "\n",
              "    // Use a chunked sending to avoid message size limits. See b/62115660.\n",
              "    let position = 0;\n",
              "    do {\n",
              "      const length = Math.min(fileData.byteLength - position, MAX_PAYLOAD_SIZE);\n",
              "      const chunk = new Uint8Array(fileData, position, length);\n",
              "      position += length;\n",
              "\n",
              "      const base64 = btoa(String.fromCharCode.apply(null, chunk));\n",
              "      yield {\n",
              "        response: {\n",
              "          action: 'append',\n",
              "          file: file.name,\n",
              "          data: base64,\n",
              "        },\n",
              "      };\n",
              "\n",
              "      let percentDone = fileData.byteLength === 0 ?\n",
              "          100 :\n",
              "          Math.round((position / fileData.byteLength) * 100);\n",
              "      percent.textContent = `${percentDone}% done`;\n",
              "\n",
              "    } while (position < fileData.byteLength);\n",
              "  }\n",
              "\n",
              "  // All done.\n",
              "  yield {\n",
              "    response: {\n",
              "      action: 'complete',\n",
              "    }\n",
              "  };\n",
              "}\n",
              "\n",
              "scope.google = scope.google || {};\n",
              "scope.google.colab = scope.google.colab || {};\n",
              "scope.google.colab._files = {\n",
              "  _uploadFiles,\n",
              "  _uploadFilesContinue,\n",
              "};\n",
              "})(self);\n",
              "</script> "
            ]
          },
          "metadata": {}
        },
        {
          "output_type": "stream",
          "name": "stdout",
          "text": [
            "Saving test1.csv to test1.csv\n"
          ]
        }
      ]
    },
    {
      "cell_type": "markdown",
      "source": [
        "### **Ib. Dataframes**<a class = \"anchor\" id = \"Ib\"></a>"
      ],
      "metadata": {
        "id": "v5jgaVG1ztgp",
        "editable": false
      }
    },
    {
      "cell_type": "code",
      "source": [
        "\n",
        "# original train dataset to serve as reset checkpoint\n",
        "train_ori = pd.read_csv('train_10K_test.csv')\n",
        "\n",
        "# copy of train dataset\n",
        "train = train_ori.copy()\n",
        "\n",
        "# original test dataset to serve as reset checkpoint\n",
        "test_ori = pd.read_csv('test1.csv')\n",
        "\n",
        "# copy of test dataset\n",
        "test = test_ori.copy()"
      ],
      "metadata": {
        "id": "Jln1oAj4Z9mt",
        "execution": {
          "iopub.status.busy": "2022-11-25T14:13:44.431678Z",
          "iopub.execute_input": "2022-11-25T14:13:44.431968Z",
          "iopub.status.idle": "2022-11-25T14:13:45.936914Z",
          "shell.execute_reply.started": "2022-11-25T14:13:44.431942Z",
          "shell.execute_reply": "2022-11-25T14:13:45.935561Z"
        },
        "editable": false,
        "trusted": true
      },
      "execution_count": null,
      "outputs": []
    },
    {
      "cell_type": "markdown",
      "source": [
        "### **Ic. Functions**<a class = \"anchor\" id = \"Ic\"></a>"
      ],
      "metadata": {
        "editable": false,
        "id": "5TfoSPWIQocQ"
      }
    },
    {
      "cell_type": "markdown",
      "source": [
        "#### **a. Data Exploration Functions**<a class = \"anchor\" id = \"Ic_a\"></a>"
      ],
      "metadata": {
        "editable": false,
        "id": "3yJroLrAQocQ"
      }
    },
    {
      "cell_type": "code",
      "source": [
        "def missing_values_perc(df):\n",
        "    # a function to return each datafame column's missing value count and its percentange\n",
        "\n",
        "    # calculating the missing values for each column\n",
        "    missing_values = df.isnull().sum()\n",
        "\n",
        "    # turning the previous output into a dataframe format\n",
        "    missing_values = pd.DataFrame(missing_values)\n",
        "    missing_values = missing_values.reset_index()\n",
        "    missing_values.columns = ['Column', 'Count']\n",
        "\n",
        "    # calculating each feature's missing values percentage\n",
        "    list_missing_values = []\n",
        "    for i in missing_values['Count']:\n",
        "        missing_values_perc = i / len(df) * 100 # Total entries = 100000 (from previous step)\n",
        "        list_missing_values.append(missing_values_perc)\n",
        "    list_missing_values = [round(num, 2) for num in list_missing_values]\n",
        "\n",
        "    # adding the missing values percentage column to the report\n",
        "    missing_values['Percentage (%)'] = list_missing_values\n",
        "\n",
        "    # displaying the missing values report\n",
        "    print('Missing values on each column : ', '\\n')\n",
        "    print(missing_values.to_string(index = False))"
      ],
      "metadata": {
        "execution": {
          "iopub.status.busy": "2022-11-25T14:13:45.939068Z",
          "iopub.execute_input": "2022-11-25T14:13:45.939369Z",
          "iopub.status.idle": "2022-11-25T14:13:45.946991Z",
          "shell.execute_reply.started": "2022-11-25T14:13:45.93934Z",
          "shell.execute_reply": "2022-11-25T14:13:45.945323Z"
        },
        "editable": false,
        "trusted": true,
        "id": "NjPjb6fRQocR"
      },
      "execution_count": null,
      "outputs": []
    },
    {
      "cell_type": "code",
      "source": [
        "def uniquevalueprob(dataset, feature, excludeditem = None):\n",
        "    # a function to get each unique value's count and portion in a feature\n",
        "    \n",
        "    # getting the feature's unique values\n",
        "    global listUV\n",
        "    listUV = list(dataset[feature].unique())\n",
        "    listUV = [i for i in listUV if type(i) is not float]\n",
        "    if excludeditem is not None:\n",
        "        listUV.remove(excludeditem)\n",
        "    else:\n",
        "        listUV = listUV\n",
        "    \n",
        "    # getting the count of each unique value\n",
        "    global listUVcount\n",
        "    listUVcount = []\n",
        "    for UV in listUV:\n",
        "        UVcount = (dataset[feature] == UV).sum()\n",
        "        listUVcount.append(UVcount)\n",
        "    \n",
        "    # calculating the total count of items in the feature\n",
        "    totalcount = sum(listUVcount)\n",
        "    \n",
        "    # calculating the portion of each unique value\n",
        "    global listUVportion\n",
        "    listUVportion = []\n",
        "    for item in listUVcount:\n",
        "        UVportion = item / totalcount\n",
        "        listUVportion.append(UVportion)\n",
        "    \n",
        "    # creating the report table\n",
        "    table = pd.DataFrame(list(zip(listUV, listUVcount, listUVportion)))\n",
        "    table.columns = [feature, 'Count', 'Portion']\n",
        "    \n",
        "    # displaying the report table\n",
        "    print(table.sort_values(['Count', feature], \n",
        "                            ascending = [0,1]).to_string(index = False))"
      ],
      "metadata": {
        "execution": {
          "iopub.status.busy": "2022-11-25T14:13:45.949154Z",
          "iopub.execute_input": "2022-11-25T14:13:45.94953Z",
          "iopub.status.idle": "2022-11-25T14:13:45.967246Z",
          "shell.execute_reply.started": "2022-11-25T14:13:45.949498Z",
          "shell.execute_reply": "2022-11-25T14:13:45.965856Z"
        },
        "editable": false,
        "trusted": true,
        "id": "FgA8kpv3QocR"
      },
      "execution_count": null,
      "outputs": []
    },
    {
      "cell_type": "markdown",
      "source": [
        "#### **b. Feature Cleaning and Engineering Functions**<a class = \"anchor\" id = \"Ic_b\"></a>"
      ],
      "metadata": {
        "editable": false,
        "id": "fU0sT_HuQocR"
      }
    },
    {
      "cell_type": "code",
      "source": [
        "def countoutlier(dataset, feature):\n",
        "    # a function to count how many outliers are present in a numerical list\n",
        "    \n",
        "    # calculating the outlier boundaries\n",
        "    Q1 = dataset[feature].quantile(0.25)\n",
        "    Q3 = dataset[feature].quantile(0.75)\n",
        "    IQR = Q3 - Q1\n",
        "    UBoundary = Q3 + 1.5 * IQR\n",
        "    LBoundary = Q1 - 1.5 * IQR\n",
        "    \n",
        "    # counting the outliers\n",
        "    outliercount = 0\n",
        "    for i in dataset[feature]:\n",
        "        if i > UBoundary or i < LBoundary:\n",
        "            outliercount = outliercount + 1\n",
        "        else:\n",
        "            pass\n",
        "    \n",
        "    # displaying the outliers count report\n",
        "    print('Outlier count in', feature, ':', outliercount)"
      ],
      "metadata": {
        "execution": {
          "iopub.status.busy": "2022-11-25T14:13:45.969613Z",
          "iopub.execute_input": "2022-11-25T14:13:45.970048Z",
          "iopub.status.idle": "2022-11-25T14:13:45.985144Z",
          "shell.execute_reply.started": "2022-11-25T14:13:45.970015Z",
          "shell.execute_reply": "2022-11-25T14:13:45.984019Z"
        },
        "editable": false,
        "trusted": true,
        "id": "aQj-UU9SQocR"
      },
      "execution_count": null,
      "outputs": []
    },
    {
      "cell_type": "code",
      "source": [
        "def omitoutlier(dataframe, feature):\n",
        "    # a function to omit outliers that are present in a numerical list\n",
        "    \n",
        "    # calculating the outlier boundaries\n",
        "    Q1 = dataframe[feature].quantile(0.25)\n",
        "    Q3 = dataframe[feature].quantile(0.75)\n",
        "    IQR = Q3 - Q1\n",
        "    UBoundary = Q3 + 1.5 * IQR\n",
        "    LBoundary = Q1 - 1.5 * IQR\n",
        "    \n",
        "    # creating a new list that does not contain the outliers\n",
        "    newlist = []\n",
        "    for i in dataframe[feature]:\n",
        "        if i > UBoundary or i < LBoundary:\n",
        "            newlist.append(np.nan)\n",
        "        else:\n",
        "            newlist.append(i)\n",
        "    \n",
        "    # replacing the items in the feature with the newly-created list\n",
        "    dataframe[feature] = newlist\n",
        "    \n",
        "    # displaying the outliers ommission report\n",
        "    print(feature, ' data distribution after dropping the outliers : ')\n",
        "    plt.hist(dataframe[feature])\n",
        "    plt.title(feature + ' Data Distribution')\n",
        "    plt.xlabel(feature)\n",
        "    plt.ylabel('Count')"
      ],
      "metadata": {
        "execution": {
          "iopub.status.busy": "2022-11-25T14:13:45.986484Z",
          "iopub.execute_input": "2022-11-25T14:13:45.986913Z",
          "iopub.status.idle": "2022-11-25T14:13:45.998557Z",
          "shell.execute_reply.started": "2022-11-25T14:13:45.986887Z",
          "shell.execute_reply": "2022-11-25T14:13:45.996687Z"
        },
        "editable": false,
        "trusted": true,
        "id": "xMFBm7XuQocS"
      },
      "execution_count": null,
      "outputs": []
    },
    {
      "cell_type": "code",
      "source": [
        "def lookupreplacement(dataset, reference, feature):    \n",
        "    # a function to replace all entries in each subgroup of a numerical list based on each subgroup's mode\n",
        "    \n",
        "    # preparing a dataframe containing both the feature that needs the replacement and the reference feature that acts as the lookup table\n",
        "    lookup = dataset[[reference, feature]]\n",
        "\n",
        "    # returning the mode of each subgroup that is present in the reference feature\n",
        "    lookup = lookup.groupby(reference).agg(pd.Series.mode)\n",
        "\n",
        "    # replacing all entries in each subgroup of the numerical list based on each subgroup's mode\n",
        "    dataset[feature] = dataset[reference].map(lookup[feature])\n",
        "    \n",
        "    # eliminating any array-type value generated by the replacement method using only the first member of the array value\n",
        "    newlist = []\n",
        "    for i in range(len(dataset[feature])):\n",
        "        # for float type members\n",
        "        if type(dataset[feature][i]) == np.float64:\n",
        "            newlist.append(dataset[feature][i])\n",
        "        # for empty list members\n",
        "        elif type(dataset[feature][i]) == np.ndarray and len(dataset[feature][i]) == 0:\n",
        "            newlist.append(np.nan)\n",
        "        # for non-empty list members\n",
        "        elif type(dataset[feature][i]) == np.ndarray and len(dataset[feature][i]) != 0:\n",
        "            newlist.append(dataset[feature][i][1])\n",
        "    dataset[feature] = newlist\n",
        "    \n",
        "    # reconverting the feature into float to make sure the data type is correct\n",
        "    dataset[feature].astype(float)\n",
        "    \n",
        "    # displaying the remaining missing value after the replacement and array elimination process\n",
        "    remaining = dataset[feature].isnull().sum()\n",
        "    print('Remaining', feature, 'missing values :', remaining)"
      ],
      "metadata": {
        "execution": {
          "iopub.status.busy": "2022-11-25T14:13:46.000533Z",
          "iopub.execute_input": "2022-11-25T14:13:46.000974Z",
          "iopub.status.idle": "2022-11-25T14:13:46.017446Z",
          "shell.execute_reply.started": "2022-11-25T14:13:46.000936Z",
          "shell.execute_reply": "2022-11-25T14:13:46.015907Z"
        },
        "editable": false,
        "trusted": true,
        "id": "qgoYKl-gQocS"
      },
      "execution_count": null,
      "outputs": []
    },
    {
      "cell_type": "code",
      "source": [
        "def aggregatedfillna(dataset, reference, feature):\n",
        "    # a function to fill nan entries present in each subgroup of a numerical list using the subgroup's mean +- standard deviation\n",
        "    \n",
        "    # preparing a dataframe containing both the feature that needs the nan filling and the reference feature that acts as the lookup table\n",
        "    table = dataset[[reference, feature]]\n",
        "    \n",
        "    # locating the nan entries in the feature that needs the nan filling, followed by their reference value\n",
        "    ref = table.loc[table[feature].isnull(), reference]\n",
        "\n",
        "    # getting only the unique reference values\n",
        "    ref = ref.unique()\n",
        "\n",
        "    # converting the reference values into a list\n",
        "    ref = list(ref)\n",
        "    \n",
        "    # creating a list with the same length as the reference values list containing empty values\n",
        "    fe = []\n",
        "    for i in range(len(ref)):\n",
        "        fe.append(np.nan)\n",
        "\n",
        "    # preparing the lookup table containing the reference values and the soon-to-be generated value associated to them\n",
        "    featureLookup = pd.DataFrame(list(zip(ref, fe)))\n",
        "    featureLookup.columns = [reference, feature]\n",
        "\n",
        "    # calculating the mean value of the feature that needs the nan filling\n",
        "    featureMean = dataset[feature].mean()\n",
        "\n",
        "    # calculating the standard deviation value of the feature that needs the nan filling\n",
        "    featureStdDev = dataset[feature].std()\n",
        "\n",
        "    # generating the lookup value in the lokup table\n",
        "    featureLookup[feature] = featureLookup[feature].fillna(pd.Series(np.random.randint(int(featureMean - featureStdDev), \n",
        "                                                                                       int(featureMean + featureStdDev),\n",
        "                                                                                       size = featureLookup[feature].isnull().sum())))\n",
        "    \n",
        "    # filling in the nan entries in the feature that needs the nan filling with the reference to the lookup table\n",
        "    dataset[feature] = dataset[feature].fillna(dataset[reference].map(featureLookup.set_index(reference)[feature]))\n",
        "\n",
        "    # checking if there are still missing values in the feature\n",
        "    remaining = dataset[feature].isnull().sum()\n",
        "    print('Remaining', feature, 'missing values :', remaining)"
      ],
      "metadata": {
        "execution": {
          "iopub.status.busy": "2022-11-25T14:13:46.019475Z",
          "iopub.execute_input": "2022-11-25T14:13:46.019933Z",
          "iopub.status.idle": "2022-11-25T14:13:46.033203Z",
          "shell.execute_reply.started": "2022-11-25T14:13:46.019896Z",
          "shell.execute_reply": "2022-11-25T14:13:46.032469Z"
        },
        "editable": false,
        "trusted": true,
        "id": "J20o0ZQ0QocS"
      },
      "execution_count": null,
      "outputs": []
    },
    {
      "cell_type": "markdown",
      "source": [
        "### **Id. Color Palette**<a class = \"anchor\" id = \"Id\"></a>"
      ],
      "metadata": {
        "editable": false,
        "id": "BuznD7NUQocS"
      }
    },
    {
      "cell_type": "markdown",
      "source": [
        "## **II. Data Exploration Phase I: Get to Know the Data**<a class = \"anchor\" id = \"II\"></a>"
      ],
      "metadata": {
        "id": "PksdQmVtzwLy",
        "editable": false
      }
    },
    {
      "cell_type": "markdown",
      "source": [
        "### **IIa. General Overview**<a class = \"anchor\" id = \"IIa\"></a>"
      ],
      "metadata": {
        "editable": false,
        "id": "Wzy60ADlQocT"
      }
    },
    {
      "cell_type": "markdown",
      "source": [
        "There are some information regarding what each feature of the dataset represents given by the provider of the datasets. These information are very useful for us to better understand the datasets.\n",
        "\n",
        "* 1. ID: Represents a unique identification of an entry\n",
        "* 2. Customer_ID: Represents a unique identification of a person\n",
        "* 3. Month: Represents the month of the year\n",
        "* 4. Name: Represents the name of a person\n",
        "* 5. Age: Represents the age of the person\n",
        "* 6. SSN: Represents the social security number of a person\n",
        "* 7. Occupation: Represents the occupation of the person\n",
        "* 8. Annual_Income: Represents the annual income of the person\n",
        "* 9. Monthly_Inhand_Salary:Represents the monthly base salary of a person\n",
        "* 10. Num_Bank_Accounts: Represents the number of bank accounts a person holds\n",
        "* 11. Num_Credit_Card: Represents the number of other credit cards held by a person\n",
        "* 12. Interest_Rate: Represents the interest rate on credit card\n",
        "* 13. Num_of_Loan: Represents the number of loans taken from the bank\n",
        "* 14. Type_of_Loan: Represents the types of loan taken by a person\n",
        "* 15. Delay_from_due_date: Represents the average number of days delayed from the payment date\n",
        "* 16. Num_of_Delayed_Payment: Represents the average number of payments delayed by a person\n",
        "* 17. Changed_Credit_Limit: Represents the percentage change in credit card limit\n",
        "* 18. Num_Credit_Inquiries: Represents the number of credit card inquiries\n",
        "* 19. Credit_Mix: Represents the classification of the mix of credits\n",
        "* 20. Outstanding_Debt: Represents the remaining debt to be paid (in USD)\n",
        "* 21. Credit_Utilization_Ratio: Represents the utilization ratio of credit card\n",
        "* 22. Credit_History_Age: Represents the age of credit history of the person\n",
        "* 23. Payment_of_Min_Amount: Represents whether only the minimum amount was paid by the person\n",
        "* 24. Total_EMI_per_month: Represents the monthly EMI payments (in USD)\n",
        "* 25. Amount_invested_monthly: Represents the monthly amount invested by the customer (in USD)\n",
        "* 26. Payment_Behaviour: Represents the payment behavior of the customer (in USD)\n",
        "* 27. Monthly_Balance: Represents the monthly balance amount of the customer (in USD)"
      ],
      "metadata": {
        "editable": false,
        "id": "GvDO44H4QocT"
      }
    },
    {
      "cell_type": "code",
      "source": [
        "# taking a quick look at Train dataframe\n",
        "pd.set_option('display.max_columns', None)\n",
        "display(train.head())\n",
        "print('Rows x cols of train dataframe :', train.shape)"
      ],
      "metadata": {
        "id": "Dnmt2dHJaHYa",
        "outputId": "067f7cb7-7cf0-4965-8e9e-2b326816e13e",
        "execution": {
          "iopub.status.busy": "2022-11-25T14:13:46.03724Z",
          "iopub.execute_input": "2022-11-25T14:13:46.038214Z",
          "iopub.status.idle": "2022-11-25T14:13:46.081364Z",
          "shell.execute_reply.started": "2022-11-25T14:13:46.038159Z",
          "shell.execute_reply": "2022-11-25T14:13:46.080427Z"
        },
        "editable": false,
        "trusted": true,
        "colab": {
          "base_uri": "https://localhost:8080/"
        }
      },
      "execution_count": null,
      "outputs": [
        {
          "output_type": "display_data",
          "data": {
            "text/plain": [
              "                                                  ID Customer_ID Month Name  \\\n",
              "0  0x1602,CUS_0xd40,January,Aaron Maashoh,23,821-...         NaN   NaN  NaN   \n",
              "1  0x1603,CUS_0xd40,February,Aaron Maashoh,23,821...         NaN   NaN  NaN   \n",
              "2  0x1604,CUS_0xd40,March,Aaron Maashoh,-500,821-...         NaN   NaN  NaN   \n",
              "3  0x1605,CUS_0xd40,April,Aaron Maashoh,23,821-00...         NaN   NaN  NaN   \n",
              "4  0x1606,CUS_0xd40,May,Aaron Maashoh,23,821-00-0...         NaN   NaN  NaN   \n",
              "\n",
              "   Age  SSN Occupation Annual_Income  Monthly_Inhand_Salary  \\\n",
              "0  NaN  NaN        NaN           NaN                    NaN   \n",
              "1  NaN  NaN        NaN           NaN                    NaN   \n",
              "2  NaN  NaN        NaN           NaN                    NaN   \n",
              "3  NaN  NaN        NaN           NaN                    NaN   \n",
              "4  NaN  NaN        NaN           NaN                    NaN   \n",
              "\n",
              "   Num_Bank_Accounts  Num_Credit_Card  Interest_Rate Num_of_Loan Type_of_Loan  \\\n",
              "0                NaN              NaN            NaN         NaN          NaN   \n",
              "1                NaN              NaN            NaN         NaN          NaN   \n",
              "2                NaN              NaN            NaN         NaN          NaN   \n",
              "3                NaN              NaN            NaN         NaN          NaN   \n",
              "4                NaN              NaN            NaN         NaN          NaN   \n",
              "\n",
              "   Delay_from_due_date Num_of_Delayed_Payment Changed_Credit_Limit  \\\n",
              "0                  NaN                    NaN                  NaN   \n",
              "1                  NaN                    NaN                  NaN   \n",
              "2                  NaN                    NaN                  NaN   \n",
              "3                  NaN                    NaN                  NaN   \n",
              "4                  NaN                    NaN                  NaN   \n",
              "\n",
              "   Num_Credit_Inquiries Credit_Mix Outstanding_Debt  Credit_Utilization_Ratio  \\\n",
              "0                   NaN        NaN              NaN                       NaN   \n",
              "1                   NaN        NaN              NaN                       NaN   \n",
              "2                   NaN        NaN              NaN                       NaN   \n",
              "3                   NaN        NaN              NaN                       NaN   \n",
              "4                   NaN        NaN              NaN                       NaN   \n",
              "\n",
              "  Credit_History_Age Payment_of_Min_Amount  Total_EMI_per_month  \\\n",
              "0                NaN                   NaN                  NaN   \n",
              "1                NaN                   NaN                  NaN   \n",
              "2                NaN                   NaN                  NaN   \n",
              "3                NaN                   NaN                  NaN   \n",
              "4                NaN                   NaN                  NaN   \n",
              "\n",
              "  Amount_invested_monthly Payment_Behaviour  Monthly_Balance Credit_Score  \n",
              "0                     NaN               NaN              NaN          NaN  \n",
              "1                     NaN               NaN              NaN          NaN  \n",
              "2                     NaN               NaN              NaN          NaN  \n",
              "3                     NaN               NaN              NaN          NaN  \n",
              "4                     NaN               NaN              NaN          NaN  "
            ],
            "text/html": [
              "\n",
              "  <div id=\"df-4f2f2bd6-852d-4083-b975-9026f9cd7a67\">\n",
              "    <div class=\"colab-df-container\">\n",
              "      <div>\n",
              "<style scoped>\n",
              "    .dataframe tbody tr th:only-of-type {\n",
              "        vertical-align: middle;\n",
              "    }\n",
              "\n",
              "    .dataframe tbody tr th {\n",
              "        vertical-align: top;\n",
              "    }\n",
              "\n",
              "    .dataframe thead th {\n",
              "        text-align: right;\n",
              "    }\n",
              "</style>\n",
              "<table border=\"1\" class=\"dataframe\">\n",
              "  <thead>\n",
              "    <tr style=\"text-align: right;\">\n",
              "      <th></th>\n",
              "      <th>ID</th>\n",
              "      <th>Customer_ID</th>\n",
              "      <th>Month</th>\n",
              "      <th>Name</th>\n",
              "      <th>Age</th>\n",
              "      <th>SSN</th>\n",
              "      <th>Occupation</th>\n",
              "      <th>Annual_Income</th>\n",
              "      <th>Monthly_Inhand_Salary</th>\n",
              "      <th>Num_Bank_Accounts</th>\n",
              "      <th>Num_Credit_Card</th>\n",
              "      <th>Interest_Rate</th>\n",
              "      <th>Num_of_Loan</th>\n",
              "      <th>Type_of_Loan</th>\n",
              "      <th>Delay_from_due_date</th>\n",
              "      <th>Num_of_Delayed_Payment</th>\n",
              "      <th>Changed_Credit_Limit</th>\n",
              "      <th>Num_Credit_Inquiries</th>\n",
              "      <th>Credit_Mix</th>\n",
              "      <th>Outstanding_Debt</th>\n",
              "      <th>Credit_Utilization_Ratio</th>\n",
              "      <th>Credit_History_Age</th>\n",
              "      <th>Payment_of_Min_Amount</th>\n",
              "      <th>Total_EMI_per_month</th>\n",
              "      <th>Amount_invested_monthly</th>\n",
              "      <th>Payment_Behaviour</th>\n",
              "      <th>Monthly_Balance</th>\n",
              "      <th>Credit_Score</th>\n",
              "    </tr>\n",
              "  </thead>\n",
              "  <tbody>\n",
              "    <tr>\n",
              "      <th>0</th>\n",
              "      <td>0x1602,CUS_0xd40,January,Aaron Maashoh,23,821-...</td>\n",
              "      <td>NaN</td>\n",
              "      <td>NaN</td>\n",
              "      <td>NaN</td>\n",
              "      <td>NaN</td>\n",
              "      <td>NaN</td>\n",
              "      <td>NaN</td>\n",
              "      <td>NaN</td>\n",
              "      <td>NaN</td>\n",
              "      <td>NaN</td>\n",
              "      <td>NaN</td>\n",
              "      <td>NaN</td>\n",
              "      <td>NaN</td>\n",
              "      <td>NaN</td>\n",
              "      <td>NaN</td>\n",
              "      <td>NaN</td>\n",
              "      <td>NaN</td>\n",
              "      <td>NaN</td>\n",
              "      <td>NaN</td>\n",
              "      <td>NaN</td>\n",
              "      <td>NaN</td>\n",
              "      <td>NaN</td>\n",
              "      <td>NaN</td>\n",
              "      <td>NaN</td>\n",
              "      <td>NaN</td>\n",
              "      <td>NaN</td>\n",
              "      <td>NaN</td>\n",
              "      <td>NaN</td>\n",
              "    </tr>\n",
              "    <tr>\n",
              "      <th>1</th>\n",
              "      <td>0x1603,CUS_0xd40,February,Aaron Maashoh,23,821...</td>\n",
              "      <td>NaN</td>\n",
              "      <td>NaN</td>\n",
              "      <td>NaN</td>\n",
              "      <td>NaN</td>\n",
              "      <td>NaN</td>\n",
              "      <td>NaN</td>\n",
              "      <td>NaN</td>\n",
              "      <td>NaN</td>\n",
              "      <td>NaN</td>\n",
              "      <td>NaN</td>\n",
              "      <td>NaN</td>\n",
              "      <td>NaN</td>\n",
              "      <td>NaN</td>\n",
              "      <td>NaN</td>\n",
              "      <td>NaN</td>\n",
              "      <td>NaN</td>\n",
              "      <td>NaN</td>\n",
              "      <td>NaN</td>\n",
              "      <td>NaN</td>\n",
              "      <td>NaN</td>\n",
              "      <td>NaN</td>\n",
              "      <td>NaN</td>\n",
              "      <td>NaN</td>\n",
              "      <td>NaN</td>\n",
              "      <td>NaN</td>\n",
              "      <td>NaN</td>\n",
              "      <td>NaN</td>\n",
              "    </tr>\n",
              "    <tr>\n",
              "      <th>2</th>\n",
              "      <td>0x1604,CUS_0xd40,March,Aaron Maashoh,-500,821-...</td>\n",
              "      <td>NaN</td>\n",
              "      <td>NaN</td>\n",
              "      <td>NaN</td>\n",
              "      <td>NaN</td>\n",
              "      <td>NaN</td>\n",
              "      <td>NaN</td>\n",
              "      <td>NaN</td>\n",
              "      <td>NaN</td>\n",
              "      <td>NaN</td>\n",
              "      <td>NaN</td>\n",
              "      <td>NaN</td>\n",
              "      <td>NaN</td>\n",
              "      <td>NaN</td>\n",
              "      <td>NaN</td>\n",
              "      <td>NaN</td>\n",
              "      <td>NaN</td>\n",
              "      <td>NaN</td>\n",
              "      <td>NaN</td>\n",
              "      <td>NaN</td>\n",
              "      <td>NaN</td>\n",
              "      <td>NaN</td>\n",
              "      <td>NaN</td>\n",
              "      <td>NaN</td>\n",
              "      <td>NaN</td>\n",
              "      <td>NaN</td>\n",
              "      <td>NaN</td>\n",
              "      <td>NaN</td>\n",
              "    </tr>\n",
              "    <tr>\n",
              "      <th>3</th>\n",
              "      <td>0x1605,CUS_0xd40,April,Aaron Maashoh,23,821-00...</td>\n",
              "      <td>NaN</td>\n",
              "      <td>NaN</td>\n",
              "      <td>NaN</td>\n",
              "      <td>NaN</td>\n",
              "      <td>NaN</td>\n",
              "      <td>NaN</td>\n",
              "      <td>NaN</td>\n",
              "      <td>NaN</td>\n",
              "      <td>NaN</td>\n",
              "      <td>NaN</td>\n",
              "      <td>NaN</td>\n",
              "      <td>NaN</td>\n",
              "      <td>NaN</td>\n",
              "      <td>NaN</td>\n",
              "      <td>NaN</td>\n",
              "      <td>NaN</td>\n",
              "      <td>NaN</td>\n",
              "      <td>NaN</td>\n",
              "      <td>NaN</td>\n",
              "      <td>NaN</td>\n",
              "      <td>NaN</td>\n",
              "      <td>NaN</td>\n",
              "      <td>NaN</td>\n",
              "      <td>NaN</td>\n",
              "      <td>NaN</td>\n",
              "      <td>NaN</td>\n",
              "      <td>NaN</td>\n",
              "    </tr>\n",
              "    <tr>\n",
              "      <th>4</th>\n",
              "      <td>0x1606,CUS_0xd40,May,Aaron Maashoh,23,821-00-0...</td>\n",
              "      <td>NaN</td>\n",
              "      <td>NaN</td>\n",
              "      <td>NaN</td>\n",
              "      <td>NaN</td>\n",
              "      <td>NaN</td>\n",
              "      <td>NaN</td>\n",
              "      <td>NaN</td>\n",
              "      <td>NaN</td>\n",
              "      <td>NaN</td>\n",
              "      <td>NaN</td>\n",
              "      <td>NaN</td>\n",
              "      <td>NaN</td>\n",
              "      <td>NaN</td>\n",
              "      <td>NaN</td>\n",
              "      <td>NaN</td>\n",
              "      <td>NaN</td>\n",
              "      <td>NaN</td>\n",
              "      <td>NaN</td>\n",
              "      <td>NaN</td>\n",
              "      <td>NaN</td>\n",
              "      <td>NaN</td>\n",
              "      <td>NaN</td>\n",
              "      <td>NaN</td>\n",
              "      <td>NaN</td>\n",
              "      <td>NaN</td>\n",
              "      <td>NaN</td>\n",
              "      <td>NaN</td>\n",
              "    </tr>\n",
              "  </tbody>\n",
              "</table>\n",
              "</div>\n",
              "      <button class=\"colab-df-convert\" onclick=\"convertToInteractive('df-4f2f2bd6-852d-4083-b975-9026f9cd7a67')\"\n",
              "              title=\"Convert this dataframe to an interactive table.\"\n",
              "              style=\"display:none;\">\n",
              "        \n",
              "  <svg xmlns=\"http://www.w3.org/2000/svg\" height=\"24px\"viewBox=\"0 0 24 24\"\n",
              "       width=\"24px\">\n",
              "    <path d=\"M0 0h24v24H0V0z\" fill=\"none\"/>\n",
              "    <path d=\"M18.56 5.44l.94 2.06.94-2.06 2.06-.94-2.06-.94-.94-2.06-.94 2.06-2.06.94zm-11 1L8.5 8.5l.94-2.06 2.06-.94-2.06-.94L8.5 2.5l-.94 2.06-2.06.94zm10 10l.94 2.06.94-2.06 2.06-.94-2.06-.94-.94-2.06-.94 2.06-2.06.94z\"/><path d=\"M17.41 7.96l-1.37-1.37c-.4-.4-.92-.59-1.43-.59-.52 0-1.04.2-1.43.59L10.3 9.45l-7.72 7.72c-.78.78-.78 2.05 0 2.83L4 21.41c.39.39.9.59 1.41.59.51 0 1.02-.2 1.41-.59l7.78-7.78 2.81-2.81c.8-.78.8-2.07 0-2.86zM5.41 20L4 18.59l7.72-7.72 1.47 1.35L5.41 20z\"/>\n",
              "  </svg>\n",
              "      </button>\n",
              "      \n",
              "  <style>\n",
              "    .colab-df-container {\n",
              "      display:flex;\n",
              "      flex-wrap:wrap;\n",
              "      gap: 12px;\n",
              "    }\n",
              "\n",
              "    .colab-df-convert {\n",
              "      background-color: #E8F0FE;\n",
              "      border: none;\n",
              "      border-radius: 50%;\n",
              "      cursor: pointer;\n",
              "      display: none;\n",
              "      fill: #1967D2;\n",
              "      height: 32px;\n",
              "      padding: 0 0 0 0;\n",
              "      width: 32px;\n",
              "    }\n",
              "\n",
              "    .colab-df-convert:hover {\n",
              "      background-color: #E2EBFA;\n",
              "      box-shadow: 0px 1px 2px rgba(60, 64, 67, 0.3), 0px 1px 3px 1px rgba(60, 64, 67, 0.15);\n",
              "      fill: #174EA6;\n",
              "    }\n",
              "\n",
              "    [theme=dark] .colab-df-convert {\n",
              "      background-color: #3B4455;\n",
              "      fill: #D2E3FC;\n",
              "    }\n",
              "\n",
              "    [theme=dark] .colab-df-convert:hover {\n",
              "      background-color: #434B5C;\n",
              "      box-shadow: 0px 1px 3px 1px rgba(0, 0, 0, 0.15);\n",
              "      filter: drop-shadow(0px 1px 2px rgba(0, 0, 0, 0.3));\n",
              "      fill: #FFFFFF;\n",
              "    }\n",
              "  </style>\n",
              "\n",
              "      <script>\n",
              "        const buttonEl =\n",
              "          document.querySelector('#df-4f2f2bd6-852d-4083-b975-9026f9cd7a67 button.colab-df-convert');\n",
              "        buttonEl.style.display =\n",
              "          google.colab.kernel.accessAllowed ? 'block' : 'none';\n",
              "\n",
              "        async function convertToInteractive(key) {\n",
              "          const element = document.querySelector('#df-4f2f2bd6-852d-4083-b975-9026f9cd7a67');\n",
              "          const dataTable =\n",
              "            await google.colab.kernel.invokeFunction('convertToInteractive',\n",
              "                                                     [key], {});\n",
              "          if (!dataTable) return;\n",
              "\n",
              "          const docLinkHtml = 'Like what you see? Visit the ' +\n",
              "            '<a target=\"_blank\" href=https://colab.research.google.com/notebooks/data_table.ipynb>data table notebook</a>'\n",
              "            + ' to learn more about interactive tables.';\n",
              "          element.innerHTML = '';\n",
              "          dataTable['output_type'] = 'display_data';\n",
              "          await google.colab.output.renderOutput(dataTable, element);\n",
              "          const docLink = document.createElement('div');\n",
              "          docLink.innerHTML = docLinkHtml;\n",
              "          element.appendChild(docLink);\n",
              "        }\n",
              "      </script>\n",
              "    </div>\n",
              "  </div>\n",
              "  "
            ]
          },
          "metadata": {}
        },
        {
          "output_type": "stream",
          "name": "stdout",
          "text": [
            "Rows x cols of train dataframe : (10008, 28)\n"
          ]
        }
      ]
    },
    {
      "cell_type": "code",
      "source": [
        "# taking a quick look at Test dataframe\n",
        "display(test.head())\n",
        "print('Rows x cols of train dataframe :', test.shape)"
      ],
      "metadata": {
        "execution": {
          "iopub.status.busy": "2022-11-25T14:13:46.082831Z",
          "iopub.execute_input": "2022-11-25T14:13:46.083156Z",
          "iopub.status.idle": "2022-11-25T14:13:46.112212Z",
          "shell.execute_reply.started": "2022-11-25T14:13:46.08313Z",
          "shell.execute_reply": "2022-11-25T14:13:46.110892Z"
        },
        "editable": false,
        "trusted": true,
        "colab": {
          "base_uri": "https://localhost:8080/"
        },
        "id": "Ye-wv4BnQocT",
        "outputId": "e53a6a0a-b9f6-43f3-9ec9-b69f2595ca63"
      },
      "execution_count": null,
      "outputs": [
        {
          "output_type": "display_data",
          "data": {
            "text/plain": [
              "                                                  ID Customer_ID      Month  \\\n",
              "0  0x160a,CUS_0xd40,September,Aaron Maashoh,23,82...         NaN        NaN   \n",
              "1  0x160b,CUS_0xd40,October,Aaron Maashoh,24,821-...         NaN        NaN   \n",
              "2  0x160c,CUS_0xd40,November,Aaron Maashoh,24,821...         NaN        NaN   \n",
              "3  0x160d,CUS_0xd40,December,Aaron Maashoh,24_,82...         NaN        NaN   \n",
              "4                                             0x1616  CUS_0x21b1  September   \n",
              "\n",
              "              Name  Age          SSN Occupation Annual_Income  \\\n",
              "0              NaN  NaN          NaN        NaN           NaN   \n",
              "1              NaN  NaN          NaN        NaN           NaN   \n",
              "2              NaN  NaN          NaN        NaN           NaN   \n",
              "3              NaN  NaN          NaN        NaN           NaN   \n",
              "4  Rick Rothackerj   28  004-07-5839    _______      34847.84   \n",
              "\n",
              "   Monthly_Inhand_Salary  Num_Bank_Accounts  Num_Credit_Card  Interest_Rate  \\\n",
              "0                    NaN                NaN              NaN            NaN   \n",
              "1                    NaN                NaN              NaN            NaN   \n",
              "2                    NaN                NaN              NaN            NaN   \n",
              "3                    NaN                NaN              NaN            NaN   \n",
              "4            3037.986667                2.0              4.0            6.0   \n",
              "\n",
              "  Num_of_Loan         Type_of_Loan  Delay_from_due_date  \\\n",
              "0         NaN                  NaN                  NaN   \n",
              "1         NaN                  NaN                  NaN   \n",
              "2         NaN                  NaN                  NaN   \n",
              "3         NaN                  NaN                  NaN   \n",
              "4           1  Credit-Builder Loan                  3.0   \n",
              "\n",
              "  Num_of_Delayed_Payment Changed_Credit_Limit  Num_Credit_Inquiries  \\\n",
              "0                    NaN                  NaN                   NaN   \n",
              "1                    NaN                  NaN                   NaN   \n",
              "2                    NaN                  NaN                   NaN   \n",
              "3                    NaN                  NaN                   NaN   \n",
              "4                      1                 5.42                   5.0   \n",
              "\n",
              "  Credit_Mix Outstanding_Debt  Credit_Utilization_Ratio  \\\n",
              "0        NaN              NaN                       NaN   \n",
              "1        NaN              NaN                       NaN   \n",
              "2        NaN              NaN                       NaN   \n",
              "3        NaN              NaN                       NaN   \n",
              "4       Good           605.03                 25.926822   \n",
              "\n",
              "      Credit_History_Age Payment_of_Min_Amount  Total_EMI_per_month  \\\n",
              "0                    NaN                   NaN                  NaN   \n",
              "1                    NaN                   NaN                  NaN   \n",
              "2                    NaN                   NaN                  NaN   \n",
              "3                    NaN                   NaN                  NaN   \n",
              "4  27 Years and 3 Months                    No            18.816215   \n",
              "\n",
              "  Amount_invested_monthly                Payment_Behaviour  Monthly_Balance  \n",
              "0                     NaN                              NaN              NaN  \n",
              "1                     NaN                              NaN              NaN  \n",
              "2                     NaN                              NaN              NaN  \n",
              "3                     NaN                              NaN              NaN  \n",
              "4      39.684018417945296  High_spent_Large_value_payments       485.298434  "
            ],
            "text/html": [
              "\n",
              "  <div id=\"df-dc60f4fd-2d62-4c0b-b0db-d9d5900710ae\">\n",
              "    <div class=\"colab-df-container\">\n",
              "      <div>\n",
              "<style scoped>\n",
              "    .dataframe tbody tr th:only-of-type {\n",
              "        vertical-align: middle;\n",
              "    }\n",
              "\n",
              "    .dataframe tbody tr th {\n",
              "        vertical-align: top;\n",
              "    }\n",
              "\n",
              "    .dataframe thead th {\n",
              "        text-align: right;\n",
              "    }\n",
              "</style>\n",
              "<table border=\"1\" class=\"dataframe\">\n",
              "  <thead>\n",
              "    <tr style=\"text-align: right;\">\n",
              "      <th></th>\n",
              "      <th>ID</th>\n",
              "      <th>Customer_ID</th>\n",
              "      <th>Month</th>\n",
              "      <th>Name</th>\n",
              "      <th>Age</th>\n",
              "      <th>SSN</th>\n",
              "      <th>Occupation</th>\n",
              "      <th>Annual_Income</th>\n",
              "      <th>Monthly_Inhand_Salary</th>\n",
              "      <th>Num_Bank_Accounts</th>\n",
              "      <th>Num_Credit_Card</th>\n",
              "      <th>Interest_Rate</th>\n",
              "      <th>Num_of_Loan</th>\n",
              "      <th>Type_of_Loan</th>\n",
              "      <th>Delay_from_due_date</th>\n",
              "      <th>Num_of_Delayed_Payment</th>\n",
              "      <th>Changed_Credit_Limit</th>\n",
              "      <th>Num_Credit_Inquiries</th>\n",
              "      <th>Credit_Mix</th>\n",
              "      <th>Outstanding_Debt</th>\n",
              "      <th>Credit_Utilization_Ratio</th>\n",
              "      <th>Credit_History_Age</th>\n",
              "      <th>Payment_of_Min_Amount</th>\n",
              "      <th>Total_EMI_per_month</th>\n",
              "      <th>Amount_invested_monthly</th>\n",
              "      <th>Payment_Behaviour</th>\n",
              "      <th>Monthly_Balance</th>\n",
              "    </tr>\n",
              "  </thead>\n",
              "  <tbody>\n",
              "    <tr>\n",
              "      <th>0</th>\n",
              "      <td>0x160a,CUS_0xd40,September,Aaron Maashoh,23,82...</td>\n",
              "      <td>NaN</td>\n",
              "      <td>NaN</td>\n",
              "      <td>NaN</td>\n",
              "      <td>NaN</td>\n",
              "      <td>NaN</td>\n",
              "      <td>NaN</td>\n",
              "      <td>NaN</td>\n",
              "      <td>NaN</td>\n",
              "      <td>NaN</td>\n",
              "      <td>NaN</td>\n",
              "      <td>NaN</td>\n",
              "      <td>NaN</td>\n",
              "      <td>NaN</td>\n",
              "      <td>NaN</td>\n",
              "      <td>NaN</td>\n",
              "      <td>NaN</td>\n",
              "      <td>NaN</td>\n",
              "      <td>NaN</td>\n",
              "      <td>NaN</td>\n",
              "      <td>NaN</td>\n",
              "      <td>NaN</td>\n",
              "      <td>NaN</td>\n",
              "      <td>NaN</td>\n",
              "      <td>NaN</td>\n",
              "      <td>NaN</td>\n",
              "      <td>NaN</td>\n",
              "    </tr>\n",
              "    <tr>\n",
              "      <th>1</th>\n",
              "      <td>0x160b,CUS_0xd40,October,Aaron Maashoh,24,821-...</td>\n",
              "      <td>NaN</td>\n",
              "      <td>NaN</td>\n",
              "      <td>NaN</td>\n",
              "      <td>NaN</td>\n",
              "      <td>NaN</td>\n",
              "      <td>NaN</td>\n",
              "      <td>NaN</td>\n",
              "      <td>NaN</td>\n",
              "      <td>NaN</td>\n",
              "      <td>NaN</td>\n",
              "      <td>NaN</td>\n",
              "      <td>NaN</td>\n",
              "      <td>NaN</td>\n",
              "      <td>NaN</td>\n",
              "      <td>NaN</td>\n",
              "      <td>NaN</td>\n",
              "      <td>NaN</td>\n",
              "      <td>NaN</td>\n",
              "      <td>NaN</td>\n",
              "      <td>NaN</td>\n",
              "      <td>NaN</td>\n",
              "      <td>NaN</td>\n",
              "      <td>NaN</td>\n",
              "      <td>NaN</td>\n",
              "      <td>NaN</td>\n",
              "      <td>NaN</td>\n",
              "    </tr>\n",
              "    <tr>\n",
              "      <th>2</th>\n",
              "      <td>0x160c,CUS_0xd40,November,Aaron Maashoh,24,821...</td>\n",
              "      <td>NaN</td>\n",
              "      <td>NaN</td>\n",
              "      <td>NaN</td>\n",
              "      <td>NaN</td>\n",
              "      <td>NaN</td>\n",
              "      <td>NaN</td>\n",
              "      <td>NaN</td>\n",
              "      <td>NaN</td>\n",
              "      <td>NaN</td>\n",
              "      <td>NaN</td>\n",
              "      <td>NaN</td>\n",
              "      <td>NaN</td>\n",
              "      <td>NaN</td>\n",
              "      <td>NaN</td>\n",
              "      <td>NaN</td>\n",
              "      <td>NaN</td>\n",
              "      <td>NaN</td>\n",
              "      <td>NaN</td>\n",
              "      <td>NaN</td>\n",
              "      <td>NaN</td>\n",
              "      <td>NaN</td>\n",
              "      <td>NaN</td>\n",
              "      <td>NaN</td>\n",
              "      <td>NaN</td>\n",
              "      <td>NaN</td>\n",
              "      <td>NaN</td>\n",
              "    </tr>\n",
              "    <tr>\n",
              "      <th>3</th>\n",
              "      <td>0x160d,CUS_0xd40,December,Aaron Maashoh,24_,82...</td>\n",
              "      <td>NaN</td>\n",
              "      <td>NaN</td>\n",
              "      <td>NaN</td>\n",
              "      <td>NaN</td>\n",
              "      <td>NaN</td>\n",
              "      <td>NaN</td>\n",
              "      <td>NaN</td>\n",
              "      <td>NaN</td>\n",
              "      <td>NaN</td>\n",
              "      <td>NaN</td>\n",
              "      <td>NaN</td>\n",
              "      <td>NaN</td>\n",
              "      <td>NaN</td>\n",
              "      <td>NaN</td>\n",
              "      <td>NaN</td>\n",
              "      <td>NaN</td>\n",
              "      <td>NaN</td>\n",
              "      <td>NaN</td>\n",
              "      <td>NaN</td>\n",
              "      <td>NaN</td>\n",
              "      <td>NaN</td>\n",
              "      <td>NaN</td>\n",
              "      <td>NaN</td>\n",
              "      <td>NaN</td>\n",
              "      <td>NaN</td>\n",
              "      <td>NaN</td>\n",
              "    </tr>\n",
              "    <tr>\n",
              "      <th>4</th>\n",
              "      <td>0x1616</td>\n",
              "      <td>CUS_0x21b1</td>\n",
              "      <td>September</td>\n",
              "      <td>Rick Rothackerj</td>\n",
              "      <td>28</td>\n",
              "      <td>004-07-5839</td>\n",
              "      <td>_______</td>\n",
              "      <td>34847.84</td>\n",
              "      <td>3037.986667</td>\n",
              "      <td>2.0</td>\n",
              "      <td>4.0</td>\n",
              "      <td>6.0</td>\n",
              "      <td>1</td>\n",
              "      <td>Credit-Builder Loan</td>\n",
              "      <td>3.0</td>\n",
              "      <td>1</td>\n",
              "      <td>5.42</td>\n",
              "      <td>5.0</td>\n",
              "      <td>Good</td>\n",
              "      <td>605.03</td>\n",
              "      <td>25.926822</td>\n",
              "      <td>27 Years and 3 Months</td>\n",
              "      <td>No</td>\n",
              "      <td>18.816215</td>\n",
              "      <td>39.684018417945296</td>\n",
              "      <td>High_spent_Large_value_payments</td>\n",
              "      <td>485.298434</td>\n",
              "    </tr>\n",
              "  </tbody>\n",
              "</table>\n",
              "</div>\n",
              "      <button class=\"colab-df-convert\" onclick=\"convertToInteractive('df-dc60f4fd-2d62-4c0b-b0db-d9d5900710ae')\"\n",
              "              title=\"Convert this dataframe to an interactive table.\"\n",
              "              style=\"display:none;\">\n",
              "        \n",
              "  <svg xmlns=\"http://www.w3.org/2000/svg\" height=\"24px\"viewBox=\"0 0 24 24\"\n",
              "       width=\"24px\">\n",
              "    <path d=\"M0 0h24v24H0V0z\" fill=\"none\"/>\n",
              "    <path d=\"M18.56 5.44l.94 2.06.94-2.06 2.06-.94-2.06-.94-.94-2.06-.94 2.06-2.06.94zm-11 1L8.5 8.5l.94-2.06 2.06-.94-2.06-.94L8.5 2.5l-.94 2.06-2.06.94zm10 10l.94 2.06.94-2.06 2.06-.94-2.06-.94-.94-2.06-.94 2.06-2.06.94z\"/><path d=\"M17.41 7.96l-1.37-1.37c-.4-.4-.92-.59-1.43-.59-.52 0-1.04.2-1.43.59L10.3 9.45l-7.72 7.72c-.78.78-.78 2.05 0 2.83L4 21.41c.39.39.9.59 1.41.59.51 0 1.02-.2 1.41-.59l7.78-7.78 2.81-2.81c.8-.78.8-2.07 0-2.86zM5.41 20L4 18.59l7.72-7.72 1.47 1.35L5.41 20z\"/>\n",
              "  </svg>\n",
              "      </button>\n",
              "      \n",
              "  <style>\n",
              "    .colab-df-container {\n",
              "      display:flex;\n",
              "      flex-wrap:wrap;\n",
              "      gap: 12px;\n",
              "    }\n",
              "\n",
              "    .colab-df-convert {\n",
              "      background-color: #E8F0FE;\n",
              "      border: none;\n",
              "      border-radius: 50%;\n",
              "      cursor: pointer;\n",
              "      display: none;\n",
              "      fill: #1967D2;\n",
              "      height: 32px;\n",
              "      padding: 0 0 0 0;\n",
              "      width: 32px;\n",
              "    }\n",
              "\n",
              "    .colab-df-convert:hover {\n",
              "      background-color: #E2EBFA;\n",
              "      box-shadow: 0px 1px 2px rgba(60, 64, 67, 0.3), 0px 1px 3px 1px rgba(60, 64, 67, 0.15);\n",
              "      fill: #174EA6;\n",
              "    }\n",
              "\n",
              "    [theme=dark] .colab-df-convert {\n",
              "      background-color: #3B4455;\n",
              "      fill: #D2E3FC;\n",
              "    }\n",
              "\n",
              "    [theme=dark] .colab-df-convert:hover {\n",
              "      background-color: #434B5C;\n",
              "      box-shadow: 0px 1px 3px 1px rgba(0, 0, 0, 0.15);\n",
              "      filter: drop-shadow(0px 1px 2px rgba(0, 0, 0, 0.3));\n",
              "      fill: #FFFFFF;\n",
              "    }\n",
              "  </style>\n",
              "\n",
              "      <script>\n",
              "        const buttonEl =\n",
              "          document.querySelector('#df-dc60f4fd-2d62-4c0b-b0db-d9d5900710ae button.colab-df-convert');\n",
              "        buttonEl.style.display =\n",
              "          google.colab.kernel.accessAllowed ? 'block' : 'none';\n",
              "\n",
              "        async function convertToInteractive(key) {\n",
              "          const element = document.querySelector('#df-dc60f4fd-2d62-4c0b-b0db-d9d5900710ae');\n",
              "          const dataTable =\n",
              "            await google.colab.kernel.invokeFunction('convertToInteractive',\n",
              "                                                     [key], {});\n",
              "          if (!dataTable) return;\n",
              "\n",
              "          const docLinkHtml = 'Like what you see? Visit the ' +\n",
              "            '<a target=\"_blank\" href=https://colab.research.google.com/notebooks/data_table.ipynb>data table notebook</a>'\n",
              "            + ' to learn more about interactive tables.';\n",
              "          element.innerHTML = '';\n",
              "          dataTable['output_type'] = 'display_data';\n",
              "          await google.colab.output.renderOutput(dataTable, element);\n",
              "          const docLink = document.createElement('div');\n",
              "          docLink.innerHTML = docLinkHtml;\n",
              "          element.appendChild(docLink);\n",
              "        }\n",
              "      </script>\n",
              "    </div>\n",
              "  </div>\n",
              "  "
            ]
          },
          "metadata": {}
        },
        {
          "output_type": "stream",
          "name": "stdout",
          "text": [
            "Rows x cols of train dataframe : (5003, 27)\n"
          ]
        }
      ]
    },
    {
      "cell_type": "code",
      "source": [
        "# general overview of the Train dataframe\n",
        "display(train.info())"
      ],
      "metadata": {
        "id": "nNe8elIIaeCT",
        "outputId": "c71cf79e-e620-4723-925a-11fa3f2cf95f",
        "execution": {
          "iopub.status.busy": "2022-11-25T14:13:46.113536Z",
          "iopub.execute_input": "2022-11-25T14:13:46.113796Z",
          "iopub.status.idle": "2022-11-25T14:13:46.212421Z",
          "shell.execute_reply.started": "2022-11-25T14:13:46.113771Z",
          "shell.execute_reply": "2022-11-25T14:13:46.210816Z"
        },
        "editable": false,
        "trusted": true,
        "colab": {
          "base_uri": "https://localhost:8080/"
        }
      },
      "execution_count": null,
      "outputs": [
        {
          "output_type": "stream",
          "name": "stdout",
          "text": [
            "<class 'pandas.core.frame.DataFrame'>\n",
            "RangeIndex: 10008 entries, 0 to 10007\n",
            "Data columns (total 28 columns):\n",
            " #   Column                    Non-Null Count  Dtype  \n",
            "---  ------                    --------------  -----  \n",
            " 0   ID                        10008 non-null  object \n",
            " 1   Customer_ID               2186 non-null   object \n",
            " 2   Month                     2186 non-null   object \n",
            " 3   Name                      1991 non-null   object \n",
            " 4   Age                       2186 non-null   object \n",
            " 5   SSN                       2186 non-null   object \n",
            " 6   Occupation                2186 non-null   object \n",
            " 7   Annual_Income             2186 non-null   object \n",
            " 8   Monthly_Inhand_Salary     1883 non-null   float64\n",
            " 9   Num_Bank_Accounts         2186 non-null   float64\n",
            " 10  Num_Credit_Card           2186 non-null   float64\n",
            " 11  Interest_Rate             2186 non-null   float64\n",
            " 12  Num_of_Loan               2186 non-null   object \n",
            " 13  Type_of_Loan              1016 non-null   object \n",
            " 14  Delay_from_due_date       2186 non-null   float64\n",
            " 15  Num_of_Delayed_Payment    2017 non-null   object \n",
            " 16  Changed_Credit_Limit      2186 non-null   object \n",
            " 17  Num_Credit_Inquiries      2124 non-null   float64\n",
            " 18  Credit_Mix                2186 non-null   object \n",
            " 19  Outstanding_Debt          2186 non-null   object \n",
            " 20  Credit_Utilization_Ratio  2186 non-null   float64\n",
            " 21  Credit_History_Age        1982 non-null   object \n",
            " 22  Payment_of_Min_Amount     2186 non-null   object \n",
            " 23  Total_EMI_per_month       2186 non-null   float64\n",
            " 24  Amount_invested_monthly   2107 non-null   object \n",
            " 25  Payment_Behaviour         2186 non-null   object \n",
            " 26  Monthly_Balance           2180 non-null   float64\n",
            " 27  Credit_Score              2186 non-null   object \n",
            "dtypes: float64(9), object(19)\n",
            "memory usage: 2.1+ MB\n"
          ]
        },
        {
          "output_type": "display_data",
          "data": {
            "text/plain": [
              "None"
            ]
          },
          "metadata": {}
        }
      ]
    },
    {
      "cell_type": "code",
      "source": [
        "# general overview of Test dataframe\n",
        "display(test.info())"
      ],
      "metadata": {
        "execution": {
          "iopub.status.busy": "2022-11-25T14:13:46.214109Z",
          "iopub.execute_input": "2022-11-25T14:13:46.214589Z",
          "iopub.status.idle": "2022-11-25T14:13:46.26557Z",
          "shell.execute_reply.started": "2022-11-25T14:13:46.214556Z",
          "shell.execute_reply": "2022-11-25T14:13:46.264238Z"
        },
        "editable": false,
        "trusted": true,
        "colab": {
          "base_uri": "https://localhost:8080/"
        },
        "id": "hNEUxjz7QocU",
        "outputId": "3e524270-d94e-4ad2-fc38-d7208c3d1536"
      },
      "execution_count": null,
      "outputs": [
        {
          "output_type": "stream",
          "name": "stdout",
          "text": [
            "<class 'pandas.core.frame.DataFrame'>\n",
            "RangeIndex: 5003 entries, 0 to 5002\n",
            "Data columns (total 27 columns):\n",
            " #   Column                    Non-Null Count  Dtype  \n",
            "---  ------                    --------------  -----  \n",
            " 0   ID                        5003 non-null   object \n",
            " 1   Customer_ID               1093 non-null   object \n",
            " 2   Month                     1093 non-null   object \n",
            " 3   Name                      985 non-null    object \n",
            " 4   Age                       1093 non-null   object \n",
            " 5   SSN                       1093 non-null   object \n",
            " 6   Occupation                1093 non-null   object \n",
            " 7   Annual_Income             1093 non-null   object \n",
            " 8   Monthly_Inhand_Salary     946 non-null    float64\n",
            " 9   Num_Bank_Accounts         1093 non-null   float64\n",
            " 10  Num_Credit_Card           1093 non-null   float64\n",
            " 11  Interest_Rate             1093 non-null   float64\n",
            " 12  Num_of_Loan               1093 non-null   object \n",
            " 13  Type_of_Loan              508 non-null    object \n",
            " 14  Delay_from_due_date       1093 non-null   float64\n",
            " 15  Num_of_Delayed_Payment    1017 non-null   object \n",
            " 16  Changed_Credit_Limit      1093 non-null   object \n",
            " 17  Num_Credit_Inquiries      1069 non-null   float64\n",
            " 18  Credit_Mix                1093 non-null   object \n",
            " 19  Outstanding_Debt          1093 non-null   object \n",
            " 20  Credit_Utilization_Ratio  1093 non-null   float64\n",
            " 21  Credit_History_Age        1006 non-null   object \n",
            " 22  Payment_of_Min_Amount     1093 non-null   object \n",
            " 23  Total_EMI_per_month       1093 non-null   float64\n",
            " 24  Amount_invested_monthly   1049 non-null   object \n",
            " 25  Payment_Behaviour         1093 non-null   object \n",
            " 26  Monthly_Balance           1091 non-null   float64\n",
            "dtypes: float64(9), object(18)\n",
            "memory usage: 1.0+ MB\n"
          ]
        },
        {
          "output_type": "display_data",
          "data": {
            "text/plain": [
              "None"
            ]
          },
          "metadata": {}
        }
      ]
    },
    {
      "cell_type": "markdown",
      "source": [
        "### **IIb. Missing Values**<a class = \"anchor\" id = \"IIb\"></a>"
      ],
      "metadata": {
        "id": "K5ajA2cx2EQf",
        "editable": false
      }
    },
    {
      "cell_type": "code",
      "source": [
        "# reporting Train's missing values\n",
        "missing_values_perc(train)"
      ],
      "metadata": {
        "execution": {
          "iopub.status.busy": "2022-11-25T14:13:46.266919Z",
          "iopub.execute_input": "2022-11-25T14:13:46.267588Z",
          "iopub.status.idle": "2022-11-25T14:13:46.350504Z",
          "shell.execute_reply.started": "2022-11-25T14:13:46.267558Z",
          "shell.execute_reply": "2022-11-25T14:13:46.349602Z"
        },
        "editable": false,
        "trusted": true,
        "colab": {
          "base_uri": "https://localhost:8080/"
        },
        "id": "bt0YKIr3QocU",
        "outputId": "d2643faf-f654-4ab8-9192-677883af1148"
      },
      "execution_count": null,
      "outputs": [
        {
          "output_type": "stream",
          "name": "stdout",
          "text": [
            "Missing values on each column :  \n",
            "\n",
            "                  Column  Count  Percentage (%)\n",
            "                      ID      0            0.00\n",
            "             Customer_ID   7822           78.16\n",
            "                   Month   7822           78.16\n",
            "                    Name   8017           80.11\n",
            "                     Age   7822           78.16\n",
            "                     SSN   7822           78.16\n",
            "              Occupation   7822           78.16\n",
            "           Annual_Income   7822           78.16\n",
            "   Monthly_Inhand_Salary   8125           81.19\n",
            "       Num_Bank_Accounts   7822           78.16\n",
            "         Num_Credit_Card   7822           78.16\n",
            "           Interest_Rate   7822           78.16\n",
            "             Num_of_Loan   7822           78.16\n",
            "            Type_of_Loan   8992           89.85\n",
            "     Delay_from_due_date   7822           78.16\n",
            "  Num_of_Delayed_Payment   7991           79.85\n",
            "    Changed_Credit_Limit   7822           78.16\n",
            "    Num_Credit_Inquiries   7884           78.78\n",
            "              Credit_Mix   7822           78.16\n",
            "        Outstanding_Debt   7822           78.16\n",
            "Credit_Utilization_Ratio   7822           78.16\n",
            "      Credit_History_Age   8026           80.20\n",
            "   Payment_of_Min_Amount   7822           78.16\n",
            "     Total_EMI_per_month   7822           78.16\n",
            " Amount_invested_monthly   7901           78.95\n",
            "       Payment_Behaviour   7822           78.16\n",
            "         Monthly_Balance   7828           78.22\n",
            "            Credit_Score   7822           78.16\n"
          ]
        }
      ]
    },
    {
      "cell_type": "code",
      "source": [
        "# reporting Test's missing values\n",
        "missing_values_perc(test)"
      ],
      "metadata": {
        "execution": {
          "iopub.status.busy": "2022-11-25T14:13:46.351587Z",
          "iopub.execute_input": "2022-11-25T14:13:46.351853Z",
          "iopub.status.idle": "2022-11-25T14:13:46.395216Z",
          "shell.execute_reply.started": "2022-11-25T14:13:46.351829Z",
          "shell.execute_reply": "2022-11-25T14:13:46.393772Z"
        },
        "editable": false,
        "trusted": true,
        "colab": {
          "base_uri": "https://localhost:8080/"
        },
        "id": "MlWvGSlBQocU",
        "outputId": "d1d379b1-b049-48f2-f85e-c9e4848f2930"
      },
      "execution_count": null,
      "outputs": [
        {
          "output_type": "stream",
          "name": "stdout",
          "text": [
            "Missing values on each column :  \n",
            "\n",
            "                  Column  Count  Percentage (%)\n",
            "                      ID      0            0.00\n",
            "             Customer_ID   3910           78.15\n",
            "                   Month   3910           78.15\n",
            "                    Name   4018           80.31\n",
            "                     Age   3910           78.15\n",
            "                     SSN   3910           78.15\n",
            "              Occupation   3910           78.15\n",
            "           Annual_Income   3910           78.15\n",
            "   Monthly_Inhand_Salary   4057           81.09\n",
            "       Num_Bank_Accounts   3910           78.15\n",
            "         Num_Credit_Card   3910           78.15\n",
            "           Interest_Rate   3910           78.15\n",
            "             Num_of_Loan   3910           78.15\n",
            "            Type_of_Loan   4495           89.85\n",
            "     Delay_from_due_date   3910           78.15\n",
            "  Num_of_Delayed_Payment   3986           79.67\n",
            "    Changed_Credit_Limit   3910           78.15\n",
            "    Num_Credit_Inquiries   3934           78.63\n",
            "              Credit_Mix   3910           78.15\n",
            "        Outstanding_Debt   3910           78.15\n",
            "Credit_Utilization_Ratio   3910           78.15\n",
            "      Credit_History_Age   3997           79.89\n",
            "   Payment_of_Min_Amount   3910           78.15\n",
            "     Total_EMI_per_month   3910           78.15\n",
            " Amount_invested_monthly   3954           79.03\n",
            "       Payment_Behaviour   3910           78.15\n",
            "         Monthly_Balance   3912           78.19\n"
          ]
        }
      ]
    },
    {
      "cell_type": "markdown",
      "source": [
        "### **IIc. Duplicated Entries**<a class = \"anchor\" id = \"IIc\"></a>"
      ],
      "metadata": {
        "id": "fLhzqT-N2eOp",
        "editable": false
      }
    },
    {
      "cell_type": "code",
      "source": [
        "# duplicated entries in Train dataframe\n",
        "DuplicatedValues = train.duplicated().sum()\n",
        "print('Duplicated data (train) : ' + str(DuplicatedValues))"
      ],
      "metadata": {
        "id": "6-Pja33P2g_l",
        "outputId": "9a90bfb8-700b-4f03-8230-10d4fc2e4475",
        "execution": {
          "iopub.status.busy": "2022-11-25T14:13:46.397415Z",
          "iopub.execute_input": "2022-11-25T14:13:46.39822Z",
          "iopub.status.idle": "2022-11-25T14:13:46.649626Z",
          "shell.execute_reply.started": "2022-11-25T14:13:46.398187Z",
          "shell.execute_reply": "2022-11-25T14:13:46.648733Z"
        },
        "editable": false,
        "trusted": true,
        "colab": {
          "base_uri": "https://localhost:8080/"
        }
      },
      "execution_count": null,
      "outputs": [
        {
          "output_type": "stream",
          "name": "stdout",
          "text": [
            "Duplicated data (train) : 0\n"
          ]
        }
      ]
    },
    {
      "cell_type": "code",
      "source": [
        "# duplicated entries in Test dataframe\n",
        "DuplicatedValues = test.duplicated().sum()\n",
        "print('Duplicated data (test) : ' + str(DuplicatedValues))"
      ],
      "metadata": {
        "execution": {
          "iopub.status.busy": "2022-11-25T14:13:46.651071Z",
          "iopub.execute_input": "2022-11-25T14:13:46.651357Z",
          "iopub.status.idle": "2022-11-25T14:13:46.761698Z",
          "shell.execute_reply.started": "2022-11-25T14:13:46.651333Z",
          "shell.execute_reply": "2022-11-25T14:13:46.760437Z"
        },
        "editable": false,
        "trusted": true,
        "colab": {
          "base_uri": "https://localhost:8080/"
        },
        "id": "cCpeVNPXQocU",
        "outputId": "13409a7c-3451-4151-8b9f-b28c9f2e4971"
      },
      "execution_count": null,
      "outputs": [
        {
          "output_type": "stream",
          "name": "stdout",
          "text": [
            "Duplicated data (test) : 0\n"
          ]
        }
      ]
    },
    {
      "cell_type": "markdown",
      "source": [
        "### **IId. Unique Values**<a class = \"anchor\" id = \"IId\"></a>"
      ],
      "metadata": {
        "id": "3qguSH8d2lKJ",
        "editable": false
      }
    },
    {
      "cell_type": "code",
      "source": [
        "# getting the feature names in a list\n",
        "trainCols = list(train.columns.values)\n",
        "\n",
        "# calculating the number of each feature's unique values\n",
        "ListUniqueC = []\n",
        "for i in train.columns:\n",
        "    UCount = len(train[i].unique())\n",
        "    ListUniqueC.append(UCount)\n",
        "\n",
        "# creating the unique values table\n",
        "UniqueCTable = pd.DataFrame(list(zip(trainCols, ListUniqueC)))\n",
        "UniqueCTable.columns = ['Feature', 'Unique Values']\n",
        "\n",
        "# printing the report\n",
        "print('Unique values in each feature (train):')\n",
        "print(UniqueCTable.to_string(index = False))"
      ],
      "metadata": {
        "execution": {
          "iopub.status.busy": "2022-11-25T14:13:46.763242Z",
          "iopub.execute_input": "2022-11-25T14:13:46.764011Z",
          "iopub.status.idle": "2022-11-25T14:13:46.948835Z",
          "shell.execute_reply.started": "2022-11-25T14:13:46.763975Z",
          "shell.execute_reply": "2022-11-25T14:13:46.947173Z"
        },
        "editable": false,
        "trusted": true,
        "colab": {
          "base_uri": "https://localhost:8080/"
        },
        "id": "VsVA1C8UQocV",
        "outputId": "0ad959bc-fbb6-4a40-babe-4747279f7374"
      },
      "execution_count": null,
      "outputs": [
        {
          "output_type": "stream",
          "name": "stdout",
          "text": [
            "Unique values in each feature (train):\n",
            "                 Feature  Unique Values\n",
            "                      ID          10008\n",
            "             Customer_ID            276\n",
            "                   Month              9\n",
            "                    Name            272\n",
            "                     Age             87\n",
            "                     SSN            277\n",
            "              Occupation             17\n",
            "           Annual_Income            293\n",
            "   Monthly_Inhand_Salary            285\n",
            "       Num_Bank_Accounts             31\n",
            "         Num_Credit_Card             61\n",
            "           Interest_Rate             70\n",
            "             Num_of_Loan             14\n",
            "            Type_of_Loan             10\n",
            "     Delay_from_due_date             41\n",
            "  Num_of_Delayed_Payment             45\n",
            "    Changed_Credit_Limit            535\n",
            "    Num_Credit_Inquiries             45\n",
            "              Credit_Mix              4\n",
            "        Outstanding_Debt            276\n",
            "Credit_Utilization_Ratio           2187\n",
            "      Credit_History_Age            246\n",
            "   Payment_of_Min_Amount              4\n",
            "     Total_EMI_per_month            211\n",
            " Amount_invested_monthly           2018\n",
            "       Payment_Behaviour              8\n",
            "         Monthly_Balance           2181\n",
            "            Credit_Score              4\n"
          ]
        }
      ]
    },
    {
      "cell_type": "code",
      "source": [
        "# getting the feature names in a list\n",
        "testCols = list(test.columns.values)\n",
        "\n",
        "# calculating the number of each feature's unique values\n",
        "ListUniqueC = []\n",
        "for i in test.columns:\n",
        "    UCount = len(test[i].unique())\n",
        "    ListUniqueC.append(UCount)\n",
        "\n",
        "# creating the unique values table\n",
        "UniqueCTable = pd.DataFrame(list(zip(testCols, ListUniqueC)))\n",
        "UniqueCTable.columns = ['Feature', 'Unique Values']\n",
        "\n",
        "# printing the report\n",
        "print('Unique values in each feature (test):')\n",
        "print(UniqueCTable.to_string(index = False))"
      ],
      "metadata": {
        "execution": {
          "iopub.status.busy": "2022-11-25T14:13:46.950851Z",
          "iopub.execute_input": "2022-11-25T14:13:46.951802Z",
          "iopub.status.idle": "2022-11-25T14:13:47.042871Z",
          "shell.execute_reply.started": "2022-11-25T14:13:46.951738Z",
          "shell.execute_reply": "2022-11-25T14:13:47.041614Z"
        },
        "editable": false,
        "trusted": true,
        "colab": {
          "base_uri": "https://localhost:8080/"
        },
        "id": "axLnWsgZQocV",
        "outputId": "301c4cb7-30a5-4be5-8d08-7cc96d2b4365"
      },
      "execution_count": null,
      "outputs": [
        {
          "output_type": "stream",
          "name": "stdout",
          "text": [
            "Unique values in each feature (test):\n",
            "                 Feature  Unique Values\n",
            "                      ID           5003\n",
            "             Customer_ID            275\n",
            "                   Month              5\n",
            "                    Name            272\n",
            "                     Age             61\n",
            "                     SSN            276\n",
            "              Occupation             17\n",
            "           Annual_Income            291\n",
            "   Monthly_Inhand_Salary            279\n",
            "       Num_Bank_Accounts             25\n",
            "         Num_Credit_Card             42\n",
            "           Interest_Rate             38\n",
            "             Num_of_Loan             12\n",
            "            Type_of_Loan             10\n",
            "     Delay_from_due_date             41\n",
            "  Num_of_Delayed_Payment             34\n",
            "    Changed_Credit_Limit            410\n",
            "    Num_Credit_Inquiries             37\n",
            "              Credit_Mix              4\n",
            "        Outstanding_Debt            275\n",
            "Credit_Utilization_Ratio           1094\n",
            "      Credit_History_Age            233\n",
            "   Payment_of_Min_Amount              4\n",
            "     Total_EMI_per_month            173\n",
            " Amount_invested_monthly            993\n",
            "       Payment_Behaviour              8\n",
            "         Monthly_Balance           1092\n"
          ]
        }
      ]
    },
    {
      "cell_type": "markdown",
      "source": [
        "### **IIe. Data Exploration Findings**<a class = \"anchor\" id = \"IIe\"></a>"
      ],
      "metadata": {
        "id": "xG6bDkt_CRj0",
        "editable": false
      }
    },
    {
      "cell_type": "markdown",
      "source": [
        "**Dataframe Shape**\n",
        "* The shape of the train dataframe is (100000 x 28), while the shape of test dataframe is (50000 x 27). \n",
        "* The difference in number of entries is due to testing dataset displays the last four months for each customer, while the training dataset displays the first eight months.\n",
        "* The difference in number of features is due to training dataset has Credit_Score feature as the output feature, while the testing dataset does not have it.\n",
        "\n",
        "\n",
        "**Incorrect Data Type**\n",
        "\n",
        "*   'Annual_Income' should be float64\n",
        "*   'Num_of_Loan' should be int64\n",
        "*   'Num_of_Delayed_Payment' should be int64\n",
        "*   'Changed_Credit_Limit' should be float64\n",
        "*   'Outstanding_Debt' should be float64\n",
        "*   'Credit_History_Age' should be float64\n",
        "*   'Amount_invested_monthly' should be float64\n",
        "*   'Monthly_Balance' should be float 64\n",
        "\n",
        "\n",
        "The data type of these features are currently in categorical type, while from our observation, the data that are actually shown in these features are numerical. We need to change this later.\n",
        "\n",
        "\n",
        "**Missing Values**\n",
        "\n",
        "Train dataframe:\n",
        "*   'Name'\n",
        "*   'Monthly_Inhand_Salary'\n",
        "*   'Type_of_Loan'\n",
        "*   'Num_of_Delayed_Payment'\n",
        "*   'Num_Credit_Inquiries'\n",
        "*   'Credit_History_Age'\n",
        "*   'Amount_invested_monthly'\n",
        "*   'Monthly_Balance'\n",
        "\n",
        "Test dataframe:\n",
        "*   'Name'\n",
        "*   'Monthly_Inhand_Salary'\n",
        "*   'Type_of_Loan'\n",
        "*   'Num_of_Delayed_Payment'\n",
        "*   'Num_Credit_Inquiries'\n",
        "*   'Credit_History_Age'\n",
        "*   'Amount_invested_monthly'\n",
        "*   'Monthly_Balance'\n",
        "\n",
        "**Duplicated Entries**\n",
        "\n",
        "There are no duplicated entries in both Train and Test dataframes."
      ],
      "metadata": {
        "id": "QzcYb_yU-JLp",
        "editable": false
      }
    },
    {
      "cell_type": "markdown",
      "source": [
        "## **III. Feature Engineering: Cleaning Data Type**<a class = \"anchor\" id = \"III\"></a>"
      ],
      "metadata": {
        "id": "XeRFpKSg9tnc",
        "editable": false
      }
    },
    {
      "cell_type": "markdown",
      "source": [
        "### **IIIa. Cleaning Categorical Features That Are Supposedly Numerical**<a class = \"anchor\" id = \"IIIa\"></a>"
      ],
      "metadata": {
        "id": "6XqkUf9P969D",
        "editable": false
      }
    },
    {
      "cell_type": "markdown",
      "source": [
        "Let's first take a look at the categorical features that supposedly have numerical type of data instead."
      ],
      "metadata": {
        "editable": false,
        "id": "Xrr8HPd3QocW"
      }
    },
    {
      "cell_type": "code",
      "source": [
        "# categorical features that are supposedly to be numerical instead\n",
        "FeaturesToConvert = ['Age',\n",
        "                     'Annual_Income',\n",
        "                     'Num_of_Loan',\n",
        "                     'Num_of_Delayed_Payment',\n",
        "                     'Changed_Credit_Limit',\n",
        "                     'Outstanding_Debt',\n",
        "                     'Amount_invested_monthly',\n",
        "                     'Monthly_Balance'] \n",
        "# 'Credit_History_Age' feature will be dealt with later\n",
        "\n",
        "# checking the unique values of these features\n",
        "for feature in FeaturesToConvert:\n",
        "    uniques = train[feature].unique()\n",
        "    print('Feature:', '\\n',\n",
        "          colored(feature, attrs = ['bold']), '\\n',\n",
        "          uniques, '\\n',\n",
        "          '--'*40, '\\n')"
      ],
      "metadata": {
        "id": "lYyNQVxbPWxx",
        "scrolled": true,
        "execution": {
          "iopub.status.busy": "2022-11-25T14:13:47.044729Z",
          "iopub.execute_input": "2022-11-25T14:13:47.045098Z",
          "iopub.status.idle": "2022-11-25T14:13:47.130006Z",
          "shell.execute_reply.started": "2022-11-25T14:13:47.045067Z",
          "shell.execute_reply": "2022-11-25T14:13:47.128361Z"
        },
        "editable": false,
        "trusted": true,
        "colab": {
          "base_uri": "https://localhost:8080/"
        },
        "outputId": "5c700fa2-638a-4b42-cc31-3c01f4c6af88"
      },
      "execution_count": null,
      "outputs": [
        {
          "output_type": "stream",
          "name": "stdout",
          "text": [
            "Feature: \n",
            " Age \n",
            " [nan '28' '54' '55' '21' '31' '20' '26' '41' '19' '32' '995' '36' '33'\n",
            " '3885' '42' '43' '25' '45' '35' '34' '500' '456' '5717' '53' '56' '22'\n",
            " '37' '48' '7140' '49' '46' '8233' '47' '6955' '50' '5112' '4872' '39'\n",
            " '40' '1772' '18' '5657' '27' '51' '52' '38' '30' '6953' '4670' '6922'\n",
            " '223' '395' '44' '7359' '23' '2109' '7183' '24' '3625' '3724' '480'\n",
            " '5610' '5784' '3542' '3513' '29' '7274' '8394' '2455' '7431' '1116'\n",
            " '4017' '5376' '3909' '6365' '15' '3967' '2297' '7705' '5154' '4155'\n",
            " '5256' '8173' '5589' '6868' '6556'] \n",
            " -------------------------------------------------------------------------------- \n",
            "\n",
            "Feature: \n",
            " Annual_Income \n",
            " [nan '34847.84' '30689.89' '35547.71' '73928.46' '92047.08' '97791.42'\n",
            " '19514.88' '106733.13' '43070.24' '71681.4' '12909.895' '85554.03'\n",
            " '123732.32' '80108.31' '118248.6' '72330.98' '34106.78' '17001.34'\n",
            " '103353.06' '17992.775' '139354.48' '18305.25' '27865.26' '23404.86'\n",
            " '85328.73' '28665.76' '66528.24' '31122.79' '15015.4' '41345.58'\n",
            " '80396.86' '94554.87' '102885.32' '24199.24' '28587.29' '16852.635'\n",
            " '30272.61' '28681.38' '15488.885' '15560525.0' '86522.72' '33335.24'\n",
            " '61235.6' '4282515.0' '19078.93' '135895.96' '113781.38999999998'\n",
            " '97961.96' '16174808.0' '25530.33' '39696.98' '13074.395' '14224.655'\n",
            " '96582.24' '34547.54' '173196.32' '29042.45' '20540.49' '24894.05'\n",
            " '11245.11' '72241.02' '16866.5' '18969.19' '49889.38' '28922.03'\n",
            " '108415.0' '132537.24' '38539.57' '30743.6' '94511.79' '96275.84'\n",
            " '55000.62' '18549.28' '5444147.0' '162550.32' '102596.63999999998'\n",
            " '50847.22' '99089.52' '9374962.0' '134316.2' '54987.52' '42241.19'\n",
            " '132414.16' '92794.04' '31896.42' '34927.0' '25020.07' '94052.22'\n",
            " '174304.04' '15932.725' '16729446.0' '133410.66' '28169.07' '12613.56'\n",
            " '3961526.0' '14976.45' '174179.64' '81395.44' '48780.56' '126849.18'\n",
            " '66732.58' '115800.54' '88133.16' '118644.36000000002' '63331.9'\n",
            " '24069.55' '41499.21' '82840.24' '24195.37' '78139.42' '20441835.0'\n",
            " '23679.61' '21364.2' '96826.96' '128279.16' '12681.45' '7822458.0'\n",
            " '16568.425' '155726.76' '47280.76' '120260.2' '64057.72' '59154.04'\n",
            " '35670.66' '20703.48' '35469.07' '39944.67' '32485.42' '81935.42'\n",
            " '20492.45' '32901.79' '21791.905' '99007.68' '14208.865' '122008.59'\n",
            " '20949.58' '120955.92' '56987.92' '50552.34' '29695.58' '85667.7'\n",
            " '101912.13' '65454.42' '37131.02' '21145.595' '122942.28' '27814.63'\n",
            " '34480.2' '10810032.0' '130688.56' '28406.16' '99565.36' '71677.59'\n",
            " '61669.47' '111896.16' '12985.715' '173968.96' '83483.96' '64397.88'\n",
            " '23952.07' '105565.65' '145934.16' '68171.54999999999' '71368.6'\n",
            " '99903.36' '39232.16' '143372.68' '131617.4' '142152.48'\n",
            " '72140.06999999999' '11866.345' '136680.12' '65912.38' '15399.52'\n",
            " '34428.21' '22488.625' '22250.525' '165002.4' '28087.16' '99990.78'\n",
            " '21546.93' '81903.8' '92041.02' '60841.98' '12660.16' '97515.78'\n",
            " '36901.31' '79837.02' '28836.92' '25877.95' '29044.29' '35205.24'\n",
            " '39564.52' '42888.45' '84031.02' '70741.04' '42776.51' '46243.56'\n",
            " '84880.65' '45002.48' '47178.46' '35208.9' '120789.44' '17756105.0'\n",
            " '69699.66' '88331.64' '40206.26' '34861.12' '22530.69' '11750262.0'\n",
            " '65234.24' '149168.88' '58267.5' '31305.26' '42384.08' '89388.72'\n",
            " '87481.62' '35346.69' '177887.8' '40327.22' '31741.57' '84660.74'\n",
            " '169141.6' '9767.32' '89239.35' '34680.44' '68375.37' '14439.41'\n",
            " '103968.38999999998' '1034126.0' '65934.22' '86446.44' '76113.09'\n",
            " '17028.31' '170131.24' '98887.41' '91642.4' '107275.71' '14926531.0'\n",
            " '107458.2' '92428.83' '132861.6' '107451.03' '79367.94' '32218.68'\n",
            " '87070.0' '27347.9' '88220.12' '29365.12' '30081.37' '33616.73'\n",
            " '123306.12' '105997.47' '86092.12' '44360.46' '27269.1' '20871.24'\n",
            " '29462.18' '129903.88' '9136633.0' '125047.24' '45403.1' '15724911.0'\n",
            " '78290.36' '60781.48' '11855.82' '76208.52' '60417.68' '116721.18'\n",
            " '57827.1' '177907.72' '143741.2' '78186.56' '88481.16' '95999.44'\n",
            " '32012.4' '102412.35' '15707.85' '138722.36' '29880.29' '32985.87'\n",
            " '82196.31' '14722.08' '88983.52' '11703.605' '97059.0' '10062.445'\n",
            " '71305.22' '43742.01' '4644430.0' '28840.8' '100716.36000000002'] \n",
            " -------------------------------------------------------------------------------- \n",
            "\n",
            "Feature: \n",
            " Num_of_Loan \n",
            " [nan '1' '100' '0' '472' '341' '728' '663' '92' '1017' '501' '1001' '1110'\n",
            " '457'] \n",
            " -------------------------------------------------------------------------------- \n",
            "\n",
            "Feature: \n",
            " Num_of_Delayed_Payment \n",
            " [nan '4' '1' '3' '0' '6' '9' '12' '15' '17' '10' '7' '11' '8' '13' '14'\n",
            " '3083' '16' '19' '21' '20' '18' '834' '2' '5' '23' '22' '2628' '3069'\n",
            " '1946' '2297' '2566' '904' '182' '2812' '3905' '923' '88' '3253' '2689'\n",
            " '3457' '1732' '847' '211' '411'] \n",
            " -------------------------------------------------------------------------------- \n",
            "\n",
            "Feature: \n",
            " Changed_Credit_Limit \n",
            " [nan '5.42' '7.42' '6.42' '1.99' '2.01' '1.01' '3.01' '2.58' '10.14'\n",
            " '9.14' '9.13' '13.13' '17.92' '11.920000000000002' '15.920000000000002'\n",
            " '13.920000000000002' '4.17' '0.86' '' '4.14' '0.14' '8.97' '14.97'\n",
            " '12.97' '4.9700000000000015' '10.44' '4.44' '7.58' '6.43' '11.92' '12.92'\n",
            " '13.92' '8.92' '21.22' '14.22' '3.69' '0.31000000000000005' '4.69' '4.62'\n",
            " '10.06' '7.0600000000000005' '5.62' '12.62' '3.11' '8.11' '8.61'\n",
            " '4.6099999999999985' '9.94' '4.94' '1.0599999999999996' '5.27' '6.27'\n",
            " '19.05' '12.05' '15.82' '21.82' '1.83' '6.83' '2.17' '11.32'\n",
            " '0.3200000000000003' '4.32' '7.65' '13.65' '9.75' '2.75' '5.04' '1.04'\n",
            " '2.42' '3.42' '10.47' '17.47' '9.24' '2.24' '3.24' '10.31' '11.31' '0.67'\n",
            " '1.67' '1.22' '3.22' '19.68' '8.83' '2.82' '7.82' '4.82' '1.38' '15.51'\n",
            " '8.51' '9.51' '4.07' '1.93' '8.07' '11.42' '19.34' '14.34' '13.34' '7.45'\n",
            " '2.45' '12.45' '11.34' '8.34' '6.46' '11.98' '10.98' '1.98' '5.02' '9.96'\n",
            " '0.040000000000000036' '11.96' '5.96' '8.1' '19.79' '12.79' '3.59' '1.59'\n",
            " '6.06' '9.72' '7.09' '9.09' '5.09' '7.3' '2.3' '3.3' '8.01' '1.31' '2.69'\n",
            " '3.36' '5.12' '11.99' '15.99' '16.33' '0.69' '8.42' '14.76'\n",
            " '17.759999999999994' '7.29' '0.29000000000000004' '0.9400000000000004'\n",
            " '6.94' '7.94' '2.9400000000000004' '0.88' '6.88' '2.88' '0.68'\n",
            " '0.31999999999999995' '5.61' '0.6100000000000003' '11.61' '6.4' '8.66'\n",
            " '9.66' '14.66' '16.5' '21.5' '9.81' '2.8100000000000005'\n",
            " '6.8100000000000005' '4.06' '11.09' '5.91' '1.91' '10.36' '11.36' '4.1'\n",
            " '9.1' '3.1' '9.41' '16.41' '1.96' '9.63' '8.63' '1.05' '14.75' '7.75'\n",
            " '1.75' '5.5' '3.5' '14.21' '5.68' '2.68' '4.75' '4.97' '4.04' '3.04'\n",
            " '3.64' '4.6400000000000015' '11.9' '12.9' '9.9' '15.9' '9.5' '13.5'\n",
            " '8.53' '5.5299999999999985' '2.53' '4.5299999999999985' '10.86' '8.86'\n",
            " '4.8599999999999985' '15.02' '10.02' '9.02' '16.02' '13.02' '9.79'\n",
            " '11.79' '14.79' '1.81' '4.19' '4.8100000000000005' '19.96' '21.96'\n",
            " '20.96' '3.26' '9.26' '0.7400000000000002' '4.74' '10.74'\n",
            " '0.2599999999999998' '8.76' '6.76' '5.869999999999999' '10.87' '9.49'\n",
            " '6.49' '16.490000000000002' '3.56' '7.33' '11.91' '12.91' '25.5' '18.5'\n",
            " '15.5' '17.91' '4.91' '11.4' '3.16' '4.16' '8.57' '12.57' '1.63' '5.63'\n",
            " '2.37' '2.34' '0.92' '5.92' '0.07999999999999996' '5.3599999999999985'\n",
            " '11.69' '12.69' '5.89' '4.89' '1.76' '4.08' '3.08' '4.65' '4.95' '7.95'\n",
            " '8.95' '16.25' '13.25' '7.96' '11.07' '15.07' '10.42' '13.42' '14.42'\n",
            " '7.46' '5.6' '1.5999999999999996' '4.83' '2.83' '5.83' '11.82' '10.3'\n",
            " '8.14' '12.14' '4.88' '8.75' '5.85' '2.85' '0.8500000000000001' '6.85'\n",
            " '9.85' '4.31' '6.31' '10.23' '19.45' '18.45' '24.45' '14.9' '6.9' '3.94'\n",
            " '5.789999999999999' '6.789999999999999' '11.02' '4.54' '7.54' '4.41'\n",
            " '0.5899999999999999' '14.43' '19.43' '26.43' '4.5' '7.2' '9.42' '9.2'\n",
            " '10.88' '11.88' '16.14' '17.32' '9.32' '5.32' '0.16999999999999993'\n",
            " '1.82' '5.82' '19.52' '24.52' '14.52' '17.73' '21.73' '5.77' '18.03'\n",
            " '11.03' '25.03' '16.03' '6.3100000000000005' '5.3100000000000005' '2.1'\n",
            " '4.43' '10.68' '8.87' '11.41' '10.41' '2.11' '1.11' '1.89' '11.45' '3.32'\n",
            " '2.32' '3.68' '15.1' '9.15' '5.2' '8.72' '5.7200000000000015' '10.82'\n",
            " '16.82' '7.43' '1.4299999999999995' '13.43' '2.31' '5.69'\n",
            " '8.690000000000001' '11.85' '4.85' '1.85' '8.85' '2.72'\n",
            " '1.7200000000000002' '8.44' '14.44' '4.48' '1.5199999999999996' '4.15'\n",
            " '3.15' '5.45' '6.45' '1.45' '2.55' '17.79' '15.79' '20.79' '1.77' '2.23'\n",
            " '1.23' '2.65' '0.6499999999999999' '1.35' '1.09' '9.88' '12.88'\n",
            " '7.880000000000001' '8.98' '2.84' '8.84' '6.1' '14.98' '9.98' '6.18'\n",
            " '3.18' '12.56' '13.56' '10.56' '11.56' '8.9' '3.9' '9.65' '16.65' '8.27'\n",
            " '4.27' '9.55' '5.550000000000002' '6.550000000000002' '11.55' '3.55'\n",
            " '5.55' '8.3' '7.300000000000002' '7.87' '0.7800000000000002' '7.78'\n",
            " '9.78' '8.99' '11.04' '8.04' '2.039999999999999' '2.47'\n",
            " '0.4700000000000002' '1.2599999999999998' '5.74' '14.72' '21.72' '7.56'\n",
            " '3.45' '1.4500000000000002' '4.37' '8.370000000000001' '2.63' '10.37'\n",
            " '12.25' '8.12' '4.119999999999999' '7.119999999999999' '17.84' '6.39'\n",
            " '9.39' '2.39' '3.17' '6.17' '11.17' '2.16' '6.2' '7.28' '14.28'\n",
            " '0.6399999999999997' '6.64' '12.64' '7.64' '11.16' '6.16' '14.35' '9.35'\n",
            " '15.35' '10.34' '7.34' '15.33' '17.33' '14.33' '13.33' '8.18' '14.18'\n",
            " '15.54' '18.54' '12.54' '3.93' '5.93' '7.04' '9.18' '7.18' '7.73'\n",
            " '2.7300000000000004' '6.24' '11.43' '17.43' '5.43' '7.91' '11.1' '2.95'\n",
            " '2.05' '5.03' '8.030000000000001' '15.13' '8.13' '7.83' '12.83' '9.83'\n",
            " '10.7' '3.6999999999999993' '9.59' '6.14' '8.89' '7.89' '8.22'\n",
            " '5.300000000000002' '6.300000000000002' '10.12' '17.88' '20.88' '10.76'\n",
            " '16.759999999999998' '20.12' '17.12' '18.12' '16.12' '8.43' '13.29'\n",
            " '10.78' '7.03' '10.03' '11.13' '12.13' '7.59' '7.61' '12.61' '4.61'\n",
            " '10.64' '0.8300000000000001' '19.31' '8.45' '2.4499999999999997'\n",
            " '6.449999999999998' '13.87' '11.94' '6.69' '0.6900000000000004' '8.49'\n",
            " '1.4900000000000002' '15.49' '8.69' '13.64' '9.69'] \n",
            " -------------------------------------------------------------------------------- \n",
            "\n",
            "Feature: \n",
            " Outstanding_Debt \n",
            " [nan '605.03' '632.46' '943.86' '548.2' '1296.64' '107.41' '881.4' '76.23'\n",
            " '1233.1' '1293.02' '602.5' '1095.73' '1154.46' '997.28' '191.09' '596.78'\n",
            " '996.54' '1093.87' '1374.56' '565.22' '519.3' '363.51' '635.59' '35.54'\n",
            " '585.05' '1237.46' '1460.8' '358.6' '330.17' '646.47' '1357.54' '1487.9'\n",
            " '605.34' '784.35' '1496.38' '775.22' '180.94' '467.64' '1287.59' '455.22'\n",
            " '1226.23' '71.52' '265.86' '429.77' '1030.2' '750.95' '761.18' '133.3'\n",
            " '1048.26' '1343.01' '482.88' '939.31' '967.23' '1092.55' '1118.37'\n",
            " '86.43' '169.86' '843.44' '1385.89' '54.82' '1450.37' '1329.59' '1075.84'\n",
            " '382.04' '526.62' '401.53' '1315.6' '999.36' '815.35' '1247.3' '789.13'\n",
            " '1033.59' '486.71' '338.95' '1383.6' '1263.12' '190.04' '53.73' '1269.4'\n",
            " '1177.43' '1158.55' '94.75' '76.99' '461.16' '1124.16' '933.84' '460.32'\n",
            " '328.41' '69.51' '1355.93' '278.8' '967.75' '518.4' '244.07' '194.96'\n",
            " '1073.99' '1100.42' '362.71' '315.97' '1272.15' '360.92' '1163.09'\n",
            " '1116.88' '622.58' '1178.6' '1290.07' '105.26' '624.12' '478.11'\n",
            " '1170.58' '1134.41' '1436.96' '795.69' '1346.13' '1324.42' '965.09'\n",
            " '545.48' '364.95' '998.9' '625.32' '429.71' '798.71' '166.25' '31.89'\n",
            " '605.49' '432.37' '486.48' '369.36' '949.65' '829.97' '133.56' '1457.34'\n",
            " '152.6' '768.36' '88.0' '969.19' '924.1' '425.84' '398.91' '466.13'\n",
            " '1115.66' '551.66' '130.54' '1083.29' '978.3' '355.39' '1486.89' '152.98'\n",
            " '1001.74' '1045.08' '440.91' '1334.34' '1049.75' '1161.1' '29.6' '487.44'\n",
            " '159.96' '929.47' '185.7' '638.12' '276.34' '1269.93' '300.63' '556.93'\n",
            " '180.7' '590.85' '1443.78' '108.82' '1447.48' '155.2' '313.06' '697.86'\n",
            " '590.95' '1064.4' '456.02' '154.94' '100.36' '585.77' '1224.88' '1111.34'\n",
            " '1078.8' '851.4' '253.96' '131.52' '1325.84' '799.89' '152.77' '1455.34'\n",
            " '1344.85' '1221.95' '112.54' '1295.67' '1015.79' '485.36' '791.33'\n",
            " '736.97' '748.76' '845.93' '39.46' '903.48' '244.16' '707.33' '887.44'\n",
            " '1030.1' '214.43' '497.75' '925.47' '1073.76' '1231.17' '702.26' '242.61'\n",
            " '327.25' '590.29' '551.18' '804.61' '1238.5' '1234.59' '1123.0' '1396.41'\n",
            " '1127.46' '43.02' '798.78' '1496.8' '543.2' '174.76' '244.5' '1396.62'\n",
            " '1055.32' '671.46' '1137.41' '94.27' '381.06' '1274.89' '617.85' '463.57'\n",
            " '1421.99' '1267.26' '827.59' '1023.62' '707.95' '565.04' '1487.56'\n",
            " '364.42' '1477.96' '1227.21' '1223.02' '721.95' '952.61' '1078.74'\n",
            " '735.37' '1068.66' '1010.73' '48.88' '1153.03' '685.01' '1073.37'\n",
            " '328.44' '1343.5' '1090.59' '1097.83' '719.06' '1382.26' '1474.32'\n",
            " '1262.95' '1048.34' '888.94' '1307.84' '1450.68' '1175.56' '192.99'\n",
            " '954.97' '1004.26' '59.06' '1147.59' '605.24'] \n",
            " -------------------------------------------------------------------------------- \n",
            "\n",
            "Feature: \n",
            " Amount_invested_monthly \n",
            " [nan '104.291825168246' '40.39123782853101' ... '114.64031127895149'\n",
            " '186.11999709022717' '398.16339398601497'] \n",
            " -------------------------------------------------------------------------------- \n",
            "\n",
            "Feature: \n",
            " Monthly_Balance \n",
            " [         nan 470.69062693 484.59121427 ... 966.66268872 895.18300291\n",
            " 723.13960601] \n",
            " -------------------------------------------------------------------------------- \n",
            "\n"
          ]
        }
      ]
    },
    {
      "cell_type": "markdown",
      "source": [
        "By looking at some of the entries above, one thing that could be noticed is that some of these entries contain non-numerical character, such as '-' and '_', while they are supposed to have only numerical character. We will omit both of these special characters from the features, and see if they can be converted into numerical features afterwards."
      ],
      "metadata": {
        "editable": false,
        "id": "SrNDPKBdQocW"
      }
    },
    {
      "cell_type": "code",
      "source": [
        "# handling the empty members in each feature\n",
        "for feature in FeaturesToConvert:\n",
        "    train[feature] = train[feature].replace({'':np.nan})\n",
        "    test[feature] = test[feature].replace({'':np.nan})\n",
        "\n",
        "# trying converting the categorical features into numerical type\n",
        "for feature in FeaturesToConvert:\n",
        "    train[feature] = train[feature].astype('float64')\n",
        "    test[feature] = test[feature].astype('float64')\n",
        "\n",
        "# checking if the conversion is successful\n",
        "for feature in FeaturesToConvert:\n",
        "    print('train dataframe:', feature, '\\n',\n",
        "          train[feature].dtype)\n",
        "    print('test dataframe :', feature, '\\n',\n",
        "          test[feature].dtype, '\\n')"
      ],
      "metadata": {
        "execution": {
          "iopub.status.busy": "2022-11-25T14:13:47.13171Z",
          "iopub.execute_input": "2022-11-25T14:13:47.132128Z",
          "iopub.status.idle": "2022-11-25T14:13:47.946446Z",
          "shell.execute_reply.started": "2022-11-25T14:13:47.132072Z",
          "shell.execute_reply": "2022-11-25T14:13:47.944848Z"
        },
        "editable": false,
        "trusted": true,
        "colab": {
          "base_uri": "https://localhost:8080/"
        },
        "id": "5TRdNj7DQocW",
        "outputId": "fc6d0597-5c71-4510-bde7-f35029fa5e8c"
      },
      "execution_count": null,
      "outputs": [
        {
          "output_type": "stream",
          "name": "stdout",
          "text": [
            "train dataframe: Age \n",
            " float64\n",
            "test dataframe : Age \n",
            " float64 \n",
            "\n",
            "train dataframe: Annual_Income \n",
            " float64\n",
            "test dataframe : Annual_Income \n",
            " float64 \n",
            "\n",
            "train dataframe: Num_of_Loan \n",
            " float64\n",
            "test dataframe : Num_of_Loan \n",
            " float64 \n",
            "\n",
            "train dataframe: Num_of_Delayed_Payment \n",
            " float64\n",
            "test dataframe : Num_of_Delayed_Payment \n",
            " float64 \n",
            "\n",
            "train dataframe: Changed_Credit_Limit \n",
            " float64\n",
            "test dataframe : Changed_Credit_Limit \n",
            " float64 \n",
            "\n",
            "train dataframe: Outstanding_Debt \n",
            " float64\n",
            "test dataframe : Outstanding_Debt \n",
            " float64 \n",
            "\n",
            "train dataframe: Amount_invested_monthly \n",
            " float64\n",
            "test dataframe : Amount_invested_monthly \n",
            " float64 \n",
            "\n",
            "train dataframe: Monthly_Balance \n",
            " float64\n",
            "test dataframe : Monthly_Balance \n",
            " float64 \n",
            "\n"
          ]
        }
      ]
    },
    {
      "cell_type": "markdown",
      "source": [
        "### **IIIb. Cleaning Strings in Credit_History_Age to be Numerical**<a class = \"anchor\" id = \"IIIb\"></a>"
      ],
      "metadata": {
        "editable": false,
        "id": "pc3ga0CeQocW"
      }
    },
    {
      "cell_type": "markdown",
      "source": [
        "The data contained in this feature is meant to show a duration type of data, so for the sake of praticality when dealing with this data later in the analysis and prediction process, the type of data is better not be categorical, but numerical instead. Let's process the data contained in this feature."
      ],
      "metadata": {
        "editable": false,
        "id": "7lNAevMmQocW"
      }
    },
    {
      "cell_type": "code",
      "source": [
        "# taking a quick look again at the data\n",
        "train['Credit_History_Age'].head()"
      ],
      "metadata": {
        "execution": {
          "iopub.status.busy": "2022-11-25T14:13:47.949203Z",
          "iopub.execute_input": "2022-11-25T14:13:47.949976Z",
          "iopub.status.idle": "2022-11-25T14:13:47.958924Z",
          "shell.execute_reply.started": "2022-11-25T14:13:47.949924Z",
          "shell.execute_reply": "2022-11-25T14:13:47.956813Z"
        },
        "editable": false,
        "trusted": true,
        "colab": {
          "base_uri": "https://localhost:8080/"
        },
        "id": "b1k4seLRQocX",
        "outputId": "9eda24f3-cc6c-47c4-a341-46726e246ac3"
      },
      "execution_count": null,
      "outputs": [
        {
          "output_type": "execute_result",
          "data": {
            "text/plain": [
              "0    NaN\n",
              "1    NaN\n",
              "2    NaN\n",
              "3    NaN\n",
              "4    NaN\n",
              "Name: Credit_History_Age, dtype: object"
            ]
          },
          "metadata": {},
          "execution_count": 56
        }
      ]
    },
    {
      "cell_type": "markdown",
      "source": [
        "Since the smallest unit is monthly, we are going to convert the data in monthly unit."
      ],
      "metadata": {
        "editable": false,
        "id": "n85oT2VIQocX"
      }
    },
    {
      "cell_type": "code",
      "source": [
        "# splitting each member of the 'Credit_History_Age' feature\n",
        "SplitHistoryAge = [str(date).split(' ') for date in train['Credit_History_Age']]\n",
        "\n",
        "# getting the year\n",
        "CreditYear = [item[0] for item in SplitHistoryAge]\n",
        "\n",
        "# Converting the year to month\n",
        "CreditYear = [float(x) * 12 for x in CreditYear]\n",
        "\n",
        "# getting the month\n",
        "CreditMonth = []\n",
        "for item in SplitHistoryAge:\n",
        "    if len(item) > 1:\n",
        "        CreditMonth.append(item[3]) # for non-nan member\n",
        "    else:\n",
        "        CreditMonth.append(item[0]) # for nan member\n",
        "\n",
        "# combining the year and month\n",
        "CombinedCreditAge = [float(CreditYear[i]) + float(CreditMonth[i]) for i in range(len(CreditYear))]\n",
        "\n",
        "# assigning the combined month to the 'Credit_History_Age' feature\n",
        "train['Credit_History_Age'] = CombinedCreditAge\n",
        "\n",
        "# checking the first five rows again\n",
        "train['Credit_History_Age'].head()"
      ],
      "metadata": {
        "execution": {
          "iopub.status.busy": "2022-11-25T14:13:47.960758Z",
          "iopub.execute_input": "2022-11-25T14:13:47.96109Z",
          "iopub.status.idle": "2022-11-25T14:13:48.313764Z",
          "shell.execute_reply.started": "2022-11-25T14:13:47.961063Z",
          "shell.execute_reply": "2022-11-25T14:13:48.312311Z"
        },
        "editable": false,
        "trusted": true,
        "colab": {
          "base_uri": "https://localhost:8080/"
        },
        "id": "NnsLzvuCQocX",
        "outputId": "6e327e87-36ff-46d7-ee15-5b09edca27f2"
      },
      "execution_count": null,
      "outputs": [
        {
          "output_type": "execute_result",
          "data": {
            "text/plain": [
              "0   NaN\n",
              "1   NaN\n",
              "2   NaN\n",
              "3   NaN\n",
              "4   NaN\n",
              "Name: Credit_History_Age, dtype: float64"
            ]
          },
          "metadata": {},
          "execution_count": 57
        }
      ]
    },
    {
      "cell_type": "code",
      "source": [
        "# splitting each member of the 'Credit_History_Age' feature\n",
        "SplitHistoryAge = [str(date).split(' ') for date in test['Credit_History_Age']]\n",
        "\n",
        "# getting the year\n",
        "CreditYear = [item[0] for item in SplitHistoryAge]\n",
        "\n",
        "# converting the year to month\n",
        "CreditYear = [float(x) * 12 for x in CreditYear]\n",
        "\n",
        "# getting the month\n",
        "CreditMonth = []\n",
        "for item in SplitHistoryAge:\n",
        "    if len(item) > 1:\n",
        "        CreditMonth.append(item[3]) # for non-nan member\n",
        "    else:\n",
        "        CreditMonth.append(item[0]) # for nan member\n",
        "\n",
        "# combining the year and month\n",
        "CombinedCreditAge = [float(CreditYear[i]) + float(CreditMonth[i]) for i in range(len(CreditYear))]\n",
        "\n",
        "# assigning the combined month to the 'Credit_History_Age' feature\n",
        "test['Credit_History_Age'] = CombinedCreditAge\n",
        "\n",
        "# checking the first five rows again\n",
        "test['Credit_History_Age'].head()"
      ],
      "metadata": {
        "execution": {
          "iopub.status.busy": "2022-11-25T14:13:48.315917Z",
          "iopub.execute_input": "2022-11-25T14:13:48.316273Z",
          "iopub.status.idle": "2022-11-25T14:13:48.59489Z",
          "shell.execute_reply.started": "2022-11-25T14:13:48.316245Z",
          "shell.execute_reply": "2022-11-25T14:13:48.593841Z"
        },
        "editable": false,
        "trusted": true,
        "colab": {
          "base_uri": "https://localhost:8080/"
        },
        "id": "c7UF93YIQocX",
        "outputId": "197ca067-3431-4809-ad8f-ec798413c091"
      },
      "execution_count": null,
      "outputs": [
        {
          "output_type": "execute_result",
          "data": {
            "text/plain": [
              "0      NaN\n",
              "1      NaN\n",
              "2      NaN\n",
              "3      NaN\n",
              "4    327.0\n",
              "Name: Credit_History_Age, dtype: float64"
            ]
          },
          "metadata": {},
          "execution_count": 58
        }
      ]
    },
    {
      "cell_type": "markdown",
      "source": [
        "### **IIIc. Data Cleaning and Engineering Log**<a class = \"anchor\" id = \"IIIc\"></a>"
      ],
      "metadata": {
        "editable": false,
        "id": "0NO0gDyBQocX"
      }
    },
    {
      "cell_type": "markdown",
      "source": [
        "**Data Cleaning and Engineering Phase 1**\n",
        "\n",
        "In the features 'Age', 'Annual_Income', 'Num_of_Loan', 'Num_of_Delayed_Payment', 'Changed_Credit_Limit', 'Outstanding_Debt', 'Amount_invested_monthly', and 'Monthly_Balance' from both Train and Test dataframes, these actions were performed :\n",
        "* Removed the characters '-' and '_'.\n",
        "* Replacing empty values with np.nan, so that the features can be converted into float.\n",
        "* Converting the features into float."
      ],
      "metadata": {
        "editable": false,
        "id": "z0_uhlhCQocX"
      }
    },
    {
      "cell_type": "markdown",
      "source": [
        "## **IV. Data Exploration 2: Categorical Features**<a class = \"anchor\" id = \"IV\"></a>"
      ],
      "metadata": {
        "editable": false,
        "id": "69DNjpkMQocY"
      }
    },
    {
      "cell_type": "markdown",
      "source": [
        "Now that the data type of each feature has been corrected, let us proceed to checking the cleanliness of each feature itself: data validation, spelling errors, missing values, outliers, feature addition or deletion (if needed)."
      ],
      "metadata": {
        "editable": false,
        "id": "AZVn9dxTQocY"
      }
    },
    {
      "cell_type": "markdown",
      "source": [
        "### **IVa. General Overview**<a class = \"anchor\" id = \"IVa\"></a>"
      ],
      "metadata": {
        "editable": false,
        "id": "QNBDs9D5QocY"
      }
    },
    {
      "cell_type": "code",
      "source": [
        "# rechecking the general overview of the Train dataframe after it has been previously modified\n",
        "train.info()"
      ],
      "metadata": {
        "execution": {
          "iopub.status.busy": "2022-11-25T14:13:48.59601Z",
          "iopub.execute_input": "2022-11-25T14:13:48.597043Z",
          "iopub.status.idle": "2022-11-25T14:13:48.652632Z",
          "shell.execute_reply.started": "2022-11-25T14:13:48.596987Z",
          "shell.execute_reply": "2022-11-25T14:13:48.650955Z"
        },
        "editable": false,
        "trusted": true,
        "colab": {
          "base_uri": "https://localhost:8080/"
        },
        "id": "wMkAWoYZQocY",
        "outputId": "be2b3552-82d0-44e3-af67-fecdbc1d7e53"
      },
      "execution_count": null,
      "outputs": [
        {
          "output_type": "stream",
          "name": "stdout",
          "text": [
            "<class 'pandas.core.frame.DataFrame'>\n",
            "RangeIndex: 10008 entries, 0 to 10007\n",
            "Data columns (total 28 columns):\n",
            " #   Column                    Non-Null Count  Dtype  \n",
            "---  ------                    --------------  -----  \n",
            " 0   ID                        10008 non-null  object \n",
            " 1   Customer_ID               2186 non-null   object \n",
            " 2   Month                     2186 non-null   object \n",
            " 3   Name                      1991 non-null   object \n",
            " 4   Age                       2186 non-null   float64\n",
            " 5   SSN                       2186 non-null   object \n",
            " 6   Occupation                2186 non-null   object \n",
            " 7   Annual_Income             2186 non-null   float64\n",
            " 8   Monthly_Inhand_Salary     1883 non-null   float64\n",
            " 9   Num_Bank_Accounts         2186 non-null   float64\n",
            " 10  Num_Credit_Card           2186 non-null   float64\n",
            " 11  Interest_Rate             2186 non-null   float64\n",
            " 12  Num_of_Loan               2186 non-null   float64\n",
            " 13  Type_of_Loan              1016 non-null   object \n",
            " 14  Delay_from_due_date       2186 non-null   float64\n",
            " 15  Num_of_Delayed_Payment    2017 non-null   float64\n",
            " 16  Changed_Credit_Limit      2147 non-null   float64\n",
            " 17  Num_Credit_Inquiries      2124 non-null   float64\n",
            " 18  Credit_Mix                2186 non-null   object \n",
            " 19  Outstanding_Debt          2186 non-null   float64\n",
            " 20  Credit_Utilization_Ratio  2186 non-null   float64\n",
            " 21  Credit_History_Age        1982 non-null   float64\n",
            " 22  Payment_of_Min_Amount     2186 non-null   object \n",
            " 23  Total_EMI_per_month       2186 non-null   float64\n",
            " 24  Amount_invested_monthly   2107 non-null   float64\n",
            " 25  Payment_Behaviour         2186 non-null   object \n",
            " 26  Monthly_Balance           2180 non-null   float64\n",
            " 27  Credit_Score              2186 non-null   object \n",
            "dtypes: float64(17), object(11)\n",
            "memory usage: 2.1+ MB\n"
          ]
        }
      ]
    },
    {
      "cell_type": "code",
      "source": [
        "# rechecking the general overview of the Test dataframe after it has been previously modified\n",
        "test.info()"
      ],
      "metadata": {
        "execution": {
          "iopub.status.busy": "2022-11-25T14:13:48.654746Z",
          "iopub.execute_input": "2022-11-25T14:13:48.655059Z",
          "iopub.status.idle": "2022-11-25T14:13:48.692072Z",
          "shell.execute_reply.started": "2022-11-25T14:13:48.655033Z",
          "shell.execute_reply": "2022-11-25T14:13:48.690734Z"
        },
        "editable": false,
        "trusted": true,
        "colab": {
          "base_uri": "https://localhost:8080/"
        },
        "id": "yLm_BpPdQocY",
        "outputId": "11f06cda-639b-40ec-ebdf-c800e509fc31"
      },
      "execution_count": null,
      "outputs": [
        {
          "output_type": "stream",
          "name": "stdout",
          "text": [
            "<class 'pandas.core.frame.DataFrame'>\n",
            "RangeIndex: 5003 entries, 0 to 5002\n",
            "Data columns (total 27 columns):\n",
            " #   Column                    Non-Null Count  Dtype  \n",
            "---  ------                    --------------  -----  \n",
            " 0   ID                        5003 non-null   object \n",
            " 1   Customer_ID               1093 non-null   object \n",
            " 2   Month                     1093 non-null   object \n",
            " 3   Name                      985 non-null    object \n",
            " 4   Age                       1093 non-null   float64\n",
            " 5   SSN                       1093 non-null   object \n",
            " 6   Occupation                1093 non-null   object \n",
            " 7   Annual_Income             1093 non-null   float64\n",
            " 8   Monthly_Inhand_Salary     946 non-null    float64\n",
            " 9   Num_Bank_Accounts         1093 non-null   float64\n",
            " 10  Num_Credit_Card           1093 non-null   float64\n",
            " 11  Interest_Rate             1093 non-null   float64\n",
            " 12  Num_of_Loan               1093 non-null   float64\n",
            " 13  Type_of_Loan              508 non-null    object \n",
            " 14  Delay_from_due_date       1093 non-null   float64\n",
            " 15  Num_of_Delayed_Payment    1017 non-null   float64\n",
            " 16  Changed_Credit_Limit      1068 non-null   float64\n",
            " 17  Num_Credit_Inquiries      1069 non-null   float64\n",
            " 18  Credit_Mix                1093 non-null   object \n",
            " 19  Outstanding_Debt          1093 non-null   float64\n",
            " 20  Credit_Utilization_Ratio  1093 non-null   float64\n",
            " 21  Credit_History_Age        1006 non-null   float64\n",
            " 22  Payment_of_Min_Amount     1093 non-null   object \n",
            " 23  Total_EMI_per_month       1093 non-null   float64\n",
            " 24  Amount_invested_monthly   1049 non-null   float64\n",
            " 25  Payment_Behaviour         1093 non-null   object \n",
            " 26  Monthly_Balance           1091 non-null   float64\n",
            "dtypes: float64(17), object(10)\n",
            "memory usage: 1.0+ MB\n"
          ]
        }
      ]
    },
    {
      "cell_type": "code",
      "source": [
        "# storing the categorical column name into a list\n",
        "CatFeatures = []\n",
        "for feature in train.columns:\n",
        "    if train[feature].dtype == 'object':\n",
        "        CatFeatures.append(feature)\n",
        "\n",
        "# storing the numerical column name into a list\n",
        "NumFeatures = []\n",
        "for feature in train.columns:\n",
        "    if train[feature].dtype == 'float64' or train[feature].dtype == 'int64':\n",
        "        NumFeatures.append(feature)"
      ],
      "metadata": {
        "execution": {
          "iopub.status.busy": "2022-11-25T14:13:48.693499Z",
          "iopub.execute_input": "2022-11-25T14:13:48.695182Z",
          "iopub.status.idle": "2022-11-25T14:13:48.702953Z",
          "shell.execute_reply.started": "2022-11-25T14:13:48.695043Z",
          "shell.execute_reply": "2022-11-25T14:13:48.701344Z"
        },
        "editable": false,
        "trusted": true,
        "id": "m0FRMh3xQocY"
      },
      "execution_count": null,
      "outputs": []
    },
    {
      "cell_type": "markdown",
      "source": [
        "### **IVb. Items Spelling Checking**<a class = \"anchor\" id = \"IVb\"></a>"
      ],
      "metadata": {
        "editable": false,
        "id": "-egF_5M3QocY"
      }
    },
    {
      "cell_type": "code",
      "source": [
        "# checking the unique values of categorical features in train dataframe\n",
        "for feature in CatFeatures:\n",
        "    uniques = train[feature].unique()\n",
        "    print('Feature:', '\\n',\n",
        "          colored(feature, attrs = ['bold']), '\\n',\n",
        "          uniques, '\\n',\n",
        "          'Unique values = ', len(train[feature].unique()), '\\n',\n",
        "          '--'*40, '\\n')"
      ],
      "metadata": {
        "execution": {
          "iopub.status.busy": "2022-11-25T14:13:48.710894Z",
          "iopub.execute_input": "2022-11-25T14:13:48.711254Z",
          "iopub.status.idle": "2022-11-25T14:13:48.895355Z",
          "shell.execute_reply.started": "2022-11-25T14:13:48.711226Z",
          "shell.execute_reply": "2022-11-25T14:13:48.893674Z"
        },
        "editable": false,
        "trusted": true,
        "colab": {
          "base_uri": "https://localhost:8080/"
        },
        "id": "Wsp3sGtcQocZ",
        "outputId": "d899caa0-a132-4790-a7d1-cd14a00040ca"
      },
      "execution_count": null,
      "outputs": [
        {
          "output_type": "stream",
          "name": "stdout",
          "text": [
            "Feature: \n",
            " ID \n",
            " ['0x1602,CUS_0xd40,January,Aaron Maashoh,23,821-00-0265,Scientist,19114.12,1824.8433333333328,3,4,3,4,\"Auto Loan, Credit-Builder Loan, Personal Loan, and Home Equity Loan\",3,7,11.27,4.0,_,809.98,26.822619623699016,22 Years and 1 Months,No,49.57494921489417,80.41529543900253,High_spent_Small_value_payments,312.49408867943663,Good'\n",
            " '0x1603,CUS_0xd40,February,Aaron Maashoh,23,821-00-0265,Scientist,19114.12,,3,4,3,4,\"Auto Loan, Credit-Builder Loan, Personal Loan, and Home Equity Loan\",-1,,11.27,4.0,Good,809.98,31.94496005538421,NA,No,49.57494921489417,118.28022162236736,Low_spent_Large_value_payments,284.62916249607184,Good'\n",
            " '0x1604,CUS_0xd40,March,Aaron Maashoh,-500,821-00-0265,Scientist,19114.12,,3,4,3,4,\"Auto Loan, Credit-Builder Loan, Personal Loan, and Home Equity Loan\",3,7,_,4.0,Good,809.98,28.60935202206993,22 Years and 3 Months,No,49.57494921489417,81.699521264648,Low_spent_Medium_value_payments,331.2098628537912,Good'\n",
            " ...\n",
            " '0x509f,CUS_0x229f,June,,45,547-53-2472,Scientist,20261.85,1598.4875,7,7,16,7,\"Student Loan, Mortgage Loan, Credit-Builder Loan, Not Specified, Debt Consolidation Loan, Auto Loan, and Debt Consolidation Loan\",50,17,9.09,10.0,Bad,1300.71,39.272537182230394,14 Years and 7 Months,Yes,96.40963543098313,,Low_spent_Small_value_payments,217.52876330943275,Poor'\n",
            " '0x50a0,CUS_0x229f,July,all Davidt,45,547-53-2472,Scientist,20261.85,1598.4875,7,7,16,7,\"Student Loan, Mortgage Loan, Credit-Builder Loan, Not Specified, Debt Consolidation Loan, Auto Loan, and Debt Consolidation Loan\",53,17,9.09,10.0,_,1300.71,27.105943273568894,14 Years and 8 Months,Yes,96.40963543098313,36.18953534593323,High_spent_Large_value_payments,267.24957922308363,Poor'\n",
            " '0x50a1,CUS_0x229f,August,all Davidt,45,547-53-2472,Scientist,20261.85,1598.4875,7,7,16,7,\"Student Loan, Mortgage Loan, Credit-Builder Loan, Not Specified, Debt Consolidation Loan, Auto Loan, and Debt Consolidation Loan\",54,17,9.09,10.0,Bad,1300.71,26.984182456986517,14 Years and 9 Months,Yes,96.40963543098313,72.2251947000315,Low_spent_Small_value_payments,281.2139198689854,Poor'] \n",
            " Unique values =  10008 \n",
            " -------------------------------------------------------------------------------- \n",
            "\n",
            "Feature: \n",
            " Customer_ID \n",
            " [nan 'CUS_0x21b1' 'CUS_0xb891' 'CUS_0x1cdb' 'CUS_0x95ee' 'CUS_0x6070'\n",
            " 'CUS_0x3553' 'CUS_0x132f' 'CUS_0xac86' 'CUS_0x3edc' 'CUS_0x9b94'\n",
            " 'CUS_0xb5ff' 'CUS_0xaedb' 'CUS_0x9ce6' 'CUS_0x3f5b' 'CUS_0x9f70'\n",
            " 'CUS_0x6cbb' 'CUS_0x6649' 'CUS_0xa27e' 'CUS_0x6794' 'CUS_0x3861'\n",
            " 'CUS_0x240d' 'CUS_0x2652' 'CUS_0x259a' 'CUS_0x28b5' 'CUS_0x7250'\n",
            " 'CUS_0x7878' 'CUS_0x1c09' 'CUS_0x9073' 'CUS_0x2813' 'CUS_0x365a'\n",
            " 'CUS_0x567b' 'CUS_0x21e6' 'CUS_0x7a22' 'CUS_0xc1c9' 'CUS_0x230a'\n",
            " 'CUS_0x32a5' 'CUS_0xb000' 'CUS_0x1a96' 'CUS_0x31d5' 'CUS_0xfcc'\n",
            " 'CUS_0xc5a0' 'CUS_0x3e81' 'CUS_0x3702' 'CUS_0x67e1' 'CUS_0x100b'\n",
            " 'CUS_0x4e3c' 'CUS_0x1d4e' 'CUS_0x93ff' 'CUS_0x493c' 'CUS_0x23a6'\n",
            " 'CUS_0x49da' 'CUS_0xbbf3' 'CUS_0x2c31' 'CUS_0x46d4' 'CUS_0x9951'\n",
            " 'CUS_0x1f9e' 'CUS_0xc434' 'CUS_0x4f04' 'CUS_0x8a6e' 'CUS_0x77d1'\n",
            " 'CUS_0x4655' 'CUS_0xbd08' 'CUS_0x7cfc' 'CUS_0xd05' 'CUS_0xf59'\n",
            " 'CUS_0x3b5d' 'CUS_0x3ce3' 'CUS_0xa706' 'CUS_0x79b' 'CUS_0x96e'\n",
            " 'CUS_0x56d1' 'CUS_0xae0e' 'CUS_0x62a4' 'CUS_0x6346' 'CUS_0xa1ea'\n",
            " 'CUS_0x8c03' 'CUS_0x7d27' 'CUS_0x51e' 'CUS_0xab3b' 'CUS_0x4c34'\n",
            " 'CUS_0x3d51' 'CUS_0x9fff' 'CUS_0x797d' 'CUS_0x6065' 'CUS_0xb563'\n",
            " 'CUS_0xa560' 'CUS_0x4c3e' 'CUS_0x41e4' 'CUS_0x4e8b' 'CUS_0xc23d'\n",
            " 'CUS_0x8153' 'CUS_0x51b' 'CUS_0x9eec' 'CUS_0xe94' 'CUS_0x3474'\n",
            " 'CUS_0xad9d' 'CUS_0x247e' 'CUS_0xa9a9' 'CUS_0x68c8' 'CUS_0x1d3e'\n",
            " 'CUS_0xa83a' 'CUS_0x43c6' 'CUS_0x534a' 'CUS_0x36d5' 'CUS_0x4a74'\n",
            " 'CUS_0xa6d9' 'CUS_0x58d0' 'CUS_0x52e7' 'CUS_0xc4c9' 'CUS_0x2719'\n",
            " 'CUS_0xae79' 'CUS_0x136b' 'CUS_0x3069' 'CUS_0x9dc3' 'CUS_0x86be'\n",
            " 'CUS_0x4236' 'CUS_0xb87a' 'CUS_0x666a' 'CUS_0x1a5a' 'CUS_0x4354'\n",
            " 'CUS_0x40e6' 'CUS_0x7245' 'CUS_0x6bb2' 'CUS_0x3019' 'CUS_0x4a3f'\n",
            " 'CUS_0xb90d' 'CUS_0x6cc' 'CUS_0xc6d8' 'CUS_0x868f' 'CUS_0x23b2'\n",
            " 'CUS_0x687c' 'CUS_0xaf5f' 'CUS_0x7ce5' 'CUS_0xa56d' 'CUS_0xdc0'\n",
            " 'CUS_0x8e53' 'CUS_0x406' 'CUS_0xba20' 'CUS_0x864' 'CUS_0x84da'\n",
            " 'CUS_0x7cd3' 'CUS_0x6926' 'CUS_0x9641' 'CUS_0x2e96' 'CUS_0x1baf'\n",
            " 'CUS_0x3e37' 'CUS_0x5840' 'CUS_0x9c95' 'CUS_0xacc6' 'CUS_0x9027'\n",
            " 'CUS_0x5c28' 'CUS_0x2a03' 'CUS_0xbaa9' 'CUS_0xd51' 'CUS_0x672e'\n",
            " 'CUS_0x77ac' 'CUS_0x800' 'CUS_0x8a0e' 'CUS_0x5d82' 'CUS_0x1fa0'\n",
            " 'CUS_0x7546' 'CUS_0x541' 'CUS_0x64a1' 'CUS_0x1e17' 'CUS_0x105b'\n",
            " 'CUS_0x4b2c' 'CUS_0x5413' 'CUS_0xa0a2' 'CUS_0x3188' 'CUS_0x2a36'\n",
            " 'CUS_0x79bd' 'CUS_0x8ab5' 'CUS_0xb05a' 'CUS_0xc594' 'CUS_0x10ee'\n",
            " 'CUS_0x2847' 'CUS_0xc683' 'CUS_0xa872' 'CUS_0x3c47' 'CUS_0x6563'\n",
            " 'CUS_0x37d2' 'CUS_0x4eea' 'CUS_0xbfa0' 'CUS_0x8ee3' 'CUS_0x9c30'\n",
            " 'CUS_0x45f4' 'CUS_0xc490' 'CUS_0x6edb' 'CUS_0x5ff8' 'CUS_0x89ca'\n",
            " 'CUS_0x9ec9' 'CUS_0x598d' 'CUS_0x9894' 'CUS_0x8a90' 'CUS_0x6b15'\n",
            " 'CUS_0x1d15' 'CUS_0x29d2' 'CUS_0xaa39' 'CUS_0x88a' 'CUS_0x6171'\n",
            " 'CUS_0x72e9' 'CUS_0x85d3' 'CUS_0xa130' 'CUS_0xaca6' 'CUS_0x6d22'\n",
            " 'CUS_0xbbf5' 'CUS_0x6479' 'CUS_0xc163' 'CUS_0x9931' 'CUS_0x9d9a'\n",
            " 'CUS_0x9ecd' 'CUS_0x738f' 'CUS_0x3cd2' 'CUS_0xa374' 'CUS_0x5088'\n",
            " 'CUS_0xc3ee' 'CUS_0xbe9d' 'CUS_0xa301' 'CUS_0x92fc' 'CUS_0x3de8'\n",
            " 'CUS_0x88f2' 'CUS_0x60d8' 'CUS_0x4d2e' 'CUS_0x37c9' 'CUS_0x3cb6'\n",
            " 'CUS_0x1947' 'CUS_0xacc7' 'CUS_0x5ae6' 'CUS_0x830e' 'CUS_0x5647'\n",
            " 'CUS_0x6472' 'CUS_0x70e8' 'CUS_0xb80c' 'CUS_0x4450' 'CUS_0x5479'\n",
            " 'CUS_0x3356' 'CUS_0x2b83' 'CUS_0xa232' 'CUS_0x2cbc' 'CUS_0x2a75'\n",
            " 'CUS_0x9e6c' 'CUS_0x4b8' 'CUS_0x8cd4' 'CUS_0xb3cb' 'CUS_0x3798'\n",
            " 'CUS_0x83cc' 'CUS_0xa972' 'CUS_0x39ff' 'CUS_0x7cd8' 'CUS_0x19b5'\n",
            " 'CUS_0x4af2' 'CUS_0xa340' 'CUS_0x73c2' 'CUS_0xc3cf' 'CUS_0x3655'\n",
            " 'CUS_0x4b19' 'CUS_0x26be' 'CUS_0x28a3' 'CUS_0x7877' 'CUS_0x8715'\n",
            " 'CUS_0x88c1' 'CUS_0x8b8' 'CUS_0xc3d8' 'CUS_0x4b3c' 'CUS_0x59ba'\n",
            " 'CUS_0x4c56' 'CUS_0x505f' 'CUS_0x8688' 'CUS_0x3d5b' 'CUS_0x13a8'\n",
            " 'CUS_0xc2ba' 'CUS_0xa2b2' 'CUS_0x523b' 'CUS_0xc42d' 'CUS_0x3ba7'] \n",
            " Unique values =  276 \n",
            " -------------------------------------------------------------------------------- \n",
            "\n",
            "Feature: \n",
            " Month \n",
            " [nan 'January' 'February' 'March' 'April' 'May' 'June' 'July' 'August'] \n",
            " Unique values =  9 \n",
            " -------------------------------------------------------------------------------- \n",
            "\n",
            "Feature: \n",
            " Name \n",
            " [nan 'Rick Rothackerj' 'Jasond' 'Deepaa' 'Np' 'Parkm' 'Laurence Frosty'\n",
            " 'Mark Felsenthald' 'Nickb' 'Williamso' 'Bri' 'Nateg' 'Olivia Oranr' 'Ekr'\n",
            " 'Mikeh' 'Michelley' 'Oreskovicv' 'Slaterf' 'Papadimaso' 'Raymondl'\n",
            " 'Fiona Ortizx' 'Taiga Uranakan' 'Suev' 'Allison Martelly' 'Stempeln'\n",
            " 'Doris Frankelj' 'Anna Driverq' 'Ritsukoh' 'Matt Falloono'\n",
            " 'John McCrankg' 'Aless ray' 'Marilynj' 'Strupczewskid' 'Sabam'\n",
            " 'Jessica Toonkelx' 'Lashx' 'Frazierm' 'Sinead Carewi' 'Mutikanit'\n",
            " 'Suvashree Deyy' 'Gillesb' 'Chuck Mikolajczaky' 'Barbashr' 'Cablef'\n",
            " 'Shirboni' 'Toonkeld' 'McCranke' 'Roumeliotisv' 'Taylorj' 'Valetkevitchm'\n",
            " 'Lashh' 'Laura Noonanp' 'Yokog' 'Chann' 'Doug Palmerf' 'Joyce Leeo'\n",
            " 'Mariannae' 'Suvashree Deyw' 'Annab' 'Alpere' 'Lawdert'\n",
            " 'Andrea Shalal-Esag' 'Shalal-Esaf' 'Daniel Flynnu' 'Huntt' 'Fooa'\n",
            " 'Euan Rochai' 'Matthiasr' 'Chuckl' 'Melissaj' 'Bena' 'Henryu'\n",
            " 'Wolde Katel' 'Suzanneb' 'Pedro Nicolacim' 'Drivera' 'Polinaa' 'Edwardsi'\n",
            " 'Grovert' 'Melaniez' 'Baertleinm' 'Tenf' 'Leskeb' 'Cremerp' 'Kirstinj'\n",
            " 'Mark Felsenthalr' 'Paolo Biondik' 'Leika Kiharad' 'Sarahy' 'Luciax'\n",
            " 'Leikag' 'Dixonb' 'Jonathan Stempelz' 'Nishanta' 'Ransdellv'\n",
            " 'Valentina Zaf' 'Jenniferc' 'Ranganathany' 'Andrei Khalipz'\n",
            " 'Wayne Arnoldt' 'Niu Shupingq' 'erl' 'Lisas' 'Soyoung Kimm' 'Dennyb'\n",
            " 'Sineads' 'Alistair Barrl' 'Carolyn Cohnn' 'Melj' 'Svea Herbst-Baylisst'\n",
            " 'Timothy Gardnerx' 'Luciana Otonit' 'Matt Scuffhamj' 'en Berkowitzi'\n",
            " 'Jenniferk' 'Noelq' 'Farah Mastere' 'Reijiy' 'Petes' 'Euanv' 'ra Hudsonp'\n",
            " 'Gabriel Wildauv' 'Svea Herbst-Baylissd' 'Annika Breidthardto'\n",
            " 'Poornima Guptav' 'Jennifer Clarku' 'Manuela Badawyw' 'Fletcherb'\n",
            " 'Can Sezerh' 'Lawrence Whiter' 'Melissa Akink' 'Raymondy' 'Singhj'\n",
            " 'Kellyg' 'Geert Den' 'Lucianar' 'Robert-Jano' 'Bryane' 'Emmottf'\n",
            " 'Tara LaCapraa' 'Nawagunan' 'Marc Jonesc' 'Blamontg' 'Carolinex'\n",
            " 'Andrea Shalal-Esap' 'Eric Holmbergu' 'Alexw' 'Adegokej' 'Sheppardx'\n",
            " 'Shihg' 'Leahe' 'Pauln' 'Alexei Oreskovicz' 'Leelaq' 'Huffstutterb'\n",
            " 'Walteru' 'Andjarsari Paramadithau' 'Gellera' 'Achery' 'Jim Christieg'\n",
            " 'Brownt' 'Paul Carrels' 'Rochad' 'Stecklowz' 'Patricia Zengerlel'\n",
            " 'Claire Davenporte' 'Erinx' 'Andreas' 'Sullivanr' 'Steve Gelsiv'\n",
            " 'Flitterk' 'Padraic Halpinf' 'Ethan Bilbys' 'Jan Harveyh' 'Hudsonb'\n",
            " 'Kirstine' 'Tim Kellyh' 'arani Krishnanj' 'Carlynl' 'Massimoy'\n",
            " 'Kevin Yaou' 'Ryan Vlastelicai' 'Keith Weirk' 'Lisa Baertleinb' 'Walterg'\n",
            " 'Taylorx' 'Robin Emmottx' 'Barre' 'Nanette Byrnesz' 'Brucep' 'Andrease'\n",
            " 'Alan Wheatleyu' 'Adegokeq' 'Clare Jimz' 'Dominiquey' 'Timk'\n",
            " 'Georgina Prodhanw' 'Raymondf' 'Holtonb' 'Parizg' 'Sue Zeidlerq'\n",
            " 'Steven Scheery' 'Jana' 'Matt Falloonm' 'Tetsushi Kajimotog' 'Oranw'\n",
            " 'Jason Langeg' 'Wilkesx' 'Tanya Agrawalm' 'Katharina Barty' 'Kanekoj'\n",
            " 'Paritosh Bansalq' 'Kirschbauml' 'Dominic Lauy' 'Yunc' 'Dineshp'\n",
            " 'Daniele' 'Himank Sharmag' 'Dennyn' 'Benk' 'Laurenz' 'Davenportj'\n",
            " 'Casey Sullivans' 'Andy Brucet' 'Danielz' 'Lisaf' 'Soyoungh'\n",
            " 'Julien Toyerg' 'Soyoung Kimx' 'Olesya Dmitracovaa' 'Nadia Damounix'\n",
            " 'Edwardsl' 'Henryl' 'Alexr' 'Shihv' 'Carlosm' 'Ashley Laui'\n",
            " 'Kirstin Ridleya' 'Danielp' 'Armstrongm' 'Karen Freifeldq' 'Rhysx'\n",
            " 'Wahbao' 'Jacobse' 'Pedrox' 'Denny Thomasp' 'Jan Strupczewskip'\n",
            " 'Tim Hepherw' 'Balazs Koranyiz' 'Bartuneks' 'Michele Kambasq' 'Ransdellw'\n",
            " 'Skariachanq' 'Silviac' 'Pollardu' 'Silke Koltrowitzb' 'Chi'\n",
            " 'Frank Siebeltu' 'Mackeye' 'Angela Moony' 'Praveen Menony' 'LaCapral'\n",
            " 'Georgiopoulosl' 'ernard Vaughang' 'Ruckero' 'Nigelg' 'Baileyz' 'Willsf'\n",
            " 'Pedro Nicolaciz' 'Karen Freifeldg' 'Camposg' 'laise Robinsonl'] \n",
            " Unique values =  272 \n",
            " -------------------------------------------------------------------------------- \n",
            "\n",
            "Feature: \n",
            " SSN \n",
            " [nan '004-07-5839' '072-31-6145' '#F%$D@*&8' '615-06-7821' '612-70-8987'\n",
            " '891-55-9364' '084-25-3745' '561-60-9294' '028-16-4402' '663-16-3845'\n",
            " '734-54-7098' '060-81-1328' '272-47-1135' '101-11-3105' '744-11-7914'\n",
            " '147-76-6929' '308-38-8791' '548-03-9919' '898-94-0497' '204-14-2702'\n",
            " '212-32-2085' '087-22-6137' '062-29-3192' '727-40-9990' '016-73-2103'\n",
            " '651-67-7536' '037-28-6132' '365-73-8387' '751-65-6458' '361-34-7350'\n",
            " '026-57-5729' '542-44-1751' '328-75-6365' '478-48-4669' '085-10-1065'\n",
            " '902-99-6202' '900-72-1051' '087-15-2781' '405-79-5399' '325-07-8725'\n",
            " '388-13-4625' '650-73-8163' '443-33-4707' '232-80-7977' '298-35-2655'\n",
            " '238-62-0395' '624-70-5384' '182-25-5092' '237-50-9740' '977-92-2690'\n",
            " '564-11-2906' '915-13-4225' '111-86-2174' '680-06-0631' '038-09-8528'\n",
            " '735-73-7454' '192-60-6723' '891-36-0838' '546-04-1407' '413-30-1170'\n",
            " '085-79-9089' '341-38-6599' '605-66-3118' '608-99-2576' '600-02-1948'\n",
            " '008-37-9819' '341-44-0136' '319-42-1987' '475-31-3601' '773-62-4134'\n",
            " '394-26-5712' '203-76-0108' '063-40-8380' '287-49-6561' '005-96-9331'\n",
            " '390-23-8969' '739-21-8242' '573-84-1711' '946-94-7531' '747-67-2935'\n",
            " '019-49-4119' '092-73-8014' '826-73-0532' '178-56-1075' '332-11-5896'\n",
            " '782-43-1037' '316-70-8777' '181-99-1436' '803-07-6149' '961-90-2351'\n",
            " '031-88-3485' '596-27-5459' '551-15-6622' '148-15-4934' '353-56-0782'\n",
            " '995-56-2550' '771-56-8439' '368-98-6866' '948-77-3611' '094-43-4653'\n",
            " '579-15-1527' '389-32-0105' '411-18-3032' '309-86-5134' '171-27-0494'\n",
            " '679-28-0350' '403-15-3171' '843-52-9642' '641-27-8461' '147-54-4253'\n",
            " '994-82-7635' '141-97-1553' '444-16-2415' '916-30-5005' '698-31-2770'\n",
            " '776-18-7804' '114-87-5312' '271-91-2987' '245-04-8958' '225-82-5288'\n",
            " '895-48-7601' '539-46-2692' '317-82-2638' '462-73-7328' '346-10-4963'\n",
            " '618-70-2997' '829-50-2241' '948-41-6796' '150-35-9577' '012-56-7252'\n",
            " '375-23-9321' '176-23-7608' '512-99-1299' '954-97-8593' '299-50-2330'\n",
            " '344-18-7699' '494-42-3830' '473-73-3353' '025-60-8624' '610-69-9615'\n",
            " '107-35-4416' '627-28-9742' '659-41-7297' '618-38-7599' '735-57-7317'\n",
            " '589-48-5213' '334-58-2603' '035-85-5019' '667-92-0559' '398-58-0171'\n",
            " '574-10-7802' '770-33-0635' '620-62-0897' '334-44-6939' '619-18-6998'\n",
            " '244-12-1541' '453-25-4571' '649-53-5022' '601-77-9732' '555-45-9905'\n",
            " '765-58-3710' '865-51-0008' '313-45-4006' '159-88-1119' '912-22-4304'\n",
            " '066-65-6008' '993-03-5805' '148-38-7097' '044-85-4173' '731-41-2167'\n",
            " '422-39-2689' '419-74-7436' '745-89-0277' '206-93-4046' '330-58-4458'\n",
            " '699-80-2426' '840-37-8707' '246-48-2462' '247-23-2005' '435-87-4518'\n",
            " '655-12-3066' '102-42-9445' '316-42-8917' '363-38-1656' '356-40-2929'\n",
            " '868-57-3911' '522-60-2083' '760-30-1179' '264-57-9830' '202-67-9333'\n",
            " '152-28-1148' '946-36-0628' '199-80-5451' '195-64-7301' '717-70-6732'\n",
            " '271-73-6638' '721-59-8577' '393-54-2423' '955-57-1867' '902-08-7981'\n",
            " '584-89-4764' '220-24-0606' '797-70-1368' '834-71-0072' '108-44-7721'\n",
            " '564-68-2345' '413-06-1083' '219-01-0237' '552-86-7671' '165-19-3346'\n",
            " '456-78-8568' '556-82-8148' '995-65-2513' '984-94-3425' '646-84-2918'\n",
            " '058-85-7676' '971-78-9268' '667-33-3115' '989-57-9015' '437-25-0267'\n",
            " '614-99-8314' '460-29-2746' '592-18-2639' '280-54-8121' '861-27-2816'\n",
            " '918-41-4565' '715-00-9807' '417-24-5530' '623-79-4308' '864-43-4445'\n",
            " '365-06-9242' '416-81-5863' '381-87-7038' '933-92-6980' '066-49-5269'\n",
            " '087-00-0175' '050-91-7855' '120-91-8866' '145-48-1658' '698-09-7729'\n",
            " '079-38-0782' '082-40-0447' '587-15-5826' '776-50-5932' '304-95-5483'\n",
            " '698-19-2277' '889-16-8033' '974-41-8956' '248-94-4825' '454-37-7311'\n",
            " '331-73-1353' '129-44-0183' '328-38-0262' '145-67-6657' '126-62-0007'\n",
            " '512-00-8324' '354-88-6563' '879-76-2190' '948-70-3925' '221-73-6374'\n",
            " '368-39-6835' '417-39-8051' '111-65-7825' '781-21-4555' '525-42-1729'\n",
            " '242-77-0513' '673-06-2525' '687-21-4004' '200-70-4803' '929-10-9575'\n",
            " '918-56-2439' '476-61-8687' '753-72-2651' '967-55-6862' '467-64-3033'\n",
            " '827-88-5387'] \n",
            " Unique values =  277 \n",
            " -------------------------------------------------------------------------------- \n",
            "\n",
            "Feature: \n",
            " Occupation \n",
            " [nan '_______' 'Teacher' 'Entrepreneur' 'Developer' 'Lawyer' 'Accountant'\n",
            " 'Musician' 'Manager' 'Media_Manager' 'Doctor' 'Mechanic' 'Architect'\n",
            " 'Engineer' 'Journalist' 'Scientist' 'Writer'] \n",
            " Unique values =  17 \n",
            " -------------------------------------------------------------------------------- \n",
            "\n",
            "Feature: \n",
            " Type_of_Loan \n",
            " [nan 'Credit-Builder Loan' 'Not Specified' 'Debt Consolidation Loan'\n",
            " 'Auto Loan' 'Home Equity Loan' 'Student Loan' 'Personal Loan'\n",
            " 'Payday Loan' 'Mortgage Loan'] \n",
            " Unique values =  10 \n",
            " -------------------------------------------------------------------------------- \n",
            "\n",
            "Feature: \n",
            " Credit_Mix \n",
            " [nan 'Good' '_' 'Standard'] \n",
            " Unique values =  4 \n",
            " -------------------------------------------------------------------------------- \n",
            "\n",
            "Feature: \n",
            " Payment_of_Min_Amount \n",
            " [nan 'No' 'NM' 'Yes'] \n",
            " Unique values =  4 \n",
            " -------------------------------------------------------------------------------- \n",
            "\n",
            "Feature: \n",
            " Payment_Behaviour \n",
            " [nan 'Low_spent_Small_value_payments' 'High_spent_Large_value_payments'\n",
            " 'Low_spent_Medium_value_payments' 'High_spent_Medium_value_payments'\n",
            " 'Low_spent_Large_value_payments' 'High_spent_Small_value_payments'\n",
            " '!@9#%8'] \n",
            " Unique values =  8 \n",
            " -------------------------------------------------------------------------------- \n",
            "\n",
            "Feature: \n",
            " Credit_Score \n",
            " [nan 'Standard' 'Good' 'Poor'] \n",
            " Unique values =  4 \n",
            " -------------------------------------------------------------------------------- \n",
            "\n"
          ]
        }
      ]
    },
    {
      "cell_type": "code",
      "source": [
        "# checking the unique values categorical features in test dataframe\n",
        "for feature in CatFeatures[:-1]:\n",
        "    uniques = test[feature].unique()\n",
        "    print('Feature:', '\\n',\n",
        "          colored(feature, attrs = ['bold']), '\\n',\n",
        "          uniques, '\\n',\n",
        "          'Unique values = ', len(test[feature].unique()), '\\n',\n",
        "          '--'*40, '\\n')"
      ],
      "metadata": {
        "execution": {
          "iopub.status.busy": "2022-11-25T14:13:48.896986Z",
          "iopub.execute_input": "2022-11-25T14:13:48.897292Z",
          "iopub.status.idle": "2022-11-25T14:13:48.991849Z",
          "shell.execute_reply.started": "2022-11-25T14:13:48.897266Z",
          "shell.execute_reply": "2022-11-25T14:13:48.990068Z"
        },
        "editable": false,
        "trusted": true,
        "colab": {
          "base_uri": "https://localhost:8080/"
        },
        "id": "9wfAOjAUQocZ",
        "outputId": "79e1df54-a3a8-4509-acb9-e5cdb1e7bf16"
      },
      "execution_count": null,
      "outputs": [
        {
          "output_type": "stream",
          "name": "stdout",
          "text": [
            "Feature: \n",
            " ID \n",
            " ['0x160a,CUS_0xd40,September,Aaron Maashoh,23,821-00-0265,Scientist,19114.12,1824.8433333333328,3,4,3,4,\"Auto Loan, Credit-Builder Loan, Personal Loan, and Home Equity Loan\",3,7,11.27,2022.0,Good,809.98,35.03040185583525,22 Years and 9 Months,No,49.57494921489417,236.64268203272135,Low_spent_Small_value_payments,186.26670208571772'\n",
            " '0x160b,CUS_0xd40,October,Aaron Maashoh,24,821-00-0265,Scientist,19114.12,1824.8433333333328,3,4,3,4,\"Auto Loan, Credit-Builder Loan, Personal Loan, and Home Equity Loan\",3,9,13.27,4.0,Good,809.98,33.053114497012245,22 Years and 10 Months,No,49.57494921489417,21.465380264657146,High_spent_Medium_value_payments,361.44400385378196'\n",
            " '0x160c,CUS_0xd40,November,Aaron Maashoh,24,821-00-0265,Scientist,19114.12,1824.8433333333328,3,4,3,4,\"Auto Loan, Credit-Builder Loan, Personal Loan, and Home Equity Loan\",-1,4,12.27,4.0,Good,809.98,33.811894118574465,NA,No,49.57494921489417,148.23393788500925,Low_spent_Medium_value_payments,264.67544623342997'\n",
            " ...\n",
            " '0x25fef,CUS_0x942c,October,Nicks,25,078-73-5990,Mechanic,39628.99,3359.415833333333,4,6,7,2,\"Auto Loan, and Student Loan\",23,5,13.5,7.0,Good,502.38,36.858542043791545,32 Years and 0 Months,No,35.10402261040746,__10000__,Low_spent_Large_value_payments,349.7263321025098'\n",
            " '0x25ff0,CUS_0x942c,November,Nicks,25,078-73-5990,Mechanic,39628.99,,4,6,7,2_,\"Auto Loan, and Student Loan\",21,6_,11.5,7.0,Good,502.38,39.13983977441375,32 Years and 1 Months,No,35.10402261040746,97.59857973344877,High_spent_Small_value_payments,463.23898098947717'\n",
            " '0x25ff1,CUS_0x942c,December,Nicks,25,078-73-5990,Mechanic,39628.99,3359.415833333333,4,6,7,2,\"Auto Loan, and Student Loan\",22,5,11.5,7.0,_,502.38,34.10852955967958,32 Years and 2 Months,No,35.10402261040746,220.45787812168732,Low_spent_Medium_value_payments,360.37968260123847'] \n",
            " Unique values =  5003 \n",
            " -------------------------------------------------------------------------------- \n",
            "\n",
            "Feature: \n",
            " Customer_ID \n",
            " [nan 'CUS_0x21b1' 'CUS_0xb891' 'CUS_0x1cdb' 'CUS_0x95ee' 'CUS_0x6070'\n",
            " 'CUS_0x3553' 'CUS_0x132f' 'CUS_0xac86' 'CUS_0x3edc' 'CUS_0x9b94'\n",
            " 'CUS_0xb5ff' 'CUS_0xaedb' 'CUS_0x9ce6' 'CUS_0x3f5b' 'CUS_0x9f70'\n",
            " 'CUS_0x6cbb' 'CUS_0x6649' 'CUS_0xa27e' 'CUS_0x6794' 'CUS_0x3861'\n",
            " 'CUS_0x240d' 'CUS_0x2652' 'CUS_0x259a' 'CUS_0x28b5' 'CUS_0x7250'\n",
            " 'CUS_0x7878' 'CUS_0x1c09' 'CUS_0x9073' 'CUS_0x2813' 'CUS_0x365a'\n",
            " 'CUS_0x567b' 'CUS_0x21e6' 'CUS_0x7a22' 'CUS_0xc1c9' 'CUS_0x230a'\n",
            " 'CUS_0xb000' 'CUS_0x1a96' 'CUS_0x31d5' 'CUS_0xfcc' 'CUS_0xc5a0'\n",
            " 'CUS_0x3e81' 'CUS_0x3702' 'CUS_0x67e1' 'CUS_0x100b' 'CUS_0x4e3c'\n",
            " 'CUS_0x1d4e' 'CUS_0x93ff' 'CUS_0x493c' 'CUS_0x23a6' 'CUS_0x49da'\n",
            " 'CUS_0xbbf3' 'CUS_0x2c31' 'CUS_0x46d4' 'CUS_0x9951' 'CUS_0x1f9e'\n",
            " 'CUS_0xc434' 'CUS_0x4f04' 'CUS_0x8a6e' 'CUS_0x77d1' 'CUS_0x4655'\n",
            " 'CUS_0xbd08' 'CUS_0x7cfc' 'CUS_0xd05' 'CUS_0xf59' 'CUS_0x3b5d'\n",
            " 'CUS_0x3ce3' 'CUS_0xa706' 'CUS_0x79b' 'CUS_0x96e' 'CUS_0x56d1'\n",
            " 'CUS_0xae0e' 'CUS_0x62a4' 'CUS_0x6346' 'CUS_0xa1ea' 'CUS_0x8c03'\n",
            " 'CUS_0x7d27' 'CUS_0x51e' 'CUS_0xab3b' 'CUS_0x4c34' 'CUS_0x3d51'\n",
            " 'CUS_0x9fff' 'CUS_0x797d' 'CUS_0x6065' 'CUS_0xb563' 'CUS_0xa560'\n",
            " 'CUS_0x4c3e' 'CUS_0x41e4' 'CUS_0x4e8b' 'CUS_0xc23d' 'CUS_0x8153'\n",
            " 'CUS_0x51b' 'CUS_0x9eec' 'CUS_0xe94' 'CUS_0x3474' 'CUS_0xad9d'\n",
            " 'CUS_0x247e' 'CUS_0xa9a9' 'CUS_0x68c8' 'CUS_0x1d3e' 'CUS_0xa83a'\n",
            " 'CUS_0x43c6' 'CUS_0x534a' 'CUS_0x36d5' 'CUS_0x4a74' 'CUS_0xa6d9'\n",
            " 'CUS_0x58d0' 'CUS_0x52e7' 'CUS_0xc4c9' 'CUS_0x2719' 'CUS_0xae79'\n",
            " 'CUS_0x136b' 'CUS_0x3069' 'CUS_0x9dc3' 'CUS_0x86be' 'CUS_0x4236'\n",
            " 'CUS_0xb87a' 'CUS_0x666a' 'CUS_0x1a5a' 'CUS_0x4354' 'CUS_0x40e6'\n",
            " 'CUS_0x7245' 'CUS_0x6bb2' 'CUS_0x3019' 'CUS_0x4a3f' 'CUS_0xb90d'\n",
            " 'CUS_0x6cc' 'CUS_0xc6d8' 'CUS_0x868f' 'CUS_0x23b2' 'CUS_0x687c'\n",
            " 'CUS_0xaf5f' 'CUS_0x7ce5' 'CUS_0xa56d' 'CUS_0xdc0' 'CUS_0x8e53'\n",
            " 'CUS_0x406' 'CUS_0xba20' 'CUS_0x864' 'CUS_0x84da' 'CUS_0x7cd3'\n",
            " 'CUS_0x6926' 'CUS_0x9641' 'CUS_0x2e96' 'CUS_0x1baf' 'CUS_0x3e37'\n",
            " 'CUS_0x5840' 'CUS_0x9c95' 'CUS_0xacc6' 'CUS_0x9027' 'CUS_0x5c28'\n",
            " 'CUS_0x2a03' 'CUS_0xbaa9' 'CUS_0xd51' 'CUS_0x672e' 'CUS_0x77ac'\n",
            " 'CUS_0x800' 'CUS_0x8a0e' 'CUS_0x5d82' 'CUS_0x1fa0' 'CUS_0x7546'\n",
            " 'CUS_0x541' 'CUS_0x64a1' 'CUS_0x1e17' 'CUS_0x105b' 'CUS_0x4b2c'\n",
            " 'CUS_0x5413' 'CUS_0xa0a2' 'CUS_0x3188' 'CUS_0x2a36' 'CUS_0x79bd'\n",
            " 'CUS_0x8ab5' 'CUS_0xb05a' 'CUS_0xc594' 'CUS_0x10ee' 'CUS_0x2847'\n",
            " 'CUS_0xc683' 'CUS_0xa872' 'CUS_0x3c47' 'CUS_0x6563' 'CUS_0x37d2'\n",
            " 'CUS_0x4eea' 'CUS_0xbfa0' 'CUS_0x8ee3' 'CUS_0x9c30' 'CUS_0x45f4'\n",
            " 'CUS_0xc490' 'CUS_0x6edb' 'CUS_0x5ff8' 'CUS_0x89ca' 'CUS_0x9ec9'\n",
            " 'CUS_0x598d' 'CUS_0x9894' 'CUS_0x8a90' 'CUS_0x6b15' 'CUS_0x1d15'\n",
            " 'CUS_0x29d2' 'CUS_0xaa39' 'CUS_0x88a' 'CUS_0x6171' 'CUS_0x72e9'\n",
            " 'CUS_0x85d3' 'CUS_0xa130' 'CUS_0xaca6' 'CUS_0x6d22' 'CUS_0xbbf5'\n",
            " 'CUS_0x6479' 'CUS_0xc163' 'CUS_0x9931' 'CUS_0x9d9a' 'CUS_0x9ecd'\n",
            " 'CUS_0x738f' 'CUS_0x3cd2' 'CUS_0xa374' 'CUS_0x5088' 'CUS_0xc3ee'\n",
            " 'CUS_0xbe9d' 'CUS_0x92fc' 'CUS_0x3de8' 'CUS_0x88f2' 'CUS_0x60d8'\n",
            " 'CUS_0x4d2e' 'CUS_0x37c9' 'CUS_0x3cb6' 'CUS_0x1947' 'CUS_0xacc7'\n",
            " 'CUS_0x5ae6' 'CUS_0x830e' 'CUS_0x5647' 'CUS_0x6472' 'CUS_0x70e8'\n",
            " 'CUS_0xb80c' 'CUS_0x4450' 'CUS_0x5479' 'CUS_0x3356' 'CUS_0x2b83'\n",
            " 'CUS_0xa232' 'CUS_0x2cbc' 'CUS_0x2a75' 'CUS_0x9e6c' 'CUS_0x4b8'\n",
            " 'CUS_0x8cd4' 'CUS_0x78db' 'CUS_0xb3cb' 'CUS_0x3798' 'CUS_0x83cc'\n",
            " 'CUS_0xa972' 'CUS_0x39ff' 'CUS_0x7cd8' 'CUS_0x19b5' 'CUS_0x4af2'\n",
            " 'CUS_0xa340' 'CUS_0x73c2' 'CUS_0xc3cf' 'CUS_0x3655' 'CUS_0x4b19'\n",
            " 'CUS_0x26be' 'CUS_0x28a3' 'CUS_0x7877' 'CUS_0x8715' 'CUS_0x88c1'\n",
            " 'CUS_0x8b8' 'CUS_0xc3d8' 'CUS_0x4b3c' 'CUS_0x59ba' 'CUS_0x4c56'\n",
            " 'CUS_0x505f' 'CUS_0x8688' 'CUS_0x3d5b' 'CUS_0x13a8' 'CUS_0xc2ba'\n",
            " 'CUS_0xa2b2' 'CUS_0x523b' 'CUS_0xc42d' 'CUS_0x3ba7'] \n",
            " Unique values =  275 \n",
            " -------------------------------------------------------------------------------- \n",
            "\n",
            "Feature: \n",
            " Month \n",
            " [nan 'September' 'October' 'November' 'December'] \n",
            " Unique values =  5 \n",
            " -------------------------------------------------------------------------------- \n",
            "\n",
            "Feature: \n",
            " Name \n",
            " [nan 'Rick Rothackerj' 'Jasond' 'Deepaa' 'Np' 'Parkm' 'Laurence Frosty'\n",
            " 'Mark Felsenthald' 'Nickb' 'Williamso' 'Bri' 'Nateg' 'Olivia Oranr' 'Ekr'\n",
            " 'Mikeh' 'Michelley' 'Oreskovicv' 'Slaterf' 'Papadimaso' 'Raymondl'\n",
            " 'Fiona Ortizx' 'Taiga Uranakan' 'Suev' 'Allison Martelly' 'Stempeln'\n",
            " 'Doris Frankelj' 'Anna Driverq' 'Ritsukoh' 'Matt Falloono'\n",
            " 'John McCrankg' 'Aless ray' 'Marilynj' 'Strupczewskid' 'Sabam'\n",
            " 'Jessica Toonkelx' 'Lashx' 'Frazierm' 'Sinead Carewi' 'Mutikanit'\n",
            " 'Suvashree Deyy' 'Gillesb' 'Chuck Mikolajczaky' 'Barbashr' 'Cablef'\n",
            " 'Shirboni' 'Toonkeld' 'McCranke' 'Roumeliotisv' 'Taylorj' 'Valetkevitchm'\n",
            " 'Lashh' 'Laura Noonanp' 'Yokog' 'Chann' 'Doug Palmerf' 'Joyce Leeo'\n",
            " 'Mariannae' 'Suvashree Deyw' 'Annab' 'Alpere' 'Lawdert'\n",
            " 'Andrea Shalal-Esag' 'Shalal-Esaf' 'Daniel Flynnu' 'Huntt' 'Fooa'\n",
            " 'Euan Rochai' 'Matthiasr' 'Chuckl' 'Melissaj' 'Bena' 'Henryu'\n",
            " 'Wolde Katel' 'Suzanneb' 'Pedro Nicolacim' 'Drivera' 'Polinaa' 'Edwardsi'\n",
            " 'Grovert' 'Melaniez' 'Baertleinm' 'Tenf' 'Leskeb' 'Cremerp' 'Kirstinj'\n",
            " 'Mark Felsenthalr' 'Paolo Biondik' 'Leika Kiharad' 'Sarahy' 'Luciax'\n",
            " 'Leikag' 'Dixonb' 'Jonathan Stempelz' 'Nishanta' 'Ransdellv'\n",
            " 'Valentina Zaf' 'Jenniferc' 'Ranganathany' 'Andrei Khalipz'\n",
            " 'Wayne Arnoldt' 'Niu Shupingq' 'erl' 'Lisas' 'Soyoung Kimm' 'Dennyb'\n",
            " 'Sineads' 'Alistair Barrl' 'Carolyn Cohnn' 'Melj' 'Svea Herbst-Baylisst'\n",
            " 'Timothy Gardnerx' 'Luciana Otonit' 'Matt Scuffhamj' 'en Berkowitzi'\n",
            " 'Jenniferk' 'Noelq' 'Farah Mastere' 'Reijiy' 'Petes' 'Euanv' 'ra Hudsonp'\n",
            " 'Gabriel Wildauv' 'Svea Herbst-Baylissd' 'Annika Breidthardto'\n",
            " 'Poornima Guptav' 'Jennifer Clarku' 'Manuela Badawyw' 'Fletcherb'\n",
            " 'Can Sezerh' 'Lawrence Whiter' 'Melissa Akink' 'Raymondy' 'Singhj'\n",
            " 'Kellyg' 'Geert Den' 'Lucianar' 'Robert-Jano' 'Bryane' 'Emmottf'\n",
            " 'Tara LaCapraa' 'Nawagunan' 'Marc Jonesc' 'Blamontg' 'Carolinex'\n",
            " 'Andrea Shalal-Esap' 'Eric Holmbergu' 'Alexw' 'Adegokej' 'Sheppardx'\n",
            " 'Shihg' 'Leahe' 'Pauln' 'Alexei Oreskovicz' 'Leelaq' 'Huffstutterb'\n",
            " 'Walteru' 'Andjarsari Paramadithau' 'Gellera' 'Achery' 'Jim Christieg'\n",
            " 'Brownt' 'Paul Carrels' 'Rochad' 'Stecklowz' 'Patricia Zengerlel'\n",
            " 'Claire Davenporte' 'Erinx' 'Andreas' 'Sullivanr' 'Steve Gelsiv'\n",
            " 'Flitterk' 'Padraic Halpinf' 'Ethan Bilbys' 'Jan Harveyh' 'Hudsonb'\n",
            " 'Kirstine' 'Tim Kellyh' 'arani Krishnanj' 'Carlynl' 'Massimoy'\n",
            " 'Kevin Yaou' 'Ryan Vlastelicai' 'Keith Weirk' 'Lisa Baertleinb' 'Walterg'\n",
            " 'Taylorx' 'Robin Emmottx' 'Barre' 'Nanette Byrnesz' 'Brucep' 'Andrease'\n",
            " 'Alan Wheatleyu' 'Adegokeq' 'Clare Jimz' 'Dominiquey' 'Timk'\n",
            " 'Georgina Prodhanw' 'Raymondf' 'Holtonb' 'Parizg' 'Sue Zeidlerq'\n",
            " 'Steven Scheery' 'Jana' 'Matt Falloonm' 'Tetsushi Kajimotog' 'Oranw'\n",
            " 'Jason Langeg' 'Wilkesx' 'Tanya Agrawalm' 'Katharina Barty' 'Kanekoj'\n",
            " 'Paritosh Bansalq' 'Kirschbauml' 'Dominic Lauy' 'Yunc' 'Dineshp'\n",
            " 'Daniele' 'Himank Sharmag' 'Dennyn' 'Benk' 'Laurenz' 'Davenportj'\n",
            " 'Casey Sullivans' 'Andy Brucet' 'Danielz' 'Lisaf' 'Soyoungh'\n",
            " 'Julien Toyerg' 'Soyoung Kimx' 'Olesya Dmitracovaa' 'Nadia Damounix'\n",
            " 'Edwardsl' 'Henryl' 'Alexr' 'Shihv' 'Carlosm' 'Ashley Laui'\n",
            " 'Kirstin Ridleya' 'Danielp' 'Armstrongm' 'Karen Freifeldq' 'Rhysx'\n",
            " 'Wahbao' 'Jacobse' 'Pedrox' 'Denny Thomasp' 'Jan Strupczewskip'\n",
            " 'Tim Hepherw' 'Balazs Koranyiz' 'Bartuneks' 'Michele Kambasq' 'Ransdellw'\n",
            " 'Skariachanq' 'Silviac' 'Pollardu' 'Silke Koltrowitzb' 'Chi'\n",
            " 'Frank Siebeltu' 'Mackeye' 'Angela Moony' 'Praveen Menony' 'LaCapral'\n",
            " 'Georgiopoulosl' 'ernard Vaughang' 'Ruckero' 'Nigelg' 'Baileyz' 'Willsf'\n",
            " 'Pedro Nicolaciz' 'Karen Freifeldg' 'Camposg' 'laise Robinsonl'] \n",
            " Unique values =  272 \n",
            " -------------------------------------------------------------------------------- \n",
            "\n",
            "Feature: \n",
            " SSN \n",
            " [nan '004-07-5839' '#F%$D@*&8' '072-31-6145' '615-06-7821' '612-70-8987'\n",
            " '891-55-9364' '084-25-3745' '561-60-9294' '028-16-4402' '663-16-3845'\n",
            " '734-54-7098' '060-81-1328' '272-47-1135' '101-11-3105' '744-11-7914'\n",
            " '147-76-6929' '308-38-8791' '548-03-9919' '898-94-0497' '204-14-2702'\n",
            " '212-32-2085' '087-22-6137' '062-29-3192' '727-40-9990' '016-73-2103'\n",
            " '651-67-7536' '037-28-6132' '365-73-8387' '751-65-6458' '361-34-7350'\n",
            " '026-57-5729' '542-44-1751' '328-75-6365' '478-48-4669' '085-10-1065'\n",
            " '902-99-6202' '087-15-2781' '405-79-5399' '325-07-8725' '388-13-4625'\n",
            " '650-73-8163' '443-33-4707' '232-80-7977' '298-35-2655' '238-62-0395'\n",
            " '624-70-5384' '182-25-5092' '237-50-9740' '977-92-2690' '564-11-2906'\n",
            " '915-13-4225' '111-86-2174' '680-06-0631' '038-09-8528' '735-73-7454'\n",
            " '192-60-6723' '891-36-0838' '546-04-1407' '413-30-1170' '085-79-9089'\n",
            " '341-38-6599' '605-66-3118' '608-99-2576' '600-02-1948' '008-37-9819'\n",
            " '341-44-0136' '319-42-1987' '475-31-3601' '773-62-4134' '394-26-5712'\n",
            " '203-76-0108' '063-40-8380' '287-49-6561' '005-96-9331' '390-23-8969'\n",
            " '739-21-8242' '573-84-1711' '946-94-7531' '747-67-2935' '019-49-4119'\n",
            " '092-73-8014' '826-73-0532' '178-56-1075' '332-11-5896' '782-43-1037'\n",
            " '316-70-8777' '181-99-1436' '803-07-6149' '961-90-2351' '031-88-3485'\n",
            " '596-27-5459' '551-15-6622' '148-15-4934' '353-56-0782' '995-56-2550'\n",
            " '771-56-8439' '368-98-6866' '948-77-3611' '094-43-4653' '579-15-1527'\n",
            " '389-32-0105' '411-18-3032' '309-86-5134' '171-27-0494' '679-28-0350'\n",
            " '403-15-3171' '843-52-9642' '641-27-8461' '147-54-4253' '994-82-7635'\n",
            " '141-97-1553' '444-16-2415' '916-30-5005' '698-31-2770' '776-18-7804'\n",
            " '114-87-5312' '271-91-2987' '245-04-8958' '225-82-5288' '895-48-7601'\n",
            " '539-46-2692' '317-82-2638' '462-73-7328' '346-10-4963' '618-70-2997'\n",
            " '829-50-2241' '948-41-6796' '150-35-9577' '012-56-7252' '375-23-9321'\n",
            " '176-23-7608' '512-99-1299' '954-97-8593' '299-50-2330' '344-18-7699'\n",
            " '494-42-3830' '473-73-3353' '025-60-8624' '610-69-9615' '107-35-4416'\n",
            " '627-28-9742' '659-41-7297' '618-38-7599' '735-57-7317' '589-48-5213'\n",
            " '334-58-2603' '035-85-5019' '667-92-0559' '398-58-0171' '574-10-7802'\n",
            " '770-33-0635' '620-62-0897' '334-44-6939' '619-18-6998' '244-12-1541'\n",
            " '453-25-4571' '649-53-5022' '601-77-9732' '555-45-9905' '765-58-3710'\n",
            " '865-51-0008' '313-45-4006' '159-88-1119' '912-22-4304' '066-65-6008'\n",
            " '993-03-5805' '148-38-7097' '044-85-4173' '731-41-2167' '422-39-2689'\n",
            " '419-74-7436' '745-89-0277' '206-93-4046' '330-58-4458' '699-80-2426'\n",
            " '840-37-8707' '246-48-2462' '247-23-2005' '435-87-4518' '655-12-3066'\n",
            " '102-42-9445' '316-42-8917' '363-38-1656' '356-40-2929' '868-57-3911'\n",
            " '522-60-2083' '760-30-1179' '264-57-9830' '202-67-9333' '152-28-1148'\n",
            " '946-36-0628' '199-80-5451' '195-64-7301' '717-70-6732' '271-73-6638'\n",
            " '721-59-8577' '393-54-2423' '955-57-1867' '902-08-7981' '584-89-4764'\n",
            " '220-24-0606' '797-70-1368' '834-71-0072' '108-44-7721' '564-68-2345'\n",
            " '413-06-1083' '219-01-0237' '552-86-7671' '165-19-3346' '456-78-8568'\n",
            " '556-82-8148' '995-65-2513' '984-94-3425' '646-84-2918' '058-85-7676'\n",
            " '971-78-9268' '667-33-3115' '437-25-0267' '614-99-8314' '460-29-2746'\n",
            " '592-18-2639' '280-54-8121' '861-27-2816' '918-41-4565' '715-00-9807'\n",
            " '417-24-5530' '623-79-4308' '864-43-4445' '365-06-9242' '416-81-5863'\n",
            " '381-87-7038' '933-92-6980' '066-49-5269' '087-00-0175' '050-91-7855'\n",
            " '120-91-8866' '145-48-1658' '698-09-7729' '079-38-0782' '082-40-0447'\n",
            " '587-15-5826' '776-50-5932' '242-15-2966' '304-95-5483' '698-19-2277'\n",
            " '889-16-8033' '974-41-8956' '248-94-4825' '454-37-7311' '331-73-1353'\n",
            " '129-44-0183' '328-38-0262' '145-67-6657' '126-62-0007' '512-00-8324'\n",
            " '354-88-6563' '879-76-2190' '948-70-3925' '221-73-6374' '368-39-6835'\n",
            " '417-39-8051' '111-65-7825' '781-21-4555' '525-42-1729' '242-77-0513'\n",
            " '673-06-2525' '687-21-4004' '200-70-4803' '929-10-9575' '918-56-2439'\n",
            " '476-61-8687' '753-72-2651' '967-55-6862' '467-64-3033' '827-88-5387'] \n",
            " Unique values =  276 \n",
            " -------------------------------------------------------------------------------- \n",
            "\n",
            "Feature: \n",
            " Occupation \n",
            " [nan '_______' 'Teacher' 'Entrepreneur' 'Developer' 'Lawyer' 'Accountant'\n",
            " 'Musician' 'Manager' 'Media_Manager' 'Doctor' 'Mechanic' 'Architect'\n",
            " 'Engineer' 'Journalist' 'Scientist' 'Writer'] \n",
            " Unique values =  17 \n",
            " -------------------------------------------------------------------------------- \n",
            "\n",
            "Feature: \n",
            " Type_of_Loan \n",
            " [nan 'Credit-Builder Loan' 'Not Specified' 'Debt Consolidation Loan'\n",
            " 'Auto Loan' 'Home Equity Loan' 'Student Loan' 'Personal Loan'\n",
            " 'Payday Loan' 'Mortgage Loan'] \n",
            " Unique values =  10 \n",
            " -------------------------------------------------------------------------------- \n",
            "\n",
            "Feature: \n",
            " Credit_Mix \n",
            " [nan 'Good' '_' 'Standard'] \n",
            " Unique values =  4 \n",
            " -------------------------------------------------------------------------------- \n",
            "\n",
            "Feature: \n",
            " Payment_of_Min_Amount \n",
            " [nan 'No' 'Yes' 'NM'] \n",
            " Unique values =  4 \n",
            " -------------------------------------------------------------------------------- \n",
            "\n",
            "Feature: \n",
            " Payment_Behaviour \n",
            " [nan 'High_spent_Large_value_payments' 'Low_spent_Large_value_payments'\n",
            " '!@9#%8' 'High_spent_Medium_value_payments'\n",
            " 'Low_spent_Medium_value_payments' 'Low_spent_Small_value_payments'\n",
            " 'High_spent_Small_value_payments'] \n",
            " Unique values =  8 \n",
            " -------------------------------------------------------------------------------- \n",
            "\n"
          ]
        }
      ]
    },
    {
      "cell_type": "markdown",
      "source": [
        "### **IVc. Data Exploration Findings**<a class = \"anchor\" id = \"IVc\"></a>"
      ],
      "metadata": {
        "editable": false,
        "id": "tpoqidWOQocZ"
      }
    },
    {
      "cell_type": "markdown",
      "source": [
        "Findings:\n",
        "\n",
        "*   Each customer data is presented in 8 months for Train dataframe, from January to August. The correlation between the total members of the ID and Customer_ID features match up this information, with ID having 100000 members and Customer_ID having 12500 members. For Test dataframe, each customer data is presented in 4 months, from September to December.\n",
        "*   The Name feature should have 12500 members as well, matching up to the value of the Customer_ID feature. The fact that the Name feature only consists of 10140 members might imply strongly that there are some of customer's names which completely miss from the dataset.\n",
        "*   The SSN feature has 12501 members, with one member having a seemingly weird data validation compared to the other members in the feature, that is: '#F%$D@*&8'.\n",
        "*   There are missing values in the Occupation feature, though not in the 'nan' format.\n",
        "*   The Type_of_Loan feature appears to have list values. Formatting will be needed for this feature.\n",
        "*   The Payment_Behavior also has a weird data validation compared to the other members in the feature, that is: '!@9#%8'\n",
        "*   Including the Occupation and Credit_Mix features, after the data with weird data validation that exists in SSN and Payment_Behavior features has been deleted, these four features will have some missing values that need to be dealt with afterwards."
      ],
      "metadata": {
        "editable": false,
        "id": "xdB3JyH-QocZ"
      }
    },
    {
      "cell_type": "markdown",
      "source": [
        "## **V.  Data Cleaning and Engineering Phase 2: Categorical Features**<a class = \"anchor\" id = \"V\"></a>"
      ],
      "metadata": {
        "editable": false,
        "id": "MybrwfqNQocZ"
      }
    },
    {
      "cell_type": "markdown",
      "source": [
        "### **Va. Categorical Feature: Name**<a class = \"anchor\" id = \"Va\"></a>"
      ],
      "metadata": {
        "editable": false,
        "id": "ydBOvEbqQocZ"
      }
    },
    {
      "cell_type": "markdown",
      "source": [
        "The Name feature usually has a purpose as a unique identifier for each entry in the dataset, in this case a unique identifier for each customer. However, since there are missing values in this column and the purpose of the feature overlaps with the Customer_ID feature anyway, the Name feature will be dropped instead."
      ],
      "metadata": {
        "editable": false,
        "id": "r6yrDUTTQocZ"
      }
    },
    {
      "cell_type": "code",
      "source": [
        "# dropping the Name feature\n",
        "train.drop('Name', axis = 1, inplace = True)\n",
        "test.drop('Name', axis = 1, inplace = True)"
      ],
      "metadata": {
        "execution": {
          "iopub.status.busy": "2022-11-25T14:13:48.994746Z",
          "iopub.execute_input": "2022-11-25T14:13:48.995181Z",
          "iopub.status.idle": "2022-11-25T14:13:49.033615Z",
          "shell.execute_reply.started": "2022-11-25T14:13:48.995144Z",
          "shell.execute_reply": "2022-11-25T14:13:49.032689Z"
        },
        "editable": false,
        "trusted": true,
        "id": "perN_DytQoca"
      },
      "execution_count": null,
      "outputs": []
    },
    {
      "cell_type": "markdown",
      "source": [
        "### **Vb. Categorical Feature: SSN**<a class = \"anchor\" id = \"Vb\"></a>"
      ],
      "metadata": {
        "editable": false,
        "id": "Hrebf4_7Qoca"
      }
    },
    {
      "cell_type": "markdown",
      "source": [
        "The '#F%$D@*&8' value will be dropped from the feature, as it contains an abnormal data validation compared to the other members in the feature."
      ],
      "metadata": {
        "editable": false,
        "id": "tqHTuGcVQoca"
      }
    },
    {
      "cell_type": "code",
      "source": [
        "# dropping the '#F%$D@*&8' value from the SSN feature\n",
        "train['SSN'] = train['SSN'].replace('#F%$D@*&8', np.nan)\n",
        "test['SSN'] = test['SSN'].replace('#F%$D@*&8', np.nan)"
      ],
      "metadata": {
        "execution": {
          "iopub.status.busy": "2022-11-25T14:13:49.035366Z",
          "iopub.execute_input": "2022-11-25T14:13:49.035812Z",
          "iopub.status.idle": "2022-11-25T14:13:49.050312Z",
          "shell.execute_reply.started": "2022-11-25T14:13:49.035783Z",
          "shell.execute_reply": "2022-11-25T14:13:49.04866Z"
        },
        "editable": false,
        "trusted": true,
        "id": "nxIjb9n5Qoca"
      },
      "execution_count": null,
      "outputs": []
    },
    {
      "cell_type": "markdown",
      "source": [
        "The missing values now need to be filled in. SSN stands for Social Security Number, whose values are unique to each customer. Using this condition, we will be filling in the missing SSN values with the most frequently occuring method, with the Customer_ID feature as the reference."
      ],
      "metadata": {
        "editable": false,
        "id": "W0qUQaRsQoca"
      }
    },
    {
      "cell_type": "code",
      "source": [
        "# filling in the missing values in SSN feature\n",
        "train['SSN'] = train['SSN'].fillna(train.groupby('Customer_ID')\\\n",
        "                                   ['SSN']\\\n",
        "                                   .transform(lambda x:x.mode().iat[0]))\n",
        "test['SSN'] = test['SSN'].fillna(test.groupby('Customer_ID')\\\n",
        "                                 ['SSN']\\\n",
        "                                 .transform(lambda x:x.mode().iat[0]))"
      ],
      "metadata": {
        "execution": {
          "iopub.status.busy": "2022-11-25T14:13:49.052408Z",
          "iopub.execute_input": "2022-11-25T14:13:49.052774Z",
          "iopub.status.idle": "2022-11-25T14:13:55.403066Z",
          "shell.execute_reply.started": "2022-11-25T14:13:49.052739Z",
          "shell.execute_reply": "2022-11-25T14:13:55.401446Z"
        },
        "editable": false,
        "trusted": true,
        "id": "RdCiYNmDQoca"
      },
      "execution_count": null,
      "outputs": []
    },
    {
      "cell_type": "markdown",
      "source": [
        "### **Vc. Categorical Feature: Occupation**<a class = \"anchor\" id = \"Vc\"></a>"
      ],
      "metadata": {
        "editable": false,
        "id": "iW03cQ9BQoca"
      }
    },
    {
      "cell_type": "markdown",
      "source": [
        "Similar to the SSN feature, each value in the Occupation feature is also unique to each customer, assuming that the customers do not change occupation during the time period contained in the dataset. We cannot immediately fill in the missing values though, since the missing values are written as '_______' and not in 'nan'. We will drop the '_______', then fill in the missing Occupation value with the most frequent value occuring for each customer."
      ],
      "metadata": {
        "editable": false,
        "id": "UKwlN3n5Qocb"
      }
    },
    {
      "cell_type": "code",
      "source": [
        "# dropping the '_______' values\n",
        "train['Occupation'] = train['Occupation'].replace('_______', np.NaN)\n",
        "test['Occupation'] = test['Occupation'].replace('_______', np.NaN)\n",
        "\n",
        "# filling in the missing values in Occupation feature\n",
        "train['Occupation'] = train['Occupation'].fillna(train.groupby('Customer_ID')\\\n",
        "                                                 ['Occupation']\\\n",
        "                                                 .transform(lambda x:x.mode().iat[0]))\n",
        "test['Occupation'] = test['Occupation'].fillna(test.groupby('Customer_ID')\\\n",
        "                                               ['Occupation']\\\n",
        "                                               .transform(lambda x:x.mode().iat[0]))\n",
        "\n",
        "# checking if there are still missing values\n",
        "display(train['Occupation'].unique())\n",
        "display(test['Occupation'].unique())"
      ],
      "metadata": {
        "execution": {
          "iopub.status.busy": "2022-11-25T14:13:55.405191Z",
          "iopub.execute_input": "2022-11-25T14:13:55.405596Z",
          "iopub.status.idle": "2022-11-25T14:14:01.635405Z",
          "shell.execute_reply.started": "2022-11-25T14:13:55.405569Z",
          "shell.execute_reply": "2022-11-25T14:14:01.634039Z"
        },
        "editable": false,
        "trusted": true,
        "colab": {
          "base_uri": "https://localhost:8080/"
        },
        "id": "iBC0DbajQocb",
        "outputId": "a19a42a6-e631-4763-e4d9-b03a5374105d"
      },
      "execution_count": null,
      "outputs": [
        {
          "output_type": "display_data",
          "data": {
            "text/plain": [
              "array([nan, 'Teacher', 'Entrepreneur', 'Developer', 'Lawyer',\n",
              "       'Accountant', 'Musician', 'Manager', 'Media_Manager', 'Doctor',\n",
              "       'Mechanic', 'Architect', 'Engineer', 'Journalist', 'Scientist',\n",
              "       'Writer'], dtype=object)"
            ]
          },
          "metadata": {}
        },
        {
          "output_type": "display_data",
          "data": {
            "text/plain": [
              "array([nan, 'Teacher', 'Entrepreneur', 'Developer', 'Lawyer',\n",
              "       'Accountant', 'Musician', 'Manager', 'Media_Manager', 'Doctor',\n",
              "       'Mechanic', 'Architect', 'Engineer', 'Journalist', 'Scientist',\n",
              "       'Writer'], dtype=object)"
            ]
          },
          "metadata": {}
        }
      ]
    },
    {
      "cell_type": "markdown",
      "source": [
        "### **Vd. Categorical Feature: Type_of_Loan**<a class = \"anchor\" id = \"Vd\"></a>"
      ],
      "metadata": {
        "editable": false,
        "id": "jqNxJ0iYQocb"
      }
    },
    {
      "cell_type": "markdown",
      "source": [
        "The type of data contained in the Type_of_Loan feature is actually list, though Python considers it as regular string instead. For this data cleaning process, the Type of Loan will be extended in each separated features, with the value in boolean type, plus a feature that has the value count of the Type_of_Loan of each customer. We will first try to clean the format of the string values of this feature."
      ],
      "metadata": {
        "editable": false,
        "id": "TDsogdpwQocb"
      }
    },
    {
      "cell_type": "code",
      "source": [
        "# checking how the data displays\n",
        "print(train['Type_of_Loan'][0])\n",
        "print(type(train['Type_of_Loan'][0]))\n",
        "print(test['Type_of_Loan'][0])\n",
        "print(type(test['Type_of_Loan'][0]))"
      ],
      "metadata": {
        "execution": {
          "iopub.status.busy": "2022-11-25T14:14:01.636993Z",
          "iopub.execute_input": "2022-11-25T14:14:01.63732Z",
          "iopub.status.idle": "2022-11-25T14:14:01.643833Z",
          "shell.execute_reply.started": "2022-11-25T14:14:01.637293Z",
          "shell.execute_reply": "2022-11-25T14:14:01.642422Z"
        },
        "editable": false,
        "trusted": true,
        "colab": {
          "base_uri": "https://localhost:8080/"
        },
        "id": "sTg8mgHbQocb",
        "outputId": "7ec155f3-3a6f-4067-d59d-d80f6496788f"
      },
      "execution_count": null,
      "outputs": [
        {
          "output_type": "stream",
          "name": "stdout",
          "text": [
            "nan\n",
            "<class 'float'>\n",
            "nan\n",
            "<class 'float'>\n"
          ]
        }
      ]
    },
    {
      "cell_type": "code",
      "source": [
        "# converting every member of the feature as string (initially, the nan are categorized as float)\n",
        "train['Type_of_Loan'] = train['Type_of_Loan'].astype('str')\n",
        "test['Type_of_Loan'] = test['Type_of_Loan'].astype('str')\n",
        "\n",
        "# dropping the 'and ' strings\n",
        "train['Type_of_Loan'] = [item.replace('and ', '') for item in train['Type_of_Loan']]\n",
        "test['Type_of_Loan'] = [item.replace('and ', '') for item in test['Type_of_Loan']]"
      ],
      "metadata": {
        "execution": {
          "iopub.status.busy": "2022-11-25T14:14:01.64522Z",
          "iopub.execute_input": "2022-11-25T14:14:01.645571Z",
          "iopub.status.idle": "2022-11-25T14:14:01.72002Z",
          "shell.execute_reply.started": "2022-11-25T14:14:01.645538Z",
          "shell.execute_reply": "2022-11-25T14:14:01.719198Z"
        },
        "editable": false,
        "trusted": true,
        "id": "IaJVmdtKQocb"
      },
      "execution_count": null,
      "outputs": []
    },
    {
      "cell_type": "code",
      "source": [
        "# dropping unuseful blank space\n",
        "train['Type_of_Loan'] = [item.replace(', ', ',') for item in train['Type_of_Loan']]\n",
        "test['Type_of_Loan'] = [item.replace(', ', ',') for item in test['Type_of_Loan']]\n",
        "\n",
        "# splitting each item in the member of the feature by comma delimiter\n",
        "train['Type_of_Loan'] = [item.split(',') for item in train['Type_of_Loan']]\n",
        "test['Type_of_Loan'] = [item.split(',') for item in test['Type_of_Loan']]"
      ],
      "metadata": {
        "execution": {
          "iopub.status.busy": "2022-11-25T14:14:01.720981Z",
          "iopub.execute_input": "2022-11-25T14:14:01.722115Z",
          "iopub.status.idle": "2022-11-25T14:14:02.057271Z",
          "shell.execute_reply.started": "2022-11-25T14:14:01.722049Z",
          "shell.execute_reply": "2022-11-25T14:14:02.05605Z"
        },
        "editable": false,
        "trusted": true,
        "id": "Ls-uf1LIQocb"
      },
      "execution_count": null,
      "outputs": []
    },
    {
      "cell_type": "code",
      "source": [
        "# checking if the data has been successfully formatted\n",
        "print(train['Type_of_Loan'][0])\n",
        "print(type(train['Type_of_Loan'][0]))\n",
        "print(test['Type_of_Loan'][0])\n",
        "print(type(test['Type_of_Loan'][0]))"
      ],
      "metadata": {
        "execution": {
          "iopub.status.busy": "2022-11-25T14:14:02.058365Z",
          "iopub.execute_input": "2022-11-25T14:14:02.058662Z",
          "iopub.status.idle": "2022-11-25T14:14:02.066518Z",
          "shell.execute_reply.started": "2022-11-25T14:14:02.058638Z",
          "shell.execute_reply": "2022-11-25T14:14:02.064956Z"
        },
        "editable": false,
        "trusted": true,
        "colab": {
          "base_uri": "https://localhost:8080/"
        },
        "id": "GppSP6mmQocc",
        "outputId": "d46dace2-339a-4acb-af00-69074ffd0a6e"
      },
      "execution_count": null,
      "outputs": [
        {
          "output_type": "stream",
          "name": "stdout",
          "text": [
            "['nan']\n",
            "<class 'list'>\n",
            "['nan']\n",
            "<class 'list'>\n"
          ]
        }
      ]
    },
    {
      "cell_type": "markdown",
      "source": [
        "Now, before we spread each unique value of Type_of_Loan as separate boolean features, we will be filling in the missing values based on the frequency of each unique value. "
      ],
      "metadata": {
        "editable": false,
        "id": "OqTlheRGQocc"
      }
    },
    {
      "cell_type": "markdown",
      "source": [
        "#### **a. Train Dataframe**<a class = \"anchor\" id = \"Vd_a\"></a>"
      ],
      "metadata": {
        "editable": false,
        "id": "pudoRtJ9Qocc"
      }
    },
    {
      "cell_type": "code",
      "source": [
        "# unique value counts (frequency) of each unique value\n",
        "listUVcount = pd.Series([x for _list in train['Type_of_Loan'] for x in _list]).value_counts()\n",
        "listUVcount\n",
        "\n",
        "# Type_of_Loan unique values (excluding nan)\n",
        "listUV = list(listUVcount[:-1].index)\n",
        "listUV\n",
        "\n",
        "# the sum of all unique values (excluding nan)\n",
        "totalcount = sum(listUVcount[:-1])\n",
        "totalcount\n",
        "\n",
        "# calculating the probabilities of each unique value\n",
        "listUVportion = []\n",
        "for UVcount in listUVcount[:-1]:\n",
        "    UVportion = UVcount / totalcount\n",
        "    listUVportion.append(UVportion)\n",
        "listUVportion\n",
        "\n",
        "# creating the report table\n",
        "table = pd.DataFrame(list(zip(listUV, listUVcount[:-1], listUVportion)))\n",
        "table.columns = ['Type_of_Loan', 'Count', 'Portion']\n",
        "\n",
        "# report\n",
        "table"
      ],
      "metadata": {
        "execution": {
          "iopub.status.busy": "2022-11-25T14:14:02.068032Z",
          "iopub.execute_input": "2022-11-25T14:14:02.068339Z",
          "iopub.status.idle": "2022-11-25T14:14:02.168158Z",
          "shell.execute_reply.started": "2022-11-25T14:14:02.068313Z",
          "shell.execute_reply": "2022-11-25T14:14:02.1671Z"
        },
        "editable": false,
        "trusted": true,
        "colab": {
          "base_uri": "https://localhost:8080/"
        },
        "id": "PFhzEGwFQocc",
        "outputId": "eca330fb-ff39-45ee-db4e-29612c749d95"
      },
      "execution_count": null,
      "outputs": [
        {
          "output_type": "execute_result",
          "data": {
            "text/plain": [
              "              Type_of_Loan  Count   Portion\n",
              "0                      nan   8992  0.904264\n",
              "1         Home Equity Loan    136  0.013677\n",
              "2              Payday Loan    136  0.013677\n",
              "3            Not Specified    128  0.012872\n",
              "4            Mortgage Loan    128  0.012872\n",
              "5            Personal Loan    112  0.011263\n",
              "6      Credit-Builder Loan    104  0.010459\n",
              "7  Debt Consolidation Loan    104  0.010459\n",
              "8             Student Loan    104  0.010459"
            ],
            "text/html": [
              "\n",
              "  <div id=\"df-729932d6-7693-4abb-bd11-8bfe338f0c71\">\n",
              "    <div class=\"colab-df-container\">\n",
              "      <div>\n",
              "<style scoped>\n",
              "    .dataframe tbody tr th:only-of-type {\n",
              "        vertical-align: middle;\n",
              "    }\n",
              "\n",
              "    .dataframe tbody tr th {\n",
              "        vertical-align: top;\n",
              "    }\n",
              "\n",
              "    .dataframe thead th {\n",
              "        text-align: right;\n",
              "    }\n",
              "</style>\n",
              "<table border=\"1\" class=\"dataframe\">\n",
              "  <thead>\n",
              "    <tr style=\"text-align: right;\">\n",
              "      <th></th>\n",
              "      <th>Type_of_Loan</th>\n",
              "      <th>Count</th>\n",
              "      <th>Portion</th>\n",
              "    </tr>\n",
              "  </thead>\n",
              "  <tbody>\n",
              "    <tr>\n",
              "      <th>0</th>\n",
              "      <td>nan</td>\n",
              "      <td>8992</td>\n",
              "      <td>0.904264</td>\n",
              "    </tr>\n",
              "    <tr>\n",
              "      <th>1</th>\n",
              "      <td>Home Equity Loan</td>\n",
              "      <td>136</td>\n",
              "      <td>0.013677</td>\n",
              "    </tr>\n",
              "    <tr>\n",
              "      <th>2</th>\n",
              "      <td>Payday Loan</td>\n",
              "      <td>136</td>\n",
              "      <td>0.013677</td>\n",
              "    </tr>\n",
              "    <tr>\n",
              "      <th>3</th>\n",
              "      <td>Not Specified</td>\n",
              "      <td>128</td>\n",
              "      <td>0.012872</td>\n",
              "    </tr>\n",
              "    <tr>\n",
              "      <th>4</th>\n",
              "      <td>Mortgage Loan</td>\n",
              "      <td>128</td>\n",
              "      <td>0.012872</td>\n",
              "    </tr>\n",
              "    <tr>\n",
              "      <th>5</th>\n",
              "      <td>Personal Loan</td>\n",
              "      <td>112</td>\n",
              "      <td>0.011263</td>\n",
              "    </tr>\n",
              "    <tr>\n",
              "      <th>6</th>\n",
              "      <td>Credit-Builder Loan</td>\n",
              "      <td>104</td>\n",
              "      <td>0.010459</td>\n",
              "    </tr>\n",
              "    <tr>\n",
              "      <th>7</th>\n",
              "      <td>Debt Consolidation Loan</td>\n",
              "      <td>104</td>\n",
              "      <td>0.010459</td>\n",
              "    </tr>\n",
              "    <tr>\n",
              "      <th>8</th>\n",
              "      <td>Student Loan</td>\n",
              "      <td>104</td>\n",
              "      <td>0.010459</td>\n",
              "    </tr>\n",
              "  </tbody>\n",
              "</table>\n",
              "</div>\n",
              "      <button class=\"colab-df-convert\" onclick=\"convertToInteractive('df-729932d6-7693-4abb-bd11-8bfe338f0c71')\"\n",
              "              title=\"Convert this dataframe to an interactive table.\"\n",
              "              style=\"display:none;\">\n",
              "        \n",
              "  <svg xmlns=\"http://www.w3.org/2000/svg\" height=\"24px\"viewBox=\"0 0 24 24\"\n",
              "       width=\"24px\">\n",
              "    <path d=\"M0 0h24v24H0V0z\" fill=\"none\"/>\n",
              "    <path d=\"M18.56 5.44l.94 2.06.94-2.06 2.06-.94-2.06-.94-.94-2.06-.94 2.06-2.06.94zm-11 1L8.5 8.5l.94-2.06 2.06-.94-2.06-.94L8.5 2.5l-.94 2.06-2.06.94zm10 10l.94 2.06.94-2.06 2.06-.94-2.06-.94-.94-2.06-.94 2.06-2.06.94z\"/><path d=\"M17.41 7.96l-1.37-1.37c-.4-.4-.92-.59-1.43-.59-.52 0-1.04.2-1.43.59L10.3 9.45l-7.72 7.72c-.78.78-.78 2.05 0 2.83L4 21.41c.39.39.9.59 1.41.59.51 0 1.02-.2 1.41-.59l7.78-7.78 2.81-2.81c.8-.78.8-2.07 0-2.86zM5.41 20L4 18.59l7.72-7.72 1.47 1.35L5.41 20z\"/>\n",
              "  </svg>\n",
              "      </button>\n",
              "      \n",
              "  <style>\n",
              "    .colab-df-container {\n",
              "      display:flex;\n",
              "      flex-wrap:wrap;\n",
              "      gap: 12px;\n",
              "    }\n",
              "\n",
              "    .colab-df-convert {\n",
              "      background-color: #E8F0FE;\n",
              "      border: none;\n",
              "      border-radius: 50%;\n",
              "      cursor: pointer;\n",
              "      display: none;\n",
              "      fill: #1967D2;\n",
              "      height: 32px;\n",
              "      padding: 0 0 0 0;\n",
              "      width: 32px;\n",
              "    }\n",
              "\n",
              "    .colab-df-convert:hover {\n",
              "      background-color: #E2EBFA;\n",
              "      box-shadow: 0px 1px 2px rgba(60, 64, 67, 0.3), 0px 1px 3px 1px rgba(60, 64, 67, 0.15);\n",
              "      fill: #174EA6;\n",
              "    }\n",
              "\n",
              "    [theme=dark] .colab-df-convert {\n",
              "      background-color: #3B4455;\n",
              "      fill: #D2E3FC;\n",
              "    }\n",
              "\n",
              "    [theme=dark] .colab-df-convert:hover {\n",
              "      background-color: #434B5C;\n",
              "      box-shadow: 0px 1px 3px 1px rgba(0, 0, 0, 0.15);\n",
              "      filter: drop-shadow(0px 1px 2px rgba(0, 0, 0, 0.3));\n",
              "      fill: #FFFFFF;\n",
              "    }\n",
              "  </style>\n",
              "\n",
              "      <script>\n",
              "        const buttonEl =\n",
              "          document.querySelector('#df-729932d6-7693-4abb-bd11-8bfe338f0c71 button.colab-df-convert');\n",
              "        buttonEl.style.display =\n",
              "          google.colab.kernel.accessAllowed ? 'block' : 'none';\n",
              "\n",
              "        async function convertToInteractive(key) {\n",
              "          const element = document.querySelector('#df-729932d6-7693-4abb-bd11-8bfe338f0c71');\n",
              "          const dataTable =\n",
              "            await google.colab.kernel.invokeFunction('convertToInteractive',\n",
              "                                                     [key], {});\n",
              "          if (!dataTable) return;\n",
              "\n",
              "          const docLinkHtml = 'Like what you see? Visit the ' +\n",
              "            '<a target=\"_blank\" href=https://colab.research.google.com/notebooks/data_table.ipynb>data table notebook</a>'\n",
              "            + ' to learn more about interactive tables.';\n",
              "          element.innerHTML = '';\n",
              "          dataTable['output_type'] = 'display_data';\n",
              "          await google.colab.output.renderOutput(dataTable, element);\n",
              "          const docLink = document.createElement('div');\n",
              "          docLink.innerHTML = docLinkHtml;\n",
              "          element.appendChild(docLink);\n",
              "        }\n",
              "      </script>\n",
              "    </div>\n",
              "  </div>\n",
              "  "
            ]
          },
          "metadata": {},
          "execution_count": 72
        }
      ]
    },
    {
      "cell_type": "code",
      "source": [
        "# filling in the missing Type_of_Loan data\n",
        "train['Type_of_Loan'] = train['Type_of_Loan']\\\n",
        "                        .fillna(pd.Series(np.random.choice(listUV,\n",
        "                                                           p = listUVportion,\n",
        "                                                           size = len(train['Type_of_Loan']))))"
      ],
      "metadata": {
        "execution": {
          "iopub.status.busy": "2022-11-25T14:14:02.169575Z",
          "iopub.execute_input": "2022-11-25T14:14:02.170527Z",
          "iopub.status.idle": "2022-11-25T14:14:02.201583Z",
          "shell.execute_reply.started": "2022-11-25T14:14:02.170496Z",
          "shell.execute_reply": "2022-11-25T14:14:02.20024Z"
        },
        "editable": false,
        "trusted": true,
        "id": "epEhrfaJQocc"
      },
      "execution_count": null,
      "outputs": []
    },
    {
      "cell_type": "code",
      "source": [
        "# checking if there are still missing values in the Type_of_Loan feature\n",
        "train['Type_of_Loan'].isnull().sum()"
      ],
      "metadata": {
        "execution": {
          "iopub.status.busy": "2022-11-25T14:14:02.202803Z",
          "iopub.execute_input": "2022-11-25T14:14:02.203096Z",
          "iopub.status.idle": "2022-11-25T14:14:02.216837Z",
          "shell.execute_reply.started": "2022-11-25T14:14:02.203067Z",
          "shell.execute_reply": "2022-11-25T14:14:02.215319Z"
        },
        "editable": false,
        "trusted": true,
        "colab": {
          "base_uri": "https://localhost:8080/"
        },
        "id": "srKkCFYNQocc",
        "outputId": "bdaead34-4bcb-4cb2-8c91-4784aff79d9f"
      },
      "execution_count": null,
      "outputs": [
        {
          "output_type": "execute_result",
          "data": {
            "text/plain": [
              "0"
            ]
          },
          "metadata": {},
          "execution_count": 74
        }
      ]
    },
    {
      "cell_type": "markdown",
      "source": [
        "Now that the missing values are not present anymore, let us separate each Type_of_Loan into separate features"
      ],
      "metadata": {
        "editable": false,
        "id": "lN-ASVdEQocc"
      }
    },
    {
      "cell_type": "code",
      "source": [
        "# converting the list of list into a dataframe\n",
        "df_Type_of_Loan = pd.DataFrame(mlb.fit_transform(train['Type_of_Loan']),columns=mlb.classes_).astype(bool)\n",
        "df_Type_of_Loan"
      ],
      "metadata": {
        "execution": {
          "iopub.status.busy": "2022-11-25T14:14:02.218279Z",
          "iopub.execute_input": "2022-11-25T14:14:02.218556Z",
          "iopub.status.idle": "2022-11-25T14:14:02.523836Z",
          "shell.execute_reply.started": "2022-11-25T14:14:02.218531Z",
          "shell.execute_reply": "2022-11-25T14:14:02.522652Z"
        },
        "editable": false,
        "trusted": true,
        "colab": {
          "base_uri": "https://localhost:8080/"
        },
        "id": "Y86ITV6UQocc",
        "outputId": "631c0b70-2d6c-48cf-dc66-7c5258a7058d"
      },
      "execution_count": null,
      "outputs": [
        {
          "output_type": "execute_result",
          "data": {
            "text/plain": [
              "       Auto Loan  Credit-Builder Loan  Debt Consolidation Loan  \\\n",
              "0          False                False                    False   \n",
              "1          False                False                    False   \n",
              "2          False                False                    False   \n",
              "3          False                False                    False   \n",
              "4          False                False                    False   \n",
              "...          ...                  ...                      ...   \n",
              "10003      False                False                    False   \n",
              "10004      False                False                    False   \n",
              "10005      False                False                    False   \n",
              "10006      False                False                    False   \n",
              "10007      False                False                    False   \n",
              "\n",
              "       Home Equity Loan  Mortgage Loan  Not Specified  Payday Loan  \\\n",
              "0                 False          False          False        False   \n",
              "1                 False          False          False        False   \n",
              "2                 False          False          False        False   \n",
              "3                 False          False          False        False   \n",
              "4                 False          False          False        False   \n",
              "...                 ...            ...            ...          ...   \n",
              "10003             False          False          False        False   \n",
              "10004             False          False          False        False   \n",
              "10005             False          False          False        False   \n",
              "10006             False          False          False        False   \n",
              "10007             False          False          False        False   \n",
              "\n",
              "       Personal Loan  Student Loan   nan  \n",
              "0              False         False  True  \n",
              "1              False         False  True  \n",
              "2              False         False  True  \n",
              "3              False         False  True  \n",
              "4              False         False  True  \n",
              "...              ...           ...   ...  \n",
              "10003          False         False  True  \n",
              "10004          False         False  True  \n",
              "10005          False         False  True  \n",
              "10006          False         False  True  \n",
              "10007          False         False  True  \n",
              "\n",
              "[10008 rows x 10 columns]"
            ],
            "text/html": [
              "\n",
              "  <div id=\"df-a0ac3d19-f7a6-4040-8517-9f11581ef36b\">\n",
              "    <div class=\"colab-df-container\">\n",
              "      <div>\n",
              "<style scoped>\n",
              "    .dataframe tbody tr th:only-of-type {\n",
              "        vertical-align: middle;\n",
              "    }\n",
              "\n",
              "    .dataframe tbody tr th {\n",
              "        vertical-align: top;\n",
              "    }\n",
              "\n",
              "    .dataframe thead th {\n",
              "        text-align: right;\n",
              "    }\n",
              "</style>\n",
              "<table border=\"1\" class=\"dataframe\">\n",
              "  <thead>\n",
              "    <tr style=\"text-align: right;\">\n",
              "      <th></th>\n",
              "      <th>Auto Loan</th>\n",
              "      <th>Credit-Builder Loan</th>\n",
              "      <th>Debt Consolidation Loan</th>\n",
              "      <th>Home Equity Loan</th>\n",
              "      <th>Mortgage Loan</th>\n",
              "      <th>Not Specified</th>\n",
              "      <th>Payday Loan</th>\n",
              "      <th>Personal Loan</th>\n",
              "      <th>Student Loan</th>\n",
              "      <th>nan</th>\n",
              "    </tr>\n",
              "  </thead>\n",
              "  <tbody>\n",
              "    <tr>\n",
              "      <th>0</th>\n",
              "      <td>False</td>\n",
              "      <td>False</td>\n",
              "      <td>False</td>\n",
              "      <td>False</td>\n",
              "      <td>False</td>\n",
              "      <td>False</td>\n",
              "      <td>False</td>\n",
              "      <td>False</td>\n",
              "      <td>False</td>\n",
              "      <td>True</td>\n",
              "    </tr>\n",
              "    <tr>\n",
              "      <th>1</th>\n",
              "      <td>False</td>\n",
              "      <td>False</td>\n",
              "      <td>False</td>\n",
              "      <td>False</td>\n",
              "      <td>False</td>\n",
              "      <td>False</td>\n",
              "      <td>False</td>\n",
              "      <td>False</td>\n",
              "      <td>False</td>\n",
              "      <td>True</td>\n",
              "    </tr>\n",
              "    <tr>\n",
              "      <th>2</th>\n",
              "      <td>False</td>\n",
              "      <td>False</td>\n",
              "      <td>False</td>\n",
              "      <td>False</td>\n",
              "      <td>False</td>\n",
              "      <td>False</td>\n",
              "      <td>False</td>\n",
              "      <td>False</td>\n",
              "      <td>False</td>\n",
              "      <td>True</td>\n",
              "    </tr>\n",
              "    <tr>\n",
              "      <th>3</th>\n",
              "      <td>False</td>\n",
              "      <td>False</td>\n",
              "      <td>False</td>\n",
              "      <td>False</td>\n",
              "      <td>False</td>\n",
              "      <td>False</td>\n",
              "      <td>False</td>\n",
              "      <td>False</td>\n",
              "      <td>False</td>\n",
              "      <td>True</td>\n",
              "    </tr>\n",
              "    <tr>\n",
              "      <th>4</th>\n",
              "      <td>False</td>\n",
              "      <td>False</td>\n",
              "      <td>False</td>\n",
              "      <td>False</td>\n",
              "      <td>False</td>\n",
              "      <td>False</td>\n",
              "      <td>False</td>\n",
              "      <td>False</td>\n",
              "      <td>False</td>\n",
              "      <td>True</td>\n",
              "    </tr>\n",
              "    <tr>\n",
              "      <th>...</th>\n",
              "      <td>...</td>\n",
              "      <td>...</td>\n",
              "      <td>...</td>\n",
              "      <td>...</td>\n",
              "      <td>...</td>\n",
              "      <td>...</td>\n",
              "      <td>...</td>\n",
              "      <td>...</td>\n",
              "      <td>...</td>\n",
              "      <td>...</td>\n",
              "    </tr>\n",
              "    <tr>\n",
              "      <th>10003</th>\n",
              "      <td>False</td>\n",
              "      <td>False</td>\n",
              "      <td>False</td>\n",
              "      <td>False</td>\n",
              "      <td>False</td>\n",
              "      <td>False</td>\n",
              "      <td>False</td>\n",
              "      <td>False</td>\n",
              "      <td>False</td>\n",
              "      <td>True</td>\n",
              "    </tr>\n",
              "    <tr>\n",
              "      <th>10004</th>\n",
              "      <td>False</td>\n",
              "      <td>False</td>\n",
              "      <td>False</td>\n",
              "      <td>False</td>\n",
              "      <td>False</td>\n",
              "      <td>False</td>\n",
              "      <td>False</td>\n",
              "      <td>False</td>\n",
              "      <td>False</td>\n",
              "      <td>True</td>\n",
              "    </tr>\n",
              "    <tr>\n",
              "      <th>10005</th>\n",
              "      <td>False</td>\n",
              "      <td>False</td>\n",
              "      <td>False</td>\n",
              "      <td>False</td>\n",
              "      <td>False</td>\n",
              "      <td>False</td>\n",
              "      <td>False</td>\n",
              "      <td>False</td>\n",
              "      <td>False</td>\n",
              "      <td>True</td>\n",
              "    </tr>\n",
              "    <tr>\n",
              "      <th>10006</th>\n",
              "      <td>False</td>\n",
              "      <td>False</td>\n",
              "      <td>False</td>\n",
              "      <td>False</td>\n",
              "      <td>False</td>\n",
              "      <td>False</td>\n",
              "      <td>False</td>\n",
              "      <td>False</td>\n",
              "      <td>False</td>\n",
              "      <td>True</td>\n",
              "    </tr>\n",
              "    <tr>\n",
              "      <th>10007</th>\n",
              "      <td>False</td>\n",
              "      <td>False</td>\n",
              "      <td>False</td>\n",
              "      <td>False</td>\n",
              "      <td>False</td>\n",
              "      <td>False</td>\n",
              "      <td>False</td>\n",
              "      <td>False</td>\n",
              "      <td>False</td>\n",
              "      <td>True</td>\n",
              "    </tr>\n",
              "  </tbody>\n",
              "</table>\n",
              "<p>10008 rows × 10 columns</p>\n",
              "</div>\n",
              "      <button class=\"colab-df-convert\" onclick=\"convertToInteractive('df-a0ac3d19-f7a6-4040-8517-9f11581ef36b')\"\n",
              "              title=\"Convert this dataframe to an interactive table.\"\n",
              "              style=\"display:none;\">\n",
              "        \n",
              "  <svg xmlns=\"http://www.w3.org/2000/svg\" height=\"24px\"viewBox=\"0 0 24 24\"\n",
              "       width=\"24px\">\n",
              "    <path d=\"M0 0h24v24H0V0z\" fill=\"none\"/>\n",
              "    <path d=\"M18.56 5.44l.94 2.06.94-2.06 2.06-.94-2.06-.94-.94-2.06-.94 2.06-2.06.94zm-11 1L8.5 8.5l.94-2.06 2.06-.94-2.06-.94L8.5 2.5l-.94 2.06-2.06.94zm10 10l.94 2.06.94-2.06 2.06-.94-2.06-.94-.94-2.06-.94 2.06-2.06.94z\"/><path d=\"M17.41 7.96l-1.37-1.37c-.4-.4-.92-.59-1.43-.59-.52 0-1.04.2-1.43.59L10.3 9.45l-7.72 7.72c-.78.78-.78 2.05 0 2.83L4 21.41c.39.39.9.59 1.41.59.51 0 1.02-.2 1.41-.59l7.78-7.78 2.81-2.81c.8-.78.8-2.07 0-2.86zM5.41 20L4 18.59l7.72-7.72 1.47 1.35L5.41 20z\"/>\n",
              "  </svg>\n",
              "      </button>\n",
              "      \n",
              "  <style>\n",
              "    .colab-df-container {\n",
              "      display:flex;\n",
              "      flex-wrap:wrap;\n",
              "      gap: 12px;\n",
              "    }\n",
              "\n",
              "    .colab-df-convert {\n",
              "      background-color: #E8F0FE;\n",
              "      border: none;\n",
              "      border-radius: 50%;\n",
              "      cursor: pointer;\n",
              "      display: none;\n",
              "      fill: #1967D2;\n",
              "      height: 32px;\n",
              "      padding: 0 0 0 0;\n",
              "      width: 32px;\n",
              "    }\n",
              "\n",
              "    .colab-df-convert:hover {\n",
              "      background-color: #E2EBFA;\n",
              "      box-shadow: 0px 1px 2px rgba(60, 64, 67, 0.3), 0px 1px 3px 1px rgba(60, 64, 67, 0.15);\n",
              "      fill: #174EA6;\n",
              "    }\n",
              "\n",
              "    [theme=dark] .colab-df-convert {\n",
              "      background-color: #3B4455;\n",
              "      fill: #D2E3FC;\n",
              "    }\n",
              "\n",
              "    [theme=dark] .colab-df-convert:hover {\n",
              "      background-color: #434B5C;\n",
              "      box-shadow: 0px 1px 3px 1px rgba(0, 0, 0, 0.15);\n",
              "      filter: drop-shadow(0px 1px 2px rgba(0, 0, 0, 0.3));\n",
              "      fill: #FFFFFF;\n",
              "    }\n",
              "  </style>\n",
              "\n",
              "      <script>\n",
              "        const buttonEl =\n",
              "          document.querySelector('#df-a0ac3d19-f7a6-4040-8517-9f11581ef36b button.colab-df-convert');\n",
              "        buttonEl.style.display =\n",
              "          google.colab.kernel.accessAllowed ? 'block' : 'none';\n",
              "\n",
              "        async function convertToInteractive(key) {\n",
              "          const element = document.querySelector('#df-a0ac3d19-f7a6-4040-8517-9f11581ef36b');\n",
              "          const dataTable =\n",
              "            await google.colab.kernel.invokeFunction('convertToInteractive',\n",
              "                                                     [key], {});\n",
              "          if (!dataTable) return;\n",
              "\n",
              "          const docLinkHtml = 'Like what you see? Visit the ' +\n",
              "            '<a target=\"_blank\" href=https://colab.research.google.com/notebooks/data_table.ipynb>data table notebook</a>'\n",
              "            + ' to learn more about interactive tables.';\n",
              "          element.innerHTML = '';\n",
              "          dataTable['output_type'] = 'display_data';\n",
              "          await google.colab.output.renderOutput(dataTable, element);\n",
              "          const docLink = document.createElement('div');\n",
              "          docLink.innerHTML = docLinkHtml;\n",
              "          element.appendChild(docLink);\n",
              "        }\n",
              "      </script>\n",
              "    </div>\n",
              "  </div>\n",
              "  "
            ]
          },
          "metadata": {},
          "execution_count": 75
        }
      ]
    },
    {
      "cell_type": "code",
      "source": [
        "# making sure the nan feature is empty\n",
        "sum(df_Type_of_Loan['nan'] == 'True')"
      ],
      "metadata": {
        "execution": {
          "iopub.status.busy": "2022-11-25T14:14:02.525705Z",
          "iopub.execute_input": "2022-11-25T14:14:02.526089Z",
          "iopub.status.idle": "2022-11-25T14:14:02.543522Z",
          "shell.execute_reply.started": "2022-11-25T14:14:02.526061Z",
          "shell.execute_reply": "2022-11-25T14:14:02.541852Z"
        },
        "editable": false,
        "trusted": true,
        "colab": {
          "base_uri": "https://localhost:8080/"
        },
        "id": "jiZ-y3AtQocc",
        "outputId": "3442c7da-f37f-40bd-8de7-23964aeec40b"
      },
      "execution_count": null,
      "outputs": [
        {
          "output_type": "execute_result",
          "data": {
            "text/plain": [
              "0"
            ]
          },
          "metadata": {},
          "execution_count": 76
        }
      ]
    },
    {
      "cell_type": "code",
      "source": [
        "# dropping the nan feature\n",
        "df_Type_of_Loan.drop('nan', axis = 1, inplace = True)"
      ],
      "metadata": {
        "scrolled": true,
        "execution": {
          "iopub.status.busy": "2022-11-25T14:14:02.544711Z",
          "iopub.execute_input": "2022-11-25T14:14:02.544995Z",
          "iopub.status.idle": "2022-11-25T14:14:02.555172Z",
          "shell.execute_reply.started": "2022-11-25T14:14:02.54497Z",
          "shell.execute_reply": "2022-11-25T14:14:02.553757Z"
        },
        "editable": false,
        "trusted": true,
        "id": "675TjSoyQocd"
      },
      "execution_count": null,
      "outputs": []
    },
    {
      "cell_type": "code",
      "source": [
        "# saving a checkpoint\n",
        "train_ver1 = train.copy()\n",
        "\n",
        "# combining the original dataset and the Type_of_Loan dataset\n",
        "train = pd.concat([train, df_Type_of_Loan],\n",
        "                  axis = 1,\n",
        "                  ignore_index = False)\n",
        "\n",
        "# moving the Credit_Score feature to the end of the dataframe\n",
        "temp1 = train['Credit_Score'] # temporarily storing the Credit_Score feature\n",
        "train.drop('Credit_Score', axis = 1, inplace = True) # Dropping the feature\n",
        "train['Credit_Score'] = temp1 # Reinserting the Credit_Score feature"
      ],
      "metadata": {
        "execution": {
          "iopub.status.busy": "2022-11-25T14:14:02.556835Z",
          "iopub.execute_input": "2022-11-25T14:14:02.557154Z",
          "iopub.status.idle": "2022-11-25T14:14:02.641923Z",
          "shell.execute_reply.started": "2022-11-25T14:14:02.557129Z",
          "shell.execute_reply": "2022-11-25T14:14:02.64065Z"
        },
        "editable": false,
        "trusted": true,
        "id": "qvR2Ii-fQocd"
      },
      "execution_count": null,
      "outputs": []
    },
    {
      "cell_type": "markdown",
      "source": [
        "#### **b. Test Dataframe**<a class = \"anchor\" id = \"Vd_b\"></a>"
      ],
      "metadata": {
        "editable": false,
        "id": "-XnoaWAvQocd"
      }
    },
    {
      "cell_type": "code",
      "source": [
        "# unique value counts (frequency) of each unique value\n",
        "listUVcount = pd.Series([x for _list in test['Type_of_Loan'] for x in _list]).value_counts()\n",
        "listUVcount\n",
        "\n",
        "# Type_of_Loan unique values (excluding nan)\n",
        "listUV = list(listUVcount[:-1].index)\n",
        "listUV\n",
        "\n",
        "# the sum of all unique values (excluding nan)\n",
        "totalcount = sum(listUVcount[:-1])\n",
        "totalcount\n",
        "\n",
        "# calculating the probabilities of each unique value\n",
        "listUVportion = []\n",
        "for UVcount in listUVcount[:-1]:\n",
        "    UVportion = UVcount / totalcount\n",
        "    listUVportion.append(UVportion)\n",
        "listUVportion\n",
        "\n",
        "# creating the report table\n",
        "table = pd.DataFrame(list(zip(listUV, listUVcount[:-1], listUVportion)))\n",
        "table.columns = ['Type_of_Loan', 'Count', 'Portion']\n",
        "\n",
        "# report\n",
        "table"
      ],
      "metadata": {
        "execution": {
          "iopub.status.busy": "2022-11-25T14:14:02.64334Z",
          "iopub.execute_input": "2022-11-25T14:14:02.643663Z",
          "iopub.status.idle": "2022-11-25T14:14:02.701768Z",
          "shell.execute_reply.started": "2022-11-25T14:14:02.643636Z",
          "shell.execute_reply": "2022-11-25T14:14:02.700552Z"
        },
        "editable": false,
        "trusted": true,
        "colab": {
          "base_uri": "https://localhost:8080/"
        },
        "id": "9RX1u-bSQocd",
        "outputId": "645c0ff8-bece-4770-8c8a-3bbc5edf90e0"
      },
      "execution_count": null,
      "outputs": [
        {
          "output_type": "execute_result",
          "data": {
            "text/plain": [
              "              Type_of_Loan  Count   Portion\n",
              "0                      nan   4495  0.904245\n",
              "1         Home Equity Loan     68  0.013679\n",
              "2              Payday Loan     68  0.013679\n",
              "3            Not Specified     64  0.012875\n",
              "4            Mortgage Loan     64  0.012875\n",
              "5            Personal Loan     56  0.011265\n",
              "6      Credit-Builder Loan     52  0.010461\n",
              "7  Debt Consolidation Loan     52  0.010461\n",
              "8             Student Loan     52  0.010461"
            ],
            "text/html": [
              "\n",
              "  <div id=\"df-f5c346ab-f122-408a-a19b-46e9578df510\">\n",
              "    <div class=\"colab-df-container\">\n",
              "      <div>\n",
              "<style scoped>\n",
              "    .dataframe tbody tr th:only-of-type {\n",
              "        vertical-align: middle;\n",
              "    }\n",
              "\n",
              "    .dataframe tbody tr th {\n",
              "        vertical-align: top;\n",
              "    }\n",
              "\n",
              "    .dataframe thead th {\n",
              "        text-align: right;\n",
              "    }\n",
              "</style>\n",
              "<table border=\"1\" class=\"dataframe\">\n",
              "  <thead>\n",
              "    <tr style=\"text-align: right;\">\n",
              "      <th></th>\n",
              "      <th>Type_of_Loan</th>\n",
              "      <th>Count</th>\n",
              "      <th>Portion</th>\n",
              "    </tr>\n",
              "  </thead>\n",
              "  <tbody>\n",
              "    <tr>\n",
              "      <th>0</th>\n",
              "      <td>nan</td>\n",
              "      <td>4495</td>\n",
              "      <td>0.904245</td>\n",
              "    </tr>\n",
              "    <tr>\n",
              "      <th>1</th>\n",
              "      <td>Home Equity Loan</td>\n",
              "      <td>68</td>\n",
              "      <td>0.013679</td>\n",
              "    </tr>\n",
              "    <tr>\n",
              "      <th>2</th>\n",
              "      <td>Payday Loan</td>\n",
              "      <td>68</td>\n",
              "      <td>0.013679</td>\n",
              "    </tr>\n",
              "    <tr>\n",
              "      <th>3</th>\n",
              "      <td>Not Specified</td>\n",
              "      <td>64</td>\n",
              "      <td>0.012875</td>\n",
              "    </tr>\n",
              "    <tr>\n",
              "      <th>4</th>\n",
              "      <td>Mortgage Loan</td>\n",
              "      <td>64</td>\n",
              "      <td>0.012875</td>\n",
              "    </tr>\n",
              "    <tr>\n",
              "      <th>5</th>\n",
              "      <td>Personal Loan</td>\n",
              "      <td>56</td>\n",
              "      <td>0.011265</td>\n",
              "    </tr>\n",
              "    <tr>\n",
              "      <th>6</th>\n",
              "      <td>Credit-Builder Loan</td>\n",
              "      <td>52</td>\n",
              "      <td>0.010461</td>\n",
              "    </tr>\n",
              "    <tr>\n",
              "      <th>7</th>\n",
              "      <td>Debt Consolidation Loan</td>\n",
              "      <td>52</td>\n",
              "      <td>0.010461</td>\n",
              "    </tr>\n",
              "    <tr>\n",
              "      <th>8</th>\n",
              "      <td>Student Loan</td>\n",
              "      <td>52</td>\n",
              "      <td>0.010461</td>\n",
              "    </tr>\n",
              "  </tbody>\n",
              "</table>\n",
              "</div>\n",
              "      <button class=\"colab-df-convert\" onclick=\"convertToInteractive('df-f5c346ab-f122-408a-a19b-46e9578df510')\"\n",
              "              title=\"Convert this dataframe to an interactive table.\"\n",
              "              style=\"display:none;\">\n",
              "        \n",
              "  <svg xmlns=\"http://www.w3.org/2000/svg\" height=\"24px\"viewBox=\"0 0 24 24\"\n",
              "       width=\"24px\">\n",
              "    <path d=\"M0 0h24v24H0V0z\" fill=\"none\"/>\n",
              "    <path d=\"M18.56 5.44l.94 2.06.94-2.06 2.06-.94-2.06-.94-.94-2.06-.94 2.06-2.06.94zm-11 1L8.5 8.5l.94-2.06 2.06-.94-2.06-.94L8.5 2.5l-.94 2.06-2.06.94zm10 10l.94 2.06.94-2.06 2.06-.94-2.06-.94-.94-2.06-.94 2.06-2.06.94z\"/><path d=\"M17.41 7.96l-1.37-1.37c-.4-.4-.92-.59-1.43-.59-.52 0-1.04.2-1.43.59L10.3 9.45l-7.72 7.72c-.78.78-.78 2.05 0 2.83L4 21.41c.39.39.9.59 1.41.59.51 0 1.02-.2 1.41-.59l7.78-7.78 2.81-2.81c.8-.78.8-2.07 0-2.86zM5.41 20L4 18.59l7.72-7.72 1.47 1.35L5.41 20z\"/>\n",
              "  </svg>\n",
              "      </button>\n",
              "      \n",
              "  <style>\n",
              "    .colab-df-container {\n",
              "      display:flex;\n",
              "      flex-wrap:wrap;\n",
              "      gap: 12px;\n",
              "    }\n",
              "\n",
              "    .colab-df-convert {\n",
              "      background-color: #E8F0FE;\n",
              "      border: none;\n",
              "      border-radius: 50%;\n",
              "      cursor: pointer;\n",
              "      display: none;\n",
              "      fill: #1967D2;\n",
              "      height: 32px;\n",
              "      padding: 0 0 0 0;\n",
              "      width: 32px;\n",
              "    }\n",
              "\n",
              "    .colab-df-convert:hover {\n",
              "      background-color: #E2EBFA;\n",
              "      box-shadow: 0px 1px 2px rgba(60, 64, 67, 0.3), 0px 1px 3px 1px rgba(60, 64, 67, 0.15);\n",
              "      fill: #174EA6;\n",
              "    }\n",
              "\n",
              "    [theme=dark] .colab-df-convert {\n",
              "      background-color: #3B4455;\n",
              "      fill: #D2E3FC;\n",
              "    }\n",
              "\n",
              "    [theme=dark] .colab-df-convert:hover {\n",
              "      background-color: #434B5C;\n",
              "      box-shadow: 0px 1px 3px 1px rgba(0, 0, 0, 0.15);\n",
              "      filter: drop-shadow(0px 1px 2px rgba(0, 0, 0, 0.3));\n",
              "      fill: #FFFFFF;\n",
              "    }\n",
              "  </style>\n",
              "\n",
              "      <script>\n",
              "        const buttonEl =\n",
              "          document.querySelector('#df-f5c346ab-f122-408a-a19b-46e9578df510 button.colab-df-convert');\n",
              "        buttonEl.style.display =\n",
              "          google.colab.kernel.accessAllowed ? 'block' : 'none';\n",
              "\n",
              "        async function convertToInteractive(key) {\n",
              "          const element = document.querySelector('#df-f5c346ab-f122-408a-a19b-46e9578df510');\n",
              "          const dataTable =\n",
              "            await google.colab.kernel.invokeFunction('convertToInteractive',\n",
              "                                                     [key], {});\n",
              "          if (!dataTable) return;\n",
              "\n",
              "          const docLinkHtml = 'Like what you see? Visit the ' +\n",
              "            '<a target=\"_blank\" href=https://colab.research.google.com/notebooks/data_table.ipynb>data table notebook</a>'\n",
              "            + ' to learn more about interactive tables.';\n",
              "          element.innerHTML = '';\n",
              "          dataTable['output_type'] = 'display_data';\n",
              "          await google.colab.output.renderOutput(dataTable, element);\n",
              "          const docLink = document.createElement('div');\n",
              "          docLink.innerHTML = docLinkHtml;\n",
              "          element.appendChild(docLink);\n",
              "        }\n",
              "      </script>\n",
              "    </div>\n",
              "  </div>\n",
              "  "
            ]
          },
          "metadata": {},
          "execution_count": 79
        }
      ]
    },
    {
      "cell_type": "code",
      "source": [
        "# filling in the missing Type_of_Loan data\n",
        "test['Type_of_Loan'] = test['Type_of_Loan']\\\n",
        "                       .fillna(pd.Series(np.random.choice(listUV,\n",
        "                                                          p = listUVportion,\n",
        "                                                          size = len(test['Type_of_Loan']))))"
      ],
      "metadata": {
        "execution": {
          "iopub.status.busy": "2022-11-25T14:14:02.703049Z",
          "iopub.execute_input": "2022-11-25T14:14:02.703541Z",
          "iopub.status.idle": "2022-11-25T14:14:02.722478Z",
          "shell.execute_reply.started": "2022-11-25T14:14:02.703509Z",
          "shell.execute_reply": "2022-11-25T14:14:02.721206Z"
        },
        "editable": false,
        "trusted": true,
        "id": "zJLHc-VKQocd"
      },
      "execution_count": null,
      "outputs": []
    },
    {
      "cell_type": "code",
      "source": [
        "# checking if there are still missing values in the Type_of_Loan feature\n",
        "test['Type_of_Loan'].isnull().sum()"
      ],
      "metadata": {
        "execution": {
          "iopub.status.busy": "2022-11-25T14:14:02.7237Z",
          "iopub.execute_input": "2022-11-25T14:14:02.723946Z",
          "iopub.status.idle": "2022-11-25T14:14:02.735239Z",
          "shell.execute_reply.started": "2022-11-25T14:14:02.723922Z",
          "shell.execute_reply": "2022-11-25T14:14:02.733887Z"
        },
        "editable": false,
        "trusted": true,
        "colab": {
          "base_uri": "https://localhost:8080/"
        },
        "id": "WDrXBePLQocd",
        "outputId": "c1d8f7d9-9782-4b97-ffc4-83330874a84c"
      },
      "execution_count": null,
      "outputs": [
        {
          "output_type": "execute_result",
          "data": {
            "text/plain": [
              "0"
            ]
          },
          "metadata": {},
          "execution_count": 81
        }
      ]
    },
    {
      "cell_type": "markdown",
      "source": [
        "Now that the missing values are not present anymore, let us separate each Type_of_Loan into separate features"
      ],
      "metadata": {
        "editable": false,
        "id": "TmDXW1c1Qocd"
      }
    },
    {
      "cell_type": "code",
      "source": [
        "# converting the list of list into a dataframe\n",
        "df_Type_of_Loan = pd.DataFrame(mlb.fit_transform(test['Type_of_Loan']),columns=mlb.classes_).astype(bool)\n",
        "df_Type_of_Loan"
      ],
      "metadata": {
        "execution": {
          "iopub.status.busy": "2022-11-25T14:14:02.738704Z",
          "iopub.execute_input": "2022-11-25T14:14:02.739098Z",
          "iopub.status.idle": "2022-11-25T14:14:02.825599Z",
          "shell.execute_reply.started": "2022-11-25T14:14:02.739066Z",
          "shell.execute_reply": "2022-11-25T14:14:02.824394Z"
        },
        "editable": false,
        "trusted": true,
        "colab": {
          "base_uri": "https://localhost:8080/"
        },
        "id": "fduCKv-qQoce",
        "outputId": "ed8527ce-ccda-4d37-eadb-b448237f932a"
      },
      "execution_count": null,
      "outputs": [
        {
          "output_type": "execute_result",
          "data": {
            "text/plain": [
              "      Auto Loan  Credit-Builder Loan  Debt Consolidation Loan  \\\n",
              "0         False                False                    False   \n",
              "1         False                False                    False   \n",
              "2         False                False                    False   \n",
              "3         False                False                    False   \n",
              "4         False                 True                    False   \n",
              "...         ...                  ...                      ...   \n",
              "4998      False                False                    False   \n",
              "4999      False                False                    False   \n",
              "5000      False                False                    False   \n",
              "5001      False                False                    False   \n",
              "5002      False                False                    False   \n",
              "\n",
              "      Home Equity Loan  Mortgage Loan  Not Specified  Payday Loan  \\\n",
              "0                False          False          False        False   \n",
              "1                False          False          False        False   \n",
              "2                False          False          False        False   \n",
              "3                False          False          False        False   \n",
              "4                False          False          False        False   \n",
              "...                ...            ...            ...          ...   \n",
              "4998             False          False          False        False   \n",
              "4999             False          False          False        False   \n",
              "5000             False          False          False        False   \n",
              "5001             False          False          False        False   \n",
              "5002             False          False          False        False   \n",
              "\n",
              "      Personal Loan  Student Loan    nan  \n",
              "0             False         False   True  \n",
              "1             False         False   True  \n",
              "2             False         False   True  \n",
              "3             False         False   True  \n",
              "4             False         False  False  \n",
              "...             ...           ...    ...  \n",
              "4998          False         False   True  \n",
              "4999          False         False   True  \n",
              "5000          False         False   True  \n",
              "5001          False         False   True  \n",
              "5002          False         False   True  \n",
              "\n",
              "[5003 rows x 10 columns]"
            ],
            "text/html": [
              "\n",
              "  <div id=\"df-0149f9d4-5655-4d9f-a4c2-0118eb59fdc4\">\n",
              "    <div class=\"colab-df-container\">\n",
              "      <div>\n",
              "<style scoped>\n",
              "    .dataframe tbody tr th:only-of-type {\n",
              "        vertical-align: middle;\n",
              "    }\n",
              "\n",
              "    .dataframe tbody tr th {\n",
              "        vertical-align: top;\n",
              "    }\n",
              "\n",
              "    .dataframe thead th {\n",
              "        text-align: right;\n",
              "    }\n",
              "</style>\n",
              "<table border=\"1\" class=\"dataframe\">\n",
              "  <thead>\n",
              "    <tr style=\"text-align: right;\">\n",
              "      <th></th>\n",
              "      <th>Auto Loan</th>\n",
              "      <th>Credit-Builder Loan</th>\n",
              "      <th>Debt Consolidation Loan</th>\n",
              "      <th>Home Equity Loan</th>\n",
              "      <th>Mortgage Loan</th>\n",
              "      <th>Not Specified</th>\n",
              "      <th>Payday Loan</th>\n",
              "      <th>Personal Loan</th>\n",
              "      <th>Student Loan</th>\n",
              "      <th>nan</th>\n",
              "    </tr>\n",
              "  </thead>\n",
              "  <tbody>\n",
              "    <tr>\n",
              "      <th>0</th>\n",
              "      <td>False</td>\n",
              "      <td>False</td>\n",
              "      <td>False</td>\n",
              "      <td>False</td>\n",
              "      <td>False</td>\n",
              "      <td>False</td>\n",
              "      <td>False</td>\n",
              "      <td>False</td>\n",
              "      <td>False</td>\n",
              "      <td>True</td>\n",
              "    </tr>\n",
              "    <tr>\n",
              "      <th>1</th>\n",
              "      <td>False</td>\n",
              "      <td>False</td>\n",
              "      <td>False</td>\n",
              "      <td>False</td>\n",
              "      <td>False</td>\n",
              "      <td>False</td>\n",
              "      <td>False</td>\n",
              "      <td>False</td>\n",
              "      <td>False</td>\n",
              "      <td>True</td>\n",
              "    </tr>\n",
              "    <tr>\n",
              "      <th>2</th>\n",
              "      <td>False</td>\n",
              "      <td>False</td>\n",
              "      <td>False</td>\n",
              "      <td>False</td>\n",
              "      <td>False</td>\n",
              "      <td>False</td>\n",
              "      <td>False</td>\n",
              "      <td>False</td>\n",
              "      <td>False</td>\n",
              "      <td>True</td>\n",
              "    </tr>\n",
              "    <tr>\n",
              "      <th>3</th>\n",
              "      <td>False</td>\n",
              "      <td>False</td>\n",
              "      <td>False</td>\n",
              "      <td>False</td>\n",
              "      <td>False</td>\n",
              "      <td>False</td>\n",
              "      <td>False</td>\n",
              "      <td>False</td>\n",
              "      <td>False</td>\n",
              "      <td>True</td>\n",
              "    </tr>\n",
              "    <tr>\n",
              "      <th>4</th>\n",
              "      <td>False</td>\n",
              "      <td>True</td>\n",
              "      <td>False</td>\n",
              "      <td>False</td>\n",
              "      <td>False</td>\n",
              "      <td>False</td>\n",
              "      <td>False</td>\n",
              "      <td>False</td>\n",
              "      <td>False</td>\n",
              "      <td>False</td>\n",
              "    </tr>\n",
              "    <tr>\n",
              "      <th>...</th>\n",
              "      <td>...</td>\n",
              "      <td>...</td>\n",
              "      <td>...</td>\n",
              "      <td>...</td>\n",
              "      <td>...</td>\n",
              "      <td>...</td>\n",
              "      <td>...</td>\n",
              "      <td>...</td>\n",
              "      <td>...</td>\n",
              "      <td>...</td>\n",
              "    </tr>\n",
              "    <tr>\n",
              "      <th>4998</th>\n",
              "      <td>False</td>\n",
              "      <td>False</td>\n",
              "      <td>False</td>\n",
              "      <td>False</td>\n",
              "      <td>False</td>\n",
              "      <td>False</td>\n",
              "      <td>False</td>\n",
              "      <td>False</td>\n",
              "      <td>False</td>\n",
              "      <td>True</td>\n",
              "    </tr>\n",
              "    <tr>\n",
              "      <th>4999</th>\n",
              "      <td>False</td>\n",
              "      <td>False</td>\n",
              "      <td>False</td>\n",
              "      <td>False</td>\n",
              "      <td>False</td>\n",
              "      <td>False</td>\n",
              "      <td>False</td>\n",
              "      <td>False</td>\n",
              "      <td>False</td>\n",
              "      <td>True</td>\n",
              "    </tr>\n",
              "    <tr>\n",
              "      <th>5000</th>\n",
              "      <td>False</td>\n",
              "      <td>False</td>\n",
              "      <td>False</td>\n",
              "      <td>False</td>\n",
              "      <td>False</td>\n",
              "      <td>False</td>\n",
              "      <td>False</td>\n",
              "      <td>False</td>\n",
              "      <td>False</td>\n",
              "      <td>True</td>\n",
              "    </tr>\n",
              "    <tr>\n",
              "      <th>5001</th>\n",
              "      <td>False</td>\n",
              "      <td>False</td>\n",
              "      <td>False</td>\n",
              "      <td>False</td>\n",
              "      <td>False</td>\n",
              "      <td>False</td>\n",
              "      <td>False</td>\n",
              "      <td>False</td>\n",
              "      <td>False</td>\n",
              "      <td>True</td>\n",
              "    </tr>\n",
              "    <tr>\n",
              "      <th>5002</th>\n",
              "      <td>False</td>\n",
              "      <td>False</td>\n",
              "      <td>False</td>\n",
              "      <td>False</td>\n",
              "      <td>False</td>\n",
              "      <td>False</td>\n",
              "      <td>False</td>\n",
              "      <td>False</td>\n",
              "      <td>False</td>\n",
              "      <td>True</td>\n",
              "    </tr>\n",
              "  </tbody>\n",
              "</table>\n",
              "<p>5003 rows × 10 columns</p>\n",
              "</div>\n",
              "      <button class=\"colab-df-convert\" onclick=\"convertToInteractive('df-0149f9d4-5655-4d9f-a4c2-0118eb59fdc4')\"\n",
              "              title=\"Convert this dataframe to an interactive table.\"\n",
              "              style=\"display:none;\">\n",
              "        \n",
              "  <svg xmlns=\"http://www.w3.org/2000/svg\" height=\"24px\"viewBox=\"0 0 24 24\"\n",
              "       width=\"24px\">\n",
              "    <path d=\"M0 0h24v24H0V0z\" fill=\"none\"/>\n",
              "    <path d=\"M18.56 5.44l.94 2.06.94-2.06 2.06-.94-2.06-.94-.94-2.06-.94 2.06-2.06.94zm-11 1L8.5 8.5l.94-2.06 2.06-.94-2.06-.94L8.5 2.5l-.94 2.06-2.06.94zm10 10l.94 2.06.94-2.06 2.06-.94-2.06-.94-.94-2.06-.94 2.06-2.06.94z\"/><path d=\"M17.41 7.96l-1.37-1.37c-.4-.4-.92-.59-1.43-.59-.52 0-1.04.2-1.43.59L10.3 9.45l-7.72 7.72c-.78.78-.78 2.05 0 2.83L4 21.41c.39.39.9.59 1.41.59.51 0 1.02-.2 1.41-.59l7.78-7.78 2.81-2.81c.8-.78.8-2.07 0-2.86zM5.41 20L4 18.59l7.72-7.72 1.47 1.35L5.41 20z\"/>\n",
              "  </svg>\n",
              "      </button>\n",
              "      \n",
              "  <style>\n",
              "    .colab-df-container {\n",
              "      display:flex;\n",
              "      flex-wrap:wrap;\n",
              "      gap: 12px;\n",
              "    }\n",
              "\n",
              "    .colab-df-convert {\n",
              "      background-color: #E8F0FE;\n",
              "      border: none;\n",
              "      border-radius: 50%;\n",
              "      cursor: pointer;\n",
              "      display: none;\n",
              "      fill: #1967D2;\n",
              "      height: 32px;\n",
              "      padding: 0 0 0 0;\n",
              "      width: 32px;\n",
              "    }\n",
              "\n",
              "    .colab-df-convert:hover {\n",
              "      background-color: #E2EBFA;\n",
              "      box-shadow: 0px 1px 2px rgba(60, 64, 67, 0.3), 0px 1px 3px 1px rgba(60, 64, 67, 0.15);\n",
              "      fill: #174EA6;\n",
              "    }\n",
              "\n",
              "    [theme=dark] .colab-df-convert {\n",
              "      background-color: #3B4455;\n",
              "      fill: #D2E3FC;\n",
              "    }\n",
              "\n",
              "    [theme=dark] .colab-df-convert:hover {\n",
              "      background-color: #434B5C;\n",
              "      box-shadow: 0px 1px 3px 1px rgba(0, 0, 0, 0.15);\n",
              "      filter: drop-shadow(0px 1px 2px rgba(0, 0, 0, 0.3));\n",
              "      fill: #FFFFFF;\n",
              "    }\n",
              "  </style>\n",
              "\n",
              "      <script>\n",
              "        const buttonEl =\n",
              "          document.querySelector('#df-0149f9d4-5655-4d9f-a4c2-0118eb59fdc4 button.colab-df-convert');\n",
              "        buttonEl.style.display =\n",
              "          google.colab.kernel.accessAllowed ? 'block' : 'none';\n",
              "\n",
              "        async function convertToInteractive(key) {\n",
              "          const element = document.querySelector('#df-0149f9d4-5655-4d9f-a4c2-0118eb59fdc4');\n",
              "          const dataTable =\n",
              "            await google.colab.kernel.invokeFunction('convertToInteractive',\n",
              "                                                     [key], {});\n",
              "          if (!dataTable) return;\n",
              "\n",
              "          const docLinkHtml = 'Like what you see? Visit the ' +\n",
              "            '<a target=\"_blank\" href=https://colab.research.google.com/notebooks/data_table.ipynb>data table notebook</a>'\n",
              "            + ' to learn more about interactive tables.';\n",
              "          element.innerHTML = '';\n",
              "          dataTable['output_type'] = 'display_data';\n",
              "          await google.colab.output.renderOutput(dataTable, element);\n",
              "          const docLink = document.createElement('div');\n",
              "          docLink.innerHTML = docLinkHtml;\n",
              "          element.appendChild(docLink);\n",
              "        }\n",
              "      </script>\n",
              "    </div>\n",
              "  </div>\n",
              "  "
            ]
          },
          "metadata": {},
          "execution_count": 82
        }
      ]
    },
    {
      "cell_type": "code",
      "source": [
        "# making sure the nan feature is empty\n",
        "sum(df_Type_of_Loan['nan'] == 'True')"
      ],
      "metadata": {
        "execution": {
          "iopub.status.busy": "2022-11-25T14:14:02.82687Z",
          "iopub.execute_input": "2022-11-25T14:14:02.827254Z",
          "iopub.status.idle": "2022-11-25T14:14:02.838827Z",
          "shell.execute_reply.started": "2022-11-25T14:14:02.827221Z",
          "shell.execute_reply": "2022-11-25T14:14:02.837741Z"
        },
        "editable": false,
        "trusted": true,
        "colab": {
          "base_uri": "https://localhost:8080/"
        },
        "id": "rVSSei82Qoce",
        "outputId": "19b62f2c-3858-4491-dff4-9b5b157c930e"
      },
      "execution_count": null,
      "outputs": [
        {
          "output_type": "execute_result",
          "data": {
            "text/plain": [
              "0"
            ]
          },
          "metadata": {},
          "execution_count": 83
        }
      ]
    },
    {
      "cell_type": "code",
      "source": [
        "# dropping the nan feature\n",
        "df_Type_of_Loan.drop('nan', axis = 1, inplace = True)"
      ],
      "metadata": {
        "execution": {
          "iopub.status.busy": "2022-11-25T14:14:02.840056Z",
          "iopub.execute_input": "2022-11-25T14:14:02.8403Z",
          "iopub.status.idle": "2022-11-25T14:14:02.851452Z",
          "shell.execute_reply.started": "2022-11-25T14:14:02.840277Z",
          "shell.execute_reply": "2022-11-25T14:14:02.850486Z"
        },
        "editable": false,
        "trusted": true,
        "id": "vJGau0HLQoce"
      },
      "execution_count": null,
      "outputs": []
    },
    {
      "cell_type": "code",
      "source": [
        "# saving a checkpoint\n",
        "test_ver1 = test.copy()\n",
        "\n",
        "# combining the original dataset and the Type_of_Loan dataset\n",
        "test = pd.concat([test, df_Type_of_Loan],\n",
        "                 axis = 1,\n",
        "                 ignore_index = False)"
      ],
      "metadata": {
        "execution": {
          "iopub.status.busy": "2022-11-25T14:14:02.852792Z",
          "iopub.execute_input": "2022-11-25T14:14:02.853346Z",
          "iopub.status.idle": "2022-11-25T14:14:02.878898Z",
          "shell.execute_reply.started": "2022-11-25T14:14:02.85331Z",
          "shell.execute_reply": "2022-11-25T14:14:02.877587Z"
        },
        "editable": false,
        "trusted": true,
        "id": "HW89lu_YQoce"
      },
      "execution_count": null,
      "outputs": []
    },
    {
      "cell_type": "markdown",
      "source": [
        "The Type_of_Loan feature itself for now will not be dropped. This feature will still be useful when we are going to engineer the Num_of_Loan feature in the numerical feature section. Num_of_Loan basically counts the Type_of_Loan each entry has and it will be easier to count directly from the Type_of_Loan feature."
      ],
      "metadata": {
        "editable": false,
        "id": "EFvD-Nq_Qoce"
      }
    },
    {
      "cell_type": "markdown",
      "source": [
        "### **Ve. Categorical Feature: Payment_Behavior**<a class = \"anchor\" id = \"Ve\"></a>"
      ],
      "metadata": {
        "editable": false,
        "id": "Epx0ZNavQoce"
      }
    },
    {
      "cell_type": "markdown",
      "source": [
        "The '!@9#%8' value will be dropped from the feature, as it contains an abnormal data validation compared to the other members in the feature."
      ],
      "metadata": {
        "editable": false,
        "id": "JlMp9CpaQoce"
      }
    },
    {
      "cell_type": "code",
      "source": [
        "# checking how many '!@9#%8' Payment_Behaviour values there are\n",
        "display(len(train[train['Payment_Behaviour'] == '!@9#%8']))\n",
        "display(len(test[test['Payment_Behaviour'] == '!@9#%8']))"
      ],
      "metadata": {
        "execution": {
          "iopub.status.busy": "2022-11-25T14:14:02.880791Z",
          "iopub.execute_input": "2022-11-25T14:14:02.881541Z",
          "iopub.status.idle": "2022-11-25T14:14:02.936023Z",
          "shell.execute_reply.started": "2022-11-25T14:14:02.88148Z",
          "shell.execute_reply": "2022-11-25T14:14:02.934355Z"
        },
        "editable": false,
        "trusted": true,
        "colab": {
          "base_uri": "https://localhost:8080/"
        },
        "id": "qmpoACBlQoce",
        "outputId": "a7e1b1f4-201f-43ed-9f3c-d4f1e42da2d9"
      },
      "execution_count": null,
      "outputs": [
        {
          "output_type": "display_data",
          "data": {
            "text/plain": [
              "171"
            ]
          },
          "metadata": {}
        },
        {
          "output_type": "display_data",
          "data": {
            "text/plain": [
              "82"
            ]
          },
          "metadata": {}
        }
      ]
    },
    {
      "cell_type": "code",
      "source": [
        "# dropping the '!@9#%8' value from the Payment_Behaviour feature\n",
        "train['Payment_Behaviour'] = train['Payment_Behaviour'].replace('!@9#%8', np.nan)\n",
        "test['Payment_Behaviour'] = test['Payment_Behaviour'].replace('!@9#%8', np.nan)"
      ],
      "metadata": {
        "execution": {
          "iopub.status.busy": "2022-11-25T14:14:02.937195Z",
          "iopub.execute_input": "2022-11-25T14:14:02.937531Z",
          "iopub.status.idle": "2022-11-25T14:14:02.954614Z",
          "shell.execute_reply.started": "2022-11-25T14:14:02.937504Z",
          "shell.execute_reply": "2022-11-25T14:14:02.952862Z"
        },
        "editable": false,
        "trusted": true,
        "id": "CijxVQOVQocf"
      },
      "execution_count": null,
      "outputs": []
    },
    {
      "cell_type": "code",
      "source": [
        "# filling in the missing values in Payment_Behaviour feature\n",
        "train['Payment_Behaviour'] = train['Payment_Behaviour'].fillna(train_ver1.groupby('Customer_ID')['Payment_Behaviour'].transform(lambda x:x.mode().iat[0]))\n",
        "test['Payment_Behaviour'] = test['Payment_Behaviour'].fillna(test_ver1.groupby('Customer_ID')['Payment_Behaviour'].transform(lambda x:x.mode().iat[0]))"
      ],
      "metadata": {
        "scrolled": true,
        "execution": {
          "iopub.status.busy": "2022-11-25T14:14:02.956489Z",
          "iopub.execute_input": "2022-11-25T14:14:02.957673Z",
          "iopub.status.idle": "2022-11-25T14:14:09.104099Z",
          "shell.execute_reply.started": "2022-11-25T14:14:02.957632Z",
          "shell.execute_reply": "2022-11-25T14:14:09.102634Z"
        },
        "editable": false,
        "trusted": true,
        "id": "zZDkh2XkQocf"
      },
      "execution_count": null,
      "outputs": []
    },
    {
      "cell_type": "code",
      "source": [
        "# checking if there are still abnormal values\n",
        "display(len(train[train['Payment_Behaviour'] == '!@9#%8']))\n",
        "display(len(test[test['Payment_Behaviour'] == '!@9#%8']))"
      ],
      "metadata": {
        "execution": {
          "iopub.status.busy": "2022-11-25T14:14:09.105778Z",
          "iopub.execute_input": "2022-11-25T14:14:09.1062Z",
          "iopub.status.idle": "2022-11-25T14:14:09.134103Z",
          "shell.execute_reply.started": "2022-11-25T14:14:09.106164Z",
          "shell.execute_reply": "2022-11-25T14:14:09.132825Z"
        },
        "editable": false,
        "trusted": true,
        "colab": {
          "base_uri": "https://localhost:8080/"
        },
        "id": "05F2cOdLQocf",
        "outputId": "a94ce902-4f24-41f5-a061-7b4a3ab27986"
      },
      "execution_count": null,
      "outputs": [
        {
          "output_type": "display_data",
          "data": {
            "text/plain": [
              "37"
            ]
          },
          "metadata": {}
        },
        {
          "output_type": "display_data",
          "data": {
            "text/plain": [
              "48"
            ]
          },
          "metadata": {}
        }
      ]
    },
    {
      "cell_type": "markdown",
      "source": [
        "Note that after the fillna process, there are still 1736 '!@9#%8' values. This is because some customers have at least two type of Payment_Behaviour with same value counts. However, considering that the number is now small compared to the initial 7600 value counts, we will fill in the remaining with probability instead, the same as when we did with Type_of_Loan."
      ],
      "metadata": {
        "editable": false,
        "id": "BcBmuGnmQocf"
      }
    },
    {
      "cell_type": "code",
      "source": [
        "# counting the portion of each unique value, excluding '!@9#%8'\n",
        "uniquevalueprob(train, 'Payment_Behaviour', '!@9#%8')\n",
        "print('\\n')\n",
        "uniquevalueprob(test, 'Payment_Behaviour', '!@9#%8')"
      ],
      "metadata": {
        "execution": {
          "iopub.status.busy": "2022-11-25T14:14:09.135358Z",
          "iopub.execute_input": "2022-11-25T14:14:09.135692Z",
          "iopub.status.idle": "2022-11-25T14:14:09.220218Z",
          "shell.execute_reply.started": "2022-11-25T14:14:09.135665Z",
          "shell.execute_reply": "2022-11-25T14:14:09.21893Z"
        },
        "editable": false,
        "trusted": true,
        "colab": {
          "base_uri": "https://localhost:8080/"
        },
        "id": "QoU6q397Qocf",
        "outputId": "d299c3e8-803a-4bcf-b0c6-3bc35b8c4fc6"
      },
      "execution_count": null,
      "outputs": [
        {
          "output_type": "stream",
          "name": "stdout",
          "text": [
            "               Payment_Behaviour  Count  Portion\n",
            "  Low_spent_Small_value_payments    473 0.220102\n",
            "High_spent_Medium_value_payments    438 0.203816\n",
            " High_spent_Large_value_payments    408 0.189856\n",
            " Low_spent_Medium_value_payments    339 0.157748\n",
            " High_spent_Small_value_payments    256 0.119125\n",
            "  Low_spent_Large_value_payments    235 0.109353\n",
            "\n",
            "\n",
            "               Payment_Behaviour  Count  Portion\n",
            " High_spent_Large_value_payments    227 0.217225\n",
            "  Low_spent_Small_value_payments    217 0.207656\n",
            "High_spent_Medium_value_payments    211 0.201914\n",
            " Low_spent_Medium_value_payments    141 0.134928\n",
            " High_spent_Small_value_payments    134 0.128230\n",
            "  Low_spent_Large_value_payments    115 0.110048\n"
          ]
        }
      ]
    },
    {
      "cell_type": "code",
      "source": [
        "# dropping !@9#%8 values\n",
        "train['Payment_Behaviour'] = train['Payment_Behaviour'].replace('!@9#%8', np.nan)\n",
        "test['Payment_Behaviour'] = test['Payment_Behaviour'].replace('!@9#%8', np.nan)\n",
        "\n",
        "# filling in the remaining missing values with the unique value probability\n",
        "train['Payment_Behaviour'] = train['Payment_Behaviour']\\\n",
        "                             .fillna(pd.Series(np.random.choice(listUV,\n",
        "                             p = listUVportion, \n",
        "                             size = len(train['Payment_Behaviour']))))\n",
        "test['Payment_Behaviour'] = test['Payment_Behaviour']\\\n",
        "                            .fillna(pd.Series(np.random.choice(listUV,\n",
        "                            p = listUVportion, \n",
        "                            size = len(test['Payment_Behaviour']))))\n",
        "\n",
        "# checking if there are still abnormal values\n",
        "display(len(train[train['Payment_Behaviour'] == '!@9#%8']))\n",
        "display(len(test[test['Payment_Behaviour'] == '!@9#%8']))"
      ],
      "metadata": {
        "execution": {
          "iopub.status.busy": "2022-11-25T14:14:09.221528Z",
          "iopub.execute_input": "2022-11-25T14:14:09.222015Z",
          "iopub.status.idle": "2022-11-25T14:14:09.287372Z",
          "shell.execute_reply.started": "2022-11-25T14:14:09.221969Z",
          "shell.execute_reply": "2022-11-25T14:14:09.286502Z"
        },
        "editable": false,
        "trusted": true,
        "colab": {
          "base_uri": "https://localhost:8080/"
        },
        "id": "LKy1Vm6cQocf",
        "outputId": "e12e456c-6e1a-4651-d9bf-f4d1b471e155"
      },
      "execution_count": null,
      "outputs": [
        {
          "output_type": "display_data",
          "data": {
            "text/plain": [
              "0"
            ]
          },
          "metadata": {}
        },
        {
          "output_type": "display_data",
          "data": {
            "text/plain": [
              "0"
            ]
          },
          "metadata": {}
        }
      ]
    },
    {
      "cell_type": "markdown",
      "source": [
        "### **Vf. Categorical Feature: Credit_Mix**<a class = \"anchor\" id = \"Vf\"></a>"
      ],
      "metadata": {
        "editable": false,
        "id": "FC6mjxeMQocg"
      }
    },
    {
      "cell_type": "markdown",
      "source": [
        "The 'Credit_Mix' feature also has missing values in the form of string, '_'. Like before, we are going to omit these '_' values first before filling in the missing values."
      ],
      "metadata": {
        "editable": false,
        "id": "h2qzuf2AQocg"
      }
    },
    {
      "cell_type": "code",
      "source": [
        "# dropping the '_' value\n",
        "train['Credit_Mix'] = train['Credit_Mix'].replace('_', np.nan)\n",
        "test['Credit_Mix'] = test['Credit_Mix'].replace('_', np.nan)\n",
        "\n",
        "# counting the portion of each unique value\n",
        "uniquevalueprob(train, 'Credit_Mix')\n",
        "print('\\n')\n",
        "uniquevalueprob(test, 'Credit_Mix')"
      ],
      "metadata": {
        "execution": {
          "iopub.status.busy": "2022-11-25T14:14:09.28918Z",
          "iopub.execute_input": "2022-11-25T14:14:09.290199Z",
          "iopub.status.idle": "2022-11-25T14:14:09.345615Z",
          "shell.execute_reply.started": "2022-11-25T14:14:09.290164Z",
          "shell.execute_reply": "2022-11-25T14:14:09.343837Z"
        },
        "editable": false,
        "trusted": true,
        "colab": {
          "base_uri": "https://localhost:8080/"
        },
        "id": "vsHz0DrUQocg",
        "outputId": "ff95e414-d15e-4e25-d058-65524179536a"
      },
      "execution_count": null,
      "outputs": [
        {
          "output_type": "stream",
          "name": "stdout",
          "text": [
            "Credit_Mix  Count  Portion\n",
            "      Good    977 0.561494\n",
            "  Standard    763 0.438506\n",
            "\n",
            "\n",
            "Credit_Mix  Count  Portion\n",
            "      Good    475 0.548499\n",
            "  Standard    391 0.451501\n"
          ]
        }
      ]
    },
    {
      "cell_type": "code",
      "source": [
        "# filling in the remaining missing values with the unique value probability\n",
        "train['Credit_Mix'] = train['Credit_Mix']\\\n",
        "                      .fillna(pd.Series(np.random.choice(listUV,\n",
        "                      p = listUVportion, \n",
        "                      size = len(train))))\n",
        "test['Credit_Mix'] = test['Credit_Mix']\\\n",
        "                     .fillna(pd.Series(np.random.choice(listUV,\n",
        "                     p = listUVportion, \n",
        "                     size = len(test))))\n",
        "\n",
        "# checking if there are still abnormal values\n",
        "display(len(train[train['Credit_Mix'] == '_']))\n",
        "display(len(test[test['Credit_Mix'] == '_']))"
      ],
      "metadata": {
        "execution": {
          "iopub.status.busy": "2022-11-25T14:14:09.347294Z",
          "iopub.execute_input": "2022-11-25T14:14:09.347648Z",
          "iopub.status.idle": "2022-11-25T14:14:09.397017Z",
          "shell.execute_reply.started": "2022-11-25T14:14:09.34762Z",
          "shell.execute_reply": "2022-11-25T14:14:09.395533Z"
        },
        "editable": false,
        "trusted": true,
        "colab": {
          "base_uri": "https://localhost:8080/"
        },
        "id": "Nybi1JRXQocg",
        "outputId": "5b82c93d-4f6f-48a0-8a8a-d4d9055d314f"
      },
      "execution_count": null,
      "outputs": [
        {
          "output_type": "display_data",
          "data": {
            "text/plain": [
              "0"
            ]
          },
          "metadata": {}
        },
        {
          "output_type": "display_data",
          "data": {
            "text/plain": [
              "0"
            ]
          },
          "metadata": {}
        }
      ]
    },
    {
      "cell_type": "markdown",
      "source": [
        "### **Vg. Data Cleaning and Engineering Log**<a class = \"anchor\" id = \"Vg\"></a>"
      ],
      "metadata": {
        "editable": false,
        "id": "tr6a35uwQocg"
      }
    },
    {
      "cell_type": "markdown",
      "source": [
        "**Data Cleaning and Engineering Phase 2**\n",
        "\n",
        "**1. Name**\n",
        "* Dropped the Name feature\n",
        "\n",
        "**2. SSN**\n",
        "* Replaced the '#F%$D@*&8' values with np.nan.\n",
        "* Filled in the np.nan values with the corresponding customer's SSN mode value.\n",
        "\n",
        "**3. Occupation**\n",
        "* Replaced the '-------' values with np.nan.\n",
        "* Filled in the np.nan values with the corresponding customer's Occupation mode value.\n",
        "\n",
        "**4. Type_of_Loan**\n",
        "* Converted the feature data type into string.\n",
        "* Replaced 'and ' characters with '' instead, so that the type of loan items can later be separated from each other.\n",
        "* Replaced ', ' characters with '' instead, so that the type of loan items can later be separated from each other.\n",
        "* Separated each item in the feature with the delimiter ', '.\n",
        "* Filled in the missing values randomly based on the proportion of each unique item in the feature.\n",
        "* Transformed the feature into a wide format\n",
        "* Concatenated the wide-transformed feature into the main dataframes.\n",
        "\n",
        "**5. Payment_Behaviour**\n",
        "* Replaced the '!@9#%8' values with np.nan.\n",
        "* Filled in the np.nan values with the corresponding customer's Payment_Behaviour mode value.\n",
        "* Replaced the '!@9#%8' values with np.nan again. These values reappeared because of the previous cleaning step.\n",
        "* Filled in the np.nan values randomly based on the proportion of each unique item in the feature.\n",
        "\n",
        "**6. Credit_Mix**\n",
        "* Replaced the '_' character with np.nan.\n",
        "* Filled in the np.nan values randomly based on the proportion of each unique item in the feature."
      ],
      "metadata": {
        "editable": false,
        "id": "FFQIbzwvQocg"
      }
    },
    {
      "cell_type": "markdown",
      "source": [
        "## **VI. Data Exploration Phase 3: Numerical Features**<a class = \"anchor\" id = \"VI\"></a>"
      ],
      "metadata": {
        "editable": false,
        "id": "VZfdGfR-Qocg"
      }
    },
    {
      "cell_type": "markdown",
      "source": [
        "Now that we are done with the categorical features, let us move on to the numerical ones. A slightly different approcah is needed as we are dealing with both continuous and discrete numbers."
      ],
      "metadata": {
        "editable": false,
        "id": "2EnyZ5tzQoch"
      }
    },
    {
      "cell_type": "markdown",
      "source": [
        "### **VIa. Data Distribution**<a class = \"anchor\" id = \"VIa\"></a>"
      ],
      "metadata": {
        "editable": false,
        "id": "Zc1WBFSQQoch"
      }
    },
    {
      "cell_type": "markdown",
      "source": [
        "##### **Data Distribution Table**"
      ],
      "metadata": {
        "editable": false,
        "id": "N_vFjd8JQoch"
      }
    },
    {
      "cell_type": "code",
      "source": [
        "# taking a look at Train's numerical data's variation dispersion\n",
        "train[NumFeatures].describe()"
      ],
      "metadata": {
        "execution": {
          "iopub.status.busy": "2022-11-25T14:14:09.399118Z",
          "iopub.execute_input": "2022-11-25T14:14:09.399556Z",
          "iopub.status.idle": "2022-11-25T14:14:09.501059Z",
          "shell.execute_reply.started": "2022-11-25T14:14:09.399511Z",
          "shell.execute_reply": "2022-11-25T14:14:09.499748Z"
        },
        "editable": false,
        "trusted": true,
        "colab": {
          "base_uri": "https://localhost:8080/"
        },
        "id": "ijwqIZqBQoch",
        "outputId": "37c816a6-3057-4c99-b606-e0ee483fb660"
      },
      "execution_count": null,
      "outputs": [
        {
          "output_type": "execute_result",
          "data": {
            "text/plain": [
              "               Age  Annual_Income  Monthly_Inhand_Salary  Num_Bank_Accounts  \\\n",
              "count  2186.000000   2.186000e+03            1883.000000        2186.000000   \n",
              "mean    138.010979   1.509384e+05            5549.195869          13.962946   \n",
              "std     753.324959   1.074879e+06            3570.448570         108.468460   \n",
              "min      15.000000   9.767320e+03             853.824583           0.000000   \n",
              "25%      26.000000   2.936512e+04            2499.991667           2.000000   \n",
              "50%      36.500000   6.084198e+04            5149.658333           4.000000   \n",
              "75%      47.000000   9.740158e+04            7933.913333           5.000000   \n",
              "max    8394.000000   2.044184e+07           14828.983333        1724.000000   \n",
              "\n",
              "       Num_Credit_Card  Interest_Rate  Num_of_Loan  Delay_from_due_date  \\\n",
              "count      2186.000000    2186.000000  2186.000000          2186.000000   \n",
              "mean         25.419945      72.839890     7.112534            13.528820   \n",
              "std         146.428215     491.216559    51.324348             8.318232   \n",
              "min           0.000000       1.000000     0.000000            -5.000000   \n",
              "25%           3.000000       6.000000     0.000000             7.000000   \n",
              "50%           5.000000       9.000000     0.000000            13.000000   \n",
              "75%           6.000000      14.000000     1.000000            19.000000   \n",
              "max        1456.000000    5721.000000  1110.000000            35.000000   \n",
              "\n",
              "       Num_of_Delayed_Payment  Changed_Credit_Limit  Num_Credit_Inquiries  \\\n",
              "count             2017.000000           2147.000000           2124.000000   \n",
              "mean                28.656916              8.099832             22.472222   \n",
              "std                221.982368              4.680629            182.659736   \n",
              "min                  0.000000              0.040000              0.000000   \n",
              "25%                  6.000000              4.480000              1.000000   \n",
              "50%                 10.000000              7.890000              3.000000   \n",
              "75%                 15.000000             10.820000              5.000000   \n",
              "max               3905.000000             26.430000           2592.000000   \n",
              "\n",
              "       Outstanding_Debt  Credit_Utilization_Ratio  Credit_History_Age  \\\n",
              "count       2186.000000               2186.000000         1982.000000   \n",
              "mean         768.853275                 33.134088          291.682139   \n",
              "std          435.806184                  5.491756           66.405063   \n",
              "min           29.600000                 21.947072           87.000000   \n",
              "25%          382.040000                 28.488897          234.000000   \n",
              "50%          791.330000                 33.228387          295.000000   \n",
              "75%         1134.410000                 37.516201          348.000000   \n",
              "max         1496.800000                 50.000000          403.000000   \n",
              "\n",
              "       Total_EMI_per_month  Amount_invested_monthly  Monthly_Balance  \n",
              "count          2186.000000              2107.000000      2180.000000  \n",
              "mean           1387.823614               667.351445       558.269276  \n",
              "std            8368.810182              1996.171532       275.176844  \n",
              "min               0.000000                12.680046         0.688299  \n",
              "25%               0.000000                97.820541       351.913771  \n",
              "50%               0.000000               177.842288       465.320752  \n",
              "75%              31.774884               346.261118       734.921157  \n",
              "max           81050.000000             10000.000000      1602.040519  "
            ],
            "text/html": [
              "\n",
              "  <div id=\"df-a50695d9-fa1a-4d4f-8516-983dd38d33bc\">\n",
              "    <div class=\"colab-df-container\">\n",
              "      <div>\n",
              "<style scoped>\n",
              "    .dataframe tbody tr th:only-of-type {\n",
              "        vertical-align: middle;\n",
              "    }\n",
              "\n",
              "    .dataframe tbody tr th {\n",
              "        vertical-align: top;\n",
              "    }\n",
              "\n",
              "    .dataframe thead th {\n",
              "        text-align: right;\n",
              "    }\n",
              "</style>\n",
              "<table border=\"1\" class=\"dataframe\">\n",
              "  <thead>\n",
              "    <tr style=\"text-align: right;\">\n",
              "      <th></th>\n",
              "      <th>Age</th>\n",
              "      <th>Annual_Income</th>\n",
              "      <th>Monthly_Inhand_Salary</th>\n",
              "      <th>Num_Bank_Accounts</th>\n",
              "      <th>Num_Credit_Card</th>\n",
              "      <th>Interest_Rate</th>\n",
              "      <th>Num_of_Loan</th>\n",
              "      <th>Delay_from_due_date</th>\n",
              "      <th>Num_of_Delayed_Payment</th>\n",
              "      <th>Changed_Credit_Limit</th>\n",
              "      <th>Num_Credit_Inquiries</th>\n",
              "      <th>Outstanding_Debt</th>\n",
              "      <th>Credit_Utilization_Ratio</th>\n",
              "      <th>Credit_History_Age</th>\n",
              "      <th>Total_EMI_per_month</th>\n",
              "      <th>Amount_invested_monthly</th>\n",
              "      <th>Monthly_Balance</th>\n",
              "    </tr>\n",
              "  </thead>\n",
              "  <tbody>\n",
              "    <tr>\n",
              "      <th>count</th>\n",
              "      <td>2186.000000</td>\n",
              "      <td>2.186000e+03</td>\n",
              "      <td>1883.000000</td>\n",
              "      <td>2186.000000</td>\n",
              "      <td>2186.000000</td>\n",
              "      <td>2186.000000</td>\n",
              "      <td>2186.000000</td>\n",
              "      <td>2186.000000</td>\n",
              "      <td>2017.000000</td>\n",
              "      <td>2147.000000</td>\n",
              "      <td>2124.000000</td>\n",
              "      <td>2186.000000</td>\n",
              "      <td>2186.000000</td>\n",
              "      <td>1982.000000</td>\n",
              "      <td>2186.000000</td>\n",
              "      <td>2107.000000</td>\n",
              "      <td>2180.000000</td>\n",
              "    </tr>\n",
              "    <tr>\n",
              "      <th>mean</th>\n",
              "      <td>138.010979</td>\n",
              "      <td>1.509384e+05</td>\n",
              "      <td>5549.195869</td>\n",
              "      <td>13.962946</td>\n",
              "      <td>25.419945</td>\n",
              "      <td>72.839890</td>\n",
              "      <td>7.112534</td>\n",
              "      <td>13.528820</td>\n",
              "      <td>28.656916</td>\n",
              "      <td>8.099832</td>\n",
              "      <td>22.472222</td>\n",
              "      <td>768.853275</td>\n",
              "      <td>33.134088</td>\n",
              "      <td>291.682139</td>\n",
              "      <td>1387.823614</td>\n",
              "      <td>667.351445</td>\n",
              "      <td>558.269276</td>\n",
              "    </tr>\n",
              "    <tr>\n",
              "      <th>std</th>\n",
              "      <td>753.324959</td>\n",
              "      <td>1.074879e+06</td>\n",
              "      <td>3570.448570</td>\n",
              "      <td>108.468460</td>\n",
              "      <td>146.428215</td>\n",
              "      <td>491.216559</td>\n",
              "      <td>51.324348</td>\n",
              "      <td>8.318232</td>\n",
              "      <td>221.982368</td>\n",
              "      <td>4.680629</td>\n",
              "      <td>182.659736</td>\n",
              "      <td>435.806184</td>\n",
              "      <td>5.491756</td>\n",
              "      <td>66.405063</td>\n",
              "      <td>8368.810182</td>\n",
              "      <td>1996.171532</td>\n",
              "      <td>275.176844</td>\n",
              "    </tr>\n",
              "    <tr>\n",
              "      <th>min</th>\n",
              "      <td>15.000000</td>\n",
              "      <td>9.767320e+03</td>\n",
              "      <td>853.824583</td>\n",
              "      <td>0.000000</td>\n",
              "      <td>0.000000</td>\n",
              "      <td>1.000000</td>\n",
              "      <td>0.000000</td>\n",
              "      <td>-5.000000</td>\n",
              "      <td>0.000000</td>\n",
              "      <td>0.040000</td>\n",
              "      <td>0.000000</td>\n",
              "      <td>29.600000</td>\n",
              "      <td>21.947072</td>\n",
              "      <td>87.000000</td>\n",
              "      <td>0.000000</td>\n",
              "      <td>12.680046</td>\n",
              "      <td>0.688299</td>\n",
              "    </tr>\n",
              "    <tr>\n",
              "      <th>25%</th>\n",
              "      <td>26.000000</td>\n",
              "      <td>2.936512e+04</td>\n",
              "      <td>2499.991667</td>\n",
              "      <td>2.000000</td>\n",
              "      <td>3.000000</td>\n",
              "      <td>6.000000</td>\n",
              "      <td>0.000000</td>\n",
              "      <td>7.000000</td>\n",
              "      <td>6.000000</td>\n",
              "      <td>4.480000</td>\n",
              "      <td>1.000000</td>\n",
              "      <td>382.040000</td>\n",
              "      <td>28.488897</td>\n",
              "      <td>234.000000</td>\n",
              "      <td>0.000000</td>\n",
              "      <td>97.820541</td>\n",
              "      <td>351.913771</td>\n",
              "    </tr>\n",
              "    <tr>\n",
              "      <th>50%</th>\n",
              "      <td>36.500000</td>\n",
              "      <td>6.084198e+04</td>\n",
              "      <td>5149.658333</td>\n",
              "      <td>4.000000</td>\n",
              "      <td>5.000000</td>\n",
              "      <td>9.000000</td>\n",
              "      <td>0.000000</td>\n",
              "      <td>13.000000</td>\n",
              "      <td>10.000000</td>\n",
              "      <td>7.890000</td>\n",
              "      <td>3.000000</td>\n",
              "      <td>791.330000</td>\n",
              "      <td>33.228387</td>\n",
              "      <td>295.000000</td>\n",
              "      <td>0.000000</td>\n",
              "      <td>177.842288</td>\n",
              "      <td>465.320752</td>\n",
              "    </tr>\n",
              "    <tr>\n",
              "      <th>75%</th>\n",
              "      <td>47.000000</td>\n",
              "      <td>9.740158e+04</td>\n",
              "      <td>7933.913333</td>\n",
              "      <td>5.000000</td>\n",
              "      <td>6.000000</td>\n",
              "      <td>14.000000</td>\n",
              "      <td>1.000000</td>\n",
              "      <td>19.000000</td>\n",
              "      <td>15.000000</td>\n",
              "      <td>10.820000</td>\n",
              "      <td>5.000000</td>\n",
              "      <td>1134.410000</td>\n",
              "      <td>37.516201</td>\n",
              "      <td>348.000000</td>\n",
              "      <td>31.774884</td>\n",
              "      <td>346.261118</td>\n",
              "      <td>734.921157</td>\n",
              "    </tr>\n",
              "    <tr>\n",
              "      <th>max</th>\n",
              "      <td>8394.000000</td>\n",
              "      <td>2.044184e+07</td>\n",
              "      <td>14828.983333</td>\n",
              "      <td>1724.000000</td>\n",
              "      <td>1456.000000</td>\n",
              "      <td>5721.000000</td>\n",
              "      <td>1110.000000</td>\n",
              "      <td>35.000000</td>\n",
              "      <td>3905.000000</td>\n",
              "      <td>26.430000</td>\n",
              "      <td>2592.000000</td>\n",
              "      <td>1496.800000</td>\n",
              "      <td>50.000000</td>\n",
              "      <td>403.000000</td>\n",
              "      <td>81050.000000</td>\n",
              "      <td>10000.000000</td>\n",
              "      <td>1602.040519</td>\n",
              "    </tr>\n",
              "  </tbody>\n",
              "</table>\n",
              "</div>\n",
              "      <button class=\"colab-df-convert\" onclick=\"convertToInteractive('df-a50695d9-fa1a-4d4f-8516-983dd38d33bc')\"\n",
              "              title=\"Convert this dataframe to an interactive table.\"\n",
              "              style=\"display:none;\">\n",
              "        \n",
              "  <svg xmlns=\"http://www.w3.org/2000/svg\" height=\"24px\"viewBox=\"0 0 24 24\"\n",
              "       width=\"24px\">\n",
              "    <path d=\"M0 0h24v24H0V0z\" fill=\"none\"/>\n",
              "    <path d=\"M18.56 5.44l.94 2.06.94-2.06 2.06-.94-2.06-.94-.94-2.06-.94 2.06-2.06.94zm-11 1L8.5 8.5l.94-2.06 2.06-.94-2.06-.94L8.5 2.5l-.94 2.06-2.06.94zm10 10l.94 2.06.94-2.06 2.06-.94-2.06-.94-.94-2.06-.94 2.06-2.06.94z\"/><path d=\"M17.41 7.96l-1.37-1.37c-.4-.4-.92-.59-1.43-.59-.52 0-1.04.2-1.43.59L10.3 9.45l-7.72 7.72c-.78.78-.78 2.05 0 2.83L4 21.41c.39.39.9.59 1.41.59.51 0 1.02-.2 1.41-.59l7.78-7.78 2.81-2.81c.8-.78.8-2.07 0-2.86zM5.41 20L4 18.59l7.72-7.72 1.47 1.35L5.41 20z\"/>\n",
              "  </svg>\n",
              "      </button>\n",
              "      \n",
              "  <style>\n",
              "    .colab-df-container {\n",
              "      display:flex;\n",
              "      flex-wrap:wrap;\n",
              "      gap: 12px;\n",
              "    }\n",
              "\n",
              "    .colab-df-convert {\n",
              "      background-color: #E8F0FE;\n",
              "      border: none;\n",
              "      border-radius: 50%;\n",
              "      cursor: pointer;\n",
              "      display: none;\n",
              "      fill: #1967D2;\n",
              "      height: 32px;\n",
              "      padding: 0 0 0 0;\n",
              "      width: 32px;\n",
              "    }\n",
              "\n",
              "    .colab-df-convert:hover {\n",
              "      background-color: #E2EBFA;\n",
              "      box-shadow: 0px 1px 2px rgba(60, 64, 67, 0.3), 0px 1px 3px 1px rgba(60, 64, 67, 0.15);\n",
              "      fill: #174EA6;\n",
              "    }\n",
              "\n",
              "    [theme=dark] .colab-df-convert {\n",
              "      background-color: #3B4455;\n",
              "      fill: #D2E3FC;\n",
              "    }\n",
              "\n",
              "    [theme=dark] .colab-df-convert:hover {\n",
              "      background-color: #434B5C;\n",
              "      box-shadow: 0px 1px 3px 1px rgba(0, 0, 0, 0.15);\n",
              "      filter: drop-shadow(0px 1px 2px rgba(0, 0, 0, 0.3));\n",
              "      fill: #FFFFFF;\n",
              "    }\n",
              "  </style>\n",
              "\n",
              "      <script>\n",
              "        const buttonEl =\n",
              "          document.querySelector('#df-a50695d9-fa1a-4d4f-8516-983dd38d33bc button.colab-df-convert');\n",
              "        buttonEl.style.display =\n",
              "          google.colab.kernel.accessAllowed ? 'block' : 'none';\n",
              "\n",
              "        async function convertToInteractive(key) {\n",
              "          const element = document.querySelector('#df-a50695d9-fa1a-4d4f-8516-983dd38d33bc');\n",
              "          const dataTable =\n",
              "            await google.colab.kernel.invokeFunction('convertToInteractive',\n",
              "                                                     [key], {});\n",
              "          if (!dataTable) return;\n",
              "\n",
              "          const docLinkHtml = 'Like what you see? Visit the ' +\n",
              "            '<a target=\"_blank\" href=https://colab.research.google.com/notebooks/data_table.ipynb>data table notebook</a>'\n",
              "            + ' to learn more about interactive tables.';\n",
              "          element.innerHTML = '';\n",
              "          dataTable['output_type'] = 'display_data';\n",
              "          await google.colab.output.renderOutput(dataTable, element);\n",
              "          const docLink = document.createElement('div');\n",
              "          docLink.innerHTML = docLinkHtml;\n",
              "          element.appendChild(docLink);\n",
              "        }\n",
              "      </script>\n",
              "    </div>\n",
              "  </div>\n",
              "  "
            ]
          },
          "metadata": {},
          "execution_count": 94
        }
      ]
    },
    {
      "cell_type": "code",
      "source": [
        "# taking a look at Test's numerical data's variation dispersion\n",
        "test[NumFeatures].describe()"
      ],
      "metadata": {
        "execution": {
          "iopub.status.busy": "2022-11-25T14:14:09.50337Z",
          "iopub.execute_input": "2022-11-25T14:14:09.505523Z",
          "iopub.status.idle": "2022-11-25T14:14:09.591798Z",
          "shell.execute_reply.started": "2022-11-25T14:14:09.505487Z",
          "shell.execute_reply": "2022-11-25T14:14:09.590425Z"
        },
        "editable": false,
        "trusted": true,
        "colab": {
          "base_uri": "https://localhost:8080/"
        },
        "id": "O7CxbsYIQoch",
        "outputId": "ed7d6dee-c056-483b-a0e3-9261ee3be50d"
      },
      "execution_count": null,
      "outputs": [
        {
          "output_type": "execute_result",
          "data": {
            "text/plain": [
              "               Age  Annual_Income  Monthly_Inhand_Salary  Num_Bank_Accounts  \\\n",
              "count  1093.000000   1.093000e+03             946.000000        1093.000000   \n",
              "mean    109.085087   2.139502e+05            5570.224256          17.228728   \n",
              "std     604.929811   1.492975e+06            3569.183377         121.259729   \n",
              "min      15.000000   9.767320e+03             853.824583           0.000000   \n",
              "25%      26.000000   2.936512e+04            2451.118333           2.000000   \n",
              "50%      37.000000   6.123560e+04            5149.658333           4.000000   \n",
              "75%      47.000000   9.796196e+04            8066.315000           5.000000   \n",
              "max    8337.000000   2.411230e+07           14828.983333        1470.000000   \n",
              "\n",
              "       Num_Credit_Card  Interest_Rate  Num_of_Loan  Delay_from_due_date  \\\n",
              "count      1093.000000    1093.000000  1093.000000          1093.000000   \n",
              "mean         30.166514      48.119854    10.290027            13.471180   \n",
              "std         158.364511     378.857323    75.234049             8.447768   \n",
              "min           0.000000       1.000000     0.000000            -4.000000   \n",
              "25%           3.000000       6.000000     0.000000             7.000000   \n",
              "50%           5.000000       9.000000     0.000000            13.000000   \n",
              "75%           6.000000      13.000000     1.000000            20.000000   \n",
              "max        1435.000000    5525.000000  1470.000000            35.000000   \n",
              "\n",
              "       Num_of_Delayed_Payment  Changed_Credit_Limit  Num_Credit_Inquiries  \\\n",
              "count             1017.000000           1068.000000           1069.000000   \n",
              "mean                24.921337              8.131573             37.714687   \n",
              "std                195.927417              4.640823            239.261309   \n",
              "min                  0.000000              0.090000              0.000000   \n",
              "25%                  6.000000              4.620000              3.000000   \n",
              "50%                 10.000000              7.880000              5.000000   \n",
              "75%                 15.000000             10.880000              7.000000   \n",
              "max               4246.000000             24.050000           2592.000000   \n",
              "\n",
              "       Outstanding_Debt  Credit_Utilization_Ratio  Credit_History_Age  \\\n",
              "count       1093.000000               1093.000000         1006.000000   \n",
              "mean         768.255023                 33.302010          297.294235   \n",
              "std          436.075244                  5.331677           66.664698   \n",
              "min           29.600000                 22.055550           95.000000   \n",
              "25%          382.040000                 29.150995          240.250000   \n",
              "50%          791.330000                 33.153266          299.500000   \n",
              "75%         1134.410000                 37.626845          354.000000   \n",
              "max         1496.800000                 48.152777          408.000000   \n",
              "\n",
              "       Total_EMI_per_month  Amount_invested_monthly  Monthly_Balance  \n",
              "count          1093.000000              1049.000000      1091.000000  \n",
              "mean           1252.120644               770.308320       560.505712  \n",
              "std            8085.448172              2225.468812       272.052059  \n",
              "min               0.000000                 0.000000         0.773860  \n",
              "25%               0.000000                88.477535       358.800974  \n",
              "50%               7.867826               166.124832       471.415386  \n",
              "75%              39.575332               347.891908       733.108987  \n",
              "max           77203.000000             10000.000000      1566.125572  "
            ],
            "text/html": [
              "\n",
              "  <div id=\"df-56f45744-7fec-4c7c-986b-71ea480eec27\">\n",
              "    <div class=\"colab-df-container\">\n",
              "      <div>\n",
              "<style scoped>\n",
              "    .dataframe tbody tr th:only-of-type {\n",
              "        vertical-align: middle;\n",
              "    }\n",
              "\n",
              "    .dataframe tbody tr th {\n",
              "        vertical-align: top;\n",
              "    }\n",
              "\n",
              "    .dataframe thead th {\n",
              "        text-align: right;\n",
              "    }\n",
              "</style>\n",
              "<table border=\"1\" class=\"dataframe\">\n",
              "  <thead>\n",
              "    <tr style=\"text-align: right;\">\n",
              "      <th></th>\n",
              "      <th>Age</th>\n",
              "      <th>Annual_Income</th>\n",
              "      <th>Monthly_Inhand_Salary</th>\n",
              "      <th>Num_Bank_Accounts</th>\n",
              "      <th>Num_Credit_Card</th>\n",
              "      <th>Interest_Rate</th>\n",
              "      <th>Num_of_Loan</th>\n",
              "      <th>Delay_from_due_date</th>\n",
              "      <th>Num_of_Delayed_Payment</th>\n",
              "      <th>Changed_Credit_Limit</th>\n",
              "      <th>Num_Credit_Inquiries</th>\n",
              "      <th>Outstanding_Debt</th>\n",
              "      <th>Credit_Utilization_Ratio</th>\n",
              "      <th>Credit_History_Age</th>\n",
              "      <th>Total_EMI_per_month</th>\n",
              "      <th>Amount_invested_monthly</th>\n",
              "      <th>Monthly_Balance</th>\n",
              "    </tr>\n",
              "  </thead>\n",
              "  <tbody>\n",
              "    <tr>\n",
              "      <th>count</th>\n",
              "      <td>1093.000000</td>\n",
              "      <td>1.093000e+03</td>\n",
              "      <td>946.000000</td>\n",
              "      <td>1093.000000</td>\n",
              "      <td>1093.000000</td>\n",
              "      <td>1093.000000</td>\n",
              "      <td>1093.000000</td>\n",
              "      <td>1093.000000</td>\n",
              "      <td>1017.000000</td>\n",
              "      <td>1068.000000</td>\n",
              "      <td>1069.000000</td>\n",
              "      <td>1093.000000</td>\n",
              "      <td>1093.000000</td>\n",
              "      <td>1006.000000</td>\n",
              "      <td>1093.000000</td>\n",
              "      <td>1049.000000</td>\n",
              "      <td>1091.000000</td>\n",
              "    </tr>\n",
              "    <tr>\n",
              "      <th>mean</th>\n",
              "      <td>109.085087</td>\n",
              "      <td>2.139502e+05</td>\n",
              "      <td>5570.224256</td>\n",
              "      <td>17.228728</td>\n",
              "      <td>30.166514</td>\n",
              "      <td>48.119854</td>\n",
              "      <td>10.290027</td>\n",
              "      <td>13.471180</td>\n",
              "      <td>24.921337</td>\n",
              "      <td>8.131573</td>\n",
              "      <td>37.714687</td>\n",
              "      <td>768.255023</td>\n",
              "      <td>33.302010</td>\n",
              "      <td>297.294235</td>\n",
              "      <td>1252.120644</td>\n",
              "      <td>770.308320</td>\n",
              "      <td>560.505712</td>\n",
              "    </tr>\n",
              "    <tr>\n",
              "      <th>std</th>\n",
              "      <td>604.929811</td>\n",
              "      <td>1.492975e+06</td>\n",
              "      <td>3569.183377</td>\n",
              "      <td>121.259729</td>\n",
              "      <td>158.364511</td>\n",
              "      <td>378.857323</td>\n",
              "      <td>75.234049</td>\n",
              "      <td>8.447768</td>\n",
              "      <td>195.927417</td>\n",
              "      <td>4.640823</td>\n",
              "      <td>239.261309</td>\n",
              "      <td>436.075244</td>\n",
              "      <td>5.331677</td>\n",
              "      <td>66.664698</td>\n",
              "      <td>8085.448172</td>\n",
              "      <td>2225.468812</td>\n",
              "      <td>272.052059</td>\n",
              "    </tr>\n",
              "    <tr>\n",
              "      <th>min</th>\n",
              "      <td>15.000000</td>\n",
              "      <td>9.767320e+03</td>\n",
              "      <td>853.824583</td>\n",
              "      <td>0.000000</td>\n",
              "      <td>0.000000</td>\n",
              "      <td>1.000000</td>\n",
              "      <td>0.000000</td>\n",
              "      <td>-4.000000</td>\n",
              "      <td>0.000000</td>\n",
              "      <td>0.090000</td>\n",
              "      <td>0.000000</td>\n",
              "      <td>29.600000</td>\n",
              "      <td>22.055550</td>\n",
              "      <td>95.000000</td>\n",
              "      <td>0.000000</td>\n",
              "      <td>0.000000</td>\n",
              "      <td>0.773860</td>\n",
              "    </tr>\n",
              "    <tr>\n",
              "      <th>25%</th>\n",
              "      <td>26.000000</td>\n",
              "      <td>2.936512e+04</td>\n",
              "      <td>2451.118333</td>\n",
              "      <td>2.000000</td>\n",
              "      <td>3.000000</td>\n",
              "      <td>6.000000</td>\n",
              "      <td>0.000000</td>\n",
              "      <td>7.000000</td>\n",
              "      <td>6.000000</td>\n",
              "      <td>4.620000</td>\n",
              "      <td>3.000000</td>\n",
              "      <td>382.040000</td>\n",
              "      <td>29.150995</td>\n",
              "      <td>240.250000</td>\n",
              "      <td>0.000000</td>\n",
              "      <td>88.477535</td>\n",
              "      <td>358.800974</td>\n",
              "    </tr>\n",
              "    <tr>\n",
              "      <th>50%</th>\n",
              "      <td>37.000000</td>\n",
              "      <td>6.123560e+04</td>\n",
              "      <td>5149.658333</td>\n",
              "      <td>4.000000</td>\n",
              "      <td>5.000000</td>\n",
              "      <td>9.000000</td>\n",
              "      <td>0.000000</td>\n",
              "      <td>13.000000</td>\n",
              "      <td>10.000000</td>\n",
              "      <td>7.880000</td>\n",
              "      <td>5.000000</td>\n",
              "      <td>791.330000</td>\n",
              "      <td>33.153266</td>\n",
              "      <td>299.500000</td>\n",
              "      <td>7.867826</td>\n",
              "      <td>166.124832</td>\n",
              "      <td>471.415386</td>\n",
              "    </tr>\n",
              "    <tr>\n",
              "      <th>75%</th>\n",
              "      <td>47.000000</td>\n",
              "      <td>9.796196e+04</td>\n",
              "      <td>8066.315000</td>\n",
              "      <td>5.000000</td>\n",
              "      <td>6.000000</td>\n",
              "      <td>13.000000</td>\n",
              "      <td>1.000000</td>\n",
              "      <td>20.000000</td>\n",
              "      <td>15.000000</td>\n",
              "      <td>10.880000</td>\n",
              "      <td>7.000000</td>\n",
              "      <td>1134.410000</td>\n",
              "      <td>37.626845</td>\n",
              "      <td>354.000000</td>\n",
              "      <td>39.575332</td>\n",
              "      <td>347.891908</td>\n",
              "      <td>733.108987</td>\n",
              "    </tr>\n",
              "    <tr>\n",
              "      <th>max</th>\n",
              "      <td>8337.000000</td>\n",
              "      <td>2.411230e+07</td>\n",
              "      <td>14828.983333</td>\n",
              "      <td>1470.000000</td>\n",
              "      <td>1435.000000</td>\n",
              "      <td>5525.000000</td>\n",
              "      <td>1470.000000</td>\n",
              "      <td>35.000000</td>\n",
              "      <td>4246.000000</td>\n",
              "      <td>24.050000</td>\n",
              "      <td>2592.000000</td>\n",
              "      <td>1496.800000</td>\n",
              "      <td>48.152777</td>\n",
              "      <td>408.000000</td>\n",
              "      <td>77203.000000</td>\n",
              "      <td>10000.000000</td>\n",
              "      <td>1566.125572</td>\n",
              "    </tr>\n",
              "  </tbody>\n",
              "</table>\n",
              "</div>\n",
              "      <button class=\"colab-df-convert\" onclick=\"convertToInteractive('df-56f45744-7fec-4c7c-986b-71ea480eec27')\"\n",
              "              title=\"Convert this dataframe to an interactive table.\"\n",
              "              style=\"display:none;\">\n",
              "        \n",
              "  <svg xmlns=\"http://www.w3.org/2000/svg\" height=\"24px\"viewBox=\"0 0 24 24\"\n",
              "       width=\"24px\">\n",
              "    <path d=\"M0 0h24v24H0V0z\" fill=\"none\"/>\n",
              "    <path d=\"M18.56 5.44l.94 2.06.94-2.06 2.06-.94-2.06-.94-.94-2.06-.94 2.06-2.06.94zm-11 1L8.5 8.5l.94-2.06 2.06-.94-2.06-.94L8.5 2.5l-.94 2.06-2.06.94zm10 10l.94 2.06.94-2.06 2.06-.94-2.06-.94-.94-2.06-.94 2.06-2.06.94z\"/><path d=\"M17.41 7.96l-1.37-1.37c-.4-.4-.92-.59-1.43-.59-.52 0-1.04.2-1.43.59L10.3 9.45l-7.72 7.72c-.78.78-.78 2.05 0 2.83L4 21.41c.39.39.9.59 1.41.59.51 0 1.02-.2 1.41-.59l7.78-7.78 2.81-2.81c.8-.78.8-2.07 0-2.86zM5.41 20L4 18.59l7.72-7.72 1.47 1.35L5.41 20z\"/>\n",
              "  </svg>\n",
              "      </button>\n",
              "      \n",
              "  <style>\n",
              "    .colab-df-container {\n",
              "      display:flex;\n",
              "      flex-wrap:wrap;\n",
              "      gap: 12px;\n",
              "    }\n",
              "\n",
              "    .colab-df-convert {\n",
              "      background-color: #E8F0FE;\n",
              "      border: none;\n",
              "      border-radius: 50%;\n",
              "      cursor: pointer;\n",
              "      display: none;\n",
              "      fill: #1967D2;\n",
              "      height: 32px;\n",
              "      padding: 0 0 0 0;\n",
              "      width: 32px;\n",
              "    }\n",
              "\n",
              "    .colab-df-convert:hover {\n",
              "      background-color: #E2EBFA;\n",
              "      box-shadow: 0px 1px 2px rgba(60, 64, 67, 0.3), 0px 1px 3px 1px rgba(60, 64, 67, 0.15);\n",
              "      fill: #174EA6;\n",
              "    }\n",
              "\n",
              "    [theme=dark] .colab-df-convert {\n",
              "      background-color: #3B4455;\n",
              "      fill: #D2E3FC;\n",
              "    }\n",
              "\n",
              "    [theme=dark] .colab-df-convert:hover {\n",
              "      background-color: #434B5C;\n",
              "      box-shadow: 0px 1px 3px 1px rgba(0, 0, 0, 0.15);\n",
              "      filter: drop-shadow(0px 1px 2px rgba(0, 0, 0, 0.3));\n",
              "      fill: #FFFFFF;\n",
              "    }\n",
              "  </style>\n",
              "\n",
              "      <script>\n",
              "        const buttonEl =\n",
              "          document.querySelector('#df-56f45744-7fec-4c7c-986b-71ea480eec27 button.colab-df-convert');\n",
              "        buttonEl.style.display =\n",
              "          google.colab.kernel.accessAllowed ? 'block' : 'none';\n",
              "\n",
              "        async function convertToInteractive(key) {\n",
              "          const element = document.querySelector('#df-56f45744-7fec-4c7c-986b-71ea480eec27');\n",
              "          const dataTable =\n",
              "            await google.colab.kernel.invokeFunction('convertToInteractive',\n",
              "                                                     [key], {});\n",
              "          if (!dataTable) return;\n",
              "\n",
              "          const docLinkHtml = 'Like what you see? Visit the ' +\n",
              "            '<a target=\"_blank\" href=https://colab.research.google.com/notebooks/data_table.ipynb>data table notebook</a>'\n",
              "            + ' to learn more about interactive tables.';\n",
              "          element.innerHTML = '';\n",
              "          dataTable['output_type'] = 'display_data';\n",
              "          await google.colab.output.renderOutput(dataTable, element);\n",
              "          const docLink = document.createElement('div');\n",
              "          docLink.innerHTML = docLinkHtml;\n",
              "          element.appendChild(docLink);\n",
              "        }\n",
              "      </script>\n",
              "    </div>\n",
              "  </div>\n",
              "  "
            ]
          },
          "metadata": {},
          "execution_count": 95
        }
      ]
    },
    {
      "cell_type": "markdown",
      "source": [
        "##### **Data Distribution Visualization**"
      ],
      "metadata": {
        "editable": false,
        "id": "mTEGmfw7Qoch"
      }
    },
    {
      "cell_type": "markdown",
      "source": [
        "To better understand how the data is distributed in each numerical feature, we are going to visualize the data using histogram plots, both for Train and Test dataframes."
      ],
      "metadata": {
        "editable": false,
        "id": "RDIW6wmPQoch"
      }
    },
    {
      "cell_type": "code",
      "source": [
        "# setting plot layout\n",
        "fig, axes = plt.subplots(17, 2, figsize = (10, 50))\n",
        "fig.tight_layout(pad = 4)\n",
        "\n",
        "# plotting the data visualization\n",
        "for i in range(len(NumFeatures)):\n",
        "    axes[i, 0].hist(train[NumFeatures[i]],\n",
        "                    color = 'lightblue')\n",
        "    axes[i, 0].set_title('Train Dataframe')\n",
        "    axes[i, 0].set_xlabel(NumFeatures[i])\n",
        "    axes[i, 0].set_ylabel('Count')\n",
        "    axes[i, 1].hist(test[NumFeatures[i]],\n",
        "                    color = 'lightgreen')\n",
        "    axes[i, 1].set_title('Test Dataframe')\n",
        "    axes[i, 1].set_xlabel(NumFeatures[i])\n",
        "    axes[i, 1].set_ylabel('Count')\n",
        "plt.show()"
      ],
      "metadata": {
        "execution": {
          "iopub.status.busy": "2022-11-25T14:14:09.593647Z",
          "iopub.execute_input": "2022-11-25T14:14:09.594185Z",
          "iopub.status.idle": "2022-11-25T14:14:13.794565Z",
          "shell.execute_reply.started": "2022-11-25T14:14:09.594142Z",
          "shell.execute_reply": "2022-11-25T14:14:13.793156Z"
        },
        "editable": false,
        "trusted": true,
        "colab": {
          "base_uri": "https://localhost:8080/"
        },
        "id": "XHe9K-OKQoch",
        "outputId": "97bb1653-cacd-4f3c-d8ad-6bf3f9d65d87"
      },
      "execution_count": null,
      "outputs": [
        {
          "output_type": "display_data",
          "data": {
            "text/plain": [
              "<Figure size 720x3600 with 34 Axes>"
            ],
            "image/png": "[encoded data removed]"
          },
          "metadata": {
            "needs_background": "light"
          }
        }
      ]
    },
    {
      "cell_type": "markdown",
      "source": [
        "### **VIb. Data Exploration Findings**<a class = \"anchor\" id = \"VIb\"></a>"
      ],
      "metadata": {
        "editable": false,
        "id": "_PI2oidKQoci"
      }
    },
    {
      "cell_type": "markdown",
      "source": [
        "Findings:\n",
        "1. Monthly_Inhand_Salary, Num_of_Delayed_Payment, Changed_Credit_Limit, Num_Credit_Inquiries, Credit_History_Age, Amount_invested_monthly, and Monthly_Balance features (total: 7 features) have missing values.\n",
        "2. Age, Annual_Income, Num_Bank_Accounts, Num_Credit_Card, Interest_Rate, Num_of_Loan, Num_of_Delayed_Payment, Changed_Credit_Limit, Num_Credit_Inquiries, Total_EMI_per_month, Amount_invested_monthly, and Monthly_Balance features (total: 12 features) has abnormal max value (upper outlier). These outliers should be addressed when we are filling in the missing values using mean +- stddev imputation method\n",
        "3. Continuing from the Type_of_Loan feature data cleaning, the Num_of_Loan feature will need to be updated with reference to the updated value in Type_of_Loan. The Type_of_Loan feature itself will be dropped afterwards."
      ],
      "metadata": {
        "editable": false,
        "id": "isO34cnhQoci"
      }
    },
    {
      "cell_type": "markdown",
      "source": [
        "Important numerical data cleaning note:\n",
        "In the numerical features data cleaning process, there might be cases in which each one needs a different approach. The cases:\n",
        "1. Missing value in an independent entry\n",
        "2. Missing value in one or more members of an aggregated entries\n",
        "3. Different value in one or more members of an aggregated entries\n",
        "4. Totally missing values of an aggregated entries"
      ],
      "metadata": {
        "editable": false,
        "id": "mp3_eVYFQoci"
      }
    },
    {
      "cell_type": "markdown",
      "source": [
        "For example:\n",
        "Customer A has 8 entries in the dataset. The Age value of this customer is either supposed to be the same in all 8 entries or differ with +1 value in the forward entries (assuming he/she might have had a birthday during the period of the data collection). However, when we are looking at the dataset, the Age values of this customer's entries show that they either have missing values or varying values. This kind of case needs to be made distinct from the other cases."
      ],
      "metadata": {
        "editable": false,
        "id": "lviE1uAvQoci"
      }
    },
    {
      "cell_type": "markdown",
      "source": [
        "## **VII. Data Cleaning and Engineering Phase 3: Numerical Features**<a class = \"anchor\" id = \"VII\"></a>"
      ],
      "metadata": {
        "editable": false,
        "id": "DzBj-EwjQoci"
      }
    },
    {
      "cell_type": "markdown",
      "source": [
        "### **VIIa. Numerical Feature: Age**<a class = \"anchor\" id = \"VIIa\"></a><a class = \"anchor\" id = \"VIIa\"></a>"
      ],
      "metadata": {
        "editable": false,
        "id": "L2uadLTtQoci"
      }
    },
    {
      "cell_type": "markdown",
      "source": [
        "The first thing we want to do with the Age feature is to get rid of the illogical values. Let us assume that the oldest people can get in this dataset and still have active credit activities are 90 years old and the youngest ones are 18 years old, based on the general legal age of 18 to be able to have a credit card. Thus, the value above 90 and below 18 will be omitted."
      ],
      "metadata": {
        "editable": false,
        "id": "kUlyR3xmQoci"
      }
    },
    {
      "cell_type": "markdown",
      "source": [
        "##### **Calculating the outlier percentage**"
      ],
      "metadata": {
        "editable": false,
        "id": "fZjmjiG0Qoci"
      }
    },
    {
      "cell_type": "code",
      "source": [
        "# creating the population variable for Age \n",
        "TrainPop = len(train['Age'])\n",
        "TestPop = len(test['Age'])\n",
        "\n",
        "# Age with value larger than 90\n",
        "TrainUpSample = (train['Age'] > 90).sum()\n",
        "TestUpSample = (test['Age'] > 90).sum()\n",
        "TrainUpPerc = TrainUpSample / TrainPop\n",
        "TestUpPerc = TestUpSample / TestPop\n",
        "\n",
        "# Age with value smaller than 18\n",
        "TrainDownSample = (train['Age'] < 18).sum()\n",
        "TestDownSample = (test['Age'] < 18).sum()\n",
        "TrainDownPerc = TrainDownSample / TrainPop\n",
        "TestDownPerc = TestDownSample / TestPop\n",
        "\n",
        "# report\n",
        "print(' Train :', '\\n',\n",
        "      'Age with value larger than 90  :', TrainUpSample,\n",
        "      '(', TrainUpPerc, '% )', '\\n',\n",
        "      'Age with value smaller than 18 :', TrainDownSample,\n",
        "      '(', TrainDownPerc, '% )', '\\n' * 2,\n",
        "      'Test :', '\\n',\n",
        "      'Age with value larger than 90  :', TestUpSample,\n",
        "      '(', TestUpPerc, '% )', '\\n',\n",
        "      'Age with value smaller than 18 :', TestDownSample,\n",
        "      '(', TestDownPerc, '% )')"
      ],
      "metadata": {
        "execution": {
          "iopub.status.busy": "2022-11-25T14:14:13.795653Z",
          "iopub.execute_input": "2022-11-25T14:14:13.795929Z",
          "iopub.status.idle": "2022-11-25T14:14:13.808032Z",
          "shell.execute_reply.started": "2022-11-25T14:14:13.795904Z",
          "shell.execute_reply": "2022-11-25T14:14:13.80661Z"
        },
        "editable": false,
        "trusted": true,
        "colab": {
          "base_uri": "https://localhost:8080/"
        },
        "id": "5c1QOjHPQocj",
        "outputId": "25441b25-68d9-4a39-f18e-eb119f55bc49"
      },
      "execution_count": null,
      "outputs": [
        {
          "output_type": "stream",
          "name": "stdout",
          "text": [
            " Train : \n",
            " Age with value larger than 90  : 66 ( 0.006594724220623501 % ) \n",
            " Age with value smaller than 18 : 8 ( 0.0007993605115907274 % ) \n",
            "\n",
            " Test : \n",
            " Age with value larger than 90  : 23 ( 0.004597241655006996 % ) \n",
            " Age with value smaller than 18 : 4 ( 0.0007995202878273036 % )\n"
          ]
        }
      ]
    },
    {
      "cell_type": "markdown",
      "source": [
        "##### **Dropping the outliers**"
      ],
      "metadata": {
        "editable": false,
        "id": "R-bNZ47LQocj"
      }
    },
    {
      "cell_type": "code",
      "source": [
        "# Train dataframe\n",
        "NewAge = []\n",
        "for i in range(len(train['Age'])):\n",
        "    if train['Age'][i] > 90 or train['Age'][i] < 18:\n",
        "        NewAge.append(np.nan)\n",
        "    else:\n",
        "        NewAge.append(train['Age'][i])       \n",
        "train['Age'] = NewAge\n",
        "\n",
        "# Test dataframe\n",
        "NewAge = []\n",
        "for i in range(len(test['Age'])):\n",
        "    if test['Age'][i] > 90 or test['Age'][i] < 18:\n",
        "        NewAge.append(np.nan)\n",
        "    else:\n",
        "        NewAge.append(test['Age'][i])       \n",
        "test['Age'] = NewAge"
      ],
      "metadata": {
        "execution": {
          "iopub.status.busy": "2022-11-25T14:14:13.810214Z",
          "iopub.execute_input": "2022-11-25T14:14:13.810641Z",
          "iopub.status.idle": "2022-11-25T14:14:16.364879Z",
          "shell.execute_reply.started": "2022-11-25T14:14:13.810602Z",
          "shell.execute_reply": "2022-11-25T14:14:16.363519Z"
        },
        "editable": false,
        "trusted": true,
        "id": "ew6LGW1VQocj"
      },
      "execution_count": null,
      "outputs": []
    },
    {
      "cell_type": "markdown",
      "source": [
        "##### **Filling in the missing values caused by the omission**"
      ],
      "metadata": {
        "editable": false,
        "id": "uRaCsfeYQocj"
      }
    },
    {
      "cell_type": "markdown",
      "source": [
        "We are now going to fill in the missing values which appeared because of the previous omission. It is important to differ the type of missing values in this feature. Each customer has 8 entries in the dataset. These 8 entries are supposed to have the same Age value or +1 Age value in the forward entries, considering that he or she might have had a birthday during the data collection period (however, for practicality purpose, we will be assuming the same Age value in all 8 entries for one customer instead). Taking this into consideration, we can not immediately fill in all of the missing values with Age median +- standard deviation. We need to first try filling in the missing values with each customer's mode first."
      ],
      "metadata": {
        "editable": false,
        "id": "X3AUf9WqQocj"
      }
    },
    {
      "cell_type": "code",
      "source": [
        "# creating Age lookup table, aggregated by customer ID\n",
        "\n",
        "# creating the dataframe containing Customer_ID and Age\n",
        "TrainAgeLookup = train[['Customer_ID', 'Age']]\n",
        "TestAgeLookup = test[['Customer_ID', 'Age']]\n",
        "\n",
        "# returning the Age mode of each customer\n",
        "TestAgeLookup = TestAgeLookup.groupby('Customer_ID')\\\n",
        "                .agg(pd.Series.mode)\n",
        "\n",
        "# replacing the Age value of each customer with each one's Mode\n",
        "train['Age'] = train['Customer_ID'].map(TrainAgeLookup['Age'])\n",
        "test['Age'] = test['Customer_ID'].map(TestAgeLookup['Age'])"
      ],
      "metadata": {
        "execution": {
          "iopub.status.busy": "2022-11-25T14:14:16.366151Z",
          "iopub.execute_input": "2022-11-25T14:14:16.36649Z",
          "iopub.status.idle": "2022-11-25T14:14:19.398489Z",
          "shell.execute_reply.started": "2022-11-25T14:14:16.366459Z",
          "shell.execute_reply": "2022-11-25T14:14:19.397212Z"
        },
        "editable": false,
        "trusted": true,
        "id": "pva61PP9Qocj"
      },
      "execution_count": null,
      "outputs": []
    },
    {
      "cell_type": "markdown",
      "source": [
        "With this replacement method, it is possible to generate Age value in type of a list for some customers. This is due to the possibility of those customers having two or three Age values which each has the same amount of occurence in their entries. We are going to eliminate these list values by using the first members of the lists instead."
      ],
      "metadata": {
        "editable": false,
        "id": "7GgiUGxbQocj"
      }
    },
    {
      "cell_type": "markdown",
      "source": [
        "##### **Eliminating any generated array-type value**"
      ],
      "metadata": {
        "editable": false,
        "id": "wSH9eWh0Qock"
      }
    },
    {
      "cell_type": "markdown",
      "source": [
        "Now, we are going to eliminate any array-type value generated by the method by using only the first member of the array value."
      ],
      "metadata": {
        "editable": false,
        "id": "J2q6MiUAQock"
      }
    },
    {
      "cell_type": "code",
      "source": [
        "# Train dataframe\n",
        "NewAge = []\n",
        "for i in range(len(train['Age'])):\n",
        "    # for float type members\n",
        "    if type(train['Age'][i]) == np.float64:\n",
        "        NewAge.append(train['Age'][i])\n",
        "    # for empty list members\n",
        "    elif type(train['Age'][i]) == np.ndarray and len(train['Age'][i]) == 0:\n",
        "        NewAge.append(np.nan)\n",
        "    # for non-empty list members\n",
        "    elif type(train['Age'][i]) == np.ndarray and len(train['Age'][i]) != 0:\n",
        "        NewAge.append(train['Age'][i][1])\n",
        "train['Age'] = NewAge\n",
        "\n",
        "# Test dataframe\n",
        "NewAge = []\n",
        "for i in range(len(test['Age'])):\n",
        "    # for float type members\n",
        "    if type(test['Age'][i]) == np.float64:\n",
        "        NewAge.append(test['Age'][i])\n",
        "    # for empty list members\n",
        "    elif type(test['Age'][i]) == np.ndarray and len(test['Age'][i]) == 0:\n",
        "        NewAge.append(np.nan)\n",
        "    # for non-empty list members\n",
        "    elif type(test['Age'][i]) == np.ndarray and len(test['Age'][i]) != 0:\n",
        "        NewAge.append(test['Age'][i][1])\n",
        "test['Age'] = NewAge"
      ],
      "metadata": {
        "execution": {
          "iopub.status.busy": "2022-11-25T14:14:19.40006Z",
          "iopub.execute_input": "2022-11-25T14:14:19.400998Z",
          "iopub.status.idle": "2022-11-25T14:14:21.457188Z",
          "shell.execute_reply.started": "2022-11-25T14:14:19.400956Z",
          "shell.execute_reply": "2022-11-25T14:14:21.455605Z"
        },
        "editable": false,
        "trusted": true,
        "id": "5IJKMLgRQock"
      },
      "execution_count": null,
      "outputs": []
    },
    {
      "cell_type": "markdown",
      "source": [
        "##### **Reconverting and rechecking the data type**"
      ],
      "metadata": {
        "editable": false,
        "id": "b66QB1_WQock"
      }
    },
    {
      "cell_type": "code",
      "source": [
        "# reconverting the Age feature into float\n",
        "train['Age'].astype('float')\n",
        "test['Age'].astype('object')"
      ],
      "metadata": {
        "execution": {
          "iopub.status.busy": "2022-11-25T14:14:21.458854Z",
          "iopub.execute_input": "2022-11-25T14:14:21.459255Z",
          "iopub.status.idle": "2022-11-25T14:14:21.469133Z",
          "shell.execute_reply.started": "2022-11-25T14:14:21.459221Z",
          "shell.execute_reply": "2022-11-25T14:14:21.468425Z"
        },
        "editable": false,
        "trusted": true,
        "colab": {
          "base_uri": "https://localhost:8080/"
        },
        "id": "O67y-nSTQock",
        "outputId": "0a72fa27-107a-43fe-a97b-826a7e068659"
      },
      "execution_count": null,
      "outputs": [
        {
          "output_type": "execute_result",
          "data": {
            "text/plain": [
              "0        NaN\n",
              "1        NaN\n",
              "2        NaN\n",
              "3        NaN\n",
              "4       28.0\n",
              "        ... \n",
              "4998     NaN\n",
              "4999     NaN\n",
              "5000     NaN\n",
              "5001     NaN\n",
              "5002     NaN\n",
              "Name: Age, Length: 5003, dtype: object"
            ]
          },
          "metadata": {},
          "execution_count": 110
        }
      ]
    },
    {
      "cell_type": "code",
      "source": [
        "# rechecking the missing values in Age feature\n",
        "remaining = train['Age'].isnull().sum()\n",
        "print('Remaining Age missing values (Train):', remaining)\n",
        "remaining = test['Age'].isnull().sum()\n",
        "print('Remaining Age missing values (Test) :', remaining)"
      ],
      "metadata": {
        "execution": {
          "iopub.status.busy": "2022-11-25T14:14:21.470255Z",
          "iopub.execute_input": "2022-11-25T14:14:21.470651Z",
          "iopub.status.idle": "2022-11-25T14:14:21.484121Z",
          "shell.execute_reply.started": "2022-11-25T14:14:21.470612Z",
          "shell.execute_reply": "2022-11-25T14:14:21.483075Z"
        },
        "editable": false,
        "trusted": true,
        "colab": {
          "base_uri": "https://localhost:8080/"
        },
        "id": "DErEtZOiQock",
        "outputId": "8ffef5f6-fb57-430a-d785-892bbed4ea65"
      },
      "execution_count": null,
      "outputs": [
        {
          "output_type": "stream",
          "name": "stdout",
          "text": [
            "Remaining Age missing values (Train): 10008\n",
            "Remaining Age missing values (Test) : 3910\n"
          ]
        }
      ]
    },
    {
      "cell_type": "markdown",
      "source": [
        "##### **Checking the data distribution after the previous process**"
      ],
      "metadata": {
        "editable": false,
        "id": "HfVizywXQocl"
      }
    },
    {
      "cell_type": "markdown",
      "source": [
        "For the remaining missing values present in the Age feature, we want to fill them in by referencing to a lookup table containing each ID's Age mean +- standard deviation. Before we calculate these parameters though, we need to make sure that the data distribution is distributed quite evenly, so that the parameters' values are not too off."
      ],
      "metadata": {
        "editable": false,
        "id": "eE2Sibk0Qocl"
      }
    },
    {
      "cell_type": "code",
      "source": [
        "# setting plot layout\n",
        "fig, axes = plt.subplots(1, 2, figsize = (9, 4))\n",
        "fig.tight_layout(pad = 5)\n",
        "\n",
        "# creating histogram plots\n",
        "axes[0].hist(train['Annual_Income'],\n",
        "             color = 'lightblue')\n",
        "axes[1].hist(test['Annual_Income'],\n",
        "             color = 'lightgreen')\n",
        "\n",
        "# setting plot information\n",
        "axes[0].set_title('Train Dataframe')\n",
        "axes[0].set_xlabel('Annual_Income')\n",
        "axes[0].set_ylabel('Count')\n",
        "axes[1].set_xlabel('Annual_Income')\n",
        "axes[1].set_ylabel('Count')\n",
        "axes[1].set_title('Test Dataframe')\n",
        "plt.show()"
      ],
      "metadata": {
        "execution": {
          "iopub.status.busy": "2022-11-25T14:14:21.485356Z",
          "iopub.execute_input": "2022-11-25T14:14:21.486016Z",
          "iopub.status.idle": "2022-11-25T14:14:21.76493Z",
          "shell.execute_reply.started": "2022-11-25T14:14:21.485966Z",
          "shell.execute_reply": "2022-11-25T14:14:21.763597Z"
        },
        "editable": false,
        "trusted": true,
        "colab": {
          "base_uri": "https://localhost:8080/",
          "height": 246
        },
        "id": "AZm26D1cQocl",
        "outputId": "22dabb7c-e138-4715-a902-21866be69ad9"
      },
      "execution_count": null,
      "outputs": [
        {
          "output_type": "display_data",
          "data": {
            "text/plain": [
              "<Figure size 648x288 with 2 Axes>"
            ],
            "image/png": "[encoded data removed]"
          },
          "metadata": {
            "needs_background": "light"
          }
        }
      ]
    },
    {
      "cell_type": "markdown",
      "source": [
        "##### **Creating Age lookup table containing each ID's Age mean +- std. dev.**"
      ],
      "metadata": {
        "editable": false,
        "id": "Pph_ClXRQocl"
      }
    },
    {
      "cell_type": "code",
      "source": [
        "# preparing the lookup table\n",
        "TrainTable = train[['Customer_ID', 'Annual_Income']]\n",
        "TestTable = test[['Customer_ID', 'Annual_Income']]\n",
        "\n",
        "# locating the ID with empty Age value in the newly created tables\n",
        "TrainID = TrainTable.loc[TrainTable['Annual_Income'].isnull(), 'Customer_ID']\n",
        "TestID = TestTable.loc[TestTable['Annual_Income'].isnull(), 'Customer_ID']\n",
        "\n",
        "# getting only the unique Customer_ID\n",
        "TrainID = list(TrainID.unique())\n",
        "TestID = list(TestID.unique())\n",
        "\n",
        "# creating empty features to store Age values later\n",
        "TrainAge = []\n",
        "for i in range(len(TrainID)):\n",
        "    TrainAge.append(np.nan)\n",
        "TestAge = []\n",
        "for i in range(len(TestID)):\n",
        "    TestAge.append(np.nan)\n",
        "\n",
        "# creating the Age lookup table\n",
        "TrainLookup = pd.DataFrame(list(zip(TrainID, TrainAge)))\n",
        "TrainLookup.columns = ['Customer_ID', 'Annual_Income']\n",
        "TestLookup = pd.DataFrame(list(zip(TestID, TestAge)))\n",
        "TestLookup.columns = ['Customer_ID', 'Annual_Income']\n",
        "\n",
        "# calculating the mean value of Age feature\n",
        "TrainAgeMean = train['Annual_Income'].mean()\n",
        "TestAgeMean = test['Annual_Income'].mean()\n",
        "\n",
        "# calculating the standard deviation value of Age feature\n",
        "TrainAgeStdDev = train['Annual_Income'].std()\n",
        "TestAgeStdDev = test['Annual_Income'].std()\n",
        "\n",
        "# generating the Age value for the lookup table\n",
        "TrainLookup['Annual_Income'] = TrainLookup['Annual_Income']\\\n",
        "                     .fillna(pd.Series(np.random.randint(int(TrainAgeMean - TrainAgeStdDev), \n",
        "                                                         int(TrainAgeMean + TrainAgeStdDev),\n",
        "                                                         size = TrainLookup['Annual_Income'].isnull().sum())))\n",
        "TestLookup['Annual_Income'] = TestLookup['Annual_Income']\\\n",
        "                    .fillna(pd.Series(np.random.randint(int(TestAgeMean - TestAgeStdDev), \n",
        "                                                        int(TestAgeMean + TestAgeStdDev),\n",
        "                                                        size = TestLookup['Annual_Income'].isnull().sum())))\n",
        "\n",
        "# taking a look at the lookup table\n",
        "display(TrainLookup.head())\n",
        "print(' TrainLookup Rows x cols :', TrainLookup.shape, '\\n',\n",
        "      'TestLookup Rows x cols  :', TestLookup.shape)"
      ],
      "metadata": {
        "execution": {
          "iopub.status.busy": "2022-11-25T14:14:21.767829Z",
          "iopub.execute_input": "2022-11-25T14:14:21.768281Z",
          "iopub.status.idle": "2022-11-25T14:14:21.806039Z",
          "shell.execute_reply.started": "2022-11-25T14:14:21.768245Z",
          "shell.execute_reply": "2022-11-25T14:14:21.804836Z"
        },
        "editable": false,
        "trusted": true,
        "colab": {
          "base_uri": "https://localhost:8080/",
          "height": 115
        },
        "id": "ACwqHDUsQocl",
        "outputId": "9a715177-9297-49d7-9736-b9be64ab59ca"
      },
      "execution_count": null,
      "outputs": [
        {
          "output_type": "display_data",
          "data": {
            "text/plain": [
              "   Customer_ID  Annual_Income\n",
              "0          NaN       672422.0"
            ],
            "text/html": [
              "\n",
              "  <div id=\"df-cde47427-a2b1-45a7-ab68-e4e6f718e3b3\">\n",
              "    <div class=\"colab-df-container\">\n",
              "      <div>\n",
              "<style scoped>\n",
              "    .dataframe tbody tr th:only-of-type {\n",
              "        vertical-align: middle;\n",
              "    }\n",
              "\n",
              "    .dataframe tbody tr th {\n",
              "        vertical-align: top;\n",
              "    }\n",
              "\n",
              "    .dataframe thead th {\n",
              "        text-align: right;\n",
              "    }\n",
              "</style>\n",
              "<table border=\"1\" class=\"dataframe\">\n",
              "  <thead>\n",
              "    <tr style=\"text-align: right;\">\n",
              "      <th></th>\n",
              "      <th>Customer_ID</th>\n",
              "      <th>Annual_Income</th>\n",
              "    </tr>\n",
              "  </thead>\n",
              "  <tbody>\n",
              "    <tr>\n",
              "      <th>0</th>\n",
              "      <td>NaN</td>\n",
              "      <td>672422.0</td>\n",
              "    </tr>\n",
              "  </tbody>\n",
              "</table>\n",
              "</div>\n",
              "      <button class=\"colab-df-convert\" onclick=\"convertToInteractive('df-cde47427-a2b1-45a7-ab68-e4e6f718e3b3')\"\n",
              "              title=\"Convert this dataframe to an interactive table.\"\n",
              "              style=\"display:none;\">\n",
              "        \n",
              "  <svg xmlns=\"http://www.w3.org/2000/svg\" height=\"24px\"viewBox=\"0 0 24 24\"\n",
              "       width=\"24px\">\n",
              "    <path d=\"M0 0h24v24H0V0z\" fill=\"none\"/>\n",
              "    <path d=\"M18.56 5.44l.94 2.06.94-2.06 2.06-.94-2.06-.94-.94-2.06-.94 2.06-2.06.94zm-11 1L8.5 8.5l.94-2.06 2.06-.94-2.06-.94L8.5 2.5l-.94 2.06-2.06.94zm10 10l.94 2.06.94-2.06 2.06-.94-2.06-.94-.94-2.06-.94 2.06-2.06.94z\"/><path d=\"M17.41 7.96l-1.37-1.37c-.4-.4-.92-.59-1.43-.59-.52 0-1.04.2-1.43.59L10.3 9.45l-7.72 7.72c-.78.78-.78 2.05 0 2.83L4 21.41c.39.39.9.59 1.41.59.51 0 1.02-.2 1.41-.59l7.78-7.78 2.81-2.81c.8-.78.8-2.07 0-2.86zM5.41 20L4 18.59l7.72-7.72 1.47 1.35L5.41 20z\"/>\n",
              "  </svg>\n",
              "      </button>\n",
              "      \n",
              "  <style>\n",
              "    .colab-df-container {\n",
              "      display:flex;\n",
              "      flex-wrap:wrap;\n",
              "      gap: 12px;\n",
              "    }\n",
              "\n",
              "    .colab-df-convert {\n",
              "      background-color: #E8F0FE;\n",
              "      border: none;\n",
              "      border-radius: 50%;\n",
              "      cursor: pointer;\n",
              "      display: none;\n",
              "      fill: #1967D2;\n",
              "      height: 32px;\n",
              "      padding: 0 0 0 0;\n",
              "      width: 32px;\n",
              "    }\n",
              "\n",
              "    .colab-df-convert:hover {\n",
              "      background-color: #E2EBFA;\n",
              "      box-shadow: 0px 1px 2px rgba(60, 64, 67, 0.3), 0px 1px 3px 1px rgba(60, 64, 67, 0.15);\n",
              "      fill: #174EA6;\n",
              "    }\n",
              "\n",
              "    [theme=dark] .colab-df-convert {\n",
              "      background-color: #3B4455;\n",
              "      fill: #D2E3FC;\n",
              "    }\n",
              "\n",
              "    [theme=dark] .colab-df-convert:hover {\n",
              "      background-color: #434B5C;\n",
              "      box-shadow: 0px 1px 3px 1px rgba(0, 0, 0, 0.15);\n",
              "      filter: drop-shadow(0px 1px 2px rgba(0, 0, 0, 0.3));\n",
              "      fill: #FFFFFF;\n",
              "    }\n",
              "  </style>\n",
              "\n",
              "      <script>\n",
              "        const buttonEl =\n",
              "          document.querySelector('#df-cde47427-a2b1-45a7-ab68-e4e6f718e3b3 button.colab-df-convert');\n",
              "        buttonEl.style.display =\n",
              "          google.colab.kernel.accessAllowed ? 'block' : 'none';\n",
              "\n",
              "        async function convertToInteractive(key) {\n",
              "          const element = document.querySelector('#df-cde47427-a2b1-45a7-ab68-e4e6f718e3b3');\n",
              "          const dataTable =\n",
              "            await google.colab.kernel.invokeFunction('convertToInteractive',\n",
              "                                                     [key], {});\n",
              "          if (!dataTable) return;\n",
              "\n",
              "          const docLinkHtml = 'Like what you see? Visit the ' +\n",
              "            '<a target=\"_blank\" href=https://colab.research.google.com/notebooks/data_table.ipynb>data table notebook</a>'\n",
              "            + ' to learn more about interactive tables.';\n",
              "          element.innerHTML = '';\n",
              "          dataTable['output_type'] = 'display_data';\n",
              "          await google.colab.output.renderOutput(dataTable, element);\n",
              "          const docLink = document.createElement('div');\n",
              "          docLink.innerHTML = docLinkHtml;\n",
              "          element.appendChild(docLink);\n",
              "        }\n",
              "      </script>\n",
              "    </div>\n",
              "  </div>\n",
              "  "
            ]
          },
          "metadata": {}
        },
        {
          "output_type": "stream",
          "name": "stdout",
          "text": [
            " TrainLookup Rows x cols : (1, 2) \n",
            " TestLookup Rows x cols  : (1, 2)\n"
          ]
        }
      ]
    },
    {
      "cell_type": "code",
      "source": [
        "# filling in the missing Annual_Income values in reference to the Age lookup table\n",
        "train['Annual_Income'] = train['Annual_Income']\\\n",
        "               .fillna(train['Customer_ID']\\\n",
        "                       .map(TrainLookup\\\n",
        "                            .set_index('Customer_ID')['Annual_Income']))\n",
        "test['Annual_Income'] = test['Annual_Income']\\\n",
        "              .fillna(test['Customer_ID']\\\n",
        "                      .map(TestLookup\\\n",
        "                           .set_index('Customer_ID')['Annual_Income']))\n",
        "\n",
        "# Checking if there are still missing Age values\n",
        "display(train['Annual_Income'].isnull().sum())\n",
        "display(test['Annual_Income'].isnull().sum())"
      ],
      "metadata": {
        "execution": {
          "iopub.status.busy": "2022-11-25T14:14:21.808141Z",
          "iopub.execute_input": "2022-11-25T14:14:21.808444Z",
          "iopub.status.idle": "2022-11-25T14:14:21.833095Z",
          "shell.execute_reply.started": "2022-11-25T14:14:21.808418Z",
          "shell.execute_reply": "2022-11-25T14:14:21.832342Z"
        },
        "editable": false,
        "trusted": true,
        "colab": {
          "base_uri": "https://localhost:8080/",
          "height": 52
        },
        "id": "aLJxTzE6Qocm",
        "outputId": "11d2d428-3768-461b-e089-d429a483d5c5"
      },
      "execution_count": null,
      "outputs": [
        {
          "output_type": "display_data",
          "data": {
            "text/plain": [
              "0"
            ]
          },
          "metadata": {}
        },
        {
          "output_type": "display_data",
          "data": {
            "text/plain": [
              "0"
            ]
          },
          "metadata": {}
        }
      ]
    },
    {
      "cell_type": "markdown",
      "source": [
        "### **VIId. Numerical Feature: Num_Bank_Accounts**<a class = \"anchor\" id = \"VIId\"></a>"
      ],
      "metadata": {
        "editable": false,
        "id": "w4lK_dGlQoco"
      }
    },
    {
      "cell_type": "markdown",
      "source": [
        "By looking at the previous histogram, there exists some outliers in the Num_Bank_Accounts feature, with upper outliers the most obvious. Luckily, there are no missing values. Let's deal with the outliers first."
      ],
      "metadata": {
        "editable": false,
        "id": "72GDatxiQoco"
      }
    },
    {
      "cell_type": "code",
      "source": [
        "# counting the outliers in Num_Bank_Accounts\n",
        "print(' Train dataframe :')\n",
        "countoutlier(train, 'Num_Bank_Accounts')\n",
        "print('\\n',\n",
        "      'Test dataframe :')\n",
        "countoutlier(test, 'Num_Bank_Accounts')"
      ],
      "metadata": {
        "execution": {
          "iopub.status.busy": "2022-11-25T14:14:31.946627Z",
          "iopub.execute_input": "2022-11-25T14:14:31.946985Z",
          "iopub.status.idle": "2022-11-25T14:14:32.023418Z",
          "shell.execute_reply.started": "2022-11-25T14:14:31.946938Z",
          "shell.execute_reply": "2022-11-25T14:14:32.021976Z"
        },
        "editable": false,
        "trusted": true,
        "colab": {
          "base_uri": "https://localhost:8080/"
        },
        "id": "SYjMKPh_Qoco",
        "outputId": "96f9b7b3-7796-4540-cb41-46ba548f0288"
      },
      "execution_count": null,
      "outputs": [
        {
          "output_type": "stream",
          "name": "stdout",
          "text": [
            " Train dataframe :\n",
            "Outlier count in Num_Bank_Accounts : 21\n",
            "\n",
            " Test dataframe :\n",
            "Outlier count in Num_Bank_Accounts : 15\n"
          ]
        }
      ]
    },
    {
      "cell_type": "code",
      "source": [
        "# dropping the outliers in Train dataframe's Num_Bank_Accounts\n",
        "omitoutlier(train, 'Num_Bank_Accounts')"
      ],
      "metadata": {
        "execution": {
          "iopub.status.busy": "2022-11-25T14:14:32.024684Z",
          "iopub.execute_input": "2022-11-25T14:14:32.025471Z",
          "iopub.status.idle": "2022-11-25T14:14:32.263454Z",
          "shell.execute_reply.started": "2022-11-25T14:14:32.025443Z",
          "shell.execute_reply": "2022-11-25T14:14:32.261889Z"
        },
        "editable": false,
        "trusted": true,
        "colab": {
          "base_uri": "https://localhost:8080/",
          "height": 313
        },
        "id": "P3LVuM8mQoco",
        "outputId": "f69676df-d694-4d7d-dec5-fdefe71394a2"
      },
      "execution_count": null,
      "outputs": [
        {
          "output_type": "stream",
          "name": "stdout",
          "text": [
            "Num_Bank_Accounts  data distribution after dropping the outliers : \n"
          ]
        },
        {
          "output_type": "display_data",
          "data": {
            "text/plain": [
              "<Figure size 432x288 with 1 Axes>"
            ],
            "image/png": "[encoded data removed]"
          },
          "metadata": {
            "needs_background": "light"
          }
        }
      ]
    },
    {
      "cell_type": "code",
      "source": [
        "# dropping the outliers in Test dataframe's Num_Bank_Accounts\n",
        "omitoutlier(test, 'Num_Bank_Accounts')"
      ],
      "metadata": {
        "execution": {
          "iopub.status.busy": "2022-11-25T14:14:32.264925Z",
          "iopub.execute_input": "2022-11-25T14:14:32.265242Z",
          "iopub.status.idle": "2022-11-25T14:14:32.474346Z",
          "shell.execute_reply.started": "2022-11-25T14:14:32.265217Z",
          "shell.execute_reply": "2022-11-25T14:14:32.47285Z"
        },
        "editable": false,
        "trusted": true,
        "colab": {
          "base_uri": "https://localhost:8080/",
          "height": 313
        },
        "id": "kvYFJw-uQoco",
        "outputId": "3026c127-8d27-44bd-fa0d-8cf16c212e94"
      },
      "execution_count": null,
      "outputs": [
        {
          "output_type": "stream",
          "name": "stdout",
          "text": [
            "Num_Bank_Accounts  data distribution after dropping the outliers : \n"
          ]
        },
        {
          "output_type": "display_data",
          "data": {
            "text/plain": [
              "<Figure size 432x288 with 1 Axes>"
            ],
            "image/png": "[encoded data removed]"
          },
          "metadata": {
            "needs_background": "light"
          }
        }
      ]
    },
    {
      "cell_type": "markdown",
      "source": [
        "### **VIIe. Numerical Feature: Num_Credit_Card**<a class = \"anchor\" id = \"VIIe\"></a>"
      ],
      "metadata": {
        "editable": false,
        "id": "4BbT7AIWQocp"
      }
    },
    {
      "cell_type": "markdown",
      "source": [
        "By looking at the previous histogram, there exists some outliers in the Num_Credit_Card feature, with upper outliers the most obvious. Luckily, there are no missing values. Let's deal with the outliers first."
      ],
      "metadata": {
        "editable": false,
        "id": "hyxHcSWWQocp"
      }
    },
    {
      "cell_type": "code",
      "source": [
        "# counting the outliers in Num_Credit_Card\n",
        "print(' Train dataframe :')\n",
        "countoutlier(train, 'Num_Credit_Card')\n",
        "print('\\n',\n",
        "      'Test dataframe :')\n",
        "countoutlier(test, 'Num_Credit_Card')"
      ],
      "metadata": {
        "execution": {
          "iopub.status.busy": "2022-11-25T14:14:37.254299Z",
          "iopub.execute_input": "2022-11-25T14:14:37.254695Z",
          "iopub.status.idle": "2022-11-25T14:14:37.331477Z",
          "shell.execute_reply.started": "2022-11-25T14:14:37.254669Z",
          "shell.execute_reply": "2022-11-25T14:14:37.330194Z"
        },
        "editable": false,
        "trusted": true,
        "colab": {
          "base_uri": "https://localhost:8080/"
        },
        "id": "QrQXLma7Qocp",
        "outputId": "c970535b-fd7f-47bb-eee1-5d7092e33be5"
      },
      "execution_count": null,
      "outputs": [
        {
          "output_type": "stream",
          "name": "stdout",
          "text": [
            " Train dataframe :\n",
            "Outlier count in Num_Credit_Card : 54\n",
            "\n",
            " Test dataframe :\n",
            "Outlier count in Num_Credit_Card : 34\n"
          ]
        }
      ]
    },
    {
      "cell_type": "code",
      "source": [
        "# dropping the outliers in Train dataframe's Num_Credit_Card\n",
        "omitoutlier(train, 'Num_Credit_Card')"
      ],
      "metadata": {
        "execution": {
          "iopub.status.busy": "2022-11-25T14:14:37.332771Z",
          "iopub.execute_input": "2022-11-25T14:14:37.333074Z",
          "iopub.status.idle": "2022-11-25T14:14:37.583916Z",
          "shell.execute_reply.started": "2022-11-25T14:14:37.333046Z",
          "shell.execute_reply": "2022-11-25T14:14:37.582677Z"
        },
        "editable": false,
        "trusted": true,
        "colab": {
          "base_uri": "https://localhost:8080/",
          "height": 313
        },
        "id": "8Thjlbi3Qocp",
        "outputId": "3f0f2bfd-c798-49a8-d870-d9468a0d0d28"
      },
      "execution_count": null,
      "outputs": [
        {
          "output_type": "stream",
          "name": "stdout",
          "text": [
            "Num_Credit_Card  data distribution after dropping the outliers : \n"
          ]
        },
        {
          "output_type": "display_data",
          "data": {
            "text/plain": [
              "<Figure size 432x288 with 1 Axes>"
            ],
            "image/png": "[encoded data removed]"
          },
          "metadata": {
            "needs_background": "light"
          }
        }
      ]
    },
    {
      "cell_type": "code",
      "source": [
        "# dropping the outliers in Test dataframe's Num_Credit_Card\n",
        "omitoutlier(test, 'Num_Credit_Card')"
      ],
      "metadata": {
        "execution": {
          "iopub.status.busy": "2022-11-25T14:14:37.585085Z",
          "iopub.execute_input": "2022-11-25T14:14:37.585794Z",
          "iopub.status.idle": "2022-11-25T14:14:37.78675Z",
          "shell.execute_reply.started": "2022-11-25T14:14:37.585767Z",
          "shell.execute_reply": "2022-11-25T14:14:37.785652Z"
        },
        "editable": false,
        "trusted": true,
        "colab": {
          "base_uri": "https://localhost:8080/",
          "height": 313
        },
        "id": "H_XvWMt-Qocp",
        "outputId": "0d4561fe-045c-41ea-d55b-1d027e949e3c"
      },
      "execution_count": null,
      "outputs": [
        {
          "output_type": "stream",
          "name": "stdout",
          "text": [
            "Num_Credit_Card  data distribution after dropping the outliers : \n"
          ]
        },
        {
          "output_type": "display_data",
          "data": {
            "text/plain": [
              "<Figure size 432x288 with 1 Axes>"
            ],
            "image/png": "[encoded data removed]"
          },
          "metadata": {
            "needs_background": "light"
          }
        }
      ]
    },
    {
      "cell_type": "markdown",
      "source": [
        "The data distribution looks nice. Since the Num_Credit_Card values per customer share a same value, we will be dealing with this feature using the defined lookupreplacement and aggregatedfillna functions."
      ],
      "metadata": {
        "editable": false,
        "id": "yM7ZeGh1Qocp"
      }
    },
    {
      "cell_type": "markdown",
      "source": [
        "### **VIIf. Numerical Feature: Interest_Rate**<a class = \"anchor\" id = \"VIIf\"></a>"
      ],
      "metadata": {
        "editable": false,
        "id": "VSCrWKDNQocq"
      }
    },
    {
      "cell_type": "markdown",
      "source": [
        "By looking at the previous histogram, there exists some outliers in the Interest_Rate feature, with upper outliers the most obvious. Luckily, there are no missing values. Let's deal with the outliers first."
      ],
      "metadata": {
        "editable": false,
        "id": "91E4QChrQocq"
      }
    },
    {
      "cell_type": "code",
      "source": [
        "# counting the outliers in Interest_Rate\n",
        "print(' Train dataframe :')\n",
        "countoutlier(train, 'Interest_Rate')\n",
        "print('\\n',\n",
        "      'Test dataframe :')\n",
        "countoutlier(test, 'Interest_Rate')"
      ],
      "metadata": {
        "execution": {
          "iopub.status.busy": "2022-11-25T14:14:42.577121Z",
          "iopub.execute_input": "2022-11-25T14:14:42.577544Z",
          "iopub.status.idle": "2022-11-25T14:14:42.654889Z",
          "shell.execute_reply.started": "2022-11-25T14:14:42.57751Z",
          "shell.execute_reply": "2022-11-25T14:14:42.653445Z"
        },
        "editable": false,
        "trusted": true,
        "colab": {
          "base_uri": "https://localhost:8080/"
        },
        "id": "PQ-Y0xFpQocq",
        "outputId": "5384834b-9d5d-4199-ccb3-3f13244bab17"
      },
      "execution_count": null,
      "outputs": [
        {
          "output_type": "stream",
          "name": "stdout",
          "text": [
            " Train dataframe :\n",
            "Outlier count in Interest_Rate : 49\n",
            "\n",
            " Test dataframe :\n",
            "Outlier count in Interest_Rate : 17\n"
          ]
        }
      ]
    },
    {
      "cell_type": "code",
      "source": [
        "# dropping the outliers in Train dataframe's Interest_Rate\n",
        "omitoutlier(train, 'Interest_Rate')"
      ],
      "metadata": {
        "execution": {
          "iopub.status.busy": "2022-11-25T14:14:42.656359Z",
          "iopub.execute_input": "2022-11-25T14:14:42.656816Z",
          "iopub.status.idle": "2022-11-25T14:14:42.912016Z",
          "shell.execute_reply.started": "2022-11-25T14:14:42.656774Z",
          "shell.execute_reply": "2022-11-25T14:14:42.910725Z"
        },
        "editable": false,
        "trusted": true,
        "colab": {
          "base_uri": "https://localhost:8080/",
          "height": 313
        },
        "id": "J7pXEGlJQocq",
        "outputId": "666aa7c5-758d-4375-b104-034881106618"
      },
      "execution_count": null,
      "outputs": [
        {
          "output_type": "stream",
          "name": "stdout",
          "text": [
            "Interest_Rate  data distribution after dropping the outliers : \n"
          ]
        },
        {
          "output_type": "display_data",
          "data": {
            "text/plain": [
              "<Figure size 432x288 with 1 Axes>"
            ],
            "image/png": "[encoded data removed]"
          },
          "metadata": {
            "needs_background": "light"
          }
        }
      ]
    },
    {
      "cell_type": "code",
      "source": [
        "# dropping the outliers in Test dataframe's Interest_Rate\n",
        "omitoutlier(test, 'Interest_Rate')"
      ],
      "metadata": {
        "execution": {
          "iopub.status.busy": "2022-11-25T14:14:42.91373Z",
          "iopub.execute_input": "2022-11-25T14:14:42.914452Z",
          "iopub.status.idle": "2022-11-25T14:14:43.137763Z",
          "shell.execute_reply.started": "2022-11-25T14:14:42.914408Z",
          "shell.execute_reply": "2022-11-25T14:14:43.136061Z"
        },
        "editable": false,
        "trusted": true,
        "colab": {
          "base_uri": "https://localhost:8080/",
          "height": 313
        },
        "id": "WiyjYUDKQocq",
        "outputId": "08099ec8-69e6-4a29-beb1-102d94a2ac19"
      },
      "execution_count": null,
      "outputs": [
        {
          "output_type": "stream",
          "name": "stdout",
          "text": [
            "Interest_Rate  data distribution after dropping the outliers : \n"
          ]
        },
        {
          "output_type": "display_data",
          "data": {
            "text/plain": [
              "<Figure size 432x288 with 1 Axes>"
            ],
            "image/png": "[encoded data removed]"
          },
          "metadata": {
            "needs_background": "light"
          }
        }
      ]
    },
    {
      "cell_type": "markdown",
      "source": [
        "The data distribution looks nice. Since the Interest_Rate values per customer share a same value, we will be dealing with this feature using the defined lookupreplacement and aggregatedfillna functions."
      ],
      "metadata": {
        "editable": false,
        "id": "Bn9sPJZJQocq"
      }
    },
    {
      "cell_type": "code",
      "source": [
        "# replacing the Interest_Rate value of each customer using each customer's Interest_Rate Mode\n",
        "print('Train dataframe :')\n",
        "lookupreplacement(train, 'Customer_ID', 'Interest_Rate')\n",
        "print('\\n',\n",
        "      'Test dataframe :')\n",
        "lookupreplacement(test, 'Customer_ID', 'Interest_Rate')"
      ],
      "metadata": {
        "execution": {
          "iopub.status.busy": "2022-11-25T14:14:43.139591Z",
          "iopub.execute_input": "2022-11-25T14:14:43.139995Z",
          "iopub.status.idle": "2022-11-25T14:14:47.835057Z",
          "shell.execute_reply.started": "2022-11-25T14:14:43.139959Z",
          "shell.execute_reply": "2022-11-25T14:14:47.833838Z"
        },
        "editable": false,
        "trusted": true,
        "colab": {
          "base_uri": "https://localhost:8080/"
        },
        "id": "6ivQdrMJQocq",
        "outputId": "9292e160-8ed4-4f9c-a066-aa118c00fd33"
      },
      "execution_count": null,
      "outputs": [
        {
          "output_type": "stream",
          "name": "stdout",
          "text": [
            "Train dataframe :\n",
            "Remaining Interest_Rate missing values : 7822\n",
            "\n",
            " Test dataframe :\n",
            "Remaining Interest_Rate missing values : 3910\n"
          ]
        }
      ]
    },
    {
      "cell_type": "markdown",
      "source": [
        "There are no remaining missing values after the lookupreplacement operation, so we will proceed with the next numerical feature."
      ],
      "metadata": {
        "editable": false,
        "id": "ajq3W3MWQocq"
      }
    },
    {
      "cell_type": "markdown",
      "source": [
        "# **Part 2: Classification Model Building**<a class = \"anchor\" id = \"Part_2\"></a>"
      ],
      "metadata": {
        "editable": false,
        "id": "zZy0XPKFQoc0"
      }
    },
    {
      "cell_type": "markdown",
      "source": [
        "The output expected from the machine learning models in this project is to determine a customer's credit score based on various data possessed by the customer as the inputs. Thus, the nature of the models that will be built can be categorized as classification models, which are supervised models to classify what credit score will emerge based on various features as the inputs. Some of the most practical and most used classification models, but not limited to them are Decision Tree, Random Forest, Support Vector Machine, Neural Network, Logistic Regression, K-Nearest Neighbors, and Naive-Bayes models. Each of these models behaves differently and thus each has different compatible type of data to work with. That is why we are also going to do some exploratory data analysis on the dataframe to better understand the nature of the data present in each feature, then do some feature engineering to satisfy the input condition for each models if needed. After building the initial models, they are then going to be scored and optimized by doing some parameter tuning until good models are developed through this process. Lastly, the best model is going to be used to classify the last four months' Credit_Score for each customer in the Test dataset."
      ],
      "metadata": {
        "editable": false,
        "id": "y54EMIjGQoc0"
      }
    },
    {
      "cell_type": "markdown",
      "source": [
        "## **VIII. Data Exploration Phase 4**<a class = \"anchor\" id = \"VIII\"></a>"
      ],
      "metadata": {
        "editable": false,
        "id": "eJuxIH6vQoc0"
      }
    },
    {
      "cell_type": "markdown",
      "source": [
        "First of all, we are going to look deeper at the dataframe to learn the nature and correlation of each feature that are present in the dataframe. By doing so, we are supposed to get a better understanding of the dataframe and thus will be able to more accurately determine what machine learning to use and which features to be selected as the input for each machine learning."
      ],
      "metadata": {
        "editable": false,
        "id": "TNiqEd6rQoc1"
      }
    },
    {
      "cell_type": "markdown",
      "source": [
        "### **VIIIa. General Overview**<a class = \"anchor\" id = \"VIIIa\"></a>"
      ],
      "metadata": {
        "editable": false,
        "id": "xGZ6HRR7Qoc1"
      }
    },
    {
      "cell_type": "code",
      "source": [
        "# rechecking the general overview of the Train dataframe\n",
        "display(train.info())"
      ],
      "metadata": {
        "execution": {
          "iopub.status.busy": "2022-11-25T14:15:03.091699Z",
          "iopub.execute_input": "2022-11-25T14:15:03.092022Z",
          "iopub.status.idle": "2022-11-25T14:15:03.145434Z",
          "shell.execute_reply.started": "2022-11-25T14:15:03.091991Z",
          "shell.execute_reply": "2022-11-25T14:15:03.143997Z"
        },
        "editable": false,
        "trusted": true,
        "colab": {
          "base_uri": "https://localhost:8080/"
        },
        "id": "atLg3NGUQoc1",
        "outputId": "9db0051e-cacc-42cf-ded0-452218c3a3f1"
      },
      "execution_count": null,
      "outputs": [
        {
          "output_type": "stream",
          "name": "stdout",
          "text": [
            "<class 'pandas.core.frame.DataFrame'>\n",
            "RangeIndex: 10008 entries, 0 to 10007\n",
            "Data columns (total 36 columns):\n",
            " #   Column                    Non-Null Count  Dtype  \n",
            "---  ------                    --------------  -----  \n",
            " 0   ID                        10008 non-null  object \n",
            " 1   Customer_ID               2186 non-null   object \n",
            " 2   Month                     2186 non-null   object \n",
            " 3   Age                       0 non-null      float64\n",
            " 4   SSN                       2186 non-null   object \n",
            " 5   Occupation                2186 non-null   object \n",
            " 6   Annual_Income             10008 non-null  float64\n",
            " 7   Monthly_Inhand_Salary     2186 non-null   float64\n",
            " 8   Num_Bank_Accounts         2186 non-null   object \n",
            " 9   Num_Credit_Card           2186 non-null   object \n",
            " 10  Interest_Rate             2186 non-null   float64\n",
            " 11  Num_of_Loan               2186 non-null   float64\n",
            " 12  Type_of_Loan              10008 non-null  object \n",
            " 13  Delay_from_due_date       2186 non-null   float64\n",
            " 14  Num_of_Delayed_Payment    2017 non-null   float64\n",
            " 15  Changed_Credit_Limit      2147 non-null   float64\n",
            " 16  Num_Credit_Inquiries      2124 non-null   float64\n",
            " 17  Credit_Mix                10008 non-null  object \n",
            " 18  Outstanding_Debt          2186 non-null   float64\n",
            " 19  Credit_Utilization_Ratio  2186 non-null   float64\n",
            " 20  Credit_History_Age        1982 non-null   float64\n",
            " 21  Payment_of_Min_Amount     2186 non-null   object \n",
            " 22  Total_EMI_per_month       2186 non-null   object \n",
            " 23  Amount_invested_monthly   10008 non-null  float64\n",
            " 24  Payment_Behaviour         10008 non-null  object \n",
            " 25  Monthly_Balance           10008 non-null  float64\n",
            " 26  Auto Loan                 10008 non-null  bool   \n",
            " 27  Credit-Builder Loan       10008 non-null  bool   \n",
            " 28  Debt Consolidation Loan   10008 non-null  bool   \n",
            " 29  Home Equity Loan          10008 non-null  bool   \n",
            " 30  Mortgage Loan             10008 non-null  bool   \n",
            " 31  Not Specified             10008 non-null  bool   \n",
            " 32  Payday Loan               10008 non-null  bool   \n",
            " 33  Personal Loan             10008 non-null  bool   \n",
            " 34  Student Loan              10008 non-null  bool   \n",
            " 35  Credit_Score              2186 non-null   object \n",
            "dtypes: bool(9), float64(14), object(13)\n",
            "memory usage: 2.1+ MB\n"
          ]
        },
        {
          "output_type": "display_data",
          "data": {
            "text/plain": [
              "None"
            ]
          },
          "metadata": {}
        }
      ]
    },
    {
      "cell_type": "code",
      "source": [
        "# rechecking the general overview of the Test dataframe\n",
        "display(test.info())"
      ],
      "metadata": {
        "execution": {
          "iopub.status.busy": "2022-11-25T14:15:03.147105Z",
          "iopub.execute_input": "2022-11-25T14:15:03.147517Z",
          "iopub.status.idle": "2022-11-25T14:15:03.181369Z",
          "shell.execute_reply.started": "2022-11-25T14:15:03.147479Z",
          "shell.execute_reply": "2022-11-25T14:15:03.180306Z"
        },
        "editable": false,
        "trusted": true,
        "colab": {
          "base_uri": "https://localhost:8080/"
        },
        "id": "kj9XgjHZQoc1",
        "outputId": "40a374b7-3b29-4b4b-c204-c232a8ad4737"
      },
      "execution_count": null,
      "outputs": [
        {
          "output_type": "stream",
          "name": "stdout",
          "text": [
            "<class 'pandas.core.frame.DataFrame'>\n",
            "RangeIndex: 5003 entries, 0 to 5002\n",
            "Data columns (total 35 columns):\n",
            " #   Column                    Non-Null Count  Dtype  \n",
            "---  ------                    --------------  -----  \n",
            " 0   ID                        5003 non-null   object \n",
            " 1   Customer_ID               1093 non-null   object \n",
            " 2   Month                     1093 non-null   object \n",
            " 3   Age                       1093 non-null   object \n",
            " 4   SSN                       1093 non-null   object \n",
            " 5   Occupation                1093 non-null   object \n",
            " 6   Annual_Income             5003 non-null   float64\n",
            " 7   Monthly_Inhand_Salary     1093 non-null   object \n",
            " 8   Num_Bank_Accounts         1078 non-null   float64\n",
            " 9   Num_Credit_Card           1059 non-null   float64\n",
            " 10  Interest_Rate             1093 non-null   float64\n",
            " 11  Num_of_Loan               1093 non-null   float64\n",
            " 12  Type_of_Loan              5003 non-null   object \n",
            " 13  Delay_from_due_date       1093 non-null   float64\n",
            " 14  Num_of_Delayed_Payment    1017 non-null   float64\n",
            " 15  Changed_Credit_Limit      1068 non-null   float64\n",
            " 16  Num_Credit_Inquiries      1069 non-null   float64\n",
            " 17  Credit_Mix                5003 non-null   object \n",
            " 18  Outstanding_Debt          1093 non-null   float64\n",
            " 19  Credit_Utilization_Ratio  1093 non-null   float64\n",
            " 20  Credit_History_Age        1006 non-null   float64\n",
            " 21  Payment_of_Min_Amount     1093 non-null   object \n",
            " 22  Total_EMI_per_month       972 non-null    float64\n",
            " 23  Amount_invested_monthly   5003 non-null   float64\n",
            " 24  Payment_Behaviour         5003 non-null   object \n",
            " 25  Monthly_Balance           5003 non-null   float64\n",
            " 26  Auto Loan                 5003 non-null   bool   \n",
            " 27  Credit-Builder Loan       5003 non-null   bool   \n",
            " 28  Debt Consolidation Loan   5003 non-null   bool   \n",
            " 29  Home Equity Loan          5003 non-null   bool   \n",
            " 30  Mortgage Loan             5003 non-null   bool   \n",
            " 31  Not Specified             5003 non-null   bool   \n",
            " 32  Payday Loan               5003 non-null   bool   \n",
            " 33  Personal Loan             5003 non-null   bool   \n",
            " 34  Student Loan              5003 non-null   bool   \n",
            "dtypes: bool(9), float64(15), object(11)\n",
            "memory usage: 1.0+ MB\n"
          ]
        },
        {
          "output_type": "display_data",
          "data": {
            "text/plain": [
              "None"
            ]
          },
          "metadata": {}
        }
      ]
    },
    {
      "cell_type": "markdown",
      "source": [
        "We are now going to store the features present in both dataframes into different lists based on the type of data each feature contain for further use in analysis."
      ],
      "metadata": {
        "editable": false,
        "id": "lmbX6_bpQoc1"
      }
    },
    {
      "cell_type": "markdown",
      "source": [
        "##### **Storing features based on each feature's data type**"
      ],
      "metadata": {
        "editable": false,
        "id": "BAKFTDblQoc1"
      }
    },
    {
      "cell_type": "code",
      "source": [
        "# train numerical features\n",
        "trainNum = []\n",
        "for col in train.columns:\n",
        "    if train[col].dtype == ('float64') or train[col].dtype == ('int64'):\n",
        "        trainNum.append(col)\n",
        "\n",
        "# test numerical features\n",
        "testNum = []\n",
        "for col in test.columns:\n",
        "    if test[col].dtype == ('float64') or test[col].dtype == ('int64'):\n",
        "        testNum.append(col)\n",
        "        \n",
        "# train categorical features\n",
        "trainCat = []\n",
        "for col in train.columns:\n",
        "    if train[col].dtype == ('object'):\n",
        "        trainCat.append(col)\n",
        "\n",
        "# test categorical features\n",
        "testCat = []\n",
        "for col in test.columns:\n",
        "    if test[col].dtype == ('object'):\n",
        "        testCat.append(col)\n",
        "        \n",
        "# train boolean features\n",
        "trainBool = []\n",
        "for col in test.columns:\n",
        "    if train[col].dtype == ('bool'):\n",
        "        trainBool.append(col)\n",
        "\n",
        "# test boolean features\n",
        "testBool = []\n",
        "for col in test.columns:\n",
        "    if test[col].dtype == ('bool'):\n",
        "        testBool.append(col)"
      ],
      "metadata": {
        "execution": {
          "iopub.status.busy": "2022-11-25T14:15:03.182629Z",
          "iopub.execute_input": "2022-11-25T14:15:03.183082Z",
          "iopub.status.idle": "2022-11-25T14:15:03.192812Z",
          "shell.execute_reply.started": "2022-11-25T14:15:03.183055Z",
          "shell.execute_reply": "2022-11-25T14:15:03.191884Z"
        },
        "editable": false,
        "trusted": true,
        "id": "Vn6b7AtsQoc1"
      },
      "execution_count": null,
      "outputs": []
    },
    {
      "cell_type": "markdown",
      "source": [
        "For the categorical features, there are some features that do not mean much for analysis, such as ID, Customer_ID, and SSN, as they mainly serve only as identifiers for the customers. We are going to further categorize only the categorical features that will be used for the machine learning building."
      ],
      "metadata": {
        "editable": false,
        "id": "CgU-wrq4Qoc1"
      }
    },
    {
      "cell_type": "code",
      "source": [
        "# categorical features to drop\n",
        "CatDrop = ['ID', 'Customer_ID', 'SSN']\n",
        "\n",
        "# dropping the categorical features from trainCat\n",
        "for feature in CatDrop:\n",
        "    trainCat.remove(feature)\n",
        "    testCat.remove(feature)"
      ],
      "metadata": {
        "execution": {
          "iopub.status.busy": "2022-11-25T14:15:03.194046Z",
          "iopub.execute_input": "2022-11-25T14:15:03.194532Z",
          "iopub.status.idle": "2022-11-25T14:15:03.208383Z",
          "shell.execute_reply.started": "2022-11-25T14:15:03.194501Z",
          "shell.execute_reply": "2022-11-25T14:15:03.206503Z"
        },
        "editable": false,
        "trusted": true,
        "id": "_JM-qeDJQoc1"
      },
      "execution_count": null,
      "outputs": []
    },
    {
      "cell_type": "markdown",
      "source": [
        "### **VIIIb. Univariate Analysis**<a class = \"anchor\" id = \"VIIIb\"></a>"
      ],
      "metadata": {
        "editable": false,
        "id": "H4oT6EPwQoc1"
      }
    },
    {
      "cell_type": "code",
      "source": [
        "# setting plot layout\n",
        "fig, axes = plt.subplots(17, 2, figsize = (10, 50))\n",
        "fig.tight_layout(pad = 4)\n",
        "\n",
        "# plotting the data visualization\n",
        "for i in range(len(NumFeatures)):\n",
        "    axes[i, 0].hist(train[NumFeatures[i]],\n",
        "                    color = 'lightblue')\n",
        "    axes[i, 0].set_title('Train Dataframe')\n",
        "    axes[i, 0].set_xlabel(NumFeatures[i])\n",
        "    axes[i, 0].set_ylabel('Count')\n",
        "    axes[i, 1].hist(test[NumFeatures[i]],\n",
        "                    color = 'lightgreen')\n",
        "    axes[i, 1].set_title('Test Dataframe')\n",
        "    axes[i, 1].set_xlabel(NumFeatures[i])\n",
        "    axes[i, 1].set_ylabel('Count')\n",
        "plt.show()"
      ],
      "metadata": {
        "execution": {
          "iopub.status.busy": "2022-11-25T14:15:03.210705Z",
          "iopub.execute_input": "2022-11-25T14:15:03.21135Z",
          "iopub.status.idle": "2022-11-25T14:15:07.476862Z",
          "shell.execute_reply.started": "2022-11-25T14:15:03.211312Z",
          "shell.execute_reply": "2022-11-25T14:15:07.475412Z"
        },
        "editable": false,
        "trusted": true,
        "colab": {
          "base_uri": "https://localhost:8080/",
          "height": 1000
        },
        "id": "_PnEfMMcQoc1",
        "outputId": "78a4fe83-cad1-4cbd-84ce-004d65d0baa5"
      },
      "execution_count": null,
      "outputs": [
        {
          "output_type": "stream",
          "name": "stderr",
          "text": [
            "/usr/local/lib/python3.8/dist-packages/matplotlib/axes/_axes.py:6630: RuntimeWarning: All-NaN slice encountered\n",
            "  xmin = min(xmin, np.nanmin(xi))\n",
            "/usr/local/lib/python3.8/dist-packages/matplotlib/axes/_axes.py:6631: RuntimeWarning: All-NaN slice encountered\n",
            "  xmax = max(xmax, np.nanmax(xi))\n"
          ]
        },
        {
          "output_type": "error",
          "ename": "ValueError",
          "evalue": "ignored",
          "traceback": [
            "\u001b[0;31m---------------------------------------------------------------------------\u001b[0m",
            "\u001b[0;31mValueError\u001b[0m                                Traceback (most recent call last)",
            "\u001b[0;32m<ipython-input-155-f6380dd57b67>\u001b[0m in \u001b[0;36m<module>\u001b[0;34m\u001b[0m\n\u001b[1;32m      5\u001b[0m \u001b[0;31m# plotting the data visualization\u001b[0m\u001b[0;34m\u001b[0m\u001b[0;34m\u001b[0m\u001b[0;34m\u001b[0m\u001b[0m\n\u001b[1;32m      6\u001b[0m \u001b[0;32mfor\u001b[0m \u001b[0mi\u001b[0m \u001b[0;32min\u001b[0m \u001b[0mrange\u001b[0m\u001b[0;34m(\u001b[0m\u001b[0mlen\u001b[0m\u001b[0;34m(\u001b[0m\u001b[0mNumFeatures\u001b[0m\u001b[0;34m)\u001b[0m\u001b[0;34m)\u001b[0m\u001b[0;34m:\u001b[0m\u001b[0;34m\u001b[0m\u001b[0;34m\u001b[0m\u001b[0m\n\u001b[0;32m----> 7\u001b[0;31m     axes[i, 0].hist(train[NumFeatures[i]],\n\u001b[0m\u001b[1;32m      8\u001b[0m                     color = 'lightblue')\n\u001b[1;32m      9\u001b[0m     \u001b[0maxes\u001b[0m\u001b[0;34m[\u001b[0m\u001b[0mi\u001b[0m\u001b[0;34m,\u001b[0m \u001b[0;36m0\u001b[0m\u001b[0;34m]\u001b[0m\u001b[0;34m.\u001b[0m\u001b[0mset_title\u001b[0m\u001b[0;34m(\u001b[0m\u001b[0;34m'Train Dataframe'\u001b[0m\u001b[0;34m)\u001b[0m\u001b[0;34m\u001b[0m\u001b[0;34m\u001b[0m\u001b[0m\n",
            "\u001b[0;32m/usr/local/lib/python3.8/dist-packages/matplotlib/__init__.py\u001b[0m in \u001b[0;36minner\u001b[0;34m(ax, data, *args, **kwargs)\u001b[0m\n\u001b[1;32m   1563\u001b[0m     \u001b[0;32mdef\u001b[0m \u001b[0minner\u001b[0m\u001b[0;34m(\u001b[0m\u001b[0max\u001b[0m\u001b[0;34m,\u001b[0m \u001b[0;34m*\u001b[0m\u001b[0margs\u001b[0m\u001b[0;34m,\u001b[0m \u001b[0mdata\u001b[0m\u001b[0;34m=\u001b[0m\u001b[0;32mNone\u001b[0m\u001b[0;34m,\u001b[0m \u001b[0;34m**\u001b[0m\u001b[0mkwargs\u001b[0m\u001b[0;34m)\u001b[0m\u001b[0;34m:\u001b[0m\u001b[0;34m\u001b[0m\u001b[0;34m\u001b[0m\u001b[0m\n\u001b[1;32m   1564\u001b[0m         \u001b[0;32mif\u001b[0m \u001b[0mdata\u001b[0m \u001b[0;32mis\u001b[0m \u001b[0;32mNone\u001b[0m\u001b[0;34m:\u001b[0m\u001b[0;34m\u001b[0m\u001b[0;34m\u001b[0m\u001b[0m\n\u001b[0;32m-> 1565\u001b[0;31m             \u001b[0;32mreturn\u001b[0m \u001b[0mfunc\u001b[0m\u001b[0;34m(\u001b[0m\u001b[0max\u001b[0m\u001b[0;34m,\u001b[0m \u001b[0;34m*\u001b[0m\u001b[0mmap\u001b[0m\u001b[0;34m(\u001b[0m\u001b[0msanitize_sequence\u001b[0m\u001b[0;34m,\u001b[0m \u001b[0margs\u001b[0m\u001b[0;34m)\u001b[0m\u001b[0;34m,\u001b[0m \u001b[0;34m**\u001b[0m\u001b[0mkwargs\u001b[0m\u001b[0;34m)\u001b[0m\u001b[0;34m\u001b[0m\u001b[0;34m\u001b[0m\u001b[0m\n\u001b[0m\u001b[1;32m   1566\u001b[0m \u001b[0;34m\u001b[0m\u001b[0m\n\u001b[1;32m   1567\u001b[0m         \u001b[0mbound\u001b[0m \u001b[0;34m=\u001b[0m \u001b[0mnew_sig\u001b[0m\u001b[0;34m.\u001b[0m\u001b[0mbind\u001b[0m\u001b[0;34m(\u001b[0m\u001b[0max\u001b[0m\u001b[0;34m,\u001b[0m \u001b[0;34m*\u001b[0m\u001b[0margs\u001b[0m\u001b[0;34m,\u001b[0m \u001b[0;34m**\u001b[0m\u001b[0mkwargs\u001b[0m\u001b[0;34m)\u001b[0m\u001b[0;34m\u001b[0m\u001b[0;34m\u001b[0m\u001b[0m\n",
            "\u001b[0;32m/usr/local/lib/python3.8/dist-packages/matplotlib/axes/_axes.py\u001b[0m in \u001b[0;36mhist\u001b[0;34m(self, x, bins, range, density, weights, cumulative, bottom, histtype, align, orientation, rwidth, log, color, label, stacked, **kwargs)\u001b[0m\n\u001b[1;32m   6658\u001b[0m             \u001b[0;31m# this will automatically overwrite bins,\u001b[0m\u001b[0;34m\u001b[0m\u001b[0;34m\u001b[0m\u001b[0;34m\u001b[0m\u001b[0m\n\u001b[1;32m   6659\u001b[0m             \u001b[0;31m# so that each histogram uses the same bins\u001b[0m\u001b[0;34m\u001b[0m\u001b[0;34m\u001b[0m\u001b[0;34m\u001b[0m\u001b[0m\n\u001b[0;32m-> 6660\u001b[0;31m             \u001b[0mm\u001b[0m\u001b[0;34m,\u001b[0m \u001b[0mbins\u001b[0m \u001b[0;34m=\u001b[0m \u001b[0mnp\u001b[0m\u001b[0;34m.\u001b[0m\u001b[0mhistogram\u001b[0m\u001b[0;34m(\u001b[0m\u001b[0mx\u001b[0m\u001b[0;34m[\u001b[0m\u001b[0mi\u001b[0m\u001b[0;34m]\u001b[0m\u001b[0;34m,\u001b[0m \u001b[0mbins\u001b[0m\u001b[0;34m,\u001b[0m \u001b[0mweights\u001b[0m\u001b[0;34m=\u001b[0m\u001b[0mw\u001b[0m\u001b[0;34m[\u001b[0m\u001b[0mi\u001b[0m\u001b[0;34m]\u001b[0m\u001b[0;34m,\u001b[0m \u001b[0;34m**\u001b[0m\u001b[0mhist_kwargs\u001b[0m\u001b[0;34m)\u001b[0m\u001b[0;34m\u001b[0m\u001b[0;34m\u001b[0m\u001b[0m\n\u001b[0m\u001b[1;32m   6661\u001b[0m             \u001b[0mtops\u001b[0m\u001b[0;34m.\u001b[0m\u001b[0mappend\u001b[0m\u001b[0;34m(\u001b[0m\u001b[0mm\u001b[0m\u001b[0;34m)\u001b[0m\u001b[0;34m\u001b[0m\u001b[0;34m\u001b[0m\u001b[0m\n\u001b[1;32m   6662\u001b[0m         \u001b[0mtops\u001b[0m \u001b[0;34m=\u001b[0m \u001b[0mnp\u001b[0m\u001b[0;34m.\u001b[0m\u001b[0marray\u001b[0m\u001b[0;34m(\u001b[0m\u001b[0mtops\u001b[0m\u001b[0;34m,\u001b[0m \u001b[0mfloat\u001b[0m\u001b[0;34m)\u001b[0m  \u001b[0;31m# causes problems later if it's an int\u001b[0m\u001b[0;34m\u001b[0m\u001b[0;34m\u001b[0m\u001b[0m\n",
            "\u001b[0;32m<__array_function__ internals>\u001b[0m in \u001b[0;36mhistogram\u001b[0;34m(*args, **kwargs)\u001b[0m\n",
            "\u001b[0;32m/usr/local/lib/python3.8/dist-packages/numpy/lib/histograms.py\u001b[0m in \u001b[0;36mhistogram\u001b[0;34m(a, bins, range, normed, weights, density)\u001b[0m\n\u001b[1;32m    791\u001b[0m     \u001b[0ma\u001b[0m\u001b[0;34m,\u001b[0m \u001b[0mweights\u001b[0m \u001b[0;34m=\u001b[0m \u001b[0m_ravel_and_check_weights\u001b[0m\u001b[0;34m(\u001b[0m\u001b[0ma\u001b[0m\u001b[0;34m,\u001b[0m \u001b[0mweights\u001b[0m\u001b[0;34m)\u001b[0m\u001b[0;34m\u001b[0m\u001b[0;34m\u001b[0m\u001b[0m\n\u001b[1;32m    792\u001b[0m \u001b[0;34m\u001b[0m\u001b[0m\n\u001b[0;32m--> 793\u001b[0;31m     \u001b[0mbin_edges\u001b[0m\u001b[0;34m,\u001b[0m \u001b[0muniform_bins\u001b[0m \u001b[0;34m=\u001b[0m \u001b[0m_get_bin_edges\u001b[0m\u001b[0;34m(\u001b[0m\u001b[0ma\u001b[0m\u001b[0;34m,\u001b[0m \u001b[0mbins\u001b[0m\u001b[0;34m,\u001b[0m \u001b[0mrange\u001b[0m\u001b[0;34m,\u001b[0m \u001b[0mweights\u001b[0m\u001b[0;34m)\u001b[0m\u001b[0;34m\u001b[0m\u001b[0;34m\u001b[0m\u001b[0m\n\u001b[0m\u001b[1;32m    794\u001b[0m \u001b[0;34m\u001b[0m\u001b[0m\n\u001b[1;32m    795\u001b[0m     \u001b[0;31m# Histogram is an integer or a float array depending on the weights.\u001b[0m\u001b[0;34m\u001b[0m\u001b[0;34m\u001b[0m\u001b[0;34m\u001b[0m\u001b[0m\n",
            "\u001b[0;32m/usr/local/lib/python3.8/dist-packages/numpy/lib/histograms.py\u001b[0m in \u001b[0;36m_get_bin_edges\u001b[0;34m(a, bins, range, weights)\u001b[0m\n\u001b[1;32m    424\u001b[0m             \u001b[0;32mraise\u001b[0m \u001b[0mValueError\u001b[0m\u001b[0;34m(\u001b[0m\u001b[0;34m'`bins` must be positive, when an integer'\u001b[0m\u001b[0;34m)\u001b[0m\u001b[0;34m\u001b[0m\u001b[0;34m\u001b[0m\u001b[0m\n\u001b[1;32m    425\u001b[0m \u001b[0;34m\u001b[0m\u001b[0m\n\u001b[0;32m--> 426\u001b[0;31m         \u001b[0mfirst_edge\u001b[0m\u001b[0;34m,\u001b[0m \u001b[0mlast_edge\u001b[0m \u001b[0;34m=\u001b[0m \u001b[0m_get_outer_edges\u001b[0m\u001b[0;34m(\u001b[0m\u001b[0ma\u001b[0m\u001b[0;34m,\u001b[0m \u001b[0mrange\u001b[0m\u001b[0;34m)\u001b[0m\u001b[0;34m\u001b[0m\u001b[0;34m\u001b[0m\u001b[0m\n\u001b[0m\u001b[1;32m    427\u001b[0m \u001b[0;34m\u001b[0m\u001b[0m\n\u001b[1;32m    428\u001b[0m     \u001b[0;32melif\u001b[0m \u001b[0mnp\u001b[0m\u001b[0;34m.\u001b[0m\u001b[0mndim\u001b[0m\u001b[0;34m(\u001b[0m\u001b[0mbins\u001b[0m\u001b[0;34m)\u001b[0m \u001b[0;34m==\u001b[0m \u001b[0;36m1\u001b[0m\u001b[0;34m:\u001b[0m\u001b[0;34m\u001b[0m\u001b[0;34m\u001b[0m\u001b[0m\n",
            "\u001b[0;32m/usr/local/lib/python3.8/dist-packages/numpy/lib/histograms.py\u001b[0m in \u001b[0;36m_get_outer_edges\u001b[0;34m(a, range)\u001b[0m\n\u001b[1;32m    321\u001b[0m         \u001b[0mfirst_edge\u001b[0m\u001b[0;34m,\u001b[0m \u001b[0mlast_edge\u001b[0m \u001b[0;34m=\u001b[0m \u001b[0ma\u001b[0m\u001b[0;34m.\u001b[0m\u001b[0mmin\u001b[0m\u001b[0;34m(\u001b[0m\u001b[0;34m)\u001b[0m\u001b[0;34m,\u001b[0m \u001b[0ma\u001b[0m\u001b[0;34m.\u001b[0m\u001b[0mmax\u001b[0m\u001b[0;34m(\u001b[0m\u001b[0;34m)\u001b[0m\u001b[0;34m\u001b[0m\u001b[0;34m\u001b[0m\u001b[0m\n\u001b[1;32m    322\u001b[0m         \u001b[0;32mif\u001b[0m \u001b[0;32mnot\u001b[0m \u001b[0;34m(\u001b[0m\u001b[0mnp\u001b[0m\u001b[0;34m.\u001b[0m\u001b[0misfinite\u001b[0m\u001b[0;34m(\u001b[0m\u001b[0mfirst_edge\u001b[0m\u001b[0;34m)\u001b[0m \u001b[0;32mand\u001b[0m \u001b[0mnp\u001b[0m\u001b[0;34m.\u001b[0m\u001b[0misfinite\u001b[0m\u001b[0;34m(\u001b[0m\u001b[0mlast_edge\u001b[0m\u001b[0;34m)\u001b[0m\u001b[0;34m)\u001b[0m\u001b[0;34m:\u001b[0m\u001b[0;34m\u001b[0m\u001b[0;34m\u001b[0m\u001b[0m\n\u001b[0;32m--> 323\u001b[0;31m             raise ValueError(\n\u001b[0m\u001b[1;32m    324\u001b[0m                 \"autodetected range of [{}, {}] is not finite\".format(first_edge, last_edge))\n\u001b[1;32m    325\u001b[0m \u001b[0;34m\u001b[0m\u001b[0m\n",
            "\u001b[0;31mValueError\u001b[0m: autodetected range of [nan, nan] is not finite"
          ]
        },
        {
          "output_type": "display_data",
          "data": {
            "text/plain": [
              "<Figure size 720x3600 with 34 Axes>"
            ],
            "image/png": "[encoded data removed]"
          },
          "metadata": {
            "needs_background": "light"
          }
        }
      ]
    },
    {
      "cell_type": "markdown",
      "source": [
        "There are no missing values and no notable extreme outliers present in both dataframes, as we have cleaned them in the previous steps. Also, in each numerical features, both train and test datasets show a very similar data distrbution. After looking at the above histograms, we can gather the data distribution of each numerical feature."
      ],
      "metadata": {
        "editable": false,
        "id": "2pmEoMS7Qoc2"
      }
    },
    {
      "cell_type": "markdown",
      "source": [
        "##### **Histogram Skewness**"
      ],
      "metadata": {
        "editable": false,
        "id": "2jxtPzeyQoc2"
      }
    },
    {
      "cell_type": "code",
      "source": [
        "# creating empty lists to store skewness numbers\n",
        "listTrainSkewNum = []\n",
        "listTrainSkewness = []\n",
        "listTestSkewNum = []\n",
        "listTestSkewness = []\n",
        "\n",
        "# data distribution shape\n",
        "DataDistModality = ['bimodal', 'unimodal', 'unimodal',\n",
        "                    'unimodal', 'unimodal', 'unimodal',\n",
        "                    'unimodal', 'bimodal', 'unimodal',\n",
        "                    'multimodal', 'unimodal', 'unimodal',\n",
        "                    'unimodal', 'unimodal', 'unimodal',\n",
        "                    'unimodal', 'bimodal']\n",
        "\n",
        "# skewness\n",
        "for trainfeature, testfeature in zip(trainNum, testNum):\n",
        "    # for train numerical features\n",
        "    trainSkew = train[trainfeature].skew()\n",
        "    listTrainSkewNum.append(trainSkew)\n",
        "    if trainSkew >= 1:\n",
        "        trainSkewness = 'highly right-skewed'\n",
        "    elif trainSkew <= -1:\n",
        "        trainSkewness = 'highly left-skewed'\n",
        "    elif trainSkew < 1 and trainSkew >= 0.5:\n",
        "        trainSkewness = 'moderately right-skewed'\n",
        "    elif trainSkew > -1 and trainSkew <= -0.5:\n",
        "        trainSkewness = 'moderately left-skewed'\n",
        "    else:\n",
        "        trainSkewness = 'symmetrical'\n",
        "    listTrainSkewness.append(trainSkewness)\n",
        "    \n",
        "    # for test numerical features\n",
        "    testSkew = test[testfeature].skew()\n",
        "    listTestSkewNum.append(testSkew)\n",
        "    if testSkew >= 1:\n",
        "        testSkewness = 'highly right-skewed'\n",
        "    elif testSkew <= -1:\n",
        "        testSkewness = 'highly left-skewed'\n",
        "    elif testSkew < 1 and testSkew >= 0.5:\n",
        "        testSkewness = 'moderately right-skewed'\n",
        "    elif testSkew > -1 and testSkew <= -0.5:\n",
        "        testSkewness = 'moderately left-skewed'\n",
        "    else:\n",
        "        testSkewness = 'symmetrical'\n",
        "    listTestSkewness.append(testSkewness)\n",
        "    \n",
        "# numerical features data distribution report\n",
        "SkewnessTable = pd.DataFrame(list(zip(trainNum, DataDistModality, listTrainSkewNum, listTrainSkewness,\n",
        "                                      listTestSkewNum, listTestSkewness)))\n",
        "SkewnessTable.columns = ('Feature', 'Data Distribution Modality', 'Train Skew Number', 'Train Skewness',\n",
        "                         'Test Skew Number', 'Test Skewness')\n",
        "\n",
        "# displaying the skewness table\n",
        "SkewnessTable"
      ],
      "metadata": {
        "execution": {
          "iopub.status.busy": "2022-11-25T14:15:07.47872Z",
          "iopub.execute_input": "2022-11-25T14:15:07.479083Z",
          "iopub.status.idle": "2022-11-25T14:15:07.520146Z",
          "shell.execute_reply.started": "2022-11-25T14:15:07.479049Z",
          "shell.execute_reply": "2022-11-25T14:15:07.518438Z"
        },
        "editable": false,
        "trusted": true,
        "id": "wej340JZQoc2"
      },
      "execution_count": null,
      "outputs": []
    },
    {
      "cell_type": "markdown",
      "source": [
        "### **VIIIc. Bivariate Analysis**<a class = \"anchor\" id = \"VIIIc\"></a>"
      ],
      "metadata": {
        "editable": false,
        "id": "gBwVqcyhQoc2"
      }
    },
    {
      "cell_type": "markdown",
      "source": [
        "Bivariate analysis is an analysis between two variables or features in a dataset. We are essentially going to do the the analysis on the Credit_Score feature, which is the output of this project. All the other features are going to be visualized against the output feature. Box plots will be used as the visualization tool for numerical data, while Count Plot for categorical data."
      ],
      "metadata": {
        "editable": false,
        "id": "LuZpQwr8Qoc2"
      }
    },
    {
      "cell_type": "markdown",
      "source": [
        "#### **a. Numerical Features vs. Credit_Score**<a class = \"anchor\" id = \"VIIIc_a\"></a>"
      ],
      "metadata": {
        "editable": false,
        "id": "k4hPxBz4Qoc2"
      }
    },
    {
      "cell_type": "code",
      "source": [
        "# creating figure\n",
        "fig, axes = plt.subplots(6, 3, figsize = (15, 30))\n",
        "fig.tight_layout(pad = 5)\n",
        "\n",
        "# start of moving parameter for the subplot positions\n",
        "setstart = 0\n",
        "setstop = 3\n",
        "row = 0\n",
        "cols = [0, 1, 2]\n",
        "\n",
        "# plotting the box plots\n",
        "while row < 6: \n",
        "    for feature, col in zip(trainNum[setstart:setstop], cols):\n",
        "        sns.boxplot(x = train['Credit_Score'], \n",
        "                    y = train[feature], \n",
        "                    ax = axes[row, col], \n",
        "                    palette = 'Blues').set(title = 'train: ' + feature + ' Box Plot')\n",
        "    setstart = setstart + 3\n",
        "    setstop = setstop + 3\n",
        "    row = row + 1\n",
        "plt.show()"
      ],
      "metadata": {
        "execution": {
          "iopub.status.busy": "2022-11-25T14:15:07.521861Z",
          "iopub.execute_input": "2022-11-25T14:15:07.52215Z",
          "iopub.status.idle": "2022-11-25T14:15:10.975914Z",
          "shell.execute_reply.started": "2022-11-25T14:15:07.522125Z",
          "shell.execute_reply": "2022-11-25T14:15:10.974951Z"
        },
        "editable": false,
        "trusted": true,
        "id": "MJ7MMGNaQoc2"
      },
      "execution_count": null,
      "outputs": []
    },
    {
      "cell_type": "markdown",
      "source": [
        "#### **b. Boolean Features vs. Credit_Score**<a class = \"anchor\" id = \"VIIIc_b\"></a>"
      ],
      "metadata": {
        "editable": false,
        "id": "hoQCvO1AQoc2"
      }
    },
    {
      "cell_type": "code",
      "source": [
        "# creating figure\n",
        "fig, axes = plt.subplots(3, 3, figsize = (15, 15))\n",
        "fig.tight_layout(pad = 5)\n",
        "\n",
        "# start of moving parameter for the subplot positions\n",
        "setstart = 0\n",
        "setstop = 3\n",
        "row = 0\n",
        "cols = [0, 1, 2]\n",
        "\n",
        "# plotting the count plots\n",
        "while row < 3: \n",
        "    for feature, col in zip(trainBool[setstart:setstop], cols):\n",
        "        sns.countplot(x = train['Credit_Score'], \n",
        "                      hue = train[feature], \n",
        "                      ax = axes[row, col], \n",
        "                      palette = 'Blues').set(title = 'train: ' + feature + ' Count Plot')\n",
        "    setstart = setstart + 3\n",
        "    setstop = setstop + 3\n",
        "    row = row + 1\n",
        "plt.show()"
      ],
      "metadata": {
        "execution": {
          "iopub.status.busy": "2022-11-25T14:15:10.977058Z",
          "iopub.execute_input": "2022-11-25T14:15:10.977333Z",
          "iopub.status.idle": "2022-11-25T14:15:12.746141Z",
          "shell.execute_reply.started": "2022-11-25T14:15:10.977305Z",
          "shell.execute_reply": "2022-11-25T14:15:12.745461Z"
        },
        "editable": false,
        "trusted": true,
        "id": "SMovdLYbQoc2"
      },
      "execution_count": null,
      "outputs": []
    },
    {
      "cell_type": "markdown",
      "source": [
        "#### **c. Ordinal and Nominal Categorical Features vs. Credit_Score**<a class = \"anchor\" id = \"VIIIc_c\"></a>"
      ],
      "metadata": {
        "editable": false,
        "id": "9VgT9abfQoc2"
      }
    },
    {
      "cell_type": "code",
      "source": [
        "# creating figure\n",
        "fig, axes = plt.subplots(6, 1 , figsize = (20, 40))\n",
        "fig.tight_layout(pad = 5)\n",
        "\n",
        "# plotting the count plots\n",
        "row = 0\n",
        "for feature in trainCat:\n",
        "    sns.countplot(x = train[feature],\n",
        "                 hue = train['Credit_Score'],\n",
        "                 ax = axes[row],\n",
        "                 palette = 'Blues').set(title = 'train: ' + feature + ' Count Plot')\n",
        "    row = row + 1"
      ],
      "metadata": {
        "execution": {
          "iopub.status.busy": "2022-11-25T14:15:12.747145Z",
          "iopub.execute_input": "2022-11-25T14:15:12.748357Z",
          "iopub.status.idle": "2022-11-25T14:15:15.059462Z",
          "shell.execute_reply.started": "2022-11-25T14:15:12.748298Z",
          "shell.execute_reply": "2022-11-25T14:15:15.058227Z"
        },
        "editable": false,
        "trusted": true,
        "id": "hcWoGu4bQoc2"
      },
      "execution_count": null,
      "outputs": []
    },
    {
      "cell_type": "markdown",
      "source": [
        "## **IX. Features Selection**<a class = \"anchor\" id = \"IX\"></a>"
      ],
      "metadata": {
        "editable": false,
        "id": "jubaiIJkQoc3"
      }
    },
    {
      "cell_type": "markdown",
      "source": [
        "Before building all the machine learning models, we first need to select some subsets of features to use as the inputs for each model. The purpose of this selection is to reduce the time needed for the models to compute and also in most cases to increase the accuracy of the models themselves. This is due to the different nature of each model, for example some are better suited to compute numerical data as the input, while others are better at handling categorical data. We will elaborate the input selection for the model building further."
      ],
      "metadata": {
        "editable": false,
        "id": "O3Ydq4moQoc3"
      }
    },
    {
      "cell_type": "markdown",
      "source": [
        "##### **Features selection method**"
      ],
      "metadata": {
        "editable": false,
        "id": "UGjgka3GQoc3"
      }
    },
    {
      "cell_type": "code",
      "source": [
        "# defining the input, output, and methods used for the feature selection process\n",
        "listinput = ['numerical (normal)', 'numerical (skewed)', 'categorical', 'boolean']\n",
        "listoutput = [['categorical'], ['categorical'], ['categorical'], ['categorical']]\n",
        "listmethod = [['ANOVA', 'Pearson'], \n",
        "              [\"Kendall's Tau\", 'Pearson'], \n",
        "              ['Chi-Squared', 'Mutual Information'],\n",
        "              ['Mutual Information']]\n",
        "\n",
        "# creating feature selection method table\n",
        "MultVarAnalysisMethod = pd.DataFrame({'Input': listinput, 'Output': listoutput, 'Method': listmethod})\n",
        "display(MultVarAnalysisMethod)"
      ],
      "metadata": {
        "execution": {
          "iopub.status.busy": "2022-11-25T14:15:15.060943Z",
          "iopub.execute_input": "2022-11-25T14:15:15.061439Z",
          "iopub.status.idle": "2022-11-25T14:15:15.079758Z",
          "shell.execute_reply.started": "2022-11-25T14:15:15.061365Z",
          "shell.execute_reply": "2022-11-25T14:15:15.078327Z"
        },
        "editable": false,
        "trusted": true,
        "id": "Vn0a7A2rQoc3"
      },
      "execution_count": null,
      "outputs": []
    },
    {
      "cell_type": "markdown",
      "source": [
        "### **IXa. Dataframe Engineering and Features Selection Preparation**<a class = \"anchor\" id = \"IXa\"></a>"
      ],
      "metadata": {
        "editable": false,
        "id": "eJcnjUF5Qoc3"
      }
    },
    {
      "cell_type": "markdown",
      "source": [
        "Before conducting the feature selection process, let's do some engineering to the Train dataframe to make it easier to process."
      ],
      "metadata": {
        "editable": false,
        "id": "V2jDIzKxQoc3"
      }
    },
    {
      "cell_type": "code",
      "source": [
        "# dropping the ID, Customer_ID, and SSN features from Train dataframe\n",
        "for feature in CatDrop:\n",
        "    train.drop(feature, axis = 1, inplace = True)"
      ],
      "metadata": {
        "execution": {
          "iopub.status.busy": "2022-11-25T14:15:15.081259Z",
          "iopub.execute_input": "2022-11-25T14:15:15.081704Z",
          "iopub.status.idle": "2022-11-25T14:15:15.126983Z",
          "shell.execute_reply.started": "2022-11-25T14:15:15.081672Z",
          "shell.execute_reply": "2022-11-25T14:15:15.125584Z"
        },
        "editable": false,
        "trusted": true,
        "id": "YpTf40yvQoc3"
      },
      "execution_count": null,
      "outputs": []
    },
    {
      "cell_type": "code",
      "source": [
        "# appending Credit_Score feature into trainNum to include the output feature\n",
        "trainNum.append('Credit_Score')"
      ],
      "metadata": {
        "execution": {
          "iopub.status.busy": "2022-11-25T14:15:15.128833Z",
          "iopub.execute_input": "2022-11-25T14:15:15.129232Z",
          "iopub.status.idle": "2022-11-25T14:15:15.13572Z",
          "shell.execute_reply.started": "2022-11-25T14:15:15.129202Z",
          "shell.execute_reply": "2022-11-25T14:15:15.133938Z"
        },
        "editable": false,
        "trusted": true,
        "id": "SM4alfZ7Qoc3"
      },
      "execution_count": null,
      "outputs": []
    },
    {
      "cell_type": "code",
      "source": [
        "# input features of train\n",
        "trainInput = train[train.columns[:-1]]\n",
        "\n",
        "# output feature of train\n",
        "trainOutput = train[train.columns[-1]]"
      ],
      "metadata": {
        "execution": {
          "iopub.status.busy": "2022-11-25T14:15:15.138587Z",
          "iopub.execute_input": "2022-11-25T14:15:15.138918Z",
          "iopub.status.idle": "2022-11-25T14:15:15.156729Z",
          "shell.execute_reply.started": "2022-11-25T14:15:15.138891Z",
          "shell.execute_reply": "2022-11-25T14:15:15.155342Z"
        },
        "editable": false,
        "trusted": true,
        "id": "6M2LbNilQoc3"
      },
      "execution_count": null,
      "outputs": []
    },
    {
      "cell_type": "markdown",
      "source": [
        "##### **Encoding string items**"
      ],
      "metadata": {
        "editable": false,
        "id": "29ZlL4oBQoc4"
      }
    },
    {
      "cell_type": "code",
      "source": [
        "# encoding the categorical value in Train dataframe\n",
        "for feature in trainCat[:-1]: # Credit_Score needs to be separated as it will be inversed to its original in the end\n",
        "    train[feature] = enc.fit_transform(train[feature])\n",
        "\n",
        "# encoding and storing the Credit_Score feature\n",
        "encCredit_Score = enc.fit_transform(train['Credit_Score'])\n",
        "train['Credit_Score'] = encCredit_Score"
      ],
      "metadata": {
        "execution": {
          "iopub.status.busy": "2022-11-25T14:15:15.158298Z",
          "iopub.execute_input": "2022-11-25T14:15:15.158708Z",
          "iopub.status.idle": "2022-11-25T14:15:15.309862Z",
          "shell.execute_reply.started": "2022-11-25T14:15:15.158681Z",
          "shell.execute_reply": "2022-11-25T14:15:15.30854Z"
        },
        "editable": false,
        "trusted": true,
        "id": "lvFC25AkQoc4"
      },
      "execution_count": null,
      "outputs": []
    },
    {
      "cell_type": "code",
      "source": [
        "# encoding, and transforming the Credit_Score feature\n",
        "enc.fit(train['Credit_Score'])\n",
        "classes = list(enc.classes_)\n",
        "codes = list(enc.transform(list(enc.classes_)))\n",
        "encCredit_Score = pd.DataFrame(list(zip(classes, codes)))\n",
        "encCredit_Score.columns = ('Classes', 'Codes')\n",
        "DictCredit_Score = dict(list(enumerate(encCredit_Score['Classes'])))\n",
        "train['Credit_Score'] = enc.transform(train['Credit_Score'])"
      ],
      "metadata": {
        "execution": {
          "iopub.status.busy": "2022-11-25T14:15:15.311131Z",
          "iopub.execute_input": "2022-11-25T14:15:15.311534Z",
          "iopub.status.idle": "2022-11-25T14:15:15.323966Z",
          "shell.execute_reply.started": "2022-11-25T14:15:15.311507Z",
          "shell.execute_reply": "2022-11-25T14:15:15.322454Z"
        },
        "editable": false,
        "trusted": true,
        "id": "hRUcj6q0Qoc4"
      },
      "execution_count": null,
      "outputs": []
    },
    {
      "cell_type": "code",
      "source": [
        "# mapping the boolean categorical feature into a numerical form\n",
        "for feature in trainBool:\n",
        "    train[feature] = enc.fit_transform(train[feature])"
      ],
      "metadata": {
        "execution": {
          "iopub.status.busy": "2022-11-25T14:15:15.325664Z",
          "iopub.execute_input": "2022-11-25T14:15:15.325961Z",
          "iopub.status.idle": "2022-11-25T14:15:15.355976Z",
          "shell.execute_reply.started": "2022-11-25T14:15:15.325936Z",
          "shell.execute_reply": "2022-11-25T14:15:15.354747Z"
        },
        "editable": false,
        "trusted": true,
        "id": "osdjtMbmQoc4"
      },
      "execution_count": null,
      "outputs": []
    },
    {
      "cell_type": "markdown",
      "source": [
        "##### **Separating numerical features with normal and not normal data distribution**"
      ],
      "metadata": {
        "editable": false,
        "id": "gQ7Xk5IxQoc4"
      }
    },
    {
      "cell_type": "markdown",
      "source": [
        "For the numerical input with **normal data distribution**, ANOVA method will be used. For the numerical input with **skewed, bimodal, and/or multimodal data distribution**, Kendall's Tau method will be used."
      ],
      "metadata": {
        "editable": false,
        "id": "N-mz9zp1Qoc4"
      }
    },
    {
      "cell_type": "code",
      "source": [
        "# storing the numerical features with normal data distribution\n",
        "trainNumNormal = SkewnessTable['Feature'][SkewnessTable['Data Distribution Modality'] == 'unimodal'][SkewnessTable['Train Skewness'] == 'symmetrical']\n",
        "trainNumNormal"
      ],
      "metadata": {
        "execution": {
          "iopub.status.busy": "2022-11-25T14:15:15.357093Z",
          "iopub.execute_input": "2022-11-25T14:15:15.357357Z",
          "iopub.status.idle": "2022-11-25T14:15:15.367352Z",
          "shell.execute_reply.started": "2022-11-25T14:15:15.357332Z",
          "shell.execute_reply": "2022-11-25T14:15:15.365571Z"
        },
        "editable": false,
        "trusted": true,
        "id": "DxhiKFxAQoc4"
      },
      "execution_count": null,
      "outputs": []
    },
    {
      "cell_type": "code",
      "source": [
        "# storing the numerical features with non-normal data distribution\n",
        "normalindex = trainNumNormal.index\n",
        "trainNumNotNormal = SkewnessTable['Feature'].drop(normalindex, axis = 0)\n",
        "trainNumNotNormal"
      ],
      "metadata": {
        "execution": {
          "iopub.status.busy": "2022-11-25T14:15:15.369396Z",
          "iopub.execute_input": "2022-11-25T14:15:15.370074Z",
          "iopub.status.idle": "2022-11-25T14:15:15.384603Z",
          "shell.execute_reply.started": "2022-11-25T14:15:15.370019Z",
          "shell.execute_reply": "2022-11-25T14:15:15.382784Z"
        },
        "editable": false,
        "trusted": true,
        "id": "jS1rR40DQoc4"
      },
      "execution_count": null,
      "outputs": []
    },
    {
      "cell_type": "markdown",
      "source": [
        "### **IXb. Pearson Correlation**<a class = \"anchor\" id = \"IXb\"></a>"
      ],
      "metadata": {
        "editable": false,
        "id": "9_dNA1bhQoc4"
      }
    },
    {
      "cell_type": "markdown",
      "source": [
        "In this method, we will gather the features which have a rather high correlation coefficient with the Credit_Score feature. As a rule of thumb, the condition for a feature to be assumed having a strong correlation is if its correlation coefficient is higher than 0.7"
      ],
      "metadata": {
        "editable": false,
        "id": "AfurlcL4Qoc4"
      }
    },
    {
      "cell_type": "markdown",
      "source": [
        "##### **Categorical features correlation to Credit_Score**"
      ],
      "metadata": {
        "editable": false,
        "id": "nxE556VBQoc5"
      }
    },
    {
      "cell_type": "code",
      "source": [
        "# setting up the figure\n",
        "plt.figure(figsize = (10, 8))\n",
        "\n",
        "# creating the correlation heatmap\n",
        "sns.heatmap(train[trainCat].corr(),\n",
        "           annot = True,\n",
        "           linewidths = 0.1,\n",
        "           cmap = 'Blues')\n",
        "plt.title('Categorical Features Correlation to Credit_Score')\n",
        "plt.show()"
      ],
      "metadata": {
        "execution": {
          "iopub.status.busy": "2022-11-25T14:15:15.386205Z",
          "iopub.execute_input": "2022-11-25T14:15:15.386539Z",
          "iopub.status.idle": "2022-11-25T14:15:15.761603Z",
          "shell.execute_reply.started": "2022-11-25T14:15:15.386512Z",
          "shell.execute_reply": "2022-11-25T14:15:15.760529Z"
        },
        "editable": false,
        "trusted": true,
        "id": "I4XgqN5dQoc5"
      },
      "execution_count": null,
      "outputs": []
    },
    {
      "cell_type": "markdown",
      "source": [
        "##### **Numerical features correaltion to Credit_Score**"
      ],
      "metadata": {
        "editable": false,
        "id": "-PECiZOaQoc5"
      }
    },
    {
      "cell_type": "code",
      "source": [
        "# setting up the figure\n",
        "plt.figure(figsize = (20, 18))\n",
        "\n",
        "# creating the correlation heatmap\n",
        "sns.heatmap(train[trainNum].corr(),\n",
        "           annot = True,\n",
        "           linewidths = 0.1,\n",
        "           cmap = 'Blues')\n",
        "plt.title('Numerical Features Correlation to Credit_Score')\n",
        "plt.show()"
      ],
      "metadata": {
        "execution": {
          "iopub.status.busy": "2022-11-25T14:15:15.762969Z",
          "iopub.execute_input": "2022-11-25T14:15:15.763455Z",
          "iopub.status.idle": "2022-11-25T14:15:17.15095Z",
          "shell.execute_reply.started": "2022-11-25T14:15:15.763426Z",
          "shell.execute_reply": "2022-11-25T14:15:17.149685Z"
        },
        "editable": false,
        "trusted": true,
        "id": "f5S_a3pDQoc5"
      },
      "execution_count": null,
      "outputs": []
    },
    {
      "cell_type": "markdown",
      "source": [
        "From both correlation heatmaps above, it is gathered that none of the input features have strong correlation with the output feature Credit_Score. This might be due to Credit_Score initially being a categorical feature. We will proceed with the other feature selection methods."
      ],
      "metadata": {
        "editable": false,
        "id": "AcoGFfTEQoc5"
      }
    },
    {
      "cell_type": "markdown",
      "source": [
        "### **IXc. ANOVA F-Score**<a class = \"anchor\" id = \"IXc\"></a>"
      ],
      "metadata": {
        "editable": false,
        "id": "ugQGVKZPQoc5"
      }
    },
    {
      "cell_type": "code",
      "source": [
        "# setting the model to calculate correlation value using ANOVA\n",
        "fs = SelectKBest(score_func = f_classif, \n",
        "                 k = 'all')\n",
        "\n",
        "# fitting the input and output into the model\n",
        "fsinput = train[trainNumNormal] # numerical features with normal distribution\n",
        "fsresponse = train['Credit_Score']\n",
        "fs.fit(fsinput, fsresponse)\n",
        "\n",
        "# creating ANOVA report table\n",
        "ANOVAreport = pd.DataFrame({'Feature': trainNumNormal, 'f-score': fs.scores_, 'p-value': fs.pvalues_})\n",
        "display(ANOVAreport)\n",
        "\n",
        "# displaying the ANOVA f-scores and their corresponding p-values in bar plots\n",
        "fig, axes = plt.subplots(2, figsize = (10, 10))\n",
        "fig.tight_layout(pad = 3)\n",
        "# ANOVA f-scores\n",
        "axes[0].bar(ANOVAreport['Feature'],\n",
        "            ANOVAreport['f-score'],\n",
        "            color = 'lightblue')\n",
        "axes[0].set_title('Train Dataset - Numerical Features with Normal Data Distribution - ANOVA f-score')\n",
        "# corresponding p-values\n",
        "axes[1].bar(ANOVAreport['Feature'],\n",
        "            ANOVAreport['p-value'],\n",
        "            color = 'lightblue')\n",
        "axes[1].set_title('Train Dataset - Numerical Features with Normal Data Distribution - ANOVA p-value')\n",
        "plt.show()"
      ],
      "metadata": {
        "execution": {
          "iopub.status.busy": "2022-11-25T14:15:17.152714Z",
          "iopub.execute_input": "2022-11-25T14:15:17.153047Z",
          "iopub.status.idle": "2022-11-25T14:15:17.47421Z",
          "shell.execute_reply.started": "2022-11-25T14:15:17.15302Z",
          "shell.execute_reply": "2022-11-25T14:15:17.473267Z"
        },
        "editable": false,
        "trusted": true,
        "id": "VDTsgI1BQoc5"
      },
      "execution_count": null,
      "outputs": []
    },
    {
      "cell_type": "markdown",
      "source": [
        "From the report, it can be seen that the Num_Bank_Accounts, Num_Credit_Card, Interest_Rate, and Credit_History_Age features have high ANOVA F-scores. It basically means that choosing different data group sample variation in each feature has a relatively considerable impact to the output feature. We can say that these features have some sort of correlation to the Credit_Score output feature and will be used as a subset of features as the input for the later model building. Moreover, the p-values of these features are also small (below .05), indicating a variable means of each different sample."
      ],
      "metadata": {
        "editable": false,
        "id": "N-SwXfjxQoc5"
      }
    },
    {
      "cell_type": "code",
      "source": [
        "# feature subset obtained from ANOVA\n",
        "fsubsetANOVA = ['Num_Bank_Accounts', 'Num_Credit_Card', 'Interest_Rate', 'Credit_History_Age']"
      ],
      "metadata": {
        "execution": {
          "iopub.status.busy": "2022-11-25T14:15:17.47598Z",
          "iopub.execute_input": "2022-11-25T14:15:17.476418Z",
          "iopub.status.idle": "2022-11-25T14:15:17.481645Z",
          "shell.execute_reply.started": "2022-11-25T14:15:17.476371Z",
          "shell.execute_reply": "2022-11-25T14:15:17.480348Z"
        },
        "editable": false,
        "trusted": true,
        "id": "oxPaw7xfQoc5"
      },
      "execution_count": null,
      "outputs": []
    },
    {
      "cell_type": "markdown",
      "source": [
        "### **IXd. Kendall's Tau**<a class = \"anchor\" id = \"IXd\"></a>"
      ],
      "metadata": {
        "editable": false,
        "id": "znCVpabnQoc5"
      }
    },
    {
      "cell_type": "code",
      "source": [
        "# creating list for storing Kendall's Tau and each corresponding p-values\n",
        "listtau = []\n",
        "listpvalue = []\n",
        "for feature in trainNumNotNormal:\n",
        "    tau, p_value = kendalltau(train[feature], train['Credit_Score'])\n",
        "    listtau.append(tau)\n",
        "    listpvalue.append(p_value)\n",
        "\n",
        "# creating Kendall's Tau report table\n",
        "kendallreport = pd.DataFrame({'Feature': trainNumNotNormal, \"Kendall's Tau\": listtau, 'p-value': listpvalue})\n",
        "display(kendallreport)\n",
        "\n",
        "# displaying the Kendall's Tau and corresponding p-values in horizontal bar plots\n",
        "fig, axes = plt.subplots(2, figsize = (10,10))\n",
        "fig.tight_layout(pad = 3)\n",
        "# Kendall's Tau\n",
        "axes[0].barh(kendallreport['Feature'],\n",
        "            kendallreport[\"Kendall's Tau\"],\n",
        "            color = 'lightblue')\n",
        "axes[0].set_title(\"Train Dataset - Numerical Features with Non-Normal Data Distribution - Kendall's Tau\")\n",
        "# Corresponding p-values\n",
        "axes[1].barh(kendallreport['Feature'],\n",
        "            kendallreport['p-value'],\n",
        "            color = 'lightblue')\n",
        "axes[1].set_title(\"Train Dataset - Numerical Features with Non-Normal Data Distribution - p-value\")\n",
        "\n",
        "plt.show()"
      ],
      "metadata": {
        "execution": {
          "iopub.status.busy": "2022-11-25T14:15:17.483255Z",
          "iopub.execute_input": "2022-11-25T14:15:17.483654Z",
          "iopub.status.idle": "2022-11-25T14:15:18.414017Z",
          "shell.execute_reply.started": "2022-11-25T14:15:17.483619Z",
          "shell.execute_reply": "2022-11-25T14:15:18.412657Z"
        },
        "editable": false,
        "trusted": true,
        "id": "yxu0T-jNQoc5"
      },
      "execution_count": null,
      "outputs": []
    },
    {
      "cell_type": "markdown",
      "source": [
        "From the Kendall's Tau report, there seems that there are no features with strong correlation to the output feature Credit_Score. However, we will still try using the two strongest features compared to the other ones, that are Changed_Credit_Limit and Num_of_Delayed_Payment features. These two features have moderately strong correlation to Credit_Score, with Kendall's Tau over .10. These features also have small p-values (below .05), which indicate different mean values for each sample group."
      ],
      "metadata": {
        "editable": false,
        "id": "WMP_lbJLQoc6"
      }
    },
    {
      "cell_type": "code",
      "source": [
        "# feature subset obtained from Kendall's Tau\n",
        "fsubsetKendall = ['Changed_Credit_Limit', 'Num_of_Delayed_Payment']"
      ],
      "metadata": {
        "execution": {
          "iopub.status.busy": "2022-11-25T14:15:18.41564Z",
          "iopub.execute_input": "2022-11-25T14:15:18.416327Z",
          "iopub.status.idle": "2022-11-25T14:15:18.421198Z",
          "shell.execute_reply.started": "2022-11-25T14:15:18.416298Z",
          "shell.execute_reply": "2022-11-25T14:15:18.420159Z"
        },
        "editable": false,
        "trusted": true,
        "id": "T-9IcYBSQoc6"
      },
      "execution_count": null,
      "outputs": []
    },
    {
      "cell_type": "markdown",
      "source": [
        "### **IXe. Chi-Squared**<a class = \"anchor\" id = \"IXe\"></a>"
      ],
      "metadata": {
        "editable": false,
        "id": "lm2CGoW_Qoc6"
      }
    },
    {
      "cell_type": "markdown",
      "source": [
        "##### **Ordinal and nominal categorical data**"
      ],
      "metadata": {
        "editable": false,
        "id": "5d6J9lVNQoc6"
      }
    },
    {
      "cell_type": "code",
      "source": [
        "# setting the model to calculate correlation value using Chi-Squared\n",
        "chi2 = SelectKBest(score_func = chi2, \n",
        "                  k = 'all')\n",
        "\n",
        "# fitting the input and output into the model\n",
        "chi2input = train[trainCat[:-1]]\n",
        "chi2response = train['Credit_Score']\n",
        "chi2.fit(chi2input, chi2response)\n",
        "\n",
        "# creating Chi-Squared report table\n",
        "chi2report = pd.DataFrame({'Feature': trainCat[:-1], 'Chi-Squared': chi2.scores_, 'p-value': chi2.pvalues_})\n",
        "display(chi2report)\n",
        "\n",
        "# displaying the Chi-Squared values and their corresponding p-values in bar plots\n",
        "fig, axes = plt.subplots(2, figsize = (10, 10))\n",
        "fig.tight_layout(pad = 3)\n",
        "# Chi-Squared\n",
        "axes[0].bar(chi2report['Feature'],\n",
        "            chi2report['Chi-Squared'],\n",
        "            color = 'lightblue')\n",
        "axes[0].set_title('Train Dataset - Categorical Features - Chi-Squared')\n",
        "# corresponding p-values\n",
        "axes[1].bar(chi2report['Feature'],\n",
        "            chi2report['p-value'],\n",
        "            color = 'lightblue')\n",
        "axes[1].set_title('Train Dataset - Categorical Features - p-value')\n",
        "plt.show()"
      ],
      "metadata": {
        "execution": {
          "iopub.status.busy": "2022-11-25T14:15:18.422454Z",
          "iopub.execute_input": "2022-11-25T14:15:18.422749Z",
          "iopub.status.idle": "2022-11-25T14:15:18.74036Z",
          "shell.execute_reply.started": "2022-11-25T14:15:18.422723Z",
          "shell.execute_reply": "2022-11-25T14:15:18.739434Z"
        },
        "editable": false,
        "trusted": true,
        "id": "nPsd4b6kQoc6"
      },
      "execution_count": null,
      "outputs": []
    },
    {
      "cell_type": "markdown",
      "source": [
        "From the Chi-Squared report, the Credit_Mix, Payment_of_Min_Amount, and Payment_Behaviour features show higher Chi-Squared values compared to the other two categorical values. In short, high Chi-Squared values basically means that the response is dependent to the features being measured. The low corresponding p-values (below .05) also support this result."
      ],
      "metadata": {
        "editable": false,
        "id": "vw8WFLu4Qoc6"
      }
    },
    {
      "cell_type": "code",
      "source": [
        "# feature subset obtained from Chi-Squared\n",
        "fsubsetChi = ['Credit_Mix', 'Payment_of_Min_Amount', 'Payment_Behaviour']"
      ],
      "metadata": {
        "execution": {
          "iopub.status.busy": "2022-11-25T14:15:18.741744Z",
          "iopub.execute_input": "2022-11-25T14:15:18.742742Z",
          "iopub.status.idle": "2022-11-25T14:15:18.747527Z",
          "shell.execute_reply.started": "2022-11-25T14:15:18.742703Z",
          "shell.execute_reply": "2022-11-25T14:15:18.746451Z"
        },
        "editable": false,
        "trusted": true,
        "id": "koNUIqnBQoc6"
      },
      "execution_count": null,
      "outputs": []
    },
    {
      "cell_type": "markdown",
      "source": [
        "### **IXf. Mutual Information**<a class = \"anchor\" id = \"IXf\"></a>"
      ],
      "metadata": {
        "editable": false,
        "id": "oTIZxLx8Qoc6"
      }
    },
    {
      "cell_type": "markdown",
      "source": [
        "##### **Ordinal and nominal categorical data**"
      ],
      "metadata": {
        "editable": false,
        "id": "LruRNymeQoc6"
      }
    },
    {
      "cell_type": "code",
      "source": [
        "# setting the model to calculate correlation value using Mutual Information\n",
        "MI = SelectKBest(score_func = mutual_info_classif, \n",
        "                k = 'all')\n",
        "\n",
        "# fitting the input and output into the model\n",
        "MIinput = train[trainCat[:-1]]\n",
        "MIresponse = train['Credit_Score']\n",
        "MI.fit(MIinput, MIresponse)\n",
        "\n",
        "# creating Mutual Information report table\n",
        "MIreport = pd.DataFrame({'Feature': trainCat[:-1], 'Mutual Information': MI.scores_})\n",
        "display(MIreport)\n",
        "\n",
        "# displaying the Mutual Information values and their corresponding p-values in bar plots\n",
        "fig = plt.subplots(figsize = (12, 7))\n",
        "plt.bar(MIreport['Feature'],\n",
        "       MIreport['Mutual Information'],\n",
        "       color = 'lightblue')\n",
        "plt.title('Train Dataset - Categorical Features - Mutual Information f-score')\n",
        "plt.show()"
      ],
      "metadata": {
        "execution": {
          "iopub.status.busy": "2022-11-25T14:15:18.749199Z",
          "iopub.execute_input": "2022-11-25T14:15:18.749698Z",
          "iopub.status.idle": "2022-11-25T14:15:21.070303Z",
          "shell.execute_reply.started": "2022-11-25T14:15:18.749668Z",
          "shell.execute_reply": "2022-11-25T14:15:21.068602Z"
        },
        "editable": false,
        "trusted": true,
        "id": "81qttV6fQoc6"
      },
      "execution_count": null,
      "outputs": []
    },
    {
      "cell_type": "markdown",
      "source": [
        "From the Mutual Information report, the Credit_Mix and Payment_of_Min_Amount features show higher Mutual Information values compared to the other three categorical values. Higher Mutual Information values basically means that the feature and response are dependent of each other. In this method, there are no p values like in the previous methods."
      ],
      "metadata": {
        "editable": false,
        "id": "13k9iMgLQoc6"
      }
    },
    {
      "cell_type": "code",
      "source": [
        "# feature subset obtained from Chi-Squared\n",
        "fsubsetMI = ['Credit_Mix', 'Payment_of_Min_Amount']"
      ],
      "metadata": {
        "execution": {
          "iopub.status.busy": "2022-11-25T14:15:21.072316Z",
          "iopub.execute_input": "2022-11-25T14:15:21.072896Z",
          "iopub.status.idle": "2022-11-25T14:15:21.077436Z",
          "shell.execute_reply.started": "2022-11-25T14:15:21.072851Z",
          "shell.execute_reply": "2022-11-25T14:15:21.076473Z"
        },
        "editable": false,
        "trusted": true,
        "id": "SsrsK-5nQoc6"
      },
      "execution_count": null,
      "outputs": []
    },
    {
      "cell_type": "markdown",
      "source": [
        "##### **Boolean categorical data**"
      ],
      "metadata": {
        "editable": false,
        "id": "Mbql5sq-Qoc7"
      }
    },
    {
      "cell_type": "code",
      "source": [
        "# setting the model to calculate correlation value using Mutual Information\n",
        "MI = SelectKBest(score_func = mutual_info_classif, \n",
        "                k = 'all')\n",
        "\n",
        "# fitting the input and output into the model\n",
        "MIinput = train[trainBool]\n",
        "MIresponse = train['Credit_Score']\n",
        "MI.fit(MIinput, MIresponse)\n",
        "\n",
        "# creating Mutual Information report table\n",
        "MIreport = pd.DataFrame({'Feature': trainBool, 'Mutual Information': MI.scores_})\n",
        "display(MIreport)\n",
        "\n",
        "# displaying the Mutual Information values and their corresponding p-values in bar plots\n",
        "fig = plt.subplots(figsize = (22, 10))\n",
        "plt.bar(MIreport['Feature'],\n",
        "       MIreport['Mutual Information'],\n",
        "       color = 'lightblue')\n",
        "plt.title('Train Dataset - Categorical Features - Mutual Information f-score')\n",
        "plt.show()"
      ],
      "metadata": {
        "execution": {
          "iopub.status.busy": "2022-11-25T14:15:21.079301Z",
          "iopub.execute_input": "2022-11-25T14:15:21.080773Z",
          "iopub.status.idle": "2022-11-25T14:15:25.095959Z",
          "shell.execute_reply.started": "2022-11-25T14:15:21.080716Z",
          "shell.execute_reply": "2022-11-25T14:15:25.094789Z"
        },
        "editable": false,
        "trusted": true,
        "id": "ngVWBnf8Qoc7"
      },
      "execution_count": null,
      "outputs": []
    },
    {
      "cell_type": "markdown",
      "source": [
        "From the Mutual Information report, there are no boolean feature that has strong or moderate correlation to the output feature Credit_Score. Therefore, we will not be using these features for the machine learning models building independently, but instead using them altogether."
      ],
      "metadata": {
        "editable": false,
        "id": "Sgg2yEzQQoc7"
      }
    },
    {
      "cell_type": "markdown",
      "source": [
        "### **IXg. Subset of Best-Correlating Features**<a class = \"anchor\" id = \"IXg\"></a>"
      ],
      "metadata": {
        "editable": false,
        "id": "APhb5pUTQoc7"
      }
    },
    {
      "cell_type": "markdown",
      "source": [
        "From our previous steps, we gathered some subsets of features, whose correlation to the **Credit_Score** feature are better compared to the other ones. Let's recap those subset of features."
      ],
      "metadata": {
        "editable": false,
        "id": "taNKXhxPQoc7"
      }
    },
    {
      "cell_type": "code",
      "source": [
        "# numerical data with normal data distribution\n",
        "print(colored('fsubsetANOVA', attrs = ['bold']))\n",
        "print('Best-correlating numerical features with normal data distribution obtain by ANOVA method:', '\\n', fsubsetANOVA, '\\n')\n",
        "\n",
        "# numerical data with non-normal data distribution\n",
        "print(colored('fsubsetKendall', attrs = ['bold']))\n",
        "print('Best-correlating numerical features with non-normal data distribution obtained by Kendall method:', '\\n', fsubsetKendall, '\\n')\n",
        "\n",
        "# categorical data using Chi-Squared\n",
        "print(colored('fsubsetChi', attrs = ['bold']))\n",
        "print('Best-correlating categorical features obtained by Chi-Squared method :', '\\n', fsubsetChi, '\\n')\n",
        "\n",
        "# categorical data using Mutual Information\n",
        "print(colored('fsubsetMI', attrs = ['bold']))\n",
        "print('Best-correlating categorical features obtained by Mutual Information method :', '\\n', fsubsetMI, '\\n')\n",
        "\n",
        "# joining best correlating features into a single list\n",
        "fsubsetNumCat = fsubsetANOVA + fsubsetKendall + fsubsetChi\n",
        "print(colored('fsubsetNumCat', attrs = ['bold']))\n",
        "print('All best-correlating numerical and non-boolean categorical features :', '\\n', fsubsetNumCat, '\\n')\n",
        "\n",
        "# boolean features\n",
        "fsubsetBool = (train.columns[22:-1]).tolist()\n",
        "print(colored('fsubsetBool', attrs = ['bold']))\n",
        "print('Boolean features :', '\\n', fsubsetBool, '\\n')\n",
        "\n",
        "# joining the best correlating features and including boolean features in them\n",
        "fsubsetComplete = fsubsetNumCat + fsubsetBool\n",
        "print(colored('fsubsetComplete', attrs = ['bold']))\n",
        "print('All best-correlating features including boolean categorical features:', '\\n', fsubsetComplete)"
      ],
      "metadata": {
        "execution": {
          "iopub.status.busy": "2022-11-25T14:15:25.097166Z",
          "iopub.execute_input": "2022-11-25T14:15:25.097466Z",
          "iopub.status.idle": "2022-11-25T14:15:25.110929Z",
          "shell.execute_reply.started": "2022-11-25T14:15:25.09744Z",
          "shell.execute_reply": "2022-11-25T14:15:25.10867Z"
        },
        "editable": false,
        "trusted": true,
        "id": "3_oV77MaQoc7"
      },
      "execution_count": null,
      "outputs": []
    },
    {
      "cell_type": "markdown",
      "source": [
        "## **X. Machine Learning Models**<a class = \"anchor\" id = \"X\"></a>"
      ],
      "metadata": {
        "editable": false,
        "id": "5mEkR3UYQoc7"
      }
    },
    {
      "cell_type": "markdown",
      "source": [
        "### **Xa. Train Dataframe Splitting**<a class = \"anchor\" id = \"Xa\"></a>"
      ],
      "metadata": {
        "editable": false,
        "id": "uiD3-WllQoc7"
      }
    },
    {
      "cell_type": "markdown",
      "source": [
        "In this project, we indeed have a pair of Train and Test dataframes. However, since the Test dataframe here does not have the output feature to validate the accuracy of the machine learning models, we need to further split the Train dataframe into a Sub-Train dataframe and its Sub-Test dataframe counterpart. This way, this later pair can give us the chance to gauge the accuracy of the models that will be built. One important note when splitting the Train dataframe is to apply a stratification to the output feature Credit_Score, so that each class in this feature has the same proportion both in Sub-Train and Sub-Test dataframes."
      ],
      "metadata": {
        "editable": false,
        "id": "mTLP47XNQoc7"
      }
    },
    {
      "cell_type": "markdown",
      "source": [
        "##### **Splitting the Train dataframe**"
      ],
      "metadata": {
        "editable": false,
        "id": "Ij5vo27QQoc7"
      }
    },
    {
      "cell_type": "code",
      "source": [
        "# splitting the train into subtrain and subtest\n",
        "subtrain, subtest = train_test_split(train,\n",
        "                                     test_size = 0.33,\n",
        "                                     stratify = train['Credit_Score'])"
      ],
      "metadata": {
        "execution": {
          "iopub.status.busy": "2022-11-25T14:15:25.113258Z",
          "iopub.execute_input": "2022-11-25T14:15:25.114129Z",
          "iopub.status.idle": "2022-11-25T14:15:25.176812Z",
          "shell.execute_reply.started": "2022-11-25T14:15:25.114098Z",
          "shell.execute_reply": "2022-11-25T14:15:25.175891Z"
        },
        "editable": false,
        "trusted": true,
        "colab": {
          "base_uri": "https://localhost:8080/",
          "height": 363
        },
        "id": "8B6LqtBlQoc8",
        "outputId": "26def94c-fa0f-4527-9e00-aad384da597d"
      },
      "execution_count": null,
      "outputs": [
        {
          "output_type": "error",
          "ename": "ValueError",
          "evalue": "ignored",
          "traceback": [
            "\u001b[0;31m---------------------------------------------------------------------------\u001b[0m",
            "\u001b[0;31mValueError\u001b[0m                                Traceback (most recent call last)",
            "\u001b[0;32m<ipython-input-156-deb191559900>\u001b[0m in \u001b[0;36m<module>\u001b[0;34m\u001b[0m\n\u001b[1;32m      1\u001b[0m \u001b[0;31m# splitting the train into subtrain and subtest\u001b[0m\u001b[0;34m\u001b[0m\u001b[0;34m\u001b[0m\u001b[0;34m\u001b[0m\u001b[0m\n\u001b[0;32m----> 2\u001b[0;31m subtrain, subtest = train_test_split(train,\n\u001b[0m\u001b[1;32m      3\u001b[0m                                      \u001b[0mtest_size\u001b[0m \u001b[0;34m=\u001b[0m \u001b[0;36m0.33\u001b[0m\u001b[0;34m,\u001b[0m\u001b[0;34m\u001b[0m\u001b[0;34m\u001b[0m\u001b[0m\n\u001b[1;32m      4\u001b[0m                                      stratify = train['Credit_Score'])\n",
            "\u001b[0;32m/usr/local/lib/python3.8/dist-packages/sklearn/model_selection/_split.py\u001b[0m in \u001b[0;36mtrain_test_split\u001b[0;34m(test_size, train_size, random_state, shuffle, stratify, *arrays)\u001b[0m\n\u001b[1;32m   2439\u001b[0m         \u001b[0mcv\u001b[0m \u001b[0;34m=\u001b[0m \u001b[0mCVClass\u001b[0m\u001b[0;34m(\u001b[0m\u001b[0mtest_size\u001b[0m\u001b[0;34m=\u001b[0m\u001b[0mn_test\u001b[0m\u001b[0;34m,\u001b[0m \u001b[0mtrain_size\u001b[0m\u001b[0;34m=\u001b[0m\u001b[0mn_train\u001b[0m\u001b[0;34m,\u001b[0m \u001b[0mrandom_state\u001b[0m\u001b[0;34m=\u001b[0m\u001b[0mrandom_state\u001b[0m\u001b[0;34m)\u001b[0m\u001b[0;34m\u001b[0m\u001b[0;34m\u001b[0m\u001b[0m\n\u001b[1;32m   2440\u001b[0m \u001b[0;34m\u001b[0m\u001b[0m\n\u001b[0;32m-> 2441\u001b[0;31m         \u001b[0mtrain\u001b[0m\u001b[0;34m,\u001b[0m \u001b[0mtest\u001b[0m \u001b[0;34m=\u001b[0m \u001b[0mnext\u001b[0m\u001b[0;34m(\u001b[0m\u001b[0mcv\u001b[0m\u001b[0;34m.\u001b[0m\u001b[0msplit\u001b[0m\u001b[0;34m(\u001b[0m\u001b[0mX\u001b[0m\u001b[0;34m=\u001b[0m\u001b[0marrays\u001b[0m\u001b[0;34m[\u001b[0m\u001b[0;36m0\u001b[0m\u001b[0;34m]\u001b[0m\u001b[0;34m,\u001b[0m \u001b[0my\u001b[0m\u001b[0;34m=\u001b[0m\u001b[0mstratify\u001b[0m\u001b[0;34m)\u001b[0m\u001b[0;34m)\u001b[0m\u001b[0;34m\u001b[0m\u001b[0;34m\u001b[0m\u001b[0m\n\u001b[0m\u001b[1;32m   2442\u001b[0m \u001b[0;34m\u001b[0m\u001b[0m\n\u001b[1;32m   2443\u001b[0m     return list(\n",
            "\u001b[0;32m/usr/local/lib/python3.8/dist-packages/sklearn/model_selection/_split.py\u001b[0m in \u001b[0;36msplit\u001b[0;34m(self, X, y, groups)\u001b[0m\n\u001b[1;32m   2020\u001b[0m         \u001b[0mto\u001b[0m \u001b[0man\u001b[0m \u001b[0minteger\u001b[0m\u001b[0;34m.\u001b[0m\u001b[0;34m\u001b[0m\u001b[0;34m\u001b[0m\u001b[0m\n\u001b[1;32m   2021\u001b[0m         \"\"\"\n\u001b[0;32m-> 2022\u001b[0;31m         \u001b[0my\u001b[0m \u001b[0;34m=\u001b[0m \u001b[0mcheck_array\u001b[0m\u001b[0;34m(\u001b[0m\u001b[0my\u001b[0m\u001b[0;34m,\u001b[0m \u001b[0mensure_2d\u001b[0m\u001b[0;34m=\u001b[0m\u001b[0;32mFalse\u001b[0m\u001b[0;34m,\u001b[0m \u001b[0mdtype\u001b[0m\u001b[0;34m=\u001b[0m\u001b[0;32mNone\u001b[0m\u001b[0;34m)\u001b[0m\u001b[0;34m\u001b[0m\u001b[0;34m\u001b[0m\u001b[0m\n\u001b[0m\u001b[1;32m   2023\u001b[0m         \u001b[0;32mreturn\u001b[0m \u001b[0msuper\u001b[0m\u001b[0;34m(\u001b[0m\u001b[0;34m)\u001b[0m\u001b[0;34m.\u001b[0m\u001b[0msplit\u001b[0m\u001b[0;34m(\u001b[0m\u001b[0mX\u001b[0m\u001b[0;34m,\u001b[0m \u001b[0my\u001b[0m\u001b[0;34m,\u001b[0m \u001b[0mgroups\u001b[0m\u001b[0;34m)\u001b[0m\u001b[0;34m\u001b[0m\u001b[0;34m\u001b[0m\u001b[0m\n\u001b[1;32m   2024\u001b[0m \u001b[0;34m\u001b[0m\u001b[0m\n",
            "\u001b[0;32m/usr/local/lib/python3.8/dist-packages/sklearn/utils/validation.py\u001b[0m in \u001b[0;36mcheck_array\u001b[0;34m(array, accept_sparse, accept_large_sparse, dtype, order, copy, force_all_finite, ensure_2d, allow_nd, ensure_min_samples, ensure_min_features, estimator)\u001b[0m\n\u001b[1;32m    798\u001b[0m \u001b[0;34m\u001b[0m\u001b[0m\n\u001b[1;32m    799\u001b[0m         \u001b[0;32mif\u001b[0m \u001b[0mforce_all_finite\u001b[0m\u001b[0;34m:\u001b[0m\u001b[0;34m\u001b[0m\u001b[0;34m\u001b[0m\u001b[0m\n\u001b[0;32m--> 800\u001b[0;31m             \u001b[0m_assert_all_finite\u001b[0m\u001b[0;34m(\u001b[0m\u001b[0marray\u001b[0m\u001b[0;34m,\u001b[0m \u001b[0mallow_nan\u001b[0m\u001b[0;34m=\u001b[0m\u001b[0mforce_all_finite\u001b[0m \u001b[0;34m==\u001b[0m \u001b[0;34m\"allow-nan\"\u001b[0m\u001b[0;34m)\u001b[0m\u001b[0;34m\u001b[0m\u001b[0;34m\u001b[0m\u001b[0m\n\u001b[0m\u001b[1;32m    801\u001b[0m \u001b[0;34m\u001b[0m\u001b[0m\n\u001b[1;32m    802\u001b[0m     \u001b[0;32mif\u001b[0m \u001b[0mensure_min_samples\u001b[0m \u001b[0;34m>\u001b[0m \u001b[0;36m0\u001b[0m\u001b[0;34m:\u001b[0m\u001b[0;34m\u001b[0m\u001b[0;34m\u001b[0m\u001b[0m\n",
            "\u001b[0;32m/usr/local/lib/python3.8/dist-packages/sklearn/utils/validation.py\u001b[0m in \u001b[0;36m_assert_all_finite\u001b[0;34m(X, allow_nan, msg_dtype)\u001b[0m\n\u001b[1;32m    120\u001b[0m     \u001b[0;32melif\u001b[0m \u001b[0mX\u001b[0m\u001b[0;34m.\u001b[0m\u001b[0mdtype\u001b[0m \u001b[0;34m==\u001b[0m \u001b[0mnp\u001b[0m\u001b[0;34m.\u001b[0m\u001b[0mdtype\u001b[0m\u001b[0;34m(\u001b[0m\u001b[0;34m\"object\"\u001b[0m\u001b[0;34m)\u001b[0m \u001b[0;32mand\u001b[0m \u001b[0;32mnot\u001b[0m \u001b[0mallow_nan\u001b[0m\u001b[0;34m:\u001b[0m\u001b[0;34m\u001b[0m\u001b[0;34m\u001b[0m\u001b[0m\n\u001b[1;32m    121\u001b[0m         \u001b[0;32mif\u001b[0m \u001b[0m_object_dtype_isnan\u001b[0m\u001b[0;34m(\u001b[0m\u001b[0mX\u001b[0m\u001b[0;34m)\u001b[0m\u001b[0;34m.\u001b[0m\u001b[0many\u001b[0m\u001b[0;34m(\u001b[0m\u001b[0;34m)\u001b[0m\u001b[0;34m:\u001b[0m\u001b[0;34m\u001b[0m\u001b[0;34m\u001b[0m\u001b[0m\n\u001b[0;32m--> 122\u001b[0;31m             \u001b[0;32mraise\u001b[0m \u001b[0mValueError\u001b[0m\u001b[0;34m(\u001b[0m\u001b[0;34m\"Input contains NaN\"\u001b[0m\u001b[0;34m)\u001b[0m\u001b[0;34m\u001b[0m\u001b[0;34m\u001b[0m\u001b[0m\n\u001b[0m\u001b[1;32m    123\u001b[0m \u001b[0;34m\u001b[0m\u001b[0m\n\u001b[1;32m    124\u001b[0m \u001b[0;34m\u001b[0m\u001b[0m\n",
            "\u001b[0;31mValueError\u001b[0m: Input contains NaN"
          ]
        }
      ]
    },
    {
      "cell_type": "code",
      "source": [
        "# checking the size of subtrain and subtest datasets\n",
        "print('Subtrain dataframe rows x cols :', subtrain.shape)\n",
        "print('Subtest dataframe rows x cols  :', subtest.shape)"
      ],
      "metadata": {
        "execution": {
          "iopub.status.busy": "2022-11-25T14:15:25.17805Z",
          "iopub.execute_input": "2022-11-25T14:15:25.178302Z",
          "iopub.status.idle": "2022-11-25T14:15:25.182898Z",
          "shell.execute_reply.started": "2022-11-25T14:15:25.178278Z",
          "shell.execute_reply": "2022-11-25T14:15:25.182244Z"
        },
        "editable": false,
        "trusted": true,
        "colab": {
          "base_uri": "https://localhost:8080/",
          "height": 200
        },
        "id": "069X90DUQoc8",
        "outputId": "2cb27fdf-4a8d-41d1-f1da-16b46ce1a66f"
      },
      "execution_count": null,
      "outputs": [
        {
          "output_type": "error",
          "ename": "NameError",
          "evalue": "ignored",
          "traceback": [
            "\u001b[0;31m---------------------------------------------------------------------------\u001b[0m",
            "\u001b[0;31mNameError\u001b[0m                                 Traceback (most recent call last)",
            "\u001b[0;32m<ipython-input-157-b03a7439d8ae>\u001b[0m in \u001b[0;36m<module>\u001b[0;34m\u001b[0m\n\u001b[1;32m      1\u001b[0m \u001b[0;31m# checking the size of subtrain and subtest datasets\u001b[0m\u001b[0;34m\u001b[0m\u001b[0;34m\u001b[0m\u001b[0;34m\u001b[0m\u001b[0m\n\u001b[0;32m----> 2\u001b[0;31m \u001b[0mprint\u001b[0m\u001b[0;34m(\u001b[0m\u001b[0;34m'Subtrain dataframe rows x cols :'\u001b[0m\u001b[0;34m,\u001b[0m \u001b[0msubtrain\u001b[0m\u001b[0;34m.\u001b[0m\u001b[0mshape\u001b[0m\u001b[0;34m)\u001b[0m\u001b[0;34m\u001b[0m\u001b[0;34m\u001b[0m\u001b[0m\n\u001b[0m\u001b[1;32m      3\u001b[0m \u001b[0mprint\u001b[0m\u001b[0;34m(\u001b[0m\u001b[0;34m'Subtest dataframe rows x cols  :'\u001b[0m\u001b[0;34m,\u001b[0m \u001b[0msubtest\u001b[0m\u001b[0;34m.\u001b[0m\u001b[0mshape\u001b[0m\u001b[0;34m)\u001b[0m\u001b[0;34m\u001b[0m\u001b[0;34m\u001b[0m\u001b[0m\n",
            "\u001b[0;31mNameError\u001b[0m: name 'subtrain' is not defined"
          ]
        }
      ]
    },
    {
      "cell_type": "markdown",
      "source": [
        "##### **Checking the proportion of each class in Credit_Score**"
      ],
      "metadata": {
        "editable": false,
        "id": "P3VVneJoQoc8"
      }
    },
    {
      "cell_type": "code",
      "source": [
        "# getting the unique value in Credit_Score for subtrain dataset\n",
        "listCreditScore = subtrain['Credit_Score'].unique()\n",
        "\n",
        "# getting the count of each unique value for subtrain dataset\n",
        "listcount = []\n",
        "for CreditScore in listCreditScore:\n",
        "    count = (subtrain['Credit_Score'] == CreditScore).sum()\n",
        "    listcount.append(count)\n",
        "\n",
        "# getting the percentage of each unique value for subtrain dataset\n",
        "listcountperc = []\n",
        "for CreditScore in listCreditScore:\n",
        "    perc = (subtrain['Credit_Score'] == CreditScore).sum() / len(subtrain['Credit_Score'])\n",
        "    listcountperc.append(perc)\n",
        "    \n",
        "# creating split report for subtrain dataset\n",
        "splitreporttrain = pd.DataFrame({'Class': subtrain['Credit_Score'].unique(),\n",
        "                                'Count': listcount,\n",
        "                                'Percentage': listcountperc})\n",
        "\n",
        "# displaying the split report for subtrain\n",
        "print('Subtrain Credit_Score class proportions')\n",
        "display(splitreporttrain.sort_values('Class'))\n",
        "print('\\n')\n",
        "\n",
        "# getting the unique value in Credit_Score for subtest dataset\n",
        "listCreditScore = subtest['Credit_Score'].unique()\n",
        "\n",
        "# getting the count of each unique value for subtest dataset\n",
        "listcount = []\n",
        "for CreditScore in listCreditScore:\n",
        "    count = (subtest['Credit_Score'] == CreditScore).sum()\n",
        "    listcount.append(count)\n",
        "\n",
        "# getting the percentage of each unique value for subtest dataset\n",
        "listcountperc = []\n",
        "for CreditScore in listCreditScore:\n",
        "    perc = (subtest['Credit_Score'] == CreditScore).sum() / len(subtest['Credit_Score'])\n",
        "    listcountperc.append(perc)\n",
        "    \n",
        "# creating split report for subtrain dataset\n",
        "splitreporttest = pd.DataFrame({'Class': subtest['Credit_Score'].unique(),\n",
        "                                'Count': listcount,\n",
        "                                'Percentage': listcountperc})\n",
        "\n",
        "# displaying the split report for subtrain\n",
        "print('Subtest Credit_Score class proportions')\n",
        "display(splitreporttest.sort_values('Class'))"
      ],
      "metadata": {
        "execution": {
          "iopub.status.busy": "2022-11-25T14:15:25.184044Z",
          "iopub.execute_input": "2022-11-25T14:15:25.184333Z",
          "iopub.status.idle": "2022-11-25T14:15:25.221309Z",
          "shell.execute_reply.started": "2022-11-25T14:15:25.18431Z",
          "shell.execute_reply": "2022-11-25T14:15:25.219698Z"
        },
        "editable": false,
        "trusted": true,
        "id": "m8D08DUdQoc8"
      },
      "execution_count": null,
      "outputs": []
    },
    {
      "cell_type": "markdown",
      "source": [
        "**The Credit_Score class proportions is the same for both Subtrain and Subtest dataframes**. The shape of each dataframe also tells that the split has been done successfully. Let's now separate the output feature from the input features on both dataframes."
      ],
      "metadata": {
        "editable": false,
        "id": "N6i_aMUDQoc8"
      }
    },
    {
      "cell_type": "markdown",
      "source": [
        "##### **Splitting input and output features**"
      ],
      "metadata": {
        "editable": false,
        "id": "WlqX79CrQoc8"
      }
    },
    {
      "cell_type": "code",
      "source": [
        "# subtrain\n",
        "X_subtrain = subtrain[subtrain.columns[:-1]] # input features\n",
        "y_subtrain = subtrain[subtrain.columns[-1]]  # output feature\n",
        "\n",
        "# subtest\n",
        "X_subtest = subtest[subtest.columns[:-1]] # input features\n",
        "y_subtest = subtest[subtest.columns[-1]]  # output feature"
      ],
      "metadata": {
        "execution": {
          "iopub.status.busy": "2022-11-25T14:15:25.224512Z",
          "iopub.execute_input": "2022-11-25T14:15:25.22531Z",
          "iopub.status.idle": "2022-11-25T14:15:25.235554Z",
          "shell.execute_reply.started": "2022-11-25T14:15:25.225274Z",
          "shell.execute_reply": "2022-11-25T14:15:25.234443Z"
        },
        "editable": false,
        "trusted": true,
        "id": "bVyhm424Qoc8"
      },
      "execution_count": null,
      "outputs": []
    },
    {
      "cell_type": "markdown",
      "source": [
        "### **Xb. Random Forest**<a class = \"anchor\" id = \"Xb\"></a>"
      ],
      "metadata": {
        "editable": false,
        "id": "T5Qn3WOkQoc8"
      }
    },
    {
      "cell_type": "markdown",
      "source": [
        "#### **a. Subset of Parameters**<a class = \"anchor\" id = \"Xb_a\"></a>"
      ],
      "metadata": {
        "editable": false,
        "id": "wMph1WMXQoc8"
      }
    },
    {
      "cell_type": "markdown",
      "source": [
        "In the Random Forest model, there are some important parameters that need to be set. The parameters that will be set are as follow:\n",
        "*   **criterion** : The function to measure the quality of a split\n",
        "*   **min_sample_leaf** : The minimum number of samples required to split an internal node\n",
        "*   **n_estimator** : The number of trees in the forest\n",
        "*   **max_features** : The number of features to consider when looking for the best split\n",
        "*   **max_depth** : The maximum depth of the tree"
      ],
      "metadata": {
        "editable": false,
        "id": "pfaSCGN_Qoc8"
      }
    },
    {
      "cell_type": "code",
      "source": [
        "# criterion\n",
        "criterion = ['gini', 'entropy']\n",
        "\n",
        "# min_sample leaf\n",
        "min_sample_leaf = [1, 2, 4]\n",
        "\n",
        "# n_estimator\n",
        "n_estimator = [64, 128]\n",
        "\n",
        "# max_features\n",
        "max_features = ['sqrt', 'log2']\n",
        "\n",
        "# max_depth\n",
        "max_depth = []\n",
        "for i in range (0, 10, 3):\n",
        "    max_depth.append(i)\n",
        "max_depth.append(None)\n",
        "max_depth.pop(0)\n",
        "\n",
        "# assigning the parameters into a parameter grid\n",
        "parameter_grid = {'criterion': criterion,\n",
        "                 'min_samples_leaf': min_sample_leaf,\n",
        "                 'n_estimators': n_estimator,\n",
        "                 'max_features': max_features,\n",
        "                 'max_depth': max_depth}\n",
        "\n",
        "# displaying the parameters\n",
        "print(colored('Random Forest', attrs = ['bold']), 'parameters :')\n",
        "parameter_grid"
      ],
      "metadata": {
        "execution": {
          "iopub.status.busy": "2022-11-25T14:15:25.237197Z",
          "iopub.execute_input": "2022-11-25T14:15:25.237682Z",
          "iopub.status.idle": "2022-11-25T14:15:25.258142Z",
          "shell.execute_reply.started": "2022-11-25T14:15:25.237646Z",
          "shell.execute_reply": "2022-11-25T14:15:25.25731Z"
        },
        "editable": false,
        "trusted": true,
        "id": "iRIEO3hcQoc8"
      },
      "execution_count": null,
      "outputs": []
    },
    {
      "cell_type": "markdown",
      "source": [
        "#### **b. Model Input: Best Correlating Numerical and Categorical Features**<a class = \"anchor\" id = \"Xb_b\"></a>"
      ],
      "metadata": {
        "editable": false,
        "id": "Yg2RYWHSQoc9"
      }
    },
    {
      "cell_type": "markdown",
      "source": [
        "##### **Choosing the best parameter values**"
      ],
      "metadata": {
        "editable": false,
        "id": "NxWl1gfpQoc9"
      }
    },
    {
      "cell_type": "code",
      "source": [
        "# the machine learning model that will be used\n",
        "rf = RandomForestClassifier()"
      ],
      "metadata": {
        "execution": {
          "iopub.status.busy": "2022-11-25T14:15:25.259188Z",
          "iopub.execute_input": "2022-11-25T14:15:25.259466Z",
          "iopub.status.idle": "2022-11-25T14:15:25.267746Z",
          "shell.execute_reply.started": "2022-11-25T14:15:25.259441Z",
          "shell.execute_reply": "2022-11-25T14:15:25.266743Z"
        },
        "editable": false,
        "trusted": true,
        "id": "VReL_j46Qoc9"
      },
      "execution_count": null,
      "outputs": []
    },
    {
      "cell_type": "code",
      "source": [
        "# assigning the parameter grid into the model\n",
        "RFNumCat = GridSearchCV(estimator = rf,\n",
        "                        param_grid = parameter_grid,\n",
        "                        n_jobs = 8,\n",
        "                        cv = 3,\n",
        "                        verbose = -1)\n",
        "\n",
        "# assigning the data from Subtrain dataframe into the model\n",
        "RFNumCat.fit(X_subtrain[fsubsetNumCat], y_subtrain)"
      ],
      "metadata": {
        "execution": {
          "iopub.status.busy": "2022-11-25T14:15:25.268899Z",
          "iopub.execute_input": "2022-11-25T14:15:25.269134Z",
          "iopub.status.idle": "2022-11-25T14:24:10.263203Z",
          "shell.execute_reply.started": "2022-11-25T14:15:25.269111Z",
          "shell.execute_reply": "2022-11-25T14:24:10.261553Z"
        },
        "editable": false,
        "trusted": true,
        "id": "709iU6SvQoc9"
      },
      "execution_count": null,
      "outputs": []
    },
    {
      "cell_type": "code",
      "source": [
        "# best subset of parameters obtained from Grid Search CV\n",
        "print('Best subset of parameters obtained from GridSearchCV for the fsubsetNumCat input :')\n",
        "RFNumCatBestParam = RFNumCat.best_params_\n",
        "RFNumCatBestParam"
      ],
      "metadata": {
        "execution": {
          "iopub.status.busy": "2022-11-25T14:24:10.265107Z",
          "iopub.execute_input": "2022-11-25T14:24:10.265457Z",
          "iopub.status.idle": "2022-11-25T14:24:10.274149Z",
          "shell.execute_reply.started": "2022-11-25T14:24:10.265426Z",
          "shell.execute_reply": "2022-11-25T14:24:10.272751Z"
        },
        "editable": false,
        "trusted": true,
        "id": "RIvFHuGuQoc9"
      },
      "execution_count": null,
      "outputs": []
    },
    {
      "cell_type": "code",
      "source": [
        "RFNumCatBestParam['criterion']"
      ],
      "metadata": {
        "execution": {
          "iopub.status.busy": "2022-11-25T14:24:10.275747Z",
          "iopub.execute_input": "2022-11-25T14:24:10.276136Z",
          "iopub.status.idle": "2022-11-25T14:24:10.286915Z",
          "shell.execute_reply.started": "2022-11-25T14:24:10.27611Z",
          "shell.execute_reply": "2022-11-25T14:24:10.285925Z"
        },
        "editable": false,
        "trusted": true,
        "id": "AQDUuksXQoc9"
      },
      "execution_count": null,
      "outputs": []
    },
    {
      "cell_type": "code",
      "source": [
        "# setting up the model\n",
        "RFClassifier = RandomForestClassifier(**RFNumCatBestParam)\n",
        "\n",
        "# fitting the data from Subtrain dataframe into the model\n",
        "RFClassifier.fit(X_subtrain[fsubsetNumCat], y_subtrain)\n",
        "\n",
        "# predicting the Credit_Score in Subtest dataframe\n",
        "RFNumCatPred = RFClassifier.predict(X_subtest[fsubsetNumCat])\n",
        "\n",
        "# getting the accuracy of the model\n",
        "RFNumCatAcc = accuracy_score(y_subtest, RFNumCatPred)\n",
        "\n",
        "# model accuracy report\n",
        "print('Subset of features : fsubsetNumCat')\n",
        "print('Random Forest Classifier model accuracy: {:.2f}%'.format(RFNumCatAcc*100))"
      ],
      "metadata": {
        "execution": {
          "iopub.status.busy": "2022-11-25T14:24:10.288312Z",
          "iopub.execute_input": "2022-11-25T14:24:10.288736Z",
          "iopub.status.idle": "2022-11-25T14:24:31.297892Z",
          "shell.execute_reply.started": "2022-11-25T14:24:10.288705Z",
          "shell.execute_reply": "2022-11-25T14:24:31.296663Z"
        },
        "editable": false,
        "trusted": true,
        "id": "E2adYe_8Qoc9"
      },
      "execution_count": null,
      "outputs": []
    },
    {
      "cell_type": "markdown",
      "source": [
        "#### **c. Model Input: Best Correlating Numerical Features with Normal Data Distribution**<a class = \"anchor\" id = \"Xb_c\"></a>"
      ],
      "metadata": {
        "editable": false,
        "id": "uXAHhVrvQoc9"
      }
    },
    {
      "cell_type": "code",
      "source": [
        "# assigning the parameter grid into the model\n",
        "RFANOVA = GridSearchCV(estimator = rf,\n",
        "                       param_grid = parameter_grid,\n",
        "                       n_jobs = 8,\n",
        "                       cv = 3,\n",
        "                       verbose = -1)\n",
        "\n",
        "# assigning the data from Subtrain dataframe into the model\n",
        "RFANOVA.fit(X_subtrain[fsubsetANOVA], y_subtrain)"
      ],
      "metadata": {
        "execution": {
          "iopub.status.busy": "2022-11-25T14:24:31.299108Z",
          "iopub.execute_input": "2022-11-25T14:24:31.299418Z",
          "iopub.status.idle": "2022-11-25T14:31:06.543757Z",
          "shell.execute_reply.started": "2022-11-25T14:24:31.29939Z",
          "shell.execute_reply": "2022-11-25T14:31:06.542301Z"
        },
        "editable": false,
        "trusted": true,
        "id": "FLt8sCrIQoc9"
      },
      "execution_count": null,
      "outputs": []
    },
    {
      "cell_type": "code",
      "source": [
        "# best subset of parameters obtained from Grid Search CV\n",
        "print('Best subset of parameters obtained from GridSearchCV for the fsubsetANOVA input :')\n",
        "RFANOVABestParam = RFANOVA.best_params_\n",
        "RFANOVABestParam"
      ],
      "metadata": {
        "execution": {
          "iopub.status.busy": "2022-11-25T14:31:06.545091Z",
          "iopub.execute_input": "2022-11-25T14:31:06.545397Z",
          "iopub.status.idle": "2022-11-25T14:31:06.55327Z",
          "shell.execute_reply.started": "2022-11-25T14:31:06.545358Z",
          "shell.execute_reply": "2022-11-25T14:31:06.551848Z"
        },
        "editable": false,
        "trusted": true,
        "id": "UcRGbCtVQoc9"
      },
      "execution_count": null,
      "outputs": []
    },
    {
      "cell_type": "code",
      "source": [
        "# setting up the model using the best subset of parameters\n",
        "RFClassifier = RandomForestClassifier(**RFANOVABestParam)\n",
        "\n",
        "# fitting the data from Subtrain dataframe into the model\n",
        "RFClassifier.fit(X_subtrain[fsubsetANOVA], y_subtrain)\n",
        "\n",
        "# predicting the Credit_score in Subtest dataframe\n",
        "RFANOVApred = RFClassifier.predict(X_subtest[fsubsetANOVA])\n",
        "\n",
        "# getting the accuracy of the model\n",
        "RFANOVAAcc = accuracy_score(y_subtest, RFANOVApred)\n",
        "\n",
        "# model accuracy report\n",
        "print('Subset of features : fsubsetANOVA')\n",
        "print('Random Forest Classifier model accuracy: {:.2f}%'.format(RFANOVAAcc*100))"
      ],
      "metadata": {
        "execution": {
          "iopub.status.busy": "2022-11-25T14:31:06.554763Z",
          "iopub.execute_input": "2022-11-25T14:31:06.555107Z",
          "iopub.status.idle": "2022-11-25T14:31:19.453105Z",
          "shell.execute_reply.started": "2022-11-25T14:31:06.555073Z",
          "shell.execute_reply": "2022-11-25T14:31:19.451479Z"
        },
        "editable": false,
        "trusted": true,
        "id": "hdV1GTrLQoc9"
      },
      "execution_count": null,
      "outputs": []
    },
    {
      "cell_type": "markdown",
      "source": [
        "#### **d. Input: Best Correlating Numerical Features with Non-Normal Data Distribution**<a class = \"anchor\" id = \"Xb_d\"></a>"
      ],
      "metadata": {
        "editable": false,
        "id": "V5CuLu9EQoc-"
      }
    },
    {
      "cell_type": "code",
      "source": [
        "# assigning the parameter grid into the model\n",
        "RFKendall = GridSearchCV(estimator = rf,\n",
        "                         param_grid = parameter_grid,\n",
        "                         n_jobs = 8,\n",
        "                         cv = 3,\n",
        "                         verbose = -1)\n",
        "\n",
        "# assigning the data from Subtrain dataframe into the model\n",
        "RFKendall.fit(X_subtrain[fsubsetKendall], y_subtrain)"
      ],
      "metadata": {
        "execution": {
          "iopub.status.busy": "2022-11-25T14:31:19.455186Z",
          "iopub.execute_input": "2022-11-25T14:31:19.456807Z",
          "iopub.status.idle": "2022-11-25T14:37:19.045677Z",
          "shell.execute_reply.started": "2022-11-25T14:31:19.456758Z",
          "shell.execute_reply": "2022-11-25T14:37:19.044263Z"
        },
        "editable": false,
        "trusted": true,
        "id": "DD7EBPtKQoc-"
      },
      "execution_count": null,
      "outputs": []
    },
    {
      "cell_type": "code",
      "source": [
        "# best subset of parameters obtained from Grid Search CV\n",
        "print('Best subset of parameters obtained from GridSearchCV for the fsubsetKendall input :')\n",
        "RFKendallBestParam = RFKendall.best_params_\n",
        "RFKendallBestParam"
      ],
      "metadata": {
        "execution": {
          "iopub.status.busy": "2022-11-25T14:37:19.047729Z",
          "iopub.execute_input": "2022-11-25T14:37:19.048909Z",
          "iopub.status.idle": "2022-11-25T14:37:19.057594Z",
          "shell.execute_reply.started": "2022-11-25T14:37:19.048862Z",
          "shell.execute_reply": "2022-11-25T14:37:19.056317Z"
        },
        "editable": false,
        "trusted": true,
        "id": "jXWghtLUQoc-"
      },
      "execution_count": null,
      "outputs": []
    },
    {
      "cell_type": "code",
      "source": [
        "# setting up the model using the best subset of parameters\n",
        "RFClassifier = RandomForestClassifier(**RFKendallBestParam)\n",
        "\n",
        "# fitting the data from Subtrain dataframe into the model\n",
        "RFClassifier.fit(X_subtrain[fsubsetKendall], y_subtrain)\n",
        "\n",
        "# predicting the Credit_Score in Subtest dataframe\n",
        "RFKendallpred = RFClassifier.predict(X_subtest[fsubsetKendall])\n",
        "\n",
        "# getting the accuracy of the model\n",
        "RFKendallAcc = accuracy_score(y_subtest, RFKendallpred)\n",
        "\n",
        "# model accuracy report\n",
        "print('Subset of features : fsubsetKendall')\n",
        "print('Random Forest Classifier model accuracy: {:.2f}%'.format(RFKendallAcc*100))"
      ],
      "metadata": {
        "execution": {
          "iopub.status.busy": "2022-11-25T14:37:19.058815Z",
          "iopub.execute_input": "2022-11-25T14:37:19.059687Z",
          "iopub.status.idle": "2022-11-25T14:37:32.888871Z",
          "shell.execute_reply.started": "2022-11-25T14:37:19.059658Z",
          "shell.execute_reply": "2022-11-25T14:37:32.887415Z"
        },
        "editable": false,
        "trusted": true,
        "id": "CCF7T_ORQoc-"
      },
      "execution_count": null,
      "outputs": []
    },
    {
      "cell_type": "markdown",
      "source": [
        "#### **e. Input: Best Correlating Categorical Features Obtained by Chi-Squared**<a class = \"anchor\" id = \"Xb_e\"></a>"
      ],
      "metadata": {
        "editable": false,
        "id": "WuEXoUx3Qoc-"
      }
    },
    {
      "cell_type": "code",
      "source": [
        "# assigning the parameter grid into the model\n",
        "RFChi = GridSearchCV(estimator = rf,\n",
        "                     param_grid = parameter_grid,\n",
        "                     n_jobs = 8,\n",
        "                     cv = 3,\n",
        "                     verbose = -1)\n",
        "\n",
        "# assigning the data from Subtrain dataframe into the model\n",
        "RFChi.fit(X_subtrain[fsubsetChi], y_subtrain)"
      ],
      "metadata": {
        "execution": {
          "iopub.status.busy": "2022-11-25T14:37:32.89144Z",
          "iopub.execute_input": "2022-11-25T14:37:32.891937Z",
          "iopub.status.idle": "2022-11-25T14:40:02.164917Z",
          "shell.execute_reply.started": "2022-11-25T14:37:32.89189Z",
          "shell.execute_reply": "2022-11-25T14:40:02.162263Z"
        },
        "editable": false,
        "trusted": true,
        "id": "PH0Y-DMkQoc-"
      },
      "execution_count": null,
      "outputs": []
    },
    {
      "cell_type": "code",
      "source": [
        "# best subset of parameters obtained from Grid Search CV\n",
        "RFChiBestParam = RFChi.best_params_\n",
        "RFChiBestParam"
      ],
      "metadata": {
        "execution": {
          "iopub.status.busy": "2022-11-25T14:40:02.168986Z",
          "iopub.execute_input": "2022-11-25T14:40:02.16995Z",
          "iopub.status.idle": "2022-11-25T14:40:02.196447Z",
          "shell.execute_reply.started": "2022-11-25T14:40:02.169917Z",
          "shell.execute_reply": "2022-11-25T14:40:02.191137Z"
        },
        "editable": false,
        "trusted": true,
        "id": "JQj9uRwUQoc-"
      },
      "execution_count": null,
      "outputs": []
    },
    {
      "cell_type": "code",
      "source": [
        "# setting up the model using the best subset of parameters\n",
        "RFClassifier = RandomForestClassifier(**RFChiBestParam)\n",
        "\n",
        "# fitting the data from Subtrain dataframe into the model\n",
        "RFClassifier.fit(X_subtrain[fsubsetChi], y_subtrain)\n",
        "\n",
        "# predicting the Credit_Score in Subtest dataframe\n",
        "RFChiPred = RFClassifier.predict(X_subtest[fsubsetChi])\n",
        "\n",
        "# getting the accuracy of the model\n",
        "RFChiAcc = accuracy_score(y_subtest, RFChiPred)\n",
        "\n",
        "# model accuracy report\n",
        "print('Subset of features : fsubsetChi')\n",
        "print('Random Forest Classifier model accuracy: {:.2f}%'.format(RFChiAcc*100))"
      ],
      "metadata": {
        "execution": {
          "iopub.status.busy": "2022-11-25T14:40:02.199588Z",
          "iopub.execute_input": "2022-11-25T14:40:02.201629Z",
          "iopub.status.idle": "2022-11-25T14:40:07.961489Z",
          "shell.execute_reply.started": "2022-11-25T14:40:02.201566Z",
          "shell.execute_reply": "2022-11-25T14:40:07.955987Z"
        },
        "editable": false,
        "trusted": true,
        "id": "K_iz7Q1EQoc-"
      },
      "execution_count": null,
      "outputs": []
    },
    {
      "cell_type": "markdown",
      "source": [
        "#### **f. Input: Best Correlating Categorical Features Obtained by Mutual Information**<a class = \"anchor\" id = \"Xb_f\"></a>"
      ],
      "metadata": {
        "editable": false,
        "id": "74bLkrRXQoc-"
      }
    },
    {
      "cell_type": "code",
      "source": [
        "# assigning the parameter grid into the model\n",
        "RFMI = GridSearchCV(estimator = rf,\n",
        "                    param_grid = parameter_grid,\n",
        "                    n_jobs = 8,\n",
        "                    cv = 3,\n",
        "                    verbose = -1)\n",
        "\n",
        "# assigning the data from Subtrain dataframe into the model\n",
        "RFMI.fit(X_subtrain[fsubsetMI], y_subtrain)"
      ],
      "metadata": {
        "execution": {
          "iopub.status.busy": "2022-11-25T14:40:07.966115Z",
          "iopub.execute_input": "2022-11-25T14:40:07.96666Z",
          "iopub.status.idle": "2022-11-25T14:41:49.251341Z",
          "shell.execute_reply.started": "2022-11-25T14:40:07.96663Z",
          "shell.execute_reply": "2022-11-25T14:41:49.24988Z"
        },
        "editable": false,
        "trusted": true,
        "id": "jd1l8dNmQoc-"
      },
      "execution_count": null,
      "outputs": []
    },
    {
      "cell_type": "code",
      "source": [
        "# best subset of parameters obtained from Grid Search CV\n",
        "RFMIBestParam = RFMI.best_params_\n",
        "RFMIBestParam"
      ],
      "metadata": {
        "execution": {
          "iopub.status.busy": "2022-11-25T14:41:49.253127Z",
          "iopub.execute_input": "2022-11-25T14:41:49.253506Z",
          "iopub.status.idle": "2022-11-25T14:41:49.262394Z",
          "shell.execute_reply.started": "2022-11-25T14:41:49.253478Z",
          "shell.execute_reply": "2022-11-25T14:41:49.260771Z"
        },
        "editable": false,
        "trusted": true,
        "id": "S-FLrYU5Qoc_"
      },
      "execution_count": null,
      "outputs": []
    },
    {
      "cell_type": "code",
      "source": [
        "# setting up the model using the best subset of parameters\n",
        "RFClassifier = RandomForestClassifier(**RFMIBestParam)\n",
        "\n",
        "# fitting the data from Subtrain dataframe into the model\n",
        "RFClassifier.fit(X_subtrain[fsubsetMI], y_subtrain)\n",
        "\n",
        "# predicting the Credit_Score in Subtest dataframe\n",
        "RFMIPred = RFClassifier.predict(X_subtest[fsubsetMI])\n",
        "\n",
        "# getting the accuracy of the model\n",
        "RFMIAcc = accuracy_score(y_subtest, RFMIPred)\n",
        "\n",
        "# model accuracy report\n",
        "print('Subset of features : fsubsetMI')\n",
        "print('Random Forest Classifier model accuracy: {:.2f}%'.format(RFMIAcc*100))"
      ],
      "metadata": {
        "execution": {
          "iopub.status.busy": "2022-11-25T14:41:49.264776Z",
          "iopub.execute_input": "2022-11-25T14:41:49.265229Z",
          "iopub.status.idle": "2022-11-25T14:41:50.293671Z",
          "shell.execute_reply.started": "2022-11-25T14:41:49.26519Z",
          "shell.execute_reply": "2022-11-25T14:41:50.292205Z"
        },
        "editable": false,
        "trusted": true,
        "id": "0lcuHPs0Qoc_"
      },
      "execution_count": null,
      "outputs": []
    },
    {
      "cell_type": "markdown",
      "source": [
        "#### **g. Input: All Best Correlating Features and Boolean Features**<a class = \"anchor\" id = \"Xb_g\"></a>"
      ],
      "metadata": {
        "editable": false,
        "id": "YZRFKA8VQoc_"
      }
    },
    {
      "cell_type": "code",
      "source": [
        "# assigning the parameter grid into the model\n",
        "RFComplete = GridSearchCV(estimator = rf,\n",
        "                          param_grid = parameter_grid,\n",
        "                          n_jobs = 8,\n",
        "                          cv = 3,\n",
        "                          verbose = -1)\n",
        "\n",
        "# assigning the data into the random model\n",
        "RFComplete.fit(X_subtrain[fsubsetComplete], y_subtrain)"
      ],
      "metadata": {
        "execution": {
          "iopub.status.busy": "2022-11-25T14:41:50.295763Z",
          "iopub.execute_input": "2022-11-25T14:41:50.296224Z",
          "iopub.status.idle": "2022-11-25T14:49:52.861438Z",
          "shell.execute_reply.started": "2022-11-25T14:41:50.296187Z",
          "shell.execute_reply": "2022-11-25T14:49:52.86018Z"
        },
        "editable": false,
        "trusted": true,
        "id": "x-K9DZ3CQoc_"
      },
      "execution_count": null,
      "outputs": []
    },
    {
      "cell_type": "code",
      "source": [
        "# best subset of parameters obtained from Grid Search CV\n",
        "RFCompleteBestParam = RFComplete.best_params_\n",
        "RFCompleteBestParam"
      ],
      "metadata": {
        "execution": {
          "iopub.status.busy": "2022-11-25T14:49:52.862733Z",
          "iopub.execute_input": "2022-11-25T14:49:52.863095Z",
          "iopub.status.idle": "2022-11-25T14:49:52.87149Z",
          "shell.execute_reply.started": "2022-11-25T14:49:52.863068Z",
          "shell.execute_reply": "2022-11-25T14:49:52.870292Z"
        },
        "editable": false,
        "trusted": true,
        "id": "J-T3FmlRQoc_"
      },
      "execution_count": null,
      "outputs": []
    },
    {
      "cell_type": "code",
      "source": [
        "# setting up the model using the best subset of parameters\n",
        "RFClassifier = RandomForestClassifier(**RFCompleteBestParam)\n",
        "\n",
        "# fitting the data from Subtrain dataframe into the model\n",
        "RFClassifier.fit(X_subtrain[fsubsetComplete], y_subtrain)\n",
        "\n",
        "# predicting the Credit_Score in Subtest dataframe\n",
        "RFCompletePred = RFClassifier.predict(X_subtest[fsubsetComplete])\n",
        "\n",
        "# getting the accuracy of the model\n",
        "RFCompleteAcc = accuracy_score(y_subtest, RFCompletePred)\n",
        "\n",
        "# model accuracy report\n",
        "print('Subset of features : fsubsetComplete')\n",
        "print('Random Forest Classifier model accuracy: {:.2f}%'.format(RFCompleteAcc*100))"
      ],
      "metadata": {
        "execution": {
          "iopub.status.busy": "2022-11-25T14:49:52.873826Z",
          "iopub.execute_input": "2022-11-25T14:49:52.87423Z",
          "iopub.status.idle": "2022-11-25T14:50:11.410041Z",
          "shell.execute_reply.started": "2022-11-25T14:49:52.874144Z",
          "shell.execute_reply": "2022-11-25T14:50:11.408495Z"
        },
        "editable": false,
        "trusted": true,
        "id": "UWhyUDnvQoc_"
      },
      "execution_count": null,
      "outputs": []
    },
    {
      "cell_type": "markdown",
      "source": [
        "#### **h. Random Forest Model Accuracy Report**<a class = \"anchor\" id = \"Xb_h\"></a>"
      ],
      "metadata": {
        "editable": false,
        "id": "chVpEhbTQoc_"
      }
    },
    {
      "cell_type": "markdown",
      "source": [
        "##### **Preparing the variables for the report**"
      ],
      "metadata": {
        "editable": false,
        "id": "73CTulrHQoc_"
      }
    },
    {
      "cell_type": "code",
      "source": [
        "# creating a dictionary containing subset of features name and their content\n",
        "InputDict = {'fsubsetNumCat': fsubsetNumCat,\n",
        "             'fsubsetANOVAf': fsubsetANOVA,\n",
        "             'fsubsetKendall': fsubsetKendall,\n",
        "             'fsubsetChi': fsubsetChi,\n",
        "             'fsubsetMI': fsubsetMI,\n",
        "             'fsubsetComplete': fsubsetComplete}\n",
        "\n",
        "# storing the subset of features names into a list\n",
        "listInputName = list(InputDict.keys())"
      ],
      "metadata": {
        "execution": {
          "iopub.status.busy": "2022-11-25T14:50:11.411285Z",
          "iopub.execute_input": "2022-11-25T14:50:11.41171Z",
          "iopub.status.idle": "2022-11-25T14:50:11.421424Z",
          "shell.execute_reply.started": "2022-11-25T14:50:11.411676Z",
          "shell.execute_reply": "2022-11-25T14:50:11.419935Z"
        },
        "editable": false,
        "trusted": true,
        "id": "gzAi5t-0Qoc_"
      },
      "execution_count": null,
      "outputs": []
    },
    {
      "cell_type": "code",
      "source": [
        "# storing the best subset of parameters dictionaries in a list\n",
        "listBestParam = [RFNumCatBestParam,\n",
        "                 RFANOVABestParam,\n",
        "                 RFKendallBestParam,\n",
        "                 RFChiBestParam,\n",
        "                 RFMIBestParam,\n",
        "                 RFCompleteBestParam]\n",
        "\n",
        "# creating empty lists to store each model input's best parameters\n",
        "listCriterion = []\n",
        "listMaxDepth = []\n",
        "listMaxFeatures = []\n",
        "listMinSamplesLeaf = []\n",
        "listNEstimators = []\n",
        "\n",
        "# storing each model input's best parameters in a list\n",
        "for subset in listBestParam:\n",
        "    listCriterion.append(subset['criterion'])\n",
        "    listMaxDepth.append(subset['max_depth'])\n",
        "    listMaxFeatures.append(subset['max_features'])\n",
        "    listMinSamplesLeaf.append(subset['min_samples_leaf'])\n",
        "    listNEstimators.append(subset['n_estimators'])"
      ],
      "metadata": {
        "execution": {
          "iopub.status.busy": "2022-11-25T14:50:11.42335Z",
          "iopub.execute_input": "2022-11-25T14:50:11.423706Z",
          "iopub.status.idle": "2022-11-25T14:50:11.431573Z",
          "shell.execute_reply.started": "2022-11-25T14:50:11.42368Z",
          "shell.execute_reply": "2022-11-25T14:50:11.430512Z"
        },
        "editable": false,
        "trusted": true,
        "id": "PwORmqU2Qoc_"
      },
      "execution_count": null,
      "outputs": []
    },
    {
      "cell_type": "code",
      "source": [
        "# storing the accuracy of the models in a list\n",
        "listAcc = [RFNumCatAcc,\n",
        "           RFANOVAAcc,\n",
        "           RFKendallAcc,\n",
        "           RFChiAcc,\n",
        "           RFMIAcc,\n",
        "           RFCompleteAcc]"
      ],
      "metadata": {
        "execution": {
          "iopub.status.busy": "2022-11-25T14:50:11.432701Z",
          "iopub.execute_input": "2022-11-25T14:50:11.434007Z",
          "iopub.status.idle": "2022-11-25T14:50:11.44466Z",
          "shell.execute_reply.started": "2022-11-25T14:50:11.433855Z",
          "shell.execute_reply": "2022-11-25T14:50:11.442988Z"
        },
        "editable": false,
        "trusted": true,
        "id": "6SFdzVJMQodA"
      },
      "execution_count": null,
      "outputs": []
    },
    {
      "cell_type": "markdown",
      "source": [
        "##### **Displaying the Random Forest models accuracy report**"
      ],
      "metadata": {
        "editable": false,
        "id": "INCZhVVFQodA"
      }
    },
    {
      "cell_type": "code",
      "source": [
        "# creating the Random Forest models accuracy report table\n",
        "RFReport = pd.DataFrame({'Input': listInputName,\n",
        "                         'Criterion': listCriterion,\n",
        "                         'Max Depth': listMaxDepth,\n",
        "                         'Max Features': listMaxFeatures,\n",
        "                         'Min Samples Leaf': listMinSamplesLeaf,\n",
        "                         'N Estimators': listNEstimators,\n",
        "                         'Accuracy': listAcc})\n",
        "RFReport = RFReport.replace({np.nan: None})\n",
        "\n",
        "# displaying the tabular report\n",
        "print(colored('Random Forest Models Accuracy Report Table', attrs = ['bold']))\n",
        "display(RFReport)\n",
        "print('\\n')\n",
        "\n",
        "# displaying the bar plot data visualization\n",
        "fig = plt.subplots(figsize = (10, 4))\n",
        "plt.bar(RFReport['Input'],\n",
        "        RFReport['Accuracy'],\n",
        "        color = 'lightblue')\n",
        "plt.title('Report Table: Random Forest Models Accuracy Using Various Subsets of Features')\n",
        "plt.xlabel('Subset of Features')\n",
        "plt.ylabel('Random Forest Model Accuracy')\n",
        "plt.ylim(0, 1)\n",
        "plt.show()\n",
        "print('\\n')\n",
        "\n",
        "# displaying the conclusion\n",
        "bestInput = RFReport['Input'][RFReport['Accuracy'] == max(RFReport['Accuracy'])].item()\n",
        "print('Best subset of features as the Random Forest model input :', colored(bestInput, attrs = ['bold']))"
      ],
      "metadata": {
        "execution": {
          "iopub.status.busy": "2022-11-25T14:50:11.447053Z",
          "iopub.execute_input": "2022-11-25T14:50:11.447374Z",
          "iopub.status.idle": "2022-11-25T14:50:11.615629Z",
          "shell.execute_reply.started": "2022-11-25T14:50:11.447344Z",
          "shell.execute_reply": "2022-11-25T14:50:11.614801Z"
        },
        "editable": false,
        "trusted": true,
        "id": "9JjR-q-BQodA"
      },
      "execution_count": null,
      "outputs": []
    },
    {
      "cell_type": "markdown",
      "source": [
        "#### **i. Random Forest Model Overfitting Test**<a class = \"anchor\" id = \"Xb_i\"></a>"
      ],
      "metadata": {
        "editable": false,
        "id": "sXrbPs8bQodA"
      }
    },
    {
      "cell_type": "markdown",
      "source": [
        "##### **Recalling the best subset of features and parameters**"
      ],
      "metadata": {
        "editable": false,
        "id": "RRIiMrMLQodA"
      }
    },
    {
      "cell_type": "code",
      "source": [
        "# recalling the best subset of features as the model input\n",
        "ModelInput = InputDict[bestInput]\n",
        "print('Best subset of features :', bestInput, '\\n' * 2, 'Features :',)\n",
        "ModelInput"
      ],
      "metadata": {
        "execution": {
          "iopub.status.busy": "2022-11-25T14:50:11.61672Z",
          "iopub.execute_input": "2022-11-25T14:50:11.617591Z",
          "iopub.status.idle": "2022-11-25T14:50:11.626121Z",
          "shell.execute_reply.started": "2022-11-25T14:50:11.617558Z",
          "shell.execute_reply": "2022-11-25T14:50:11.624661Z"
        },
        "editable": false,
        "trusted": true,
        "id": "jW--OCxNQodA"
      },
      "execution_count": null,
      "outputs": []
    },
    {
      "cell_type": "code",
      "source": [
        "# recalling the subset of parameters\n",
        "ParamSubset = RFReport[RFReport['Input'] == bestInput]\n",
        "ParamSubset = {'criterion': ParamSubset.iat[0, 1],\n",
        "               'max_depth': ParamSubset.iat[0, 2],\n",
        "               'max_features': ParamSubset.iat[0, 3],\n",
        "               'min_samples_leaf': ParamSubset.iat[0, 4],\n",
        "               'n_estimators': ParamSubset.iat[0, 5]}\n",
        "print('Best Subset of parameters :')\n",
        "ParamSubset"
      ],
      "metadata": {
        "execution": {
          "iopub.status.busy": "2022-11-25T14:50:11.627877Z",
          "iopub.execute_input": "2022-11-25T14:50:11.628251Z",
          "iopub.status.idle": "2022-11-25T14:50:11.641286Z",
          "shell.execute_reply.started": "2022-11-25T14:50:11.628225Z",
          "shell.execute_reply": "2022-11-25T14:50:11.640245Z"
        },
        "editable": false,
        "trusted": true,
        "id": "ETDDzw2VQodA"
      },
      "execution_count": null,
      "outputs": []
    },
    {
      "cell_type": "markdown",
      "source": [
        "##### **Overfitting Test**"
      ],
      "metadata": {
        "editable": false,
        "id": "3YVF-DL1QodA"
      }
    },
    {
      "cell_type": "code",
      "source": [
        "# setting up the model using the previous setup\n",
        "RFClassifier = RandomForestClassifier(**ParamSubset)\n",
        "\n",
        "# fitting the data from Subtrain dataframe into the model\n",
        "RFClassifier.fit(X_subtrain[ModelInput], y_subtrain)\n",
        "\n",
        "# predicting the Credit_Score in Subtest dataframe\n",
        "RFCompletePredSubtest = RFClassifier.predict(X_subtest[ModelInput])\n",
        "\n",
        "# getting the accuracy of the model when using Subtest dataframe\n",
        "RFCompleteAccSubtest = accuracy_score(y_subtest, RFCompletePredSubtest)\n",
        "\n",
        "# model accuracy using Subtest dataframe\n",
        "print('Data : Subtest')\n",
        "print('Random Forest Classifier model accuracy: {:.2f}%'.format(RFCompleteAccSubtest*100), '\\n')\n",
        "\n",
        "# predicting the Credit_Score in Subtrain dataframe\n",
        "RFCompletePredSubtrain = RFClassifier.predict(X_subtrain[ModelInput])\n",
        "\n",
        "# getting the accuracy of the model when being tested against Subtrain dataframe\n",
        "RFCompleteAccSubtrain = accuracy_score(y_subtrain, RFCompletePredSubtrain)\n",
        "\n",
        "# model accuracy when reusing Subtrain dataframe\n",
        "print('Data : Subtrain')\n",
        "print('Random Forest Classifier model accuracy: {:.2f}%'.format(RFCompleteAccSubtrain*100))"
      ],
      "metadata": {
        "execution": {
          "iopub.status.busy": "2022-11-25T14:50:11.642505Z",
          "iopub.execute_input": "2022-11-25T14:50:11.643163Z",
          "iopub.status.idle": "2022-11-25T14:50:31.908827Z",
          "shell.execute_reply.started": "2022-11-25T14:50:11.643135Z",
          "shell.execute_reply": "2022-11-25T14:50:31.90711Z"
        },
        "editable": false,
        "trusted": true,
        "id": "0o95-FYqQodA"
      },
      "execution_count": null,
      "outputs": []
    },
    {
      "cell_type": "markdown",
      "source": [
        "By letting the model to learn the Subtrain dataframe using the subset of parameters obtained previously from the GridSearchCV, the model returns an accuracy value of 70-80% when it predicts the Subtest dataframe. When the model is told to predict the Subtrain dataframe once more, it returns an accuracy value of 95%+. **This large prediction accuracy difference indicates an occurence of overfitting in the model**. Overfitting is clearly an issue, especially when we are going to try predicting unseen data later in the Test dataframe, predicting the Credit_Score value for each customer from September until December. Let's tune the parameter once again and see if we can handle this situation."
      ],
      "metadata": {
        "editable": false,
        "id": "s30qaY1KQodA"
      }
    },
    {
      "cell_type": "markdown",
      "source": [
        "#### **j. Random Forest Parameter Tuning**<a class = \"anchor\" id = \"Xb_j\"></a>"
      ],
      "metadata": {
        "editable": false,
        "id": "n3zmeK7WQodB"
      }
    },
    {
      "cell_type": "markdown",
      "source": [
        "##### **Checking how the variation of max_depth parameter affects the accuracy of the RF model**"
      ],
      "metadata": {
        "editable": false,
        "id": "A4QcbRpPQodB"
      }
    },
    {
      "cell_type": "code",
      "source": [
        "# creating empty lists to store the accuracy results\n",
        "acctest = []\n",
        "acctrain = []\n",
        "\n",
        "# creating the max_depth parameter iteration list\n",
        "iteration = [i for i in range(1, 30, 3)]\n",
        "\n",
        "# creating a reset point for max_depth parameter\n",
        "MaxDepthReset = ParamSubset['max_depth']\n",
        "\n",
        "# iterating the max_depth parameter in the Random Forest model\n",
        "for i in iteration:\n",
        "    # iterating the max_depth parameter\n",
        "    ParamSubset['max_depth'] = i\n",
        "    \n",
        "    # fitting the subset of parameters into the Random Forest model\n",
        "    RFClassifier = RandomForestClassifier(**ParamSubset)\n",
        "\n",
        "    # fitting the data from Subtrain dataframe into the model\n",
        "    RFClassifier.fit(X_subtrain[ModelInput], y_subtrain)\n",
        "\n",
        "    # predicting the Credit_Score in Subtest dataframe\n",
        "    RFpred = RFClassifier.predict(X_subtest[ModelInput])\n",
        "\n",
        "    # getting the accuracy of the model using Subtest dataframe\n",
        "    accComplete = RFClassifier.score(X_subtest[ModelInput], y_subtest)\n",
        "    acctest.append(accComplete)\n",
        "    \n",
        "    # re-predicting the Credit_Score in Subtrain dataframe\n",
        "    RFpred2 = RFClassifier.predict(X_subtrain[ModelInput])\n",
        "   \n",
        "    # getting the accuracy of the model when reusing Subtrain dataframe\n",
        "    accComplete2 = RFClassifier.score(X_subtrain[ModelInput], y_subtrain)\n",
        "    acctrain.append(accComplete2)"
      ],
      "metadata": {
        "execution": {
          "iopub.status.busy": "2022-11-25T14:50:31.910304Z",
          "iopub.execute_input": "2022-11-25T14:50:31.910724Z",
          "iopub.status.idle": "2022-11-25T14:53:16.514567Z",
          "shell.execute_reply.started": "2022-11-25T14:50:31.910691Z",
          "shell.execute_reply": "2022-11-25T14:53:16.513051Z"
        },
        "editable": false,
        "trusted": true,
        "id": "jnFbrVHWQodB"
      },
      "execution_count": null,
      "outputs": []
    },
    {
      "cell_type": "code",
      "source": [
        "# creating the report\n",
        "RFoverfittest = pd.DataFrame({'Max Depth': iteration,\n",
        "                              'Accuracy using Subtest': acctest,\n",
        "                              'Accuracy using Subtrain': acctrain})\n",
        "display(RFoverfittest)\n",
        "\n",
        "# displaying the accuracy test\n",
        "fig = plt.subplots(figsize = (5, 5))\n",
        "plt.plot(iteration, acctrain, label = 'subtrain')\n",
        "plt.plot(iteration, acctest, label = 'subtest')\n",
        "plt.plot([10, 10], [0, 1], label = 'max_depth stop')\n",
        "plt.title('Effect of Using Various Max_Depth Parameter')\n",
        "plt.xlabel('Max_Depth Value')\n",
        "plt.ylabel('Accuracy')\n",
        "plt.ylim(0, 1)\n",
        "plt.legend()\n",
        "plt.show()"
      ],
      "metadata": {
        "execution": {
          "iopub.status.busy": "2022-11-25T14:53:16.516035Z",
          "iopub.execute_input": "2022-11-25T14:53:16.516292Z",
          "iopub.status.idle": "2022-11-25T14:53:16.669968Z",
          "shell.execute_reply.started": "2022-11-25T14:53:16.516269Z",
          "shell.execute_reply": "2022-11-25T14:53:16.66877Z"
        },
        "editable": false,
        "trusted": true,
        "id": "zvfoWgJJQodB"
      },
      "execution_count": null,
      "outputs": []
    },
    {
      "cell_type": "code",
      "source": [
        "# resetting the max_depth parameter in ParamSubset\n",
        "ParamSubset = RFReport[RFReport['Input'] == bestInput]\n",
        "ParamSubset = {'criterion': ParamSubset.iat[0, 1],\n",
        "               'max_depth': ParamSubset.iat[0, 2],\n",
        "               'max_features': ParamSubset.iat[0, 3],\n",
        "               'min_samples_leaf': ParamSubset.iat[0, 4],\n",
        "               'n_estimators': ParamSubset.iat[0, 5]}"
      ],
      "metadata": {
        "execution": {
          "iopub.status.busy": "2022-11-25T14:53:16.671997Z",
          "iopub.execute_input": "2022-11-25T14:53:16.672504Z",
          "iopub.status.idle": "2022-11-25T14:53:16.680633Z",
          "shell.execute_reply.started": "2022-11-25T14:53:16.672453Z",
          "shell.execute_reply": "2022-11-25T14:53:16.679176Z"
        },
        "editable": false,
        "trusted": true,
        "id": "EqVcrzTOQodB"
      },
      "execution_count": null,
      "outputs": []
    },
    {
      "cell_type": "markdown",
      "source": [
        "##### **Checking how the variation of min_samples_leaf parameter affects the accuracy of the RF model**"
      ],
      "metadata": {
        "editable": false,
        "id": "Re6sqTqvQodB"
      }
    },
    {
      "cell_type": "code",
      "source": [
        "# creating empty lists to store the accuracy results\n",
        "acctest = []\n",
        "acctrain = []\n",
        "\n",
        "# creating the min_samples_leaf parameter iteration list\n",
        "iteration = [1, 5, 10, 15, 20, 25, 30, 35, 40, 45, 50]\n",
        "\n",
        "# preparing the subset of parameters\n",
        "ParamSubsetCopy2 = ParamSubset\n",
        "ParamSubsetIteration = ParamSubsetCopy2\n",
        "\n",
        "# iterating the max_depth parameter in the Random Forest model\n",
        "for i in iteration:\n",
        "    # iterating the max_depth parameter\n",
        "    ParamSubsetIteration['min_samples_leaf'] = i\n",
        "    \n",
        "    # fitting the subset of parameters into the Random Forest model\n",
        "    RFClassifier = RandomForestClassifier(**ParamSubsetIteration)\n",
        "\n",
        "    # fitting the data from Subtrain dataframe into the model\n",
        "    RFClassifier.fit(X_subtrain[ModelInput], y_subtrain)\n",
        "\n",
        "    # predicting the Credit_Score in Subtest dataframe\n",
        "    RFpred = RFClassifier.predict(X_subtest[ModelInput])\n",
        "\n",
        "    # getting the accuracy of the model using Subtest dataframe\n",
        "    accComplete = RFClassifier.score(X_subtest[ModelInput], y_subtest)\n",
        "    acctest.append(accComplete)\n",
        "    \n",
        "    # re-predicting the Credit_Score in Subtrain dataframe\n",
        "    RFpred2 = RFClassifier.predict(X_subtrain[ModelInput])\n",
        "   \n",
        "    # getting the accuracy of the model when reusing Subtrain dataframe\n",
        "    accComplete2 = RFClassifier.score(X_subtrain[ModelInput], y_subtrain)\n",
        "    acctrain.append(accComplete2)"
      ],
      "metadata": {
        "execution": {
          "iopub.status.busy": "2022-11-25T14:53:16.682451Z",
          "iopub.execute_input": "2022-11-25T14:53:16.684482Z",
          "iopub.status.idle": "2022-11-25T14:56:51.474067Z",
          "shell.execute_reply.started": "2022-11-25T14:53:16.684353Z",
          "shell.execute_reply": "2022-11-25T14:56:51.472688Z"
        },
        "editable": false,
        "trusted": true,
        "id": "anYYZf-dQodB"
      },
      "execution_count": null,
      "outputs": []
    },
    {
      "cell_type": "code",
      "source": [
        "# creating the report\n",
        "RFoverfittest = pd.DataFrame({'Min Samples Leaf': iteration,\n",
        "                              'Accuracy using Subtest': acctest,\n",
        "                              'Accuracy using Subtrain': acctrain})\n",
        "display(RFoverfittest)\n",
        "\n",
        "# displaying the accuracy test\n",
        "fig = plt.subplots(figsize = (5, 5))\n",
        "plt.plot(iteration, acctrain, label = 'subtrain')\n",
        "plt.plot(iteration, acctest, label = 'subtest')\n",
        "plt.plot([30, 30], [0, 1], label = 'min_samples_leaf stop')\n",
        "plt.title('Effect of Using Various Min_Sample_Leaf Parameter')\n",
        "plt.xlabel('Min_Sample_Leaf Value')\n",
        "plt.ylabel('Accuracy')\n",
        "plt.ylim(0, 1)\n",
        "plt.legend()\n",
        "plt.show()"
      ],
      "metadata": {
        "execution": {
          "iopub.status.busy": "2022-11-25T14:56:51.475835Z",
          "iopub.execute_input": "2022-11-25T14:56:51.476144Z",
          "iopub.status.idle": "2022-11-25T14:56:51.635247Z",
          "shell.execute_reply.started": "2022-11-25T14:56:51.476116Z",
          "shell.execute_reply": "2022-11-25T14:56:51.634166Z"
        },
        "editable": false,
        "trusted": true,
        "id": "PpLilDnJQodB"
      },
      "execution_count": null,
      "outputs": []
    },
    {
      "cell_type": "code",
      "source": [
        "# resetting the max_depth parameter in ParamSubset\n",
        "ParamSubset = RFReport[RFReport['Input'] == bestInput]\n",
        "ParamSubset = {'criterion': ParamSubset.iat[0, 1],\n",
        "               'max_depth': ParamSubset.iat[0, 2],\n",
        "               'max_features': ParamSubset.iat[0, 3],\n",
        "               'min_samples_leaf': ParamSubset.iat[0, 4],\n",
        "               'n_estimators': ParamSubset.iat[0, 5]}"
      ],
      "metadata": {
        "execution": {
          "iopub.status.busy": "2022-11-25T14:56:51.636635Z",
          "iopub.execute_input": "2022-11-25T14:56:51.637518Z",
          "iopub.status.idle": "2022-11-25T14:56:51.644725Z",
          "shell.execute_reply.started": "2022-11-25T14:56:51.637487Z",
          "shell.execute_reply": "2022-11-25T14:56:51.643669Z"
        },
        "editable": false,
        "trusted": true,
        "id": "PWTK2cZpQodB"
      },
      "execution_count": null,
      "outputs": []
    },
    {
      "cell_type": "markdown",
      "source": [
        "#### **k. Refitting the Random Forest model using the tuned parameters**<a class = \"anchor\" id = \"Xb_k\"></a>"
      ],
      "metadata": {
        "editable": false,
        "id": "9KSKaU53QodC"
      }
    },
    {
      "cell_type": "markdown",
      "source": [
        "##### **Updating the subset of parameters**"
      ],
      "metadata": {
        "editable": false,
        "id": "XqNk1cx6QodC"
      }
    },
    {
      "cell_type": "code",
      "source": [
        "# updating the subset of parameters using the last tuned max_depth and min_samples_leaf parameters\n",
        "ParamSubset['max_depth'] = 10\n",
        "ParamSubset['min_samples_leaf']= 30"
      ],
      "metadata": {
        "execution": {
          "iopub.status.busy": "2022-11-25T14:56:51.646399Z",
          "iopub.execute_input": "2022-11-25T14:56:51.648101Z",
          "iopub.status.idle": "2022-11-25T14:56:51.659679Z",
          "shell.execute_reply.started": "2022-11-25T14:56:51.648021Z",
          "shell.execute_reply": "2022-11-25T14:56:51.658068Z"
        },
        "editable": false,
        "trusted": true,
        "id": "8uo8pehBQodC"
      },
      "execution_count": null,
      "outputs": []
    },
    {
      "cell_type": "code",
      "source": [
        "# fitting the subset of parameters into the Random Forest model\n",
        "RFClassifier = RandomForestClassifier(**ParamSubset)\n",
        "\n",
        "# fitting the data from Subtrain dataframe into the model\n",
        "RFClassifier.fit(X_subtrain[ModelInput], y_subtrain)\n",
        "\n",
        "# predicting the Credit_Score in Subtest dataframe\n",
        "RFPredSubtest = RFClassifier.predict(X_subtest[ModelInput])\n",
        "\n",
        "# getting the accuracy of the model using Subtest dataframe\n",
        "RFAccSubtest = accuracy_score(y_subtest, RFPredSubtest)\n",
        "\n",
        "# accuracy report using Subtest dataframe\n",
        "print('Random Forest Classifier model accuracy using test dataset: {:.2f}%'.format(RFAccSubtest*100))\n",
        "\n",
        "# re-predicting the Credit_Score in Subtrain dataframe\n",
        "RFPredSubtrain = RFClassifier.predict(X_subtrain[ModelInput])\n",
        "\n",
        "# getting the accuracy of the model when being tested against Subtrain dataframe\n",
        "RFAccSubtrain = accuracy_score(y_subtrain, RFPredSubtrain)\n",
        "\n",
        "# getting the accuracy of the model when reusing Subtrain dataframe\n",
        "accComplete2 = RFClassifier.score(X_subtrain[fsubsetComplete], y_subtrain)\n",
        "print('Random Forest Classifier model accuracy using train dataset: {:.2f}%'.format(accComplete2*100))"
      ],
      "metadata": {
        "execution": {
          "iopub.status.busy": "2022-11-25T14:56:51.661426Z",
          "iopub.execute_input": "2022-11-25T14:56:51.663154Z",
          "iopub.status.idle": "2022-11-25T14:57:05.045057Z",
          "shell.execute_reply.started": "2022-11-25T14:56:51.663107Z",
          "shell.execute_reply": "2022-11-25T14:57:05.043369Z"
        },
        "editable": false,
        "trusted": true,
        "id": "9YkGBqGVQodC"
      },
      "execution_count": null,
      "outputs": []
    },
    {
      "cell_type": "markdown",
      "source": [
        "The accuracy of the model when fed with Subtest and Subtrain dataframes is now similar. Although the accuracy of the Random Forest model is now decreased compared to the first one developed, in a sense this updated model is still better, because now the model with the updated parameters shows a consistent accuracy on both the Subtrain dataframe, which it learns from, and the Subtest dataframe. This means that the model is now more likely in tune between how it learns a dataframe and how it interprets unseen data."
      ],
      "metadata": {
        "editable": false,
        "id": "ySRRt333QodC"
      }
    },
    {
      "cell_type": "markdown",
      "source": [
        "## **XI. Predicting the Credit_Score in Test Dataframe**<a class = \"anchor\" id = \"XI\"></a>"
      ],
      "metadata": {
        "editable": false,
        "id": "ac6fuEmXQodC"
      }
    },
    {
      "cell_type": "markdown",
      "source": [
        "### **XIa. Preparing the Test Dataframe**<a class = \"anchor\" id = \"XIa\"></a>"
      ],
      "metadata": {
        "editable": false,
        "id": "GuwMj5WeQodC"
      }
    },
    {
      "cell_type": "markdown",
      "source": [
        "Before feeding the Test dataframe into the model, we first need to encode the categorical features, so that the data can be processed by the model."
      ],
      "metadata": {
        "editable": false,
        "id": "Dr6o2CpGQodC"
      }
    },
    {
      "cell_type": "code",
      "source": [
        "# encoding, storing the mappings, and transforming the categorical features in Test dataframe\n",
        "EncodeDict = {}\n",
        "for feature in testCat:\n",
        "    enc.fit(test[feature])\n",
        "    classes = list(enc.classes_)\n",
        "    codes = list(enc.transform(list(enc.classes_)))\n",
        "    EncodeDict[feature] = pd.DataFrame(list(zip(classes, codes)))\n",
        "    EncodeDict[feature].columns = ('Classes', 'Codes')\n",
        "    test[feature] = enc.transform(test[feature])"
      ],
      "metadata": {
        "execution": {
          "iopub.status.busy": "2022-11-25T14:57:05.046748Z",
          "iopub.execute_input": "2022-11-25T14:57:05.047069Z",
          "iopub.status.idle": "2022-11-25T14:57:05.134756Z",
          "shell.execute_reply.started": "2022-11-25T14:57:05.047042Z",
          "shell.execute_reply": "2022-11-25T14:57:05.133447Z"
        },
        "editable": false,
        "trusted": true,
        "id": "5O0KMNIYQodC"
      },
      "execution_count": null,
      "outputs": []
    },
    {
      "cell_type": "markdown",
      "source": [
        "### **XIb. Building and Applying the Random Forest Model**<a class = \"anchor\" id = \"XIb\"></a>"
      ],
      "metadata": {
        "editable": false,
        "id": "UbL5111DQodC"
      }
    },
    {
      "cell_type": "markdown",
      "source": [
        "We are now going to predict the Credit_Score of the Test dataframe using the model that has been developed."
      ],
      "metadata": {
        "editable": false,
        "id": "sZ3yfMNdQodC"
      }
    },
    {
      "cell_type": "code",
      "source": [
        "# setting up the model using the previous setup\n",
        "RFClassifier = RandomForestClassifier(**ParamSubset)"
      ],
      "metadata": {
        "execution": {
          "iopub.status.busy": "2022-11-25T14:57:05.136028Z",
          "iopub.execute_input": "2022-11-25T14:57:05.136297Z",
          "iopub.status.idle": "2022-11-25T14:57:05.141825Z",
          "shell.execute_reply.started": "2022-11-25T14:57:05.136273Z",
          "shell.execute_reply": "2022-11-25T14:57:05.140416Z"
        },
        "editable": false,
        "trusted": true,
        "id": "mSXHqKtuQodD"
      },
      "execution_count": null,
      "outputs": []
    },
    {
      "cell_type": "markdown",
      "source": [
        "Let's feed the Test dataframe into the model, so that the Credit_Score can then be predicted and the result exported."
      ],
      "metadata": {
        "editable": false,
        "id": "n_tNPL93QodD"
      }
    },
    {
      "cell_type": "code",
      "source": [
        "# fitting the Subtrain data into the model\n",
        "RFClassifier.fit(X_subtrain[ModelInput], y_subtrain)\n",
        "\n",
        "# predicting the Credit_Score for the Test dataframe\n",
        "RFPred = RFClassifier.predict(test[ModelInput])"
      ],
      "metadata": {
        "execution": {
          "iopub.status.busy": "2022-11-25T14:57:05.143275Z",
          "iopub.execute_input": "2022-11-25T14:57:05.143604Z",
          "iopub.status.idle": "2022-11-25T14:57:19.8199Z",
          "shell.execute_reply.started": "2022-11-25T14:57:05.143578Z",
          "shell.execute_reply": "2022-11-25T14:57:19.818647Z"
        },
        "editable": false,
        "trusted": true,
        "id": "WbFYwetdQodD"
      },
      "execution_count": null,
      "outputs": []
    },
    {
      "cell_type": "code",
      "source": [
        "# appending the classification result into the Test dataframe\n",
        "test['Credit_Score'] = RFPred"
      ],
      "metadata": {
        "execution": {
          "iopub.status.busy": "2022-11-25T14:57:19.821202Z",
          "iopub.execute_input": "2022-11-25T14:57:19.82156Z",
          "iopub.status.idle": "2022-11-25T14:57:19.827353Z",
          "shell.execute_reply.started": "2022-11-25T14:57:19.821531Z",
          "shell.execute_reply": "2022-11-25T14:57:19.825876Z"
        },
        "editable": false,
        "trusted": true,
        "id": "6CXTtHjIQodD"
      },
      "execution_count": null,
      "outputs": []
    },
    {
      "cell_type": "markdown",
      "source": [
        "### **XIc. Finalizing the Test Dataframe**<a class = \"anchor\" id = \"XIc\"></a>"
      ],
      "metadata": {
        "editable": false,
        "id": "LWZrSNQ4QodD"
      }
    },
    {
      "cell_type": "markdown",
      "source": [
        "The Credit_Score feature in the Test dataframe has been successfully predicted. However, this Credit_Score and all of the categorical features are still in their encoded form and need to be transformed back to their original form."
      ],
      "metadata": {
        "editable": false,
        "id": "snZWwcS5QodD"
      }
    },
    {
      "cell_type": "code",
      "source": [
        "# storing each feature encode mapping in dictionaries\n",
        "DictMonth = dict(list(enumerate(EncodeDict['Month']['Classes'])))\n",
        "DictOccupation = dict(list(enumerate(EncodeDict['Occupation']['Classes'])))\n",
        "DictCredit_Mix = dict(list(enumerate(EncodeDict['Credit_Mix']['Classes'])))\n",
        "DictPayment_of_Min_Amount = dict(list(enumerate(EncodeDict['Payment_of_Min_Amount']['Classes'])))\n",
        "DictPayment_Behaviour = dict(list(enumerate(EncodeDict['Payment_Behaviour']['Classes'])))"
      ],
      "metadata": {
        "execution": {
          "iopub.status.busy": "2022-11-25T14:57:19.828679Z",
          "iopub.execute_input": "2022-11-25T14:57:19.830469Z",
          "iopub.status.idle": "2022-11-25T14:57:19.847093Z",
          "shell.execute_reply.started": "2022-11-25T14:57:19.83021Z",
          "shell.execute_reply": "2022-11-25T14:57:19.844854Z"
        },
        "editable": false,
        "trusted": true,
        "id": "zOiaSY31QodD"
      },
      "execution_count": null,
      "outputs": []
    },
    {
      "cell_type": "code",
      "source": [
        "# storing all the dictionaries in a list\n",
        "dictionaries = [DictMonth, \n",
        "                DictOccupation,\n",
        "                DictCredit_Mix,\n",
        "                DictPayment_of_Min_Amount,\n",
        "                DictPayment_Behaviour,\n",
        "                DictCredit_Score]"
      ],
      "metadata": {
        "execution": {
          "iopub.status.busy": "2022-11-25T14:57:19.850177Z",
          "iopub.execute_input": "2022-11-25T14:57:19.850756Z",
          "iopub.status.idle": "2022-11-25T14:57:19.864453Z",
          "shell.execute_reply.started": "2022-11-25T14:57:19.85072Z",
          "shell.execute_reply": "2022-11-25T14:57:19.862334Z"
        },
        "editable": false,
        "trusted": true,
        "id": "bCy_bw4jQodD"
      },
      "execution_count": null,
      "outputs": []
    },
    {
      "cell_type": "code",
      "source": [
        "# inverse-transforming the categorical features in Test dataframe\n",
        "for feature, dictionary in zip(trainCat, dictionaries):\n",
        "    test.replace({feature: dictionary}, inplace = True)"
      ],
      "metadata": {
        "execution": {
          "iopub.status.busy": "2022-11-25T14:57:19.866236Z",
          "iopub.execute_input": "2022-11-25T14:57:19.866769Z",
          "iopub.status.idle": "2022-11-25T14:57:19.927587Z",
          "shell.execute_reply.started": "2022-11-25T14:57:19.866723Z",
          "shell.execute_reply": "2022-11-25T14:57:19.92612Z"
        },
        "editable": false,
        "trusted": true,
        "id": "S_AQgyQdQodD"
      },
      "execution_count": null,
      "outputs": []
    },
    {
      "cell_type": "code",
      "source": [
        "# taking a look at how the Test dataframe looks like now\n",
        "display(test.head())\n",
        "print('Rows x cols :', test.shape)"
      ],
      "metadata": {
        "execution": {
          "iopub.status.busy": "2022-11-25T14:57:19.929898Z",
          "iopub.execute_input": "2022-11-25T14:57:19.930352Z",
          "iopub.status.idle": "2022-11-25T14:57:19.964471Z",
          "shell.execute_reply.started": "2022-11-25T14:57:19.930315Z",
          "shell.execute_reply": "2022-11-25T14:57:19.962306Z"
        },
        "editable": false,
        "trusted": true,
        "id": "9ID3P53ZQodD"
      },
      "execution_count": null,
      "outputs": []
    },
    {
      "cell_type": "markdown",
      "source": [
        "The Test dataframe looks good with the Credit_Score now has been predicted. The last step to do is just to export this result into a csv file."
      ],
      "metadata": {
        "editable": false,
        "id": "wgsBaDblQodD"
      }
    },
    {
      "cell_type": "code",
      "source": [
        "# exporting the prediction result\n",
        "test.to_csv('Credit Score Classification (Random Forest Prediction Result).csv')"
      ],
      "metadata": {
        "execution": {
          "iopub.status.busy": "2022-11-25T14:57:19.966685Z",
          "iopub.execute_input": "2022-11-25T14:57:19.967803Z",
          "iopub.status.idle": "2022-11-25T14:57:20.806072Z",
          "shell.execute_reply.started": "2022-11-25T14:57:19.967758Z",
          "shell.execute_reply": "2022-11-25T14:57:20.804528Z"
        },
        "editable": false,
        "trusted": true,
        "id": "jKBEO1AXQodE"
      },
      "execution_count": null,
      "outputs": []
    },
    {
      "cell_type": "markdown",
      "source": [
        "## **XII. Summary**<a class = \"anchor\" id = \"XII\"></a>"
      ],
      "metadata": {
        "editable": false,
        "id": "CkNXC_ijQodE"
      }
    },
    {
      "cell_type": "markdown",
      "source": [
        "### **XIIa. Model Review**<a class = \"anchor\" id = \"XIIa\"></a>"
      ],
      "metadata": {
        "editable": false,
        "id": "ANgsPvMyQodE"
      }
    },
    {
      "cell_type": "code",
      "source": [
        "# recalling the list of features that are used as the input\n",
        "print('Subset of features that is best-correlated to Credit_Score :', '\\n',\n",
        "      'Features count :', len(ModelInput), '\\n')\n",
        "display(ModelInput)"
      ],
      "metadata": {
        "execution": {
          "iopub.status.busy": "2022-11-25T14:57:20.807985Z",
          "iopub.execute_input": "2022-11-25T14:57:20.808448Z",
          "iopub.status.idle": "2022-11-25T14:57:20.818076Z",
          "shell.execute_reply.started": "2022-11-25T14:57:20.808409Z",
          "shell.execute_reply": "2022-11-25T14:57:20.816452Z"
        },
        "editable": false,
        "trusted": true,
        "id": "zVvD768WQodE"
      },
      "execution_count": null,
      "outputs": []
    },
    {
      "cell_type": "code",
      "source": [
        "# recalling the subset of parameters used in the Random Forest model\n",
        "print('Subset of Parameters :')\n",
        "ParamSubset"
      ],
      "metadata": {
        "execution": {
          "iopub.status.busy": "2022-11-25T14:57:20.819673Z",
          "iopub.execute_input": "2022-11-25T14:57:20.820428Z",
          "iopub.status.idle": "2022-11-25T14:57:20.83345Z",
          "shell.execute_reply.started": "2022-11-25T14:57:20.82033Z",
          "shell.execute_reply": "2022-11-25T14:57:20.832273Z"
        },
        "editable": false,
        "trusted": true,
        "id": "OoqFnQn_QodE"
      },
      "execution_count": null,
      "outputs": []
    },
    {
      "cell_type": "code",
      "source": [
        "# Random Forest model accuracy\n",
        "print('Random Forest model accuracy :', '{:.2f}%'.format(RFAccSubtest * 100))"
      ],
      "metadata": {
        "execution": {
          "iopub.status.busy": "2022-11-25T14:57:20.834354Z",
          "iopub.execute_input": "2022-11-25T14:57:20.834659Z",
          "iopub.status.idle": "2022-11-25T14:57:20.847869Z",
          "shell.execute_reply.started": "2022-11-25T14:57:20.834634Z",
          "shell.execute_reply": "2022-11-25T14:57:20.846372Z"
        },
        "editable": false,
        "trusted": true,
        "id": "VHfMLZarQodE"
      },
      "execution_count": null,
      "outputs": []
    },
    {
      "cell_type": "code",
      "source": [
        "# model overfit test\n",
        "diff = RFAccSubtrain - RFAccSubtest\n",
        "print('Model accuracy difference when repredicting Credit_Score in the Subtrain dataframe :',\n",
        "      '{:.2f}%'.format(diff * 100))"
      ],
      "metadata": {
        "execution": {
          "iopub.status.busy": "2022-11-25T14:57:20.849399Z",
          "iopub.execute_input": "2022-11-25T14:57:20.849745Z",
          "iopub.status.idle": "2022-11-25T14:57:20.86136Z",
          "shell.execute_reply.started": "2022-11-25T14:57:20.849717Z",
          "shell.execute_reply": "2022-11-25T14:57:20.860446Z"
        },
        "editable": false,
        "trusted": true,
        "id": "ChFIQq_FQodE"
      },
      "execution_count": null,
      "outputs": []
    },
    {
      "cell_type": "markdown",
      "source": [
        "### **XIb. Outro**<a class = \"anchor\" id = \"XIIb\"></a>"
      ],
      "metadata": {
        "editable": false,
        "id": "RE0xqwYcQodE"
      }
    },
    {
      "cell_type": "markdown",
      "source": [
        "And so, we are done with this exciting data science project! First, we have done performing the data exploration and cleaning phase. After that, we have also done building the machine learning model, selecting the best subset of features, hypertuning the model parameters, and classifying the Credit Score in the Test dataframe. \n",
        "\n",
        "Thank you for your time and attention in following me navigating through the data and building the classification model. Hope we all can gather insights from this and see you again on my other projects!"
      ],
      "metadata": {
        "editable": false,
        "id": "wsPhrD4sQodE"
      }
    }
  ]
}